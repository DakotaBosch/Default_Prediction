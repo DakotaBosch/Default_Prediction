{
 "cells": [
  {
   "cell_type": "code",
   "execution_count": 1,
   "id": "ec488f91",
   "metadata": {
    "_cell_guid": "b1076dfc-b9ad-4769-8c92-a6c4dae69d19",
    "_uuid": "8f2839f25d086af736a60e9eeb907d3b93b6e0e5",
    "execution": {
     "iopub.execute_input": "2022-08-23T16:58:13.797941Z",
     "iopub.status.busy": "2022-08-23T16:58:13.797587Z",
     "iopub.status.idle": "2022-08-23T16:58:15.105956Z",
     "shell.execute_reply": "2022-08-23T16:58:15.104157Z"
    },
    "papermill": {
     "duration": 1.317543,
     "end_time": "2022-08-23T16:58:15.108297",
     "exception": false,
     "start_time": "2022-08-23T16:58:13.790754",
     "status": "completed"
    },
    "tags": []
   },
   "outputs": [
    {
     "name": "stdout",
     "output_type": "stream",
     "text": [
      "/kaggle/input/amex-parquet/test_data.parquet\n",
      "/kaggle/input/amex-parquet/train_data.parquet\n",
      "/kaggle/input/amex-default-prediction/sample_submission.csv\n",
      "/kaggle/input/amex-default-prediction/train_data.csv\n",
      "/kaggle/input/amex-default-prediction/test_data.csv\n",
      "/kaggle/input/amex-default-prediction/train_labels.csv\n"
     ]
    }
   ],
   "source": [
    "import numpy as np # linear algebra\n",
    "import pandas as pd # data processing, CSV file I/O (e.g. pd.read_csv)\n",
    "import matplotlib.pyplot as plt\n",
    "import seaborn as sns\n",
    "from sklearn.linear_model import LogisticRegression\n",
    "from sklearn.impute import SimpleImputer\n",
    "from sklearn import metrics\n",
    "\n",
    "# Input data files are available in the read-only \"../input/\" directory\n",
    "# For example, running this (by clicking run or pressing Shift+Enter) will list all files under the input directory\n",
    "\n",
    "import os\n",
    "for dirname, _, filenames in os.walk('/kaggle/input'):\n",
    "    for filename in filenames:\n",
    "        print(os.path.join(dirname, filename))\n",
    "\n",
    "# You can write up to 20GB to the current directory (/kaggle/working/) that gets preserved as output when you create a version using \"Save & Run All\" \n",
    "# You can also write temporary files to /kaggle/temp/, but they won't be saved outside of the current session"
   ]
  },
  {
   "cell_type": "code",
   "execution_count": 2,
   "id": "f07119bc",
   "metadata": {
    "execution": {
     "iopub.execute_input": "2022-08-23T16:58:15.118248Z",
     "iopub.status.busy": "2022-08-23T16:58:15.117943Z",
     "iopub.status.idle": "2022-08-23T16:58:49.902777Z",
     "shell.execute_reply": "2022-08-23T16:58:49.901867Z"
    },
    "papermill": {
     "duration": 34.794605,
     "end_time": "2022-08-23T16:58:49.907308",
     "exception": false,
     "start_time": "2022-08-23T16:58:15.112703",
     "status": "completed"
    },
    "tags": []
   },
   "outputs": [
    {
     "data": {
      "text/plain": [
       "(5531451, 191)"
      ]
     },
     "execution_count": 2,
     "metadata": {},
     "output_type": "execute_result"
    }
   ],
   "source": [
    "df1=pd.read_parquet('/kaggle/input/amex-parquet/train_data.parquet')\n",
    "df1.head()\n",
    "df1.shape"
   ]
  },
  {
   "cell_type": "code",
   "execution_count": 3,
   "id": "d9ea8385",
   "metadata": {
    "execution": {
     "iopub.execute_input": "2022-08-23T16:58:49.917391Z",
     "iopub.status.busy": "2022-08-23T16:58:49.917071Z",
     "iopub.status.idle": "2022-08-23T16:58:50.708933Z",
     "shell.execute_reply": "2022-08-23T16:58:50.707395Z"
    },
    "papermill": {
     "duration": 0.799291,
     "end_time": "2022-08-23T16:58:50.710893",
     "exception": false,
     "start_time": "2022-08-23T16:58:49.911602",
     "status": "completed"
    },
    "tags": []
   },
   "outputs": [
    {
     "data": {
      "text/html": [
       "<div>\n",
       "<style scoped>\n",
       "    .dataframe tbody tr th:only-of-type {\n",
       "        vertical-align: middle;\n",
       "    }\n",
       "\n",
       "    .dataframe tbody tr th {\n",
       "        vertical-align: top;\n",
       "    }\n",
       "\n",
       "    .dataframe thead th {\n",
       "        text-align: right;\n",
       "    }\n",
       "</style>\n",
       "<table border=\"1\" class=\"dataframe\">\n",
       "  <thead>\n",
       "    <tr style=\"text-align: right;\">\n",
       "      <th></th>\n",
       "      <th>customer_ID</th>\n",
       "      <th>target</th>\n",
       "    </tr>\n",
       "  </thead>\n",
       "  <tbody>\n",
       "    <tr>\n",
       "      <th>0</th>\n",
       "      <td>0000099d6bd597052cdcda90ffabf56573fe9d7c79be5f...</td>\n",
       "      <td>0</td>\n",
       "    </tr>\n",
       "    <tr>\n",
       "      <th>1</th>\n",
       "      <td>00000fd6641609c6ece5454664794f0340ad84dddce9a2...</td>\n",
       "      <td>0</td>\n",
       "    </tr>\n",
       "    <tr>\n",
       "      <th>2</th>\n",
       "      <td>00001b22f846c82c51f6e3958ccd81970162bae8b007e8...</td>\n",
       "      <td>0</td>\n",
       "    </tr>\n",
       "    <tr>\n",
       "      <th>3</th>\n",
       "      <td>000041bdba6ecadd89a52d11886e8eaaec9325906c9723...</td>\n",
       "      <td>0</td>\n",
       "    </tr>\n",
       "    <tr>\n",
       "      <th>4</th>\n",
       "      <td>00007889e4fcd2614b6cbe7f8f3d2e5c728eca32d9eb8a...</td>\n",
       "      <td>0</td>\n",
       "    </tr>\n",
       "  </tbody>\n",
       "</table>\n",
       "</div>"
      ],
      "text/plain": [
       "                                         customer_ID  target\n",
       "0  0000099d6bd597052cdcda90ffabf56573fe9d7c79be5f...       0\n",
       "1  00000fd6641609c6ece5454664794f0340ad84dddce9a2...       0\n",
       "2  00001b22f846c82c51f6e3958ccd81970162bae8b007e8...       0\n",
       "3  000041bdba6ecadd89a52d11886e8eaaec9325906c9723...       0\n",
       "4  00007889e4fcd2614b6cbe7f8f3d2e5c728eca32d9eb8a...       0"
      ]
     },
     "execution_count": 3,
     "metadata": {},
     "output_type": "execute_result"
    }
   ],
   "source": [
    "df_label = pd.read_csv('/kaggle/input/amex-default-prediction/train_labels.csv')\n",
    "df_label.head()"
   ]
  },
  {
   "cell_type": "code",
   "execution_count": 4,
   "id": "ccaec83d",
   "metadata": {
    "execution": {
     "iopub.execute_input": "2022-08-23T16:58:50.720902Z",
     "iopub.status.busy": "2022-08-23T16:58:50.720588Z",
     "iopub.status.idle": "2022-08-23T16:58:50.725755Z",
     "shell.execute_reply": "2022-08-23T16:58:50.724901Z"
    },
    "papermill": {
     "duration": 0.012217,
     "end_time": "2022-08-23T16:58:50.727569",
     "exception": false,
     "start_time": "2022-08-23T16:58:50.715352",
     "status": "completed"
    },
    "tags": []
   },
   "outputs": [],
   "source": [
    "#load train data w/o running out of mem\n",
    "#chunk_size=200000\n",
    "#batch_no=0\n",
    "\n",
    "#for chunk in pd.read_csv('/kaggle/input/amex-default-prediction/train_data.csv',chunksize=chunk_size):\n",
    "    #chunk.to_csv('train'+str(batch_no)+'.csv',index=False)\n",
    "    #chunk.to_parquet('train'+str(batch_no)+'.parquet',index=False)\n",
    "    #print(batch_no)\n",
    "    #df = pd.read_csv('train'+str(batch_no)+'.csv')\n",
    "    #df.to_parquet('train'+str(batch_no)+'.parquet')\n",
    "    #batch_no+=1\n",
    "    "
   ]
  },
  {
   "cell_type": "code",
   "execution_count": 5,
   "id": "9f5484a9",
   "metadata": {
    "execution": {
     "iopub.execute_input": "2022-08-23T16:58:50.738036Z",
     "iopub.status.busy": "2022-08-23T16:58:50.737715Z",
     "iopub.status.idle": "2022-08-23T16:58:50.992681Z",
     "shell.execute_reply": "2022-08-23T16:58:50.991441Z"
    },
    "papermill": {
     "duration": 0.262943,
     "end_time": "2022-08-23T16:58:50.995038",
     "exception": false,
     "start_time": "2022-08-23T16:58:50.732095",
     "status": "completed"
    },
    "tags": []
   },
   "outputs": [
    {
     "name": "stdout",
     "output_type": "stream",
     "text": [
      "float32    185\n",
      "object       4\n",
      "int64        2\n",
      "dtype: int64\n"
     ]
    },
    {
     "data": {
      "text/plain": [
       "['customer_ID', 'S_2', 'D_63', 'D_64']"
      ]
     },
     "execution_count": 5,
     "metadata": {},
     "output_type": "execute_result"
    }
   ],
   "source": [
    "#checking out data types\n",
    "print(df1.dtypes.value_counts())\n",
    "list(df1.select_dtypes(['object']).columns)"
   ]
  },
  {
   "cell_type": "code",
   "execution_count": 6,
   "id": "7098f597",
   "metadata": {
    "execution": {
     "iopub.execute_input": "2022-08-23T16:58:51.006073Z",
     "iopub.status.busy": "2022-08-23T16:58:51.005785Z",
     "iopub.status.idle": "2022-08-23T16:58:51.010796Z",
     "shell.execute_reply": "2022-08-23T16:58:51.008947Z"
    },
    "papermill": {
     "duration": 0.01309,
     "end_time": "2022-08-23T16:58:51.013214",
     "exception": false,
     "start_time": "2022-08-23T16:58:51.000124",
     "status": "completed"
    },
    "tags": []
   },
   "outputs": [],
   "source": [
    "#visualizing columns\n",
    "\n",
    "#hist = df1.hist(bins=10, figsize = (40,200), layout=(-1,4) )"
   ]
  },
  {
   "cell_type": "code",
   "execution_count": 7,
   "id": "e8f652e5",
   "metadata": {
    "execution": {
     "iopub.execute_input": "2022-08-23T16:58:51.028129Z",
     "iopub.status.busy": "2022-08-23T16:58:51.026863Z",
     "iopub.status.idle": "2022-08-23T16:58:56.989345Z",
     "shell.execute_reply": "2022-08-23T16:58:56.988509Z"
    },
    "papermill": {
     "duration": 5.972001,
     "end_time": "2022-08-23T16:58:56.991578",
     "exception": false,
     "start_time": "2022-08-23T16:58:51.019577",
     "status": "completed"
    },
    "tags": []
   },
   "outputs": [
    {
     "name": "stdout",
     "output_type": "stream",
     "text": [
      "D_42 0.86\n",
      "D_49 0.9\n",
      "D_50 0.57\n",
      "D_53 0.74\n",
      "D_56 0.54\n",
      "S_9 0.53\n",
      "B_17 0.57\n",
      "D_66 0.89\n",
      "D_73 0.99\n",
      "D_76 0.89\n",
      "R_9 0.94\n",
      "D_82 0.73\n",
      "B_29 0.93\n",
      "D_87 1.0\n",
      "D_88 1.0\n",
      "D_105 0.55\n",
      "D_106 0.9\n",
      "R_26 0.89\n",
      "D_108 0.99\n",
      "D_110 0.99\n",
      "D_111 0.99\n",
      "B_39 0.99\n",
      "B_42 0.99\n",
      "D_132 0.9\n",
      "D_134 0.96\n",
      "D_135 0.96\n",
      "D_136 0.96\n",
      "D_137 0.96\n",
      "D_138 0.96\n",
      "D_142 0.83\n"
     ]
    },
    {
     "data": {
      "text/html": [
       "<div>\n",
       "<style scoped>\n",
       "    .dataframe tbody tr th:only-of-type {\n",
       "        vertical-align: middle;\n",
       "    }\n",
       "\n",
       "    .dataframe tbody tr th {\n",
       "        vertical-align: top;\n",
       "    }\n",
       "\n",
       "    .dataframe thead th {\n",
       "        text-align: right;\n",
       "    }\n",
       "</style>\n",
       "<table border=\"1\" class=\"dataframe\">\n",
       "  <thead>\n",
       "    <tr style=\"text-align: right;\">\n",
       "      <th></th>\n",
       "      <th>customer_ID</th>\n",
       "      <th>S_2</th>\n",
       "      <th>P_2</th>\n",
       "      <th>D_39</th>\n",
       "      <th>B_1</th>\n",
       "      <th>B_2</th>\n",
       "      <th>R_1</th>\n",
       "      <th>S_3</th>\n",
       "      <th>D_41</th>\n",
       "      <th>B_3</th>\n",
       "      <th>...</th>\n",
       "      <th>D_131</th>\n",
       "      <th>D_133</th>\n",
       "      <th>R_28</th>\n",
       "      <th>D_139</th>\n",
       "      <th>D_140</th>\n",
       "      <th>D_141</th>\n",
       "      <th>D_143</th>\n",
       "      <th>D_144</th>\n",
       "      <th>D_145</th>\n",
       "      <th>target</th>\n",
       "    </tr>\n",
       "  </thead>\n",
       "  <tbody>\n",
       "    <tr>\n",
       "      <th>0</th>\n",
       "      <td>0000099d6bd597052cdcda90ffabf56573fe9d7c79be5f...</td>\n",
       "      <td>2017-03-09</td>\n",
       "      <td>0.938469</td>\n",
       "      <td>0.001733</td>\n",
       "      <td>0.008724</td>\n",
       "      <td>1.006838</td>\n",
       "      <td>0.009228</td>\n",
       "      <td>0.124035</td>\n",
       "      <td>0.008771</td>\n",
       "      <td>0.004709</td>\n",
       "      <td>...</td>\n",
       "      <td>0.005972</td>\n",
       "      <td>0.004345</td>\n",
       "      <td>0.001535</td>\n",
       "      <td>0.002427</td>\n",
       "      <td>0.003706</td>\n",
       "      <td>0.003818</td>\n",
       "      <td>0.000569</td>\n",
       "      <td>0.000610</td>\n",
       "      <td>0.002674</td>\n",
       "      <td>0</td>\n",
       "    </tr>\n",
       "    <tr>\n",
       "      <th>1</th>\n",
       "      <td>0000099d6bd597052cdcda90ffabf56573fe9d7c79be5f...</td>\n",
       "      <td>2017-04-07</td>\n",
       "      <td>0.936665</td>\n",
       "      <td>0.005775</td>\n",
       "      <td>0.004923</td>\n",
       "      <td>1.000653</td>\n",
       "      <td>0.006151</td>\n",
       "      <td>0.126750</td>\n",
       "      <td>0.000798</td>\n",
       "      <td>0.002714</td>\n",
       "      <td>...</td>\n",
       "      <td>0.004838</td>\n",
       "      <td>0.007495</td>\n",
       "      <td>0.004931</td>\n",
       "      <td>0.003954</td>\n",
       "      <td>0.003167</td>\n",
       "      <td>0.005032</td>\n",
       "      <td>0.009576</td>\n",
       "      <td>0.005492</td>\n",
       "      <td>0.009217</td>\n",
       "      <td>0</td>\n",
       "    </tr>\n",
       "    <tr>\n",
       "      <th>2</th>\n",
       "      <td>0000099d6bd597052cdcda90ffabf56573fe9d7c79be5f...</td>\n",
       "      <td>2017-05-28</td>\n",
       "      <td>0.954180</td>\n",
       "      <td>0.091505</td>\n",
       "      <td>0.021655</td>\n",
       "      <td>1.009672</td>\n",
       "      <td>0.006815</td>\n",
       "      <td>0.123977</td>\n",
       "      <td>0.007598</td>\n",
       "      <td>0.009423</td>\n",
       "      <td>...</td>\n",
       "      <td>0.005497</td>\n",
       "      <td>0.009227</td>\n",
       "      <td>0.009123</td>\n",
       "      <td>0.003269</td>\n",
       "      <td>0.007329</td>\n",
       "      <td>0.000427</td>\n",
       "      <td>0.003429</td>\n",
       "      <td>0.006986</td>\n",
       "      <td>0.002603</td>\n",
       "      <td>0</td>\n",
       "    </tr>\n",
       "    <tr>\n",
       "      <th>3</th>\n",
       "      <td>0000099d6bd597052cdcda90ffabf56573fe9d7c79be5f...</td>\n",
       "      <td>2017-06-13</td>\n",
       "      <td>0.960384</td>\n",
       "      <td>0.002455</td>\n",
       "      <td>0.013683</td>\n",
       "      <td>1.002700</td>\n",
       "      <td>0.001373</td>\n",
       "      <td>0.117169</td>\n",
       "      <td>0.000685</td>\n",
       "      <td>0.005531</td>\n",
       "      <td>...</td>\n",
       "      <td>0.008261</td>\n",
       "      <td>0.007206</td>\n",
       "      <td>0.002409</td>\n",
       "      <td>0.006117</td>\n",
       "      <td>0.004516</td>\n",
       "      <td>0.003200</td>\n",
       "      <td>0.008419</td>\n",
       "      <td>0.006527</td>\n",
       "      <td>0.009600</td>\n",
       "      <td>0</td>\n",
       "    </tr>\n",
       "    <tr>\n",
       "      <th>4</th>\n",
       "      <td>0000099d6bd597052cdcda90ffabf56573fe9d7c79be5f...</td>\n",
       "      <td>2017-07-16</td>\n",
       "      <td>0.947248</td>\n",
       "      <td>0.002483</td>\n",
       "      <td>0.015193</td>\n",
       "      <td>1.000727</td>\n",
       "      <td>0.007605</td>\n",
       "      <td>0.117325</td>\n",
       "      <td>0.004653</td>\n",
       "      <td>0.009312</td>\n",
       "      <td>...</td>\n",
       "      <td>0.004848</td>\n",
       "      <td>0.006312</td>\n",
       "      <td>0.004462</td>\n",
       "      <td>0.003671</td>\n",
       "      <td>0.004946</td>\n",
       "      <td>0.008889</td>\n",
       "      <td>0.001670</td>\n",
       "      <td>0.008126</td>\n",
       "      <td>0.009827</td>\n",
       "      <td>0</td>\n",
       "    </tr>\n",
       "    <tr>\n",
       "      <th>...</th>\n",
       "      <td>...</td>\n",
       "      <td>...</td>\n",
       "      <td>...</td>\n",
       "      <td>...</td>\n",
       "      <td>...</td>\n",
       "      <td>...</td>\n",
       "      <td>...</td>\n",
       "      <td>...</td>\n",
       "      <td>...</td>\n",
       "      <td>...</td>\n",
       "      <td>...</td>\n",
       "      <td>...</td>\n",
       "      <td>...</td>\n",
       "      <td>...</td>\n",
       "      <td>...</td>\n",
       "      <td>...</td>\n",
       "      <td>...</td>\n",
       "      <td>...</td>\n",
       "      <td>...</td>\n",
       "      <td>...</td>\n",
       "      <td>...</td>\n",
       "    </tr>\n",
       "    <tr>\n",
       "      <th>5531446</th>\n",
       "      <td>fffff1d38b785cef84adeace64f8f83db3a0c31e8d92ea...</td>\n",
       "      <td>2017-11-05</td>\n",
       "      <td>0.979333</td>\n",
       "      <td>0.416013</td>\n",
       "      <td>0.020818</td>\n",
       "      <td>0.828199</td>\n",
       "      <td>0.003487</td>\n",
       "      <td>0.090743</td>\n",
       "      <td>0.005340</td>\n",
       "      <td>0.025139</td>\n",
       "      <td>...</td>\n",
       "      <td>0.004508</td>\n",
       "      <td>0.000776</td>\n",
       "      <td>0.007069</td>\n",
       "      <td>0.006838</td>\n",
       "      <td>0.003680</td>\n",
       "      <td>0.000457</td>\n",
       "      <td>0.000905</td>\n",
       "      <td>0.001498</td>\n",
       "      <td>0.002774</td>\n",
       "      <td>0</td>\n",
       "    </tr>\n",
       "    <tr>\n",
       "      <th>5531447</th>\n",
       "      <td>fffff1d38b785cef84adeace64f8f83db3a0c31e8d92ea...</td>\n",
       "      <td>2017-12-23</td>\n",
       "      <td>0.984907</td>\n",
       "      <td>0.296536</td>\n",
       "      <td>0.007209</td>\n",
       "      <td>0.812610</td>\n",
       "      <td>0.005904</td>\n",
       "      <td>0.079886</td>\n",
       "      <td>0.002243</td>\n",
       "      <td>0.023691</td>\n",
       "      <td>...</td>\n",
       "      <td>0.003406</td>\n",
       "      <td>0.001741</td>\n",
       "      <td>0.002056</td>\n",
       "      <td>0.003310</td>\n",
       "      <td>0.007097</td>\n",
       "      <td>0.007857</td>\n",
       "      <td>0.002777</td>\n",
       "      <td>0.008225</td>\n",
       "      <td>0.008856</td>\n",
       "      <td>0</td>\n",
       "    </tr>\n",
       "    <tr>\n",
       "      <th>5531448</th>\n",
       "      <td>fffff1d38b785cef84adeace64f8f83db3a0c31e8d92ea...</td>\n",
       "      <td>2018-01-06</td>\n",
       "      <td>0.983019</td>\n",
       "      <td>0.443984</td>\n",
       "      <td>0.013151</td>\n",
       "      <td>0.815422</td>\n",
       "      <td>0.003457</td>\n",
       "      <td>0.100503</td>\n",
       "      <td>0.002111</td>\n",
       "      <td>0.012343</td>\n",
       "      <td>...</td>\n",
       "      <td>0.002946</td>\n",
       "      <td>0.006060</td>\n",
       "      <td>0.005076</td>\n",
       "      <td>0.009955</td>\n",
       "      <td>0.009994</td>\n",
       "      <td>0.001088</td>\n",
       "      <td>0.005693</td>\n",
       "      <td>0.006773</td>\n",
       "      <td>0.005566</td>\n",
       "      <td>0</td>\n",
       "    </tr>\n",
       "    <tr>\n",
       "      <th>5531449</th>\n",
       "      <td>fffff1d38b785cef84adeace64f8f83db3a0c31e8d92ea...</td>\n",
       "      <td>2018-02-06</td>\n",
       "      <td>0.969861</td>\n",
       "      <td>0.442553</td>\n",
       "      <td>0.009855</td>\n",
       "      <td>1.003541</td>\n",
       "      <td>0.005117</td>\n",
       "      <td>0.101802</td>\n",
       "      <td>0.009930</td>\n",
       "      <td>0.008578</td>\n",
       "      <td>...</td>\n",
       "      <td>0.008511</td>\n",
       "      <td>0.003811</td>\n",
       "      <td>0.008682</td>\n",
       "      <td>0.005541</td>\n",
       "      <td>0.006564</td>\n",
       "      <td>0.009883</td>\n",
       "      <td>0.008123</td>\n",
       "      <td>0.001168</td>\n",
       "      <td>0.003983</td>\n",
       "      <td>0</td>\n",
       "    </tr>\n",
       "    <tr>\n",
       "      <th>5531450</th>\n",
       "      <td>fffff1d38b785cef84adeace64f8f83db3a0c31e8d92ea...</td>\n",
       "      <td>2018-03-14</td>\n",
       "      <td>0.982175</td>\n",
       "      <td>0.002474</td>\n",
       "      <td>0.000077</td>\n",
       "      <td>0.992880</td>\n",
       "      <td>0.000809</td>\n",
       "      <td>0.119165</td>\n",
       "      <td>0.003287</td>\n",
       "      <td>0.014092</td>\n",
       "      <td>...</td>\n",
       "      <td>0.001349</td>\n",
       "      <td>0.006312</td>\n",
       "      <td>0.005429</td>\n",
       "      <td>0.007316</td>\n",
       "      <td>0.002888</td>\n",
       "      <td>0.006207</td>\n",
       "      <td>0.005110</td>\n",
       "      <td>0.003184</td>\n",
       "      <td>0.001914</td>\n",
       "      <td>0</td>\n",
       "    </tr>\n",
       "  </tbody>\n",
       "</table>\n",
       "<p>5531451 rows × 160 columns</p>\n",
       "</div>"
      ],
      "text/plain": [
       "                                               customer_ID         S_2  \\\n",
       "0        0000099d6bd597052cdcda90ffabf56573fe9d7c79be5f...  2017-03-09   \n",
       "1        0000099d6bd597052cdcda90ffabf56573fe9d7c79be5f...  2017-04-07   \n",
       "2        0000099d6bd597052cdcda90ffabf56573fe9d7c79be5f...  2017-05-28   \n",
       "3        0000099d6bd597052cdcda90ffabf56573fe9d7c79be5f...  2017-06-13   \n",
       "4        0000099d6bd597052cdcda90ffabf56573fe9d7c79be5f...  2017-07-16   \n",
       "...                                                    ...         ...   \n",
       "5531446  fffff1d38b785cef84adeace64f8f83db3a0c31e8d92ea...  2017-11-05   \n",
       "5531447  fffff1d38b785cef84adeace64f8f83db3a0c31e8d92ea...  2017-12-23   \n",
       "5531448  fffff1d38b785cef84adeace64f8f83db3a0c31e8d92ea...  2018-01-06   \n",
       "5531449  fffff1d38b785cef84adeace64f8f83db3a0c31e8d92ea...  2018-02-06   \n",
       "5531450  fffff1d38b785cef84adeace64f8f83db3a0c31e8d92ea...  2018-03-14   \n",
       "\n",
       "              P_2      D_39       B_1       B_2       R_1       S_3      D_41  \\\n",
       "0        0.938469  0.001733  0.008724  1.006838  0.009228  0.124035  0.008771   \n",
       "1        0.936665  0.005775  0.004923  1.000653  0.006151  0.126750  0.000798   \n",
       "2        0.954180  0.091505  0.021655  1.009672  0.006815  0.123977  0.007598   \n",
       "3        0.960384  0.002455  0.013683  1.002700  0.001373  0.117169  0.000685   \n",
       "4        0.947248  0.002483  0.015193  1.000727  0.007605  0.117325  0.004653   \n",
       "...           ...       ...       ...       ...       ...       ...       ...   \n",
       "5531446  0.979333  0.416013  0.020818  0.828199  0.003487  0.090743  0.005340   \n",
       "5531447  0.984907  0.296536  0.007209  0.812610  0.005904  0.079886  0.002243   \n",
       "5531448  0.983019  0.443984  0.013151  0.815422  0.003457  0.100503  0.002111   \n",
       "5531449  0.969861  0.442553  0.009855  1.003541  0.005117  0.101802  0.009930   \n",
       "5531450  0.982175  0.002474  0.000077  0.992880  0.000809  0.119165  0.003287   \n",
       "\n",
       "              B_3  ...     D_131     D_133      R_28     D_139     D_140  \\\n",
       "0        0.004709  ...  0.005972  0.004345  0.001535  0.002427  0.003706   \n",
       "1        0.002714  ...  0.004838  0.007495  0.004931  0.003954  0.003167   \n",
       "2        0.009423  ...  0.005497  0.009227  0.009123  0.003269  0.007329   \n",
       "3        0.005531  ...  0.008261  0.007206  0.002409  0.006117  0.004516   \n",
       "4        0.009312  ...  0.004848  0.006312  0.004462  0.003671  0.004946   \n",
       "...           ...  ...       ...       ...       ...       ...       ...   \n",
       "5531446  0.025139  ...  0.004508  0.000776  0.007069  0.006838  0.003680   \n",
       "5531447  0.023691  ...  0.003406  0.001741  0.002056  0.003310  0.007097   \n",
       "5531448  0.012343  ...  0.002946  0.006060  0.005076  0.009955  0.009994   \n",
       "5531449  0.008578  ...  0.008511  0.003811  0.008682  0.005541  0.006564   \n",
       "5531450  0.014092  ...  0.001349  0.006312  0.005429  0.007316  0.002888   \n",
       "\n",
       "            D_141     D_143     D_144     D_145  target  \n",
       "0        0.003818  0.000569  0.000610  0.002674       0  \n",
       "1        0.005032  0.009576  0.005492  0.009217       0  \n",
       "2        0.000427  0.003429  0.006986  0.002603       0  \n",
       "3        0.003200  0.008419  0.006527  0.009600       0  \n",
       "4        0.008889  0.001670  0.008126  0.009827       0  \n",
       "...           ...       ...       ...       ...     ...  \n",
       "5531446  0.000457  0.000905  0.001498  0.002774       0  \n",
       "5531447  0.007857  0.002777  0.008225  0.008856       0  \n",
       "5531448  0.001088  0.005693  0.006773  0.005566       0  \n",
       "5531449  0.009883  0.008123  0.001168  0.003983       0  \n",
       "5531450  0.006207  0.005110  0.003184  0.001914       0  \n",
       "\n",
       "[5531451 rows x 160 columns]"
      ]
     },
     "execution_count": 7,
     "metadata": {},
     "output_type": "execute_result"
    }
   ],
   "source": [
    "#inspecting NaN\n",
    "\n",
    "for i in range(len(df1.columns)):\n",
    "    if (df1.iloc[:,i].isnull().sum()/len(df1) > 0.5):\n",
    "        print(df1.columns[i], round(df1.iloc[:,i].isnull().sum()/len(df1),2))\n",
    "\n",
    "#drop columns with high freq of NaN\n",
    "columns_to_drop = [column for column in df1.columns if df1[column].isnull().sum()/df1.shape[0] >= 0.3]\n",
    "df1.drop(columns_to_drop, axis=1)\n"
   ]
  },
  {
   "cell_type": "code",
   "execution_count": 8,
   "id": "a741ce29",
   "metadata": {
    "execution": {
     "iopub.execute_input": "2022-08-23T16:58:57.003591Z",
     "iopub.status.busy": "2022-08-23T16:58:57.003255Z",
     "iopub.status.idle": "2022-08-23T16:59:16.264688Z",
     "shell.execute_reply": "2022-08-23T16:59:16.263740Z"
    },
    "papermill": {
     "duration": 19.269977,
     "end_time": "2022-08-23T16:59:16.267006",
     "exception": false,
     "start_time": "2022-08-23T16:58:56.997029",
     "status": "completed"
    },
    "tags": []
   },
   "outputs": [
    {
     "name": "stdout",
     "output_type": "stream",
     "text": [
      "1\n",
      "2\n"
     ]
    },
    {
     "data": {
      "text/plain": [
       "(458913, 189)"
      ]
     },
     "execution_count": 8,
     "metadata": {},
     "output_type": "execute_result"
    }
   ],
   "source": [
    "#using only most recent transaction from each customer\n",
    "\n",
    "df1=df1.set_index(['customer_ID'])\n",
    "print('1')\n",
    "df1=df1.ffill()\n",
    "print('2')\n",
    "df1=df1.bfill()\n",
    "df1=df1.reset_index()\n",
    "\n",
    "df1=df1.groupby('customer_ID').tail(1)\n",
    "df1=df1.set_index(['customer_ID'])\n",
    "\n",
    "#Drop date column since it is no longer relevant\n",
    "df1.drop(['S_2'],axis=1,inplace=True)\n",
    "#Check for number of rows\n",
    "df1.shape"
   ]
  },
  {
   "cell_type": "code",
   "execution_count": 9,
   "id": "83402f6f",
   "metadata": {
    "execution": {
     "iopub.execute_input": "2022-08-23T16:59:16.279288Z",
     "iopub.status.busy": "2022-08-23T16:59:16.278996Z",
     "iopub.status.idle": "2022-08-23T16:59:46.415648Z",
     "shell.execute_reply": "2022-08-23T16:59:46.414423Z"
    },
    "papermill": {
     "duration": 30.150608,
     "end_time": "2022-08-23T16:59:46.423217",
     "exception": false,
     "start_time": "2022-08-23T16:59:16.272609",
     "status": "completed"
    },
    "tags": []
   },
   "outputs": [
    {
     "name": "stdout",
     "output_type": "stream",
     "text": [
      "(458913, 189)\n",
      "(458913, 175)\n"
     ]
    },
    {
     "name": "stderr",
     "output_type": "stream",
     "text": [
      "/opt/conda/lib/python3.7/site-packages/ipykernel_launcher.py:6: DeprecationWarning: `np.bool` is a deprecated alias for the builtin `bool`. To silence this warning, use `bool` by itself. Doing this will not modify any behavior and is safe. If you specifically wanted the numpy scalar type, use `np.bool_` here.\n",
      "Deprecated in NumPy 1.20; for more details and guidance: https://numpy.org/devdocs/release/1.20.0-notes.html#deprecations\n",
      "  \n"
     ]
    }
   ],
   "source": [
    "print(df1.shape)\n",
    "# Create correlation matrix\n",
    "corr_matrix = df1.corr().abs()\n",
    "\n",
    "# Select upper triangle of correlation matrix\n",
    "upper = corr_matrix.where(np.triu(np.ones(corr_matrix.shape), k=1).astype(np.bool))\n",
    "\n",
    "# Find features with correlation greater than 0.95\n",
    "to_drop = [column for column in upper.columns if any(upper[column] > 0.9)]\n",
    "\n",
    "# Drop features \n",
    "df1.drop(to_drop, axis=1, inplace=True)\n",
    "\n",
    "print(df1.shape)"
   ]
  },
  {
   "cell_type": "code",
   "execution_count": 10,
   "id": "20d1215a",
   "metadata": {
    "execution": {
     "iopub.execute_input": "2022-08-23T16:59:46.435631Z",
     "iopub.status.busy": "2022-08-23T16:59:46.435297Z",
     "iopub.status.idle": "2022-08-23T16:59:46.439453Z",
     "shell.execute_reply": "2022-08-23T16:59:46.438332Z"
    },
    "papermill": {
     "duration": 0.012909,
     "end_time": "2022-08-23T16:59:46.441643",
     "exception": false,
     "start_time": "2022-08-23T16:59:46.428734",
     "status": "completed"
    },
    "tags": []
   },
   "outputs": [],
   "source": [
    "#removing outliers\n",
    "##print(df1.shape)\n",
    "\n",
    "#df1 = df1[df1['R_6'] < df1['R_6'].quantile(0.97)]\n",
    "#print(df1['R_6'].max())\n",
    "#print(df1.shape)"
   ]
  },
  {
   "cell_type": "code",
   "execution_count": 11,
   "id": "707b4815",
   "metadata": {
    "execution": {
     "iopub.execute_input": "2022-08-23T16:59:46.454554Z",
     "iopub.status.busy": "2022-08-23T16:59:46.454234Z",
     "iopub.status.idle": "2022-08-23T16:59:46.458964Z",
     "shell.execute_reply": "2022-08-23T16:59:46.458367Z"
    },
    "papermill": {
     "duration": 0.013113,
     "end_time": "2022-08-23T16:59:46.460582",
     "exception": false,
     "start_time": "2022-08-23T16:59:46.447469",
     "status": "completed"
    },
    "tags": []
   },
   "outputs": [],
   "source": [
    "#df1.iloc[:100000,7].value_counts()\n",
    "#print(df1.iloc[:,1].head())\n",
    "\n",
    "\n",
    "#What type of variable for dates\n",
    "#df1['S_2'] = pd.to_datetime(df1['S_2'])\n",
    "#df1['S_2'] = pd.to_numeric(df1['S_2'])\n",
    "\n",
    "#normalizing\n",
    "#df1['S_2'] = (df1['S_2']-df1['S_2'].min())/(df1['S_2'].max() - df1['S_2'].min())\n",
    "#print(df1['S_2'].head())\n",
    "\n",
    "#df1['S_2'] = pd.to_timedelta(df1['S_2'])\n",
    "#print(df1.iloc[:,1].dt.total_seconds())"
   ]
  },
  {
   "cell_type": "code",
   "execution_count": 12,
   "id": "839251e7",
   "metadata": {
    "execution": {
     "iopub.execute_input": "2022-08-23T16:59:46.473570Z",
     "iopub.status.busy": "2022-08-23T16:59:46.473253Z",
     "iopub.status.idle": "2022-08-23T16:59:46.736971Z",
     "shell.execute_reply": "2022-08-23T16:59:46.735997Z"
    },
    "papermill": {
     "duration": 0.27309,
     "end_time": "2022-08-23T16:59:46.739352",
     "exception": false,
     "start_time": "2022-08-23T16:59:46.466262",
     "status": "completed"
    },
    "tags": []
   },
   "outputs": [],
   "source": [
    "df1 = pd.get_dummies(df1)"
   ]
  },
  {
   "cell_type": "code",
   "execution_count": 13,
   "id": "1448dd29",
   "metadata": {
    "execution": {
     "iopub.execute_input": "2022-08-23T16:59:46.752215Z",
     "iopub.status.busy": "2022-08-23T16:59:46.751895Z",
     "iopub.status.idle": "2022-08-23T16:59:46.755787Z",
     "shell.execute_reply": "2022-08-23T16:59:46.754707Z"
    },
    "papermill": {
     "duration": 0.012277,
     "end_time": "2022-08-23T16:59:46.757439",
     "exception": false,
     "start_time": "2022-08-23T16:59:46.745162",
     "status": "completed"
    },
    "tags": []
   },
   "outputs": [],
   "source": [
    "#plt.figure(1, figsize =  (90,90))\n",
    "#corr = df1.corr()\n",
    "#sns.heatmap(corr, cmap = \"rocket\", annot = True)"
   ]
  },
  {
   "cell_type": "code",
   "execution_count": 14,
   "id": "a50e3c7c",
   "metadata": {
    "execution": {
     "iopub.execute_input": "2022-08-23T16:59:46.770455Z",
     "iopub.status.busy": "2022-08-23T16:59:46.770130Z",
     "iopub.status.idle": "2022-08-23T17:00:02.205250Z",
     "shell.execute_reply": "2022-08-23T17:00:02.204240Z"
    },
    "papermill": {
     "duration": 15.444209,
     "end_time": "2022-08-23T17:00:02.207580",
     "exception": false,
     "start_time": "2022-08-23T16:59:46.763371",
     "status": "completed"
    },
    "tags": []
   },
   "outputs": [],
   "source": [
    "#Handling missing values\n",
    "my_imputer = SimpleImputer()\n",
    "impd = my_imputer.fit_transform(df1.iloc[:,:])\n",
    "df1.iloc[:,:] = impd\n",
    "df1 = df1.drop('target', axis=1)\n"
   ]
  },
  {
   "cell_type": "code",
   "execution_count": 15,
   "id": "d7aeb629",
   "metadata": {
    "execution": {
     "iopub.execute_input": "2022-08-23T17:00:02.221451Z",
     "iopub.status.busy": "2022-08-23T17:00:02.221132Z",
     "iopub.status.idle": "2022-08-23T17:01:39.586787Z",
     "shell.execute_reply": "2022-08-23T17:01:39.586052Z"
    },
    "papermill": {
     "duration": 97.383794,
     "end_time": "2022-08-23T17:01:39.597901",
     "exception": false,
     "start_time": "2022-08-23T17:00:02.214107",
     "status": "completed"
    },
    "tags": []
   },
   "outputs": [
    {
     "name": "stdout",
     "output_type": "stream",
     "text": [
      "half\n"
     ]
    },
    {
     "name": "stderr",
     "output_type": "stream",
     "text": [
      "/opt/conda/lib/python3.7/site-packages/sklearn/utils/validation.py:993: DataConversionWarning: A column-vector y was passed when a 1d array was expected. Please change the shape of y to (n_samples, ), for example using ravel().\n",
      "  y = column_or_1d(y, warn=True)\n"
     ]
    },
    {
     "name": "stdout",
     "output_type": "stream",
     "text": [
      "[0 0 0 ... 0 0 0] 113368\n",
      "0.8959149119767799\n"
     ]
    },
    {
     "name": "stderr",
     "output_type": "stream",
     "text": [
      "/opt/conda/lib/python3.7/site-packages/sklearn/linear_model/_logistic.py:818: ConvergenceWarning: lbfgs failed to converge (status=1):\n",
      "STOP: TOTAL NO. of ITERATIONS REACHED LIMIT.\n",
      "\n",
      "Increase the number of iterations (max_iter) or scale the data as shown in:\n",
      "    https://scikit-learn.org/stable/modules/preprocessing.html\n",
      "Please also refer to the documentation for alternative solver options:\n",
      "    https://scikit-learn.org/stable/modules/linear_model.html#logistic-regression\n",
      "  extra_warning_msg=_LOGISTIC_SOLVER_CONVERGENCE_MSG,\n"
     ]
    }
   ],
   "source": [
    "X = df1.iloc[:, :].values.reshape(-1, len(df1.columns))\n",
    "Y = df_label.iloc[:len(df1), 1].values.reshape(-1, 1)\n",
    "print('half')\n",
    "# create object for the class\n",
    "log = LogisticRegression(max_iter=1000)\n",
    "log.fit(X, Y) \n",
    "Y_pred = log.predict(X)\n",
    "\n",
    "print(Y_pred, np.sum(Y_pred))\n",
    "print(log.score(X, Y))\n",
    "\n",
    "\n"
   ]
  },
  {
   "cell_type": "code",
   "execution_count": 16,
   "id": "fb56d63f",
   "metadata": {
    "execution": {
     "iopub.execute_input": "2022-08-23T17:01:39.614966Z",
     "iopub.status.busy": "2022-08-23T17:01:39.614618Z",
     "iopub.status.idle": "2022-08-23T17:01:39.625205Z",
     "shell.execute_reply": "2022-08-23T17:01:39.623600Z"
    },
    "papermill": {
     "duration": 0.023021,
     "end_time": "2022-08-23T17:01:39.628793",
     "exception": false,
     "start_time": "2022-08-23T17:01:39.605772",
     "status": "completed"
    },
    "tags": []
   },
   "outputs": [
    {
     "name": "stdout",
     "output_type": "stream",
     "text": [
      "                                         customer_ID  target\n",
      "0  0000099d6bd597052cdcda90ffabf56573fe9d7c79be5f...       0\n",
      "1  00000fd6641609c6ece5454664794f0340ad84dddce9a2...       0\n",
      "2  00001b22f846c82c51f6e3958ccd81970162bae8b007e8...       0\n",
      "3  000041bdba6ecadd89a52d11886e8eaaec9325906c9723...       0\n",
      "4  00007889e4fcd2614b6cbe7f8f3d2e5c728eca32d9eb8a...       0\n",
      "2649\n"
     ]
    }
   ],
   "source": [
    "print(df_label.head())\n",
    "print(df_label.iloc[:10000, 1].sum( ))"
   ]
  },
  {
   "cell_type": "code",
   "execution_count": 17,
   "id": "68e1f712",
   "metadata": {
    "execution": {
     "iopub.execute_input": "2022-08-23T17:01:39.646205Z",
     "iopub.status.busy": "2022-08-23T17:01:39.645882Z",
     "iopub.status.idle": "2022-08-23T17:01:40.180110Z",
     "shell.execute_reply": "2022-08-23T17:01:40.178612Z"
    },
    "papermill": {
     "duration": 0.545745,
     "end_time": "2022-08-23T17:01:40.182805",
     "exception": false,
     "start_time": "2022-08-23T17:01:39.637060",
     "status": "completed"
    },
    "tags": []
   },
   "outputs": [
    {
     "name": "stdout",
     "output_type": "stream",
     "text": [
      "Accuracy: 0.8959149119767799\n",
      "0.8569192390671468\n"
     ]
    },
    {
     "data": {
      "image/png": "[encoded data removed]",
      "text/plain": [
       "<Figure size 648x648 with 2 Axes>"
      ]
     },
     "metadata": {
      "needs_background": "light"
     },
     "output_type": "display_data"
    }
   ],
   "source": [
    "cm = metrics.confusion_matrix(Y, Y_pred)\n",
    "\n",
    "plt.figure(figsize=(9,9))\n",
    "sns.heatmap(cm, annot=True, fmt=\".3f\", linewidths=.5, square = True, cmap = 'YlGnBu');\n",
    "plt.ylabel('Actual label');\n",
    "plt.xlabel('Predicted label');\n",
    "all_sample_title = 'Accuracy Score: {0}'.format(log.score(X, Y))\n",
    "plt.title(all_sample_title, size = 15);\n",
    "\n",
    "print('Accuracy:',metrics.accuracy_score(Y, Y_pred))\n",
    "metrics.roc_curve(Y, Y_pred)\n",
    "print(metrics.roc_auc_score(Y, Y_pred))"
   ]
  },
  {
   "cell_type": "code",
   "execution_count": null,
   "id": "649eed20",
   "metadata": {
    "papermill": {
     "duration": 0.006126,
     "end_time": "2022-08-23T17:01:40.195454",
     "exception": false,
     "start_time": "2022-08-23T17:01:40.189328",
     "status": "completed"
    },
    "tags": []
   },
   "outputs": [],
   "source": []
  },
  {
   "cell_type": "code",
   "execution_count": null,
   "id": "12287de0",
   "metadata": {
    "papermill": {
     "duration": 0.0061,
     "end_time": "2022-08-23T17:01:40.207783",
     "exception": false,
     "start_time": "2022-08-23T17:01:40.201683",
     "status": "completed"
    },
    "tags": []
   },
   "outputs": [],
   "source": []
  }
 ],
 "metadata": {
  "kernelspec": {
   "display_name": "Python 3",
   "language": "python",
   "name": "python3"
  },
  "language_info": {
   "codemirror_mode": {
    "name": "ipython",
    "version": 3
   },
   "file_extension": ".py",
   "mimetype": "text/x-python",
   "name": "python",
   "nbconvert_exporter": "python",
   "pygments_lexer": "ipython3",
   "version": "3.7.12"
  },
  "papermill": {
   "default_parameters": {},
   "duration": 215.197914,
   "end_time": "2022-08-23T17:01:41.137175",
   "environment_variables": {},
   "exception": null,
   "input_path": "__notebook__.ipynb",
   "output_path": "__notebook__.ipynb",
   "parameters": {},
   "start_time": "2022-08-23T16:58:05.939261",
   "version": "2.3.4"
  }
 },
 "nbformat": 4,
 "nbformat_minor": 5
}
