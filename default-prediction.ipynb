{
 "cells": [
  {
   "cell_type": "markdown",
   "id": "a74e55e5",
   "metadata": {
    "papermill": {
     "duration": 0.010693,
     "end_time": "2022-09-02T06:40:20.073652",
     "exception": false,
     "start_time": "2022-09-02T06:40:20.062959",
     "status": "completed"
    },
    "tags": []
   },
   "source": [
    "Our goal is to use this industrial scale dataset to predict if a customer will default in the future. We aim to put together a quick and rough solution."
   ]
  },
  {
   "cell_type": "code",
   "execution_count": 1,
   "id": "df23ea47",
   "metadata": {
    "_cell_guid": "b1076dfc-b9ad-4769-8c92-a6c4dae69d19",
    "_uuid": "8f2839f25d086af736a60e9eeb907d3b93b6e0e5",
    "execution": {
     "iopub.execute_input": "2022-09-02T06:40:20.095176Z",
     "iopub.status.busy": "2022-09-02T06:40:20.094741Z",
     "iopub.status.idle": "2022-09-02T06:40:20.131410Z",
     "shell.execute_reply": "2022-09-02T06:40:20.130171Z"
    },
    "papermill": {
     "duration": 0.050832,
     "end_time": "2022-09-02T06:40:20.134342",
     "exception": false,
     "start_time": "2022-09-02T06:40:20.083510",
     "status": "completed"
    },
    "tags": []
   },
   "outputs": [
    {
     "name": "stdout",
     "output_type": "stream",
     "text": [
      "/kaggle/input/amex-parquet/test_data.parquet\n",
      "/kaggle/input/amex-parquet/train_data.parquet\n",
      "/kaggle/input/amex-default-prediction/sample_submission.csv\n",
      "/kaggle/input/amex-default-prediction/train_data.csv\n",
      "/kaggle/input/amex-default-prediction/test_data.csv\n",
      "/kaggle/input/amex-default-prediction/train_labels.csv\n"
     ]
    }
   ],
   "source": [
    "import os\n",
    "for dirname, _, filenames in os.walk('/kaggle/input'):\n",
    "    for filename in filenames:\n",
    "        print(os.path.join(dirname, filename))"
   ]
  },
  {
   "cell_type": "markdown",
   "id": "225177aa",
   "metadata": {
    "papermill": {
     "duration": 0.009237,
     "end_time": "2022-09-02T06:40:20.153363",
     "exception": false,
     "start_time": "2022-09-02T06:40:20.144126",
     "status": "completed"
    },
    "tags": []
   },
   "source": [
    "This data set is too large to be loaded as a csv file. We convert the data from csv to parquet and then load the parquet format into a pandas dataframe. \n",
    "\n",
    "Next, we take a preview of our data."
   ]
  },
  {
   "cell_type": "code",
   "execution_count": 2,
   "id": "c30c7ab7",
   "metadata": {
    "execution": {
     "iopub.execute_input": "2022-09-02T06:40:20.174081Z",
     "iopub.status.busy": "2022-09-02T06:40:20.173634Z",
     "iopub.status.idle": "2022-09-02T06:42:25.644677Z",
     "shell.execute_reply": "2022-09-02T06:42:25.643131Z"
    },
    "papermill": {
     "duration": 125.500458,
     "end_time": "2022-09-02T06:42:25.663354",
     "exception": false,
     "start_time": "2022-09-02T06:40:20.162896",
     "status": "completed"
    },
    "tags": []
   },
   "outputs": [
    {
     "name": "stdout",
     "output_type": "stream",
     "text": [
      "<bound method NDFrame.head of                                                customer_ID         S_2  \\\n",
      "0        0000099d6bd597052cdcda90ffabf56573fe9d7c79be5f...  2017-03-09   \n",
      "1        0000099d6bd597052cdcda90ffabf56573fe9d7c79be5f...  2017-04-07   \n",
      "2        0000099d6bd597052cdcda90ffabf56573fe9d7c79be5f...  2017-05-28   \n",
      "3        0000099d6bd597052cdcda90ffabf56573fe9d7c79be5f...  2017-06-13   \n",
      "4        0000099d6bd597052cdcda90ffabf56573fe9d7c79be5f...  2017-07-16   \n",
      "...                                                    ...         ...   \n",
      "5531446  fffff1d38b785cef84adeace64f8f83db3a0c31e8d92ea...  2017-11-05   \n",
      "5531447  fffff1d38b785cef84adeace64f8f83db3a0c31e8d92ea...  2017-12-23   \n",
      "5531448  fffff1d38b785cef84adeace64f8f83db3a0c31e8d92ea...  2018-01-06   \n",
      "5531449  fffff1d38b785cef84adeace64f8f83db3a0c31e8d92ea...  2018-02-06   \n",
      "5531450  fffff1d38b785cef84adeace64f8f83db3a0c31e8d92ea...  2018-03-14   \n",
      "\n",
      "              P_2      D_39       B_1       B_2       R_1       S_3      D_41  \\\n",
      "0        0.938469  0.001733  0.008724  1.006838  0.009228  0.124035  0.008771   \n",
      "1        0.936665  0.005775  0.004923  1.000653  0.006151  0.126750  0.000798   \n",
      "2        0.954180  0.091505  0.021655  1.009672  0.006815  0.123977  0.007598   \n",
      "3        0.960384  0.002455  0.013683  1.002700  0.001373  0.117169  0.000685   \n",
      "4        0.947248  0.002483  0.015193  1.000727  0.007605  0.117325  0.004653   \n",
      "...           ...       ...       ...       ...       ...       ...       ...   \n",
      "5531446  0.979333  0.416013  0.020818  0.828199  0.003487  0.090743  0.005340   \n",
      "5531447  0.984907  0.296536  0.007209  0.812610  0.005904  0.079886  0.002243   \n",
      "5531448  0.983019  0.443984  0.013151  0.815422  0.003457  0.100503  0.002111   \n",
      "5531449  0.969861  0.442553  0.009855  1.003541  0.005117  0.101802  0.009930   \n",
      "5531450  0.982175  0.002474  0.000077  0.992880  0.000809  0.119165  0.003287   \n",
      "\n",
      "              B_3  ...  D_137  D_138     D_139     D_140     D_141  D_142  \\\n",
      "0        0.004709  ...    NaN    NaN  0.002427  0.003706  0.003818    NaN   \n",
      "1        0.002714  ...    NaN    NaN  0.003954  0.003167  0.005032    NaN   \n",
      "2        0.009423  ...    NaN    NaN  0.003269  0.007329  0.000427    NaN   \n",
      "3        0.005531  ...    NaN    NaN  0.006117  0.004516  0.003200    NaN   \n",
      "4        0.009312  ...    NaN    NaN  0.003671  0.004946  0.008889    NaN   \n",
      "...           ...  ...    ...    ...       ...       ...       ...    ...   \n",
      "5531446  0.025139  ...    NaN    NaN  0.006838  0.003680  0.000457    NaN   \n",
      "5531447  0.023691  ...    NaN    NaN  0.003310  0.007097  0.007857    NaN   \n",
      "5531448  0.012343  ...    NaN    NaN  0.009955  0.009994  0.001088    NaN   \n",
      "5531449  0.008578  ...    NaN    NaN  0.005541  0.006564  0.009883    NaN   \n",
      "5531450  0.014092  ...    NaN    NaN  0.007316  0.002888  0.006207    NaN   \n",
      "\n",
      "            D_143     D_144     D_145  target  \n",
      "0        0.000569  0.000610  0.002674       0  \n",
      "1        0.009576  0.005492  0.009217       0  \n",
      "2        0.003429  0.006986  0.002603       0  \n",
      "3        0.008419  0.006527  0.009600       0  \n",
      "4        0.001670  0.008126  0.009827       0  \n",
      "...           ...       ...       ...     ...  \n",
      "5531446  0.000905  0.001498  0.002774       0  \n",
      "5531447  0.002777  0.008225  0.008856       0  \n",
      "5531448  0.005693  0.006773  0.005566       0  \n",
      "5531449  0.008123  0.001168  0.003983       0  \n",
      "5531450  0.005110  0.003184  0.001914       0  \n",
      "\n",
      "[5531451 rows x 191 columns]>\n"
     ]
    }
   ],
   "source": [
    "import pandas as pd\n",
    "df=pd.read_parquet('/kaggle/input/amex-parquet/train_data.parquet')\n",
    "print(df.head)"
   ]
  },
  {
   "cell_type": "markdown",
   "id": "640580ed",
   "metadata": {
    "papermill": {
     "duration": 0.009904,
     "end_time": "2022-09-02T06:42:25.683560",
     "exception": false,
     "start_time": "2022-09-02T06:42:25.673656",
     "status": "completed"
    },
    "tags": []
   },
   "source": [
    "Due to hardware limitations we will need to reduce the size of our data. We note the customer ID and the date columns. "
   ]
  },
  {
   "cell_type": "markdown",
   "id": "de1a4af1",
   "metadata": {
    "papermill": {
     "duration": 0.00934,
     "end_time": "2022-09-02T06:42:25.702639",
     "exception": false,
     "start_time": "2022-09-02T06:42:25.693299",
     "status": "completed"
    },
    "tags": []
   },
   "source": [
    "There are four non-numeric data types. Let's convert these so we may apply a logistic regression model.\n",
    "\n",
    "Let's plot our columns."
   ]
  },
  {
   "cell_type": "code",
   "execution_count": 3,
   "id": "5d492dcb",
   "metadata": {
    "execution": {
     "iopub.execute_input": "2022-09-02T06:42:25.724833Z",
     "iopub.status.busy": "2022-09-02T06:42:25.723678Z",
     "iopub.status.idle": "2022-09-02T06:42:25.729978Z",
     "shell.execute_reply": "2022-09-02T06:42:25.728980Z"
    },
    "papermill": {
     "duration": 0.019955,
     "end_time": "2022-09-02T06:42:25.732160",
     "exception": false,
     "start_time": "2022-09-02T06:42:25.712205",
     "status": "completed"
    },
    "tags": []
   },
   "outputs": [],
   "source": [
    "#hist = df.hist(bins=10, figsize = (40,200), layout=(-1,4) )"
   ]
  },
  {
   "cell_type": "markdown",
   "id": "fd778ace",
   "metadata": {
    "papermill": {
     "duration": 0.009177,
     "end_time": "2022-09-02T06:42:25.751042",
     "exception": false,
     "start_time": "2022-09-02T06:42:25.741865",
     "status": "completed"
    },
    "tags": []
   },
   "source": [
    "Let's find the columns with a significant amount of NaN values. "
   ]
  },
  {
   "cell_type": "code",
   "execution_count": 4,
   "id": "9723e0fe",
   "metadata": {
    "execution": {
     "iopub.execute_input": "2022-09-02T06:42:25.772791Z",
     "iopub.status.busy": "2022-09-02T06:42:25.771811Z",
     "iopub.status.idle": "2022-09-02T06:42:34.189582Z",
     "shell.execute_reply": "2022-09-02T06:42:34.187893Z"
    },
    "papermill": {
     "duration": 8.431556,
     "end_time": "2022-09-02T06:42:34.192277",
     "exception": false,
     "start_time": "2022-09-02T06:42:25.760721",
     "status": "completed"
    },
    "tags": []
   },
   "outputs": [
    {
     "name": "stdout",
     "output_type": "stream",
     "text": [
      "18\n",
      "173\n"
     ]
    }
   ],
   "source": [
    "temp = [column for column in df.columns if df[column].isnull().sum()/len(df) >= 0.9]\n",
    "print(len(temp))\n",
    "\n",
    "#drop columns with high freq of NaN\n",
    "df.drop(temp, axis=1, inplace=True)\n",
    "\n",
    "print( len(df.columns) )"
   ]
  },
  {
   "cell_type": "markdown",
   "id": "6beb278f",
   "metadata": {
    "papermill": {
     "duration": 0.009254,
     "end_time": "2022-09-02T06:42:34.211330",
     "exception": false,
     "start_time": "2022-09-02T06:42:34.202076",
     "status": "completed"
    },
    "tags": []
   },
   "source": [
    "We choose to impute by selecting the most recent transaction from each customer. We fill missing data from previous records. "
   ]
  },
  {
   "cell_type": "code",
   "execution_count": 5,
   "id": "13de3723",
   "metadata": {
    "execution": {
     "iopub.execute_input": "2022-09-02T06:42:34.234012Z",
     "iopub.status.busy": "2022-09-02T06:42:34.233081Z",
     "iopub.status.idle": "2022-09-02T06:43:02.685160Z",
     "shell.execute_reply": "2022-09-02T06:43:02.683164Z"
    },
    "papermill": {
     "duration": 28.466798,
     "end_time": "2022-09-02T06:43:02.687681",
     "exception": false,
     "start_time": "2022-09-02T06:42:34.220883",
     "status": "completed"
    },
    "tags": []
   },
   "outputs": [
    {
     "name": "stdout",
     "output_type": "stream",
     "text": [
      "(5531451, 173) (458913, 171)\n",
      "0\n"
     ]
    }
   ],
   "source": [
    "#using only most recent transaction from each customer\n",
    "temp = df.shape\n",
    "df=df.set_index(['customer_ID'])\n",
    "df=df.ffill()\n",
    "df=df.bfill()\n",
    "df=df.reset_index()\n",
    "\n",
    "df=df.groupby('customer_ID').tail(1)\n",
    "df=df.set_index(['customer_ID'])\n",
    "\n",
    "#Drop date column since it\n",
    "df.drop(['S_2'],axis=1,inplace=True)\n",
    "\n",
    "print(temp, df.shape)\n",
    "\n",
    "\n",
    "temp = [column for column in df.columns if df[column].isnull().sum()/len(df) >0]\n",
    "print(len(temp))"
   ]
  },
  {
   "cell_type": "markdown",
   "id": "7d652e66",
   "metadata": {
    "papermill": {
     "duration": 0.009344,
     "end_time": "2022-09-02T06:43:02.707171",
     "exception": false,
     "start_time": "2022-09-02T06:43:02.697827",
     "status": "completed"
    },
    "tags": []
   },
   "source": [
    "This magically removes all missing data... ??\n",
    "\n",
    "Lets separate our labels from our dataset."
   ]
  },
  {
   "cell_type": "code",
   "execution_count": 6,
   "id": "7cc4fbf2",
   "metadata": {
    "execution": {
     "iopub.execute_input": "2022-09-02T06:43:02.728731Z",
     "iopub.status.busy": "2022-09-02T06:43:02.727727Z",
     "iopub.status.idle": "2022-09-02T06:43:02.851060Z",
     "shell.execute_reply": "2022-09-02T06:43:02.849656Z"
    },
    "papermill": {
     "duration": 0.137042,
     "end_time": "2022-09-02T06:43:02.853895",
     "exception": false,
     "start_time": "2022-09-02T06:43:02.716853",
     "status": "completed"
    },
    "tags": []
   },
   "outputs": [
    {
     "name": "stdout",
     "output_type": "stream",
     "text": [
      "0.2589336105100531\n"
     ]
    }
   ],
   "source": [
    "df_label = df.iloc[:,len(df.columns)-1]\n",
    "df = df.iloc[:,0:len(df.columns)-1]\n",
    "print(df_label.sum()/len(df_label))"
   ]
  },
  {
   "cell_type": "markdown",
   "id": "b109e9eb",
   "metadata": {
    "papermill": {
     "duration": 0.009269,
     "end_time": "2022-09-02T06:43:02.872958",
     "exception": false,
     "start_time": "2022-09-02T06:43:02.863689",
     "status": "completed"
    },
    "tags": []
   },
   "source": [
    "Our train data contains ~25% positive cases."
   ]
  },
  {
   "cell_type": "markdown",
   "id": "b5c189e9",
   "metadata": {
    "papermill": {
     "duration": 0.009627,
     "end_time": "2022-09-02T06:43:02.892223",
     "exception": false,
     "start_time": "2022-09-02T06:43:02.882596",
     "status": "completed"
    },
    "tags": []
   },
   "source": [
    "We aim to remove data columns that have too high a correlation as logistic regression requires it. (why? "
   ]
  },
  {
   "cell_type": "code",
   "execution_count": 7,
   "id": "d1fb87d9",
   "metadata": {
    "execution": {
     "iopub.execute_input": "2022-09-02T06:43:02.913740Z",
     "iopub.status.busy": "2022-09-02T06:43:02.912960Z",
     "iopub.status.idle": "2022-09-02T06:43:40.576226Z",
     "shell.execute_reply": "2022-09-02T06:43:40.574993Z"
    },
    "papermill": {
     "duration": 37.688166,
     "end_time": "2022-09-02T06:43:40.590089",
     "exception": false,
     "start_time": "2022-09-02T06:43:02.901923",
     "status": "completed"
    },
    "tags": []
   },
   "outputs": [
    {
     "name": "stdout",
     "output_type": "stream",
     "text": [
      "23 (458913, 147)\n"
     ]
    },
    {
     "name": "stderr",
     "output_type": "stream",
     "text": [
      "/opt/conda/lib/python3.7/site-packages/ipykernel_launcher.py:6: DeprecationWarning: `np.bool` is a deprecated alias for the builtin `bool`. To silence this warning, use `bool` by itself. Doing this will not modify any behavior and is safe. If you specifically wanted the numpy scalar type, use `np.bool_` here.\n",
      "Deprecated in NumPy 1.20; for more details and guidance: https://numpy.org/devdocs/release/1.20.0-notes.html#deprecations\n",
      "  \n"
     ]
    }
   ],
   "source": [
    "# Create correlation matrix\n",
    "corr_matrix = df.corr().abs()\n",
    "\n",
    "# Select upper triangle of correlation matrix\n",
    "import numpy as np\n",
    "upper = corr_matrix.where(np.triu(np.ones(corr_matrix.shape), k=1).astype(np.bool))\n",
    "\n",
    "# Find and drop columns with high correl\n",
    "to_drop = [column for column in upper.columns if any(upper[column] > 0.8)]\n",
    "df.drop(to_drop, axis=1, inplace=True)\n",
    "\n",
    "print(len(to_drop),df.shape)"
   ]
  },
  {
   "cell_type": "markdown",
   "id": "9f26a45a",
   "metadata": {
    "papermill": {
     "duration": 0.009814,
     "end_time": "2022-09-02T06:43:40.610364",
     "exception": false,
     "start_time": "2022-09-02T06:43:40.600550",
     "status": "completed"
    },
    "tags": []
   },
   "source": [
    "To further reduce the degrees of freedom we remove columns with low variance"
   ]
  },
  {
   "cell_type": "code",
   "execution_count": 8,
   "id": "3eb25f33",
   "metadata": {
    "execution": {
     "iopub.execute_input": "2022-09-02T06:43:40.632493Z",
     "iopub.status.busy": "2022-09-02T06:43:40.632012Z",
     "iopub.status.idle": "2022-09-02T06:43:42.962592Z",
     "shell.execute_reply": "2022-09-02T06:43:42.961305Z"
    },
    "papermill": {
     "duration": 2.345319,
     "end_time": "2022-09-02T06:43:42.965683",
     "exception": false,
     "start_time": "2022-09-02T06:43:40.620364",
     "status": "completed"
    },
    "tags": []
   },
   "outputs": [
    {
     "data": {
      "text/plain": [
       "30"
      ]
     },
     "execution_count": 8,
     "metadata": {},
     "output_type": "execute_result"
    }
   ],
   "source": [
    "from sklearn.feature_selection import VarianceThreshold\n",
    "from itertools import compress\n",
    "\n",
    "temp = df.drop(['D_63', 'D_64'], axis=1)\n",
    "\n",
    "# Initialize and fit the method\n",
    "vt = VarianceThreshold(threshold = float(0.2))\n",
    "vt.fit(temp)\n",
    "\n",
    "#columns with sufficient variance\n",
    "keep = list(compress(temp.columns, vt.get_support()))\n",
    "\n",
    "#dropped = ['D_63', 'D_64', 'customer_ID', 'S_2']\n",
    "\n",
    "keep.extend(['D_63', 'D_64',])\n",
    "\n",
    "#keep = keep + dropped\n",
    "#keep.append('D_64')\n",
    "df=df[keep]\n",
    "keep.extend([ 'customer_ID', 'S_2'])\n",
    "#keep.append('customer_ID')\n",
    "#keep.append('S_2')\n",
    "len(keep)"
   ]
  },
  {
   "cell_type": "code",
   "execution_count": 9,
   "id": "8fbdf4d5",
   "metadata": {
    "execution": {
     "iopub.execute_input": "2022-09-02T06:43:42.987927Z",
     "iopub.status.busy": "2022-09-02T06:43:42.987478Z",
     "iopub.status.idle": "2022-09-02T06:43:42.993814Z",
     "shell.execute_reply": "2022-09-02T06:43:42.992874Z"
    },
    "papermill": {
     "duration": 0.020261,
     "end_time": "2022-09-02T06:43:42.996211",
     "exception": false,
     "start_time": "2022-09-02T06:43:42.975950",
     "status": "completed"
    },
    "tags": []
   },
   "outputs": [
    {
     "data": {
      "text/plain": [
       "'\"\\n#removing outliers\\nprint(df1.shape)\\n\\ndf1 = df1[df1[\\'R_6\\'] < df1[\\'R_6\\'].quantile(0.97)]\\nprint(df1[\\'R_6\\'].max())\\nprint(df1.shape)'"
      ]
     },
     "execution_count": 9,
     "metadata": {},
     "output_type": "execute_result"
    }
   ],
   "source": [
    "\"\"\"\"\n",
    "#removing outliers\n",
    "print(df1.shape)\n",
    "\n",
    "df1 = df1[df1['R_6'] < df1['R_6'].quantile(0.97)]\n",
    "print(df1['R_6'].max())\n",
    "print(df1.shape)\"\"\""
   ]
  },
  {
   "cell_type": "code",
   "execution_count": 10,
   "id": "7239c7a9",
   "metadata": {
    "execution": {
     "iopub.execute_input": "2022-09-02T06:43:43.018438Z",
     "iopub.status.busy": "2022-09-02T06:43:43.018019Z",
     "iopub.status.idle": "2022-09-02T06:43:43.025025Z",
     "shell.execute_reply": "2022-09-02T06:43:43.023880Z"
    },
    "papermill": {
     "duration": 0.020994,
     "end_time": "2022-09-02T06:43:43.027336",
     "exception": false,
     "start_time": "2022-09-02T06:43:43.006342",
     "status": "completed"
    },
    "tags": []
   },
   "outputs": [
    {
     "data": {
      "text/plain": [
       "\"#df1.iloc[:100000,7].value_counts()\\nprint(df1.iloc[:,1].head())\\n\\n\\n#What type of variable for dates\\ndf1['S_2'] = pd.to_datetime(df1['S_2'])\\ndf1['S_2'] = pd.to_numeric(df1['S_2'])\\n\\n#normalizing\\n#df1['S_2'] = (df1['S_2']-df1['S_2'].min())/(df1['S_2'].max() - df1['S_2'].min())\\nprint(df1['S_2'].head())\\n\\ndf1['S_2'] = pd.to_timedelta(df1['S_2'])\\nprint(df1.iloc[:,1].dt.total_seconds())\\n\""
      ]
     },
     "execution_count": 10,
     "metadata": {},
     "output_type": "execute_result"
    }
   ],
   "source": [
    "\"\"\"#df1.iloc[:100000,7].value_counts()\n",
    "print(df1.iloc[:,1].head())\n",
    "\n",
    "\n",
    "#What type of variable for dates\n",
    "df1['S_2'] = pd.to_datetime(df1['S_2'])\n",
    "df1['S_2'] = pd.to_numeric(df1['S_2'])\n",
    "\n",
    "#normalizing\n",
    "#df1['S_2'] = (df1['S_2']-df1['S_2'].min())/(df1['S_2'].max() - df1['S_2'].min())\n",
    "print(df1['S_2'].head())\n",
    "\n",
    "df1['S_2'] = pd.to_timedelta(df1['S_2'])\n",
    "print(df1.iloc[:,1].dt.total_seconds())\n",
    "\"\"\""
   ]
  },
  {
   "cell_type": "markdown",
   "id": "4402cb88",
   "metadata": {
    "papermill": {
     "duration": 0.009923,
     "end_time": "2022-09-02T06:43:43.047505",
     "exception": false,
     "start_time": "2022-09-02T06:43:43.037582",
     "status": "completed"
    },
    "tags": []
   },
   "source": [
    "Now lets take a look at our data types."
   ]
  },
  {
   "cell_type": "code",
   "execution_count": 11,
   "id": "07ebc87d",
   "metadata": {
    "execution": {
     "iopub.execute_input": "2022-09-02T06:43:43.070548Z",
     "iopub.status.busy": "2022-09-02T06:43:43.069377Z",
     "iopub.status.idle": "2022-09-02T06:43:43.077612Z",
     "shell.execute_reply": "2022-09-02T06:43:43.076266Z"
    },
    "papermill": {
     "duration": 0.021943,
     "end_time": "2022-09-02T06:43:43.079717",
     "exception": false,
     "start_time": "2022-09-02T06:43:43.057774",
     "status": "completed"
    },
    "tags": []
   },
   "outputs": [
    {
     "name": "stdout",
     "output_type": "stream",
     "text": [
      "float32    26\n",
      "object      2\n",
      "dtype: int64\n"
     ]
    }
   ],
   "source": [
    "print(df.dtypes.value_counts())"
   ]
  },
  {
   "cell_type": "markdown",
   "id": "4f571772",
   "metadata": {
    "papermill": {
     "duration": 0.010125,
     "end_time": "2022-09-02T06:43:43.100463",
     "exception": false,
     "start_time": "2022-09-02T06:43:43.090338",
     "status": "completed"
    },
    "tags": []
   },
   "source": [
    "Convert our object columns to numeric via one hot encoding"
   ]
  },
  {
   "cell_type": "code",
   "execution_count": 12,
   "id": "06e75cc7",
   "metadata": {
    "execution": {
     "iopub.execute_input": "2022-09-02T06:43:43.123397Z",
     "iopub.status.busy": "2022-09-02T06:43:43.122624Z",
     "iopub.status.idle": "2022-09-02T06:43:43.411920Z",
     "shell.execute_reply": "2022-09-02T06:43:43.410324Z"
    },
    "papermill": {
     "duration": 0.303632,
     "end_time": "2022-09-02T06:43:43.414420",
     "exception": false,
     "start_time": "2022-09-02T06:43:43.110788",
     "status": "completed"
    },
    "tags": []
   },
   "outputs": [
    {
     "name": "stdout",
     "output_type": "stream",
     "text": [
      "1865\n",
      "(458913, 35)\n"
     ]
    }
   ],
   "source": [
    "df = pd.get_dummies(df)\n",
    "print(df['D_64_-1'].sum())\n",
    "df.drop(['D_64_-1'], axis=1, inplace = True)\n",
    "print(df.shape)"
   ]
  },
  {
   "cell_type": "code",
   "execution_count": 13,
   "id": "1830c643",
   "metadata": {
    "execution": {
     "iopub.execute_input": "2022-09-02T06:43:43.437516Z",
     "iopub.status.busy": "2022-09-02T06:43:43.437121Z",
     "iopub.status.idle": "2022-09-02T06:43:43.441916Z",
     "shell.execute_reply": "2022-09-02T06:43:43.440820Z"
    },
    "papermill": {
     "duration": 0.019015,
     "end_time": "2022-09-02T06:43:43.444142",
     "exception": false,
     "start_time": "2022-09-02T06:43:43.425127",
     "status": "completed"
    },
    "tags": []
   },
   "outputs": [],
   "source": [
    "#Handling missing values\n",
    "#from sklearn.impute import SimpleImputer\n",
    "#my_imputer = SimpleImputer()\n",
    "#df1.iloc[:,:] = my_imputer.fit_transform(df1.iloc[:,:])"
   ]
  },
  {
   "cell_type": "markdown",
   "id": "723b1d81",
   "metadata": {
    "papermill": {
     "duration": 0.010131,
     "end_time": "2022-09-02T06:43:43.464779",
     "exception": false,
     "start_time": "2022-09-02T06:43:43.454648",
     "status": "completed"
    },
    "tags": []
   },
   "source": [
    "Reshaping data for model training"
   ]
  },
  {
   "cell_type": "code",
   "execution_count": 14,
   "id": "6afd644e",
   "metadata": {
    "execution": {
     "iopub.execute_input": "2022-09-02T06:43:43.487679Z",
     "iopub.status.busy": "2022-09-02T06:43:43.486945Z",
     "iopub.status.idle": "2022-09-02T06:43:43.516719Z",
     "shell.execute_reply": "2022-09-02T06:43:43.515726Z"
    },
    "papermill": {
     "duration": 0.044358,
     "end_time": "2022-09-02T06:43:43.519500",
     "exception": false,
     "start_time": "2022-09-02T06:43:43.475142",
     "status": "completed"
    },
    "tags": []
   },
   "outputs": [],
   "source": [
    "X = df.iloc[:, :].values.reshape(-1, len(df.columns))\n",
    "Y = df_label\n",
    "#Y = df_label.iloc[:len(df1), 1].values.reshape(-1, 1)"
   ]
  },
  {
   "cell_type": "markdown",
   "id": "4cee22a8",
   "metadata": {
    "papermill": {
     "duration": 0.010181,
     "end_time": "2022-09-02T06:43:43.540209",
     "exception": false,
     "start_time": "2022-09-02T06:43:43.530028",
     "status": "completed"
    },
    "tags": []
   },
   "source": [
    "We scale our data for better results"
   ]
  },
  {
   "cell_type": "code",
   "execution_count": 15,
   "id": "a51191ad",
   "metadata": {
    "execution": {
     "iopub.execute_input": "2022-09-02T06:43:43.563280Z",
     "iopub.status.busy": "2022-09-02T06:43:43.562455Z",
     "iopub.status.idle": "2022-09-02T06:43:43.796388Z",
     "shell.execute_reply": "2022-09-02T06:43:43.795416Z"
    },
    "papermill": {
     "duration": 0.248555,
     "end_time": "2022-09-02T06:43:43.799179",
     "exception": false,
     "start_time": "2022-09-02T06:43:43.550624",
     "status": "completed"
    },
    "tags": []
   },
   "outputs": [],
   "source": [
    "from sklearn import preprocessing\n",
    "\n",
    "scaler = preprocessing.StandardScaler().fit(X)\n",
    "X_scaled = scaler.transform(X)"
   ]
  },
  {
   "cell_type": "code",
   "execution_count": 16,
   "id": "23bf7a57",
   "metadata": {
    "execution": {
     "iopub.execute_input": "2022-09-02T06:43:43.822798Z",
     "iopub.status.busy": "2022-09-02T06:43:43.821671Z",
     "iopub.status.idle": "2022-09-02T06:43:53.582048Z",
     "shell.execute_reply": "2022-09-02T06:43:53.580418Z"
    },
    "papermill": {
     "duration": 9.774927,
     "end_time": "2022-09-02T06:43:53.584714",
     "exception": false,
     "start_time": "2022-09-02T06:43:43.809787",
     "status": "completed"
    },
    "tags": []
   },
   "outputs": [
    {
     "name": "stderr",
     "output_type": "stream",
     "text": [
      "/opt/conda/lib/python3.7/site-packages/sklearn/linear_model/_logistic.py:818: ConvergenceWarning: lbfgs failed to converge (status=1):\n",
      "STOP: TOTAL NO. of ITERATIONS REACHED LIMIT.\n",
      "\n",
      "Increase the number of iterations (max_iter) or scale the data as shown in:\n",
      "    https://scikit-learn.org/stable/modules/preprocessing.html\n",
      "Please also refer to the documentation for alternative solver options:\n",
      "    https://scikit-learn.org/stable/modules/linear_model.html#logistic-regression\n",
      "  extra_warning_msg=_LOGISTIC_SOLVER_CONVERGENCE_MSG,\n"
     ]
    },
    {
     "name": "stdout",
     "output_type": "stream",
     "text": [
      "[0 0 0 ... 0 1 0] 98474\n",
      "0.8519545098962112\n"
     ]
    }
   ],
   "source": [
    "from sklearn.linear_model import LogisticRegression\n",
    "# create object for the class\n",
    "log = LogisticRegression()\n",
    "log.fit(X_scaled, Y) \n",
    "Y_pred = log.predict(X_scaled)\n",
    "\n",
    "print(Y_pred, np.sum(Y_pred))\n",
    "print(log.score(X_scaled, Y))"
   ]
  },
  {
   "cell_type": "code",
   "execution_count": 17,
   "id": "82fa7ab8",
   "metadata": {
    "execution": {
     "iopub.execute_input": "2022-09-02T06:43:53.608600Z",
     "iopub.status.busy": "2022-09-02T06:43:53.607489Z",
     "iopub.status.idle": "2022-09-02T06:43:54.601753Z",
     "shell.execute_reply": "2022-09-02T06:43:54.600236Z"
    },
    "papermill": {
     "duration": 1.010522,
     "end_time": "2022-09-02T06:43:54.605932",
     "exception": false,
     "start_time": "2022-09-02T06:43:53.595410",
     "status": "completed"
    },
    "tags": []
   },
   "outputs": [
    {
     "name": "stdout",
     "output_type": "stream",
     "text": [
      "Accuracy: 0.852\n",
      "0.7792589491433799\n"
     ]
    },
    {
     "data": {
      "image/png": "[encoded data removed]",
      "text/plain": [
       "<Figure size 648x648 with 2 Axes>"
      ]
     },
     "metadata": {
      "needs_background": "light"
     },
     "output_type": "display_data"
    }
   ],
   "source": [
    "from sklearn import metrics\n",
    "import matplotlib.pyplot as plt\n",
    "import seaborn as sns\n",
    "\n",
    "cm = metrics.confusion_matrix(Y, Y_pred)\n",
    "\n",
    "plt.figure(figsize=(9,9))\n",
    "sns.heatmap(cm, annot=True, fmt=\".3f\", linewidths=.5, square = True, cmap = 'YlGnBu');\n",
    "plt.ylabel('Actual label');\n",
    "plt.xlabel('Predicted label');\n",
    "all_sample_title = 'Accuracy Score: {0}'.format(round(log.score(X, Y),3))\n",
    "plt.title(all_sample_title, size = 15);\n",
    "\n",
    "print('Accuracy:',round(metrics.accuracy_score(Y, Y_pred),3))\n",
    "metrics.roc_curve(Y, Y_pred)\n",
    "print(metrics.roc_auc_score(Y, Y_pred))"
   ]
  },
  {
   "cell_type": "code",
   "execution_count": 18,
   "id": "1208618f",
   "metadata": {
    "execution": {
     "iopub.execute_input": "2022-09-02T06:43:54.637196Z",
     "iopub.status.busy": "2022-09-02T06:43:54.636077Z",
     "iopub.status.idle": "2022-09-02T06:43:54.645744Z",
     "shell.execute_reply": "2022-09-02T06:43:54.644690Z"
    },
    "papermill": {
     "duration": 0.02662,
     "end_time": "2022-09-02T06:43:54.648061",
     "exception": false,
     "start_time": "2022-09-02T06:43:54.621441",
     "status": "completed"
    },
    "tags": []
   },
   "outputs": [
    {
     "data": {
      "text/plain": [
       "\"\\n#trying random forest\\nfrom sklearn.ensemble import RandomForestClassifier\\nfrom sklearn.model_selection import RandomizedSearchCV, GridSearchCV\\n# Number of trees in random forest\\nn_estimators = [int(x) for x in np.linspace(start = 200, stop = 2000, num = 10)]\\n# Number of features to consider at every split\\nmax_features = ['auto', 'sqrt']\\n# Maximum number of levels in tree\\nmax_depth = [int(x) for x in np.linspace(10, 110, num = 11)]\\nmax_depth.append(None)\\n# Minimum number of samples required to split a node\\nmin_samples_split = [2, 5, 10]\\n# Minimum number of samples required at each leaf node\\nmin_samples_leaf = [1, 2, 4]\\n# Method of selecting samples for training each tree\\nbootstrap = [True, False]\\n# Create the random grid\\nrandom_grid = {'n_estimators': n_estimators,\\n               'max_features': max_features,\\n               'max_depth': max_depth,\\n               'min_samples_split': min_samples_split,\\n               'min_samples_leaf': min_samples_leaf,\\n               'bootstrap': bootstrap}\\n\\nmodel = RandomForestClassifier(n_estimators=400, max_features='sqrt', bootstrap=True, max_depth=30, min_samples_leaf=1, min_samples_split=5, n_jobs=-1)\\n#rf_random = GridSearchCV(estimator = rf, param_grid = random_grid, cv = 3, verbose=1, n_jobs = -1)\\n# Fit the random search model\\nmodel.fit(X,Y)\""
      ]
     },
     "execution_count": 18,
     "metadata": {},
     "output_type": "execute_result"
    }
   ],
   "source": [
    "\"\"\"\n",
    "#trying random forest\n",
    "from sklearn.ensemble import RandomForestClassifier\n",
    "from sklearn.model_selection import RandomizedSearchCV, GridSearchCV\n",
    "# Number of trees in random forest\n",
    "n_estimators = [int(x) for x in np.linspace(start = 200, stop = 2000, num = 10)]\n",
    "# Number of features to consider at every split\n",
    "max_features = ['auto', 'sqrt']\n",
    "# Maximum number of levels in tree\n",
    "max_depth = [int(x) for x in np.linspace(10, 110, num = 11)]\n",
    "max_depth.append(None)\n",
    "# Minimum number of samples required to split a node\n",
    "min_samples_split = [2, 5, 10]\n",
    "# Minimum number of samples required at each leaf node\n",
    "min_samples_leaf = [1, 2, 4]\n",
    "# Method of selecting samples for training each tree\n",
    "bootstrap = [True, False]\n",
    "# Create the random grid\n",
    "random_grid = {'n_estimators': n_estimators,\n",
    "               'max_features': max_features,\n",
    "               'max_depth': max_depth,\n",
    "               'min_samples_split': min_samples_split,\n",
    "               'min_samples_leaf': min_samples_leaf,\n",
    "               'bootstrap': bootstrap}\n",
    "\n",
    "model = RandomForestClassifier(n_estimators=400, max_features='sqrt', bootstrap=True, max_depth=30, min_samples_leaf=1, min_samples_split=5, n_jobs=-1)\n",
    "#rf_random = GridSearchCV(estimator = rf, param_grid = random_grid, cv = 3, verbose=1, n_jobs = -1)\n",
    "# Fit the random search model\n",
    "model.fit(X,Y)\"\"\""
   ]
  },
  {
   "cell_type": "code",
   "execution_count": 19,
   "id": "47329ab8",
   "metadata": {
    "execution": {
     "iopub.execute_input": "2022-09-02T06:43:54.673858Z",
     "iopub.status.busy": "2022-09-02T06:43:54.673034Z",
     "iopub.status.idle": "2022-09-02T06:43:54.679668Z",
     "shell.execute_reply": "2022-09-02T06:43:54.678668Z"
    },
    "papermill": {
     "duration": 0.022116,
     "end_time": "2022-09-02T06:43:54.681872",
     "exception": false,
     "start_time": "2022-09-02T06:43:54.659756",
     "status": "completed"
    },
    "tags": []
   },
   "outputs": [
    {
     "data": {
      "text/plain": [
       "'Y_pred = model.predict_proba(X)\\nY_pred = Y_pred[:,1]\\nprint(Y_pred.shape, Y_pred[25:50])'"
      ]
     },
     "execution_count": 19,
     "metadata": {},
     "output_type": "execute_result"
    }
   ],
   "source": [
    "\"\"\"Y_pred = model.predict_proba(X)\n",
    "Y_pred = Y_pred[:,1]\n",
    "print(Y_pred.shape, Y_pred[25:50])\"\"\""
   ]
  },
  {
   "cell_type": "code",
   "execution_count": 20,
   "id": "e2950f63",
   "metadata": {
    "execution": {
     "iopub.execute_input": "2022-09-02T06:43:54.707781Z",
     "iopub.status.busy": "2022-09-02T06:43:54.706989Z",
     "iopub.status.idle": "2022-09-02T06:43:54.715281Z",
     "shell.execute_reply": "2022-09-02T06:43:54.714254Z"
    },
    "papermill": {
     "duration": 0.023901,
     "end_time": "2022-09-02T06:43:54.717466",
     "exception": false,
     "start_time": "2022-09-02T06:43:54.693565",
     "status": "completed"
    },
    "tags": []
   },
   "outputs": [
    {
     "data": {
      "text/plain": [
       "\"from xgboost import XGBClassifier\\nfrom sklearn.model_selection import RandomizedSearchCV\\n\\nparam_random_gb = {'learning_rate': np.arange(0.05,0.55, 0.1), 'n_estimators' : [125,150,175], 'subsample' : np.arange(0.3,1.0, 0.1), 'max_depth':[3,4,5]}\\n\\nmse_random = RandomizedSearchCV(estimator = XGBClassifier(), param_distributions = param_random_gb, n_iter = 10,scoring = 'neg_mean_squared_error', cv = 4, verbose = 1)\\n\\n\\n\\nmse_random.best_params_={'subsample': 0.5, 'n_estimators': 175, 'max_depth': 3, 'learning_rate': 0.15}\\nmse_random.best_score_ = (0.32263831733224874)**2\\n\\nmse_random.fit(X,Y)\\n\\n#Run XGBoost model with the best parameters found\\nmodel=XGBClassifier(n_estimators=200,max_depth=3,learning_rate=0.15, subsample=0.5)\\nmodel.fit(x_train_split,y_train_split)\\n#Test the model\\ny_predict=model.predict(x_test_split)\\nprint('XGBoost Classifier Accuracy: {:.3f}'.format(accuracy_score(y_test_split, y_predict)))\""
      ]
     },
     "execution_count": 20,
     "metadata": {},
     "output_type": "execute_result"
    }
   ],
   "source": [
    "\"\"\"from xgboost import XGBClassifier\n",
    "from sklearn.model_selection import RandomizedSearchCV\n",
    "\n",
    "param_random_gb = {'learning_rate': np.arange(0.05,0.55, 0.1), 'n_estimators' : [125,150,175], 'subsample' : np.arange(0.3,1.0, 0.1), 'max_depth':[3,4,5]}\n",
    "\n",
    "mse_random = RandomizedSearchCV(estimator = XGBClassifier(), param_distributions = param_random_gb, n_iter = 10,scoring = 'neg_mean_squared_error', cv = 4, verbose = 1)\n",
    "\n",
    "\n",
    "\n",
    "mse_random.best_params_={'subsample': 0.5, 'n_estimators': 175, 'max_depth': 3, 'learning_rate': 0.15}\n",
    "mse_random.best_score_ = (0.32263831733224874)**2\n",
    "\n",
    "mse_random.fit(X,Y)\n",
    "\n",
    "#Run XGBoost model with the best parameters found\n",
    "model=XGBClassifier(n_estimators=200,max_depth=3,learning_rate=0.15, subsample=0.5)\n",
    "model.fit(x_train_split,y_train_split)\n",
    "#Test the model\n",
    "y_predict=model.predict(x_test_split)\n",
    "print('XGBoost Classifier Accuracy: {:.3f}'.format(accuracy_score(y_test_split, y_predict)))\"\"\""
   ]
  },
  {
   "cell_type": "code",
   "execution_count": 21,
   "id": "b1151f0a",
   "metadata": {
    "execution": {
     "iopub.execute_input": "2022-09-02T06:43:54.743426Z",
     "iopub.status.busy": "2022-09-02T06:43:54.742429Z",
     "iopub.status.idle": "2022-09-02T06:43:54.750237Z",
     "shell.execute_reply": "2022-09-02T06:43:54.749187Z"
    },
    "papermill": {
     "duration": 0.024054,
     "end_time": "2022-09-02T06:43:54.753218",
     "exception": false,
     "start_time": "2022-09-02T06:43:54.729164",
     "status": "completed"
    },
    "tags": []
   },
   "outputs": [
    {
     "data": {
      "text/plain": [
       "\"def evaluate(model, test_features, test_labels):\\n    predictions = model.predict(test_features)\\n    errors = abs(predictions - test_labels)\\n    mape = 100 * np.mean(errors / test_labels)\\n    accuracy = 100 - mape\\n    print('Model Performance')\\n    print('Average Error: {:0.4f} degrees.'.format(np.mean(errors)))\\n    print('Accuracy = {:0.2f}%.'.format(accuracy))\\n    \\naccuracy = evaluate(model, X, Y)\\n\\nprint('Accuracy:{:0.2f}%.'.format( 100 * accuracy))\""
      ]
     },
     "execution_count": 21,
     "metadata": {},
     "output_type": "execute_result"
    }
   ],
   "source": [
    "\"\"\"def evaluate(model, test_features, test_labels):\n",
    "    predictions = model.predict(test_features)\n",
    "    errors = abs(predictions - test_labels)\n",
    "    mape = 100 * np.mean(errors / test_labels)\n",
    "    accuracy = 100 - mape\n",
    "    print('Model Performance')\n",
    "    print('Average Error: {:0.4f} degrees.'.format(np.mean(errors)))\n",
    "    print('Accuracy = {:0.2f}%.'.format(accuracy))\n",
    "    \n",
    "accuracy = evaluate(model, X, Y)\n",
    "\n",
    "print('Accuracy:{:0.2f}%.'.format( 100 * accuracy))\"\"\""
   ]
  },
  {
   "cell_type": "code",
   "execution_count": 22,
   "id": "2387250f",
   "metadata": {
    "execution": {
     "iopub.execute_input": "2022-09-02T06:43:54.785363Z",
     "iopub.status.busy": "2022-09-02T06:43:54.783448Z",
     "iopub.status.idle": "2022-09-02T06:43:54.918705Z",
     "shell.execute_reply": "2022-09-02T06:43:54.917290Z"
    },
    "papermill": {
     "duration": 0.152171,
     "end_time": "2022-09-02T06:43:54.922267",
     "exception": false,
     "start_time": "2022-09-02T06:43:54.770096",
     "status": "completed"
    },
    "tags": []
   },
   "outputs": [
    {
     "data": {
      "text/plain": [
       "4989"
      ]
     },
     "execution_count": 22,
     "metadata": {},
     "output_type": "execute_result"
    }
   ],
   "source": [
    "import gc\n",
    "#free up ram\n",
    "del df, df_label\n",
    "gc.collect()"
   ]
  },
  {
   "cell_type": "code",
   "execution_count": 23,
   "id": "945a05d6",
   "metadata": {
    "execution": {
     "iopub.execute_input": "2022-09-02T06:43:54.948817Z",
     "iopub.status.busy": "2022-09-02T06:43:54.948142Z",
     "iopub.status.idle": "2022-09-02T06:44:19.327894Z",
     "shell.execute_reply": "2022-09-02T06:44:19.326166Z"
    },
    "papermill": {
     "duration": 24.396628,
     "end_time": "2022-09-02T06:44:19.331242",
     "exception": false,
     "start_time": "2022-09-02T06:43:54.934614",
     "status": "completed"
    },
    "tags": []
   },
   "outputs": [
    {
     "name": "stdout",
     "output_type": "stream",
     "text": [
      "30 ['B_6', 'B_8', 'D_50', 'B_10', 'B_12', 'R_5', 'D_65', 'D_68', 'R_6', 'B_21', 'D_69', 'R_7', 'B_26', 'S_16', 'R_14', 'R_20', 'S_22', 'S_23', 'S_26', 'D_103', 'B_38', 'B_40', 'D_114', 'D_117', 'D_128', 'D_129', 'D_63', 'D_64', 'customer_ID', 'S_2']\n",
      "(11363762, 30)\n"
     ]
    }
   ],
   "source": [
    "#run prediction on test data\n",
    "\n",
    "print(len(keep), keep)\n",
    "#need to only load some columns due to ram limitations\n",
    "df2=pd.read_parquet('/kaggle/input/amex-parquet/test_data.parquet', columns =keep)\n",
    "print(df2.shape)"
   ]
  },
  {
   "cell_type": "code",
   "execution_count": 24,
   "id": "403cb133",
   "metadata": {
    "execution": {
     "iopub.execute_input": "2022-09-02T06:44:19.357955Z",
     "iopub.status.busy": "2022-09-02T06:44:19.357518Z",
     "iopub.status.idle": "2022-09-02T06:44:19.361807Z",
     "shell.execute_reply": "2022-09-02T06:44:19.360612Z"
    },
    "papermill": {
     "duration": 0.020353,
     "end_time": "2022-09-02T06:44:19.364170",
     "exception": false,
     "start_time": "2022-09-02T06:44:19.343817",
     "status": "completed"
    },
    "tags": []
   },
   "outputs": [],
   "source": [
    "#Handling missing values via imputation\n",
    "#df2.iloc[:,:] = my_imputer.fit_transform(df2.iloc[:,:])"
   ]
  },
  {
   "cell_type": "code",
   "execution_count": 25,
   "id": "eae87ade",
   "metadata": {
    "execution": {
     "iopub.execute_input": "2022-09-02T06:44:19.390061Z",
     "iopub.status.busy": "2022-09-02T06:44:19.389657Z",
     "iopub.status.idle": "2022-09-02T06:44:23.669206Z",
     "shell.execute_reply": "2022-09-02T06:44:23.667904Z"
    },
    "papermill": {
     "duration": 4.296421,
     "end_time": "2022-09-02T06:44:23.672491",
     "exception": false,
     "start_time": "2022-09-02T06:44:19.376070",
     "status": "completed"
    },
    "tags": []
   },
   "outputs": [
    {
     "name": "stdout",
     "output_type": "stream",
     "text": [
      "(11363762, 30) (924621, 28)\n",
      "Columns left with NaN:\n"
     ]
    }
   ],
   "source": [
    "#using only most recent transaction from each customer\n",
    "#Does this make sense for test data??\n",
    "temp = df2.shape\n",
    "df2=df2.set_index(['customer_ID'])\n",
    "df2=df2.ffill()\n",
    "df2=df2.bfill()\n",
    "df2=df2.reset_index()\n",
    "\n",
    "df2=df2.groupby('customer_ID').tail(1)\n",
    "df2=df2.set_index(['customer_ID'])\n",
    "\n",
    "#Drop date column since it is no longer useful\n",
    "df2.drop(['S_2'],axis=1,inplace=True)\n",
    "\n",
    "print(temp, df2.shape)\n",
    "\n",
    "#inspecting NaN\n",
    "print('Columns left with NaN:')\n",
    "for i in range(len(df2.columns)):\n",
    "    if (df2.iloc[:,i].isnull().sum()/len(df2) > 0):\n",
    "        print(df2.columns[i], round(df2.iloc[:,i].isnull().sum()/len(df2),2))"
   ]
  },
  {
   "cell_type": "code",
   "execution_count": 26,
   "id": "03c5d5a6",
   "metadata": {
    "execution": {
     "iopub.execute_input": "2022-09-02T06:44:23.699417Z",
     "iopub.status.busy": "2022-09-02T06:44:23.698353Z",
     "iopub.status.idle": "2022-09-02T06:44:24.288098Z",
     "shell.execute_reply": "2022-09-02T06:44:24.287089Z"
    },
    "papermill": {
     "duration": 0.605847,
     "end_time": "2022-09-02T06:44:24.290804",
     "exception": false,
     "start_time": "2022-09-02T06:44:23.684957",
     "status": "completed"
    },
    "tags": []
   },
   "outputs": [],
   "source": [
    "#one hot encoding\n",
    "df2 = pd.get_dummies(df2)"
   ]
  },
  {
   "cell_type": "code",
   "execution_count": 27,
   "id": "7c2ff017",
   "metadata": {
    "execution": {
     "iopub.execute_input": "2022-09-02T06:44:24.317894Z",
     "iopub.status.busy": "2022-09-02T06:44:24.316945Z",
     "iopub.status.idle": "2022-09-02T06:44:27.583027Z",
     "shell.execute_reply": "2022-09-02T06:44:27.581616Z"
    },
    "papermill": {
     "duration": 3.282124,
     "end_time": "2022-09-02T06:44:27.585406",
     "exception": false,
     "start_time": "2022-09-02T06:44:24.303282",
     "status": "completed"
    },
    "tags": []
   },
   "outputs": [
    {
     "name": "stdout",
     "output_type": "stream",
     "text": [
      "[0 0 0 ... 0 1 0]\n",
      "[0 0 0 ... 0 1 0] 192266\n"
     ]
    }
   ],
   "source": [
    "from sklearn import preprocessing\n",
    "\n",
    "X2 = df2.iloc[:, :].values.reshape(-1, len(df2.columns))\n",
    "scaler = preprocessing.StandardScaler().fit(X2)\n",
    "X2 = scaler.transform(X2)\n",
    "\n",
    "\n",
    "Y_pred2 = log.predict(X2)\n",
    "print(Y_pred2)\n",
    "\n",
    "df2 = df2.reset_index()\n",
    "\n",
    "final = pd.DataFrame({\"customer_ID\":df2.customer_ID,\"prediction\":Y_pred2})\n",
    "\n",
    "final.to_csv('submission.csv', index=False)\n",
    "print(Y_pred2, np.sum(Y_pred2))\n",
    "\n",
    "#initial score ended as ~50 w/o scaler"
   ]
  },
  {
   "cell_type": "code",
   "execution_count": 28,
   "id": "d09a79a5",
   "metadata": {
    "execution": {
     "iopub.execute_input": "2022-09-02T06:44:27.610985Z",
     "iopub.status.busy": "2022-09-02T06:44:27.610608Z",
     "iopub.status.idle": "2022-09-02T06:44:27.617328Z",
     "shell.execute_reply": "2022-09-02T06:44:27.616235Z"
    },
    "papermill": {
     "duration": 0.022358,
     "end_time": "2022-09-02T06:44:27.619643",
     "exception": false,
     "start_time": "2022-09-02T06:44:27.597285",
     "status": "completed"
    },
    "tags": []
   },
   "outputs": [
    {
     "data": {
      "text/plain": [
       "'Y_pred2 = model.predict_proba(df2)\\nY_pred2 = Y_pred2[:,1]\\ndf2 = df2.reset_index()\\nprint(Y_pred2, np.sum(Y_pred2))\\nfinal = pd.DataFrame({\"customer_ID\":df2.customer_ID,\"prediction\":Y_pred2})\\nprint(final)'"
      ]
     },
     "execution_count": 28,
     "metadata": {},
     "output_type": "execute_result"
    }
   ],
   "source": [
    "\"\"\"Y_pred2 = model.predict_proba(df2)\n",
    "Y_pred2 = Y_pred2[:,1]\n",
    "df2 = df2.reset_index()\n",
    "print(Y_pred2, np.sum(Y_pred2))\n",
    "final = pd.DataFrame({\"customer_ID\":df2.customer_ID,\"prediction\":Y_pred2})\n",
    "print(final)\"\"\""
   ]
  },
  {
   "cell_type": "code",
   "execution_count": 29,
   "id": "46a46ca0",
   "metadata": {
    "execution": {
     "iopub.execute_input": "2022-09-02T06:44:27.646252Z",
     "iopub.status.busy": "2022-09-02T06:44:27.645855Z",
     "iopub.status.idle": "2022-09-02T06:44:30.075934Z",
     "shell.execute_reply": "2022-09-02T06:44:30.074582Z"
    },
    "papermill": {
     "duration": 2.446525,
     "end_time": "2022-09-02T06:44:30.078852",
     "exception": false,
     "start_time": "2022-09-02T06:44:27.632327",
     "status": "completed"
    },
    "tags": []
   },
   "outputs": [
    {
     "name": "stdout",
     "output_type": "stream",
     "text": [
      "                                              customer_ID  prediction\n",
      "0       00000469ba478561f23a92a868bd366de6f6527a684c9a...           0\n",
      "1       00001bf2e77ff879fab36aa4fac689b9ba411dae63ae39...           0\n",
      "2       0000210045da4f81e5f122c6bde5c2a617d03eef67f82c...           0\n",
      "3       00003b41e58ede33b8daf61ab56d9952f17c9ad1c3976c...           0\n",
      "4       00004b22eaeeeb0ec976890c1d9bfc14fd9427e98c4ee9...           1\n",
      "...                                                   ...         ...\n",
      "924616  ffff952c631f2c911b8a2a8ca56ea6e656309a83d2f64c...           0\n",
      "924617  ffffcf5df59e5e0bba2a5ac4578a34e2b5aa64a1546cd3...           0\n",
      "924618  ffffd61f098cc056dbd7d2a21380c4804bbfe60856f475...           0\n",
      "924619  ffffddef1fc3643ea179c93245b68dca0f36941cd83977...           1\n",
      "924620  fffffa7cf7e453e1acc6a1426475d5cb9400859f82ff61...           0\n",
      "\n",
      "[924621 rows x 2 columns]\n"
     ]
    }
   ],
   "source": [
    "final.to_csv('submission.csv', index=False)\n",
    "print(final)"
   ]
  }
 ],
 "metadata": {
  "kernelspec": {
   "display_name": "Python 3",
   "language": "python",
   "name": "python3"
  },
  "language_info": {
   "codemirror_mode": {
    "name": "ipython",
    "version": 3
   },
   "file_extension": ".py",
   "mimetype": "text/x-python",
   "name": "python",
   "nbconvert_exporter": "python",
   "pygments_lexer": "ipython3",
   "version": "3.7.12"
  },
  "papermill": {
   "default_parameters": {},
   "duration": 260.814752,
   "end_time": "2022-09-02T06:44:31.015814",
   "environment_variables": {},
   "exception": null,
   "input_path": "__notebook__.ipynb",
   "output_path": "__notebook__.ipynb",
   "parameters": {},
   "start_time": "2022-09-02T06:40:10.201062",
   "version": "2.3.4"
  }
 },
 "nbformat": 4,
 "nbformat_minor": 5
}
