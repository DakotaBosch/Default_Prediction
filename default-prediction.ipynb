{
 "cells": [
  {
   "cell_type": "code",
   "execution_count": 1,
   "id": "b679d3ed",
   "metadata": {
    "_cell_guid": "b1076dfc-b9ad-4769-8c92-a6c4dae69d19",
    "_uuid": "8f2839f25d086af736a60e9eeb907d3b93b6e0e5",
    "execution": {
     "iopub.execute_input": "2022-08-24T23:27:54.625008Z",
     "iopub.status.busy": "2022-08-24T23:27:54.624532Z",
     "iopub.status.idle": "2022-08-24T23:27:55.908096Z",
     "shell.execute_reply": "2022-08-24T23:27:55.906850Z"
    },
    "papermill": {
     "duration": 1.29427,
     "end_time": "2022-08-24T23:27:55.910085",
     "exception": false,
     "start_time": "2022-08-24T23:27:54.615815",
     "status": "completed"
    },
    "tags": []
   },
   "outputs": [
    {
     "name": "stdout",
     "output_type": "stream",
     "text": [
      "/kaggle/input/amex-default-prediction/sample_submission.csv\n",
      "/kaggle/input/amex-default-prediction/train_data.csv\n",
      "/kaggle/input/amex-default-prediction/test_data.csv\n",
      "/kaggle/input/amex-default-prediction/train_labels.csv\n",
      "/kaggle/input/amex-parquet/test_data.parquet\n",
      "/kaggle/input/amex-parquet/train_data.parquet\n"
     ]
    }
   ],
   "source": [
    "import numpy as np # linear algebra\n",
    "import pandas as pd # data processing, CSV file I/O (e.g. pd.read_csv)\n",
    "import matplotlib.pyplot as plt\n",
    "import seaborn as sns\n",
    "from sklearn.linear_model import LogisticRegression\n",
    "from sklearn.impute import SimpleImputer\n",
    "from sklearn import metrics\n",
    "import gc\n",
    "\n",
    "# Input data files are available in the read-only \"../input/\" directory\n",
    "# For example, running this (by clicking run or pressing Shift+Enter) will list all files under the input directory\n",
    "\n",
    "import os\n",
    "for dirname, _, filenames in os.walk('/kaggle/input'):\n",
    "    for filename in filenames:\n",
    "        print(os.path.join(dirname, filename))\n",
    "\n",
    "# You can write up to 20GB to the current directory (/kaggle/working/) that gets preserved as output when you create a version using \"Save & Run All\" \n",
    "# You can also write temporary files to /kaggle/temp/, but they won't be saved outside of the current session"
   ]
  },
  {
   "cell_type": "code",
   "execution_count": 2,
   "id": "d26c70dd",
   "metadata": {
    "execution": {
     "iopub.execute_input": "2022-08-24T23:27:55.924864Z",
     "iopub.status.busy": "2022-08-24T23:27:55.924513Z",
     "iopub.status.idle": "2022-08-24T23:28:37.260593Z",
     "shell.execute_reply": "2022-08-24T23:28:37.259458Z"
    },
    "papermill": {
     "duration": 41.354965,
     "end_time": "2022-08-24T23:28:37.272086",
     "exception": false,
     "start_time": "2022-08-24T23:27:55.917121",
     "status": "completed"
    },
    "tags": []
   },
   "outputs": [
    {
     "data": {
      "text/html": [
       "<div>\n",
       "<style scoped>\n",
       "    .dataframe tbody tr th:only-of-type {\n",
       "        vertical-align: middle;\n",
       "    }\n",
       "\n",
       "    .dataframe tbody tr th {\n",
       "        vertical-align: top;\n",
       "    }\n",
       "\n",
       "    .dataframe thead th {\n",
       "        text-align: right;\n",
       "    }\n",
       "</style>\n",
       "<table border=\"1\" class=\"dataframe\">\n",
       "  <thead>\n",
       "    <tr style=\"text-align: right;\">\n",
       "      <th></th>\n",
       "      <th>customer_ID</th>\n",
       "      <th>target</th>\n",
       "    </tr>\n",
       "  </thead>\n",
       "  <tbody>\n",
       "    <tr>\n",
       "      <th>0</th>\n",
       "      <td>0000099d6bd597052cdcda90ffabf56573fe9d7c79be5f...</td>\n",
       "      <td>0</td>\n",
       "    </tr>\n",
       "    <tr>\n",
       "      <th>1</th>\n",
       "      <td>00000fd6641609c6ece5454664794f0340ad84dddce9a2...</td>\n",
       "      <td>0</td>\n",
       "    </tr>\n",
       "    <tr>\n",
       "      <th>2</th>\n",
       "      <td>00001b22f846c82c51f6e3958ccd81970162bae8b007e8...</td>\n",
       "      <td>0</td>\n",
       "    </tr>\n",
       "    <tr>\n",
       "      <th>3</th>\n",
       "      <td>000041bdba6ecadd89a52d11886e8eaaec9325906c9723...</td>\n",
       "      <td>0</td>\n",
       "    </tr>\n",
       "    <tr>\n",
       "      <th>4</th>\n",
       "      <td>00007889e4fcd2614b6cbe7f8f3d2e5c728eca32d9eb8a...</td>\n",
       "      <td>0</td>\n",
       "    </tr>\n",
       "  </tbody>\n",
       "</table>\n",
       "</div>"
      ],
      "text/plain": [
       "                                         customer_ID  target\n",
       "0  0000099d6bd597052cdcda90ffabf56573fe9d7c79be5f...       0\n",
       "1  00000fd6641609c6ece5454664794f0340ad84dddce9a2...       0\n",
       "2  00001b22f846c82c51f6e3958ccd81970162bae8b007e8...       0\n",
       "3  000041bdba6ecadd89a52d11886e8eaaec9325906c9723...       0\n",
       "4  00007889e4fcd2614b6cbe7f8f3d2e5c728eca32d9eb8a...       0"
      ]
     },
     "execution_count": 2,
     "metadata": {},
     "output_type": "execute_result"
    }
   ],
   "source": [
    "df1=pd.read_parquet('/kaggle/input/amex-parquet/train_data.parquet')\n",
    "df1.head()\n",
    "df1.shape\n",
    "df_label = pd.read_csv('/kaggle/input/amex-default-prediction/train_labels.csv')\n",
    "df_label.head()"
   ]
  },
  {
   "cell_type": "code",
   "execution_count": 3,
   "id": "0a1df448",
   "metadata": {
    "execution": {
     "iopub.execute_input": "2022-08-24T23:28:37.287874Z",
     "iopub.status.busy": "2022-08-24T23:28:37.287550Z",
     "iopub.status.idle": "2022-08-24T23:28:37.315764Z",
     "shell.execute_reply": "2022-08-24T23:28:37.315140Z"
    },
    "papermill": {
     "duration": 0.03928,
     "end_time": "2022-08-24T23:28:37.317664",
     "exception": false,
     "start_time": "2022-08-24T23:28:37.278384",
     "status": "completed"
    },
    "tags": []
   },
   "outputs": [
    {
     "data": {
      "text/html": [
       "<div>\n",
       "<style scoped>\n",
       "    .dataframe tbody tr th:only-of-type {\n",
       "        vertical-align: middle;\n",
       "    }\n",
       "\n",
       "    .dataframe tbody tr th {\n",
       "        vertical-align: top;\n",
       "    }\n",
       "\n",
       "    .dataframe thead th {\n",
       "        text-align: right;\n",
       "    }\n",
       "</style>\n",
       "<table border=\"1\" class=\"dataframe\">\n",
       "  <thead>\n",
       "    <tr style=\"text-align: right;\">\n",
       "      <th></th>\n",
       "      <th>customer_ID</th>\n",
       "      <th>S_2</th>\n",
       "      <th>P_2</th>\n",
       "      <th>D_39</th>\n",
       "      <th>B_1</th>\n",
       "      <th>B_2</th>\n",
       "      <th>R_1</th>\n",
       "      <th>S_3</th>\n",
       "      <th>D_41</th>\n",
       "      <th>B_3</th>\n",
       "      <th>...</th>\n",
       "      <th>D_137</th>\n",
       "      <th>D_138</th>\n",
       "      <th>D_139</th>\n",
       "      <th>D_140</th>\n",
       "      <th>D_141</th>\n",
       "      <th>D_142</th>\n",
       "      <th>D_143</th>\n",
       "      <th>D_144</th>\n",
       "      <th>D_145</th>\n",
       "      <th>target</th>\n",
       "    </tr>\n",
       "  </thead>\n",
       "  <tbody>\n",
       "    <tr>\n",
       "      <th>0</th>\n",
       "      <td>0000099d6bd597052cdcda90ffabf56573fe9d7c79be5f...</td>\n",
       "      <td>2017-03-09</td>\n",
       "      <td>0.938469</td>\n",
       "      <td>0.001733</td>\n",
       "      <td>0.008724</td>\n",
       "      <td>1.006838</td>\n",
       "      <td>0.009228</td>\n",
       "      <td>0.124035</td>\n",
       "      <td>0.008771</td>\n",
       "      <td>0.004709</td>\n",
       "      <td>...</td>\n",
       "      <td>NaN</td>\n",
       "      <td>NaN</td>\n",
       "      <td>0.002427</td>\n",
       "      <td>0.003706</td>\n",
       "      <td>0.003818</td>\n",
       "      <td>NaN</td>\n",
       "      <td>0.000569</td>\n",
       "      <td>0.000610</td>\n",
       "      <td>0.002674</td>\n",
       "      <td>0</td>\n",
       "    </tr>\n",
       "    <tr>\n",
       "      <th>1</th>\n",
       "      <td>0000099d6bd597052cdcda90ffabf56573fe9d7c79be5f...</td>\n",
       "      <td>2017-04-07</td>\n",
       "      <td>0.936665</td>\n",
       "      <td>0.005775</td>\n",
       "      <td>0.004923</td>\n",
       "      <td>1.000653</td>\n",
       "      <td>0.006151</td>\n",
       "      <td>0.126750</td>\n",
       "      <td>0.000798</td>\n",
       "      <td>0.002714</td>\n",
       "      <td>...</td>\n",
       "      <td>NaN</td>\n",
       "      <td>NaN</td>\n",
       "      <td>0.003954</td>\n",
       "      <td>0.003167</td>\n",
       "      <td>0.005032</td>\n",
       "      <td>NaN</td>\n",
       "      <td>0.009576</td>\n",
       "      <td>0.005492</td>\n",
       "      <td>0.009217</td>\n",
       "      <td>0</td>\n",
       "    </tr>\n",
       "    <tr>\n",
       "      <th>2</th>\n",
       "      <td>0000099d6bd597052cdcda90ffabf56573fe9d7c79be5f...</td>\n",
       "      <td>2017-05-28</td>\n",
       "      <td>0.954180</td>\n",
       "      <td>0.091505</td>\n",
       "      <td>0.021655</td>\n",
       "      <td>1.009672</td>\n",
       "      <td>0.006815</td>\n",
       "      <td>0.123977</td>\n",
       "      <td>0.007598</td>\n",
       "      <td>0.009423</td>\n",
       "      <td>...</td>\n",
       "      <td>NaN</td>\n",
       "      <td>NaN</td>\n",
       "      <td>0.003269</td>\n",
       "      <td>0.007329</td>\n",
       "      <td>0.000427</td>\n",
       "      <td>NaN</td>\n",
       "      <td>0.003429</td>\n",
       "      <td>0.006986</td>\n",
       "      <td>0.002603</td>\n",
       "      <td>0</td>\n",
       "    </tr>\n",
       "    <tr>\n",
       "      <th>3</th>\n",
       "      <td>0000099d6bd597052cdcda90ffabf56573fe9d7c79be5f...</td>\n",
       "      <td>2017-06-13</td>\n",
       "      <td>0.960384</td>\n",
       "      <td>0.002455</td>\n",
       "      <td>0.013683</td>\n",
       "      <td>1.002700</td>\n",
       "      <td>0.001373</td>\n",
       "      <td>0.117169</td>\n",
       "      <td>0.000685</td>\n",
       "      <td>0.005531</td>\n",
       "      <td>...</td>\n",
       "      <td>NaN</td>\n",
       "      <td>NaN</td>\n",
       "      <td>0.006117</td>\n",
       "      <td>0.004516</td>\n",
       "      <td>0.003200</td>\n",
       "      <td>NaN</td>\n",
       "      <td>0.008419</td>\n",
       "      <td>0.006527</td>\n",
       "      <td>0.009600</td>\n",
       "      <td>0</td>\n",
       "    </tr>\n",
       "    <tr>\n",
       "      <th>4</th>\n",
       "      <td>0000099d6bd597052cdcda90ffabf56573fe9d7c79be5f...</td>\n",
       "      <td>2017-07-16</td>\n",
       "      <td>0.947248</td>\n",
       "      <td>0.002483</td>\n",
       "      <td>0.015193</td>\n",
       "      <td>1.000727</td>\n",
       "      <td>0.007605</td>\n",
       "      <td>0.117325</td>\n",
       "      <td>0.004653</td>\n",
       "      <td>0.009312</td>\n",
       "      <td>...</td>\n",
       "      <td>NaN</td>\n",
       "      <td>NaN</td>\n",
       "      <td>0.003671</td>\n",
       "      <td>0.004946</td>\n",
       "      <td>0.008889</td>\n",
       "      <td>NaN</td>\n",
       "      <td>0.001670</td>\n",
       "      <td>0.008126</td>\n",
       "      <td>0.009827</td>\n",
       "      <td>0</td>\n",
       "    </tr>\n",
       "  </tbody>\n",
       "</table>\n",
       "<p>5 rows × 191 columns</p>\n",
       "</div>"
      ],
      "text/plain": [
       "                                         customer_ID         S_2       P_2  \\\n",
       "0  0000099d6bd597052cdcda90ffabf56573fe9d7c79be5f...  2017-03-09  0.938469   \n",
       "1  0000099d6bd597052cdcda90ffabf56573fe9d7c79be5f...  2017-04-07  0.936665   \n",
       "2  0000099d6bd597052cdcda90ffabf56573fe9d7c79be5f...  2017-05-28  0.954180   \n",
       "3  0000099d6bd597052cdcda90ffabf56573fe9d7c79be5f...  2017-06-13  0.960384   \n",
       "4  0000099d6bd597052cdcda90ffabf56573fe9d7c79be5f...  2017-07-16  0.947248   \n",
       "\n",
       "       D_39       B_1       B_2       R_1       S_3      D_41       B_3  ...  \\\n",
       "0  0.001733  0.008724  1.006838  0.009228  0.124035  0.008771  0.004709  ...   \n",
       "1  0.005775  0.004923  1.000653  0.006151  0.126750  0.000798  0.002714  ...   \n",
       "2  0.091505  0.021655  1.009672  0.006815  0.123977  0.007598  0.009423  ...   \n",
       "3  0.002455  0.013683  1.002700  0.001373  0.117169  0.000685  0.005531  ...   \n",
       "4  0.002483  0.015193  1.000727  0.007605  0.117325  0.004653  0.009312  ...   \n",
       "\n",
       "   D_137  D_138     D_139     D_140     D_141  D_142     D_143     D_144  \\\n",
       "0    NaN    NaN  0.002427  0.003706  0.003818    NaN  0.000569  0.000610   \n",
       "1    NaN    NaN  0.003954  0.003167  0.005032    NaN  0.009576  0.005492   \n",
       "2    NaN    NaN  0.003269  0.007329  0.000427    NaN  0.003429  0.006986   \n",
       "3    NaN    NaN  0.006117  0.004516  0.003200    NaN  0.008419  0.006527   \n",
       "4    NaN    NaN  0.003671  0.004946  0.008889    NaN  0.001670  0.008126   \n",
       "\n",
       "      D_145  target  \n",
       "0  0.002674       0  \n",
       "1  0.009217       0  \n",
       "2  0.002603       0  \n",
       "3  0.009600       0  \n",
       "4  0.009827       0  \n",
       "\n",
       "[5 rows x 191 columns]"
      ]
     },
     "execution_count": 3,
     "metadata": {},
     "output_type": "execute_result"
    }
   ],
   "source": [
    "df1.head()"
   ]
  },
  {
   "cell_type": "code",
   "execution_count": 4,
   "id": "9007d038",
   "metadata": {
    "execution": {
     "iopub.execute_input": "2022-08-24T23:28:37.336269Z",
     "iopub.status.busy": "2022-08-24T23:28:37.335369Z",
     "iopub.status.idle": "2022-08-24T23:28:37.585071Z",
     "shell.execute_reply": "2022-08-24T23:28:37.583234Z"
    },
    "papermill": {
     "duration": 0.260044,
     "end_time": "2022-08-24T23:28:37.587168",
     "exception": false,
     "start_time": "2022-08-24T23:28:37.327124",
     "status": "completed"
    },
    "tags": []
   },
   "outputs": [
    {
     "name": "stdout",
     "output_type": "stream",
     "text": [
      "float32    185\n",
      "object       4\n",
      "int64        2\n",
      "dtype: int64\n"
     ]
    },
    {
     "data": {
      "text/plain": [
       "['customer_ID', 'S_2', 'D_63', 'D_64']"
      ]
     },
     "execution_count": 4,
     "metadata": {},
     "output_type": "execute_result"
    }
   ],
   "source": [
    "#checking out data types\n",
    "print(df1.dtypes.value_counts())\n",
    "list(df1.select_dtypes(['object']).columns)"
   ]
  },
  {
   "cell_type": "code",
   "execution_count": 5,
   "id": "bd70c887",
   "metadata": {
    "execution": {
     "iopub.execute_input": "2022-08-24T23:28:37.603598Z",
     "iopub.status.busy": "2022-08-24T23:28:37.603263Z",
     "iopub.status.idle": "2022-08-24T23:28:37.607326Z",
     "shell.execute_reply": "2022-08-24T23:28:37.606158Z"
    },
    "papermill": {
     "duration": 0.01429,
     "end_time": "2022-08-24T23:28:37.609179",
     "exception": false,
     "start_time": "2022-08-24T23:28:37.594889",
     "status": "completed"
    },
    "tags": []
   },
   "outputs": [],
   "source": [
    "#visualizing columns\n",
    "\n",
    "#hist = df1.hist(bins=10, figsize = (40,200), layout=(-1,4) )"
   ]
  },
  {
   "cell_type": "code",
   "execution_count": 6,
   "id": "61741703",
   "metadata": {
    "execution": {
     "iopub.execute_input": "2022-08-24T23:28:37.627442Z",
     "iopub.status.busy": "2022-08-24T23:28:37.627071Z",
     "iopub.status.idle": "2022-08-24T23:28:42.641962Z",
     "shell.execute_reply": "2022-08-24T23:28:42.641088Z"
    },
    "papermill": {
     "duration": 5.027212,
     "end_time": "2022-08-24T23:28:42.643784",
     "exception": false,
     "start_time": "2022-08-24T23:28:37.616572",
     "status": "completed"
    },
    "tags": []
   },
   "outputs": [
    {
     "name": "stdout",
     "output_type": "stream",
     "text": [
      "191\n",
      "S_3 0.18\n",
      "D_42 0.86\n",
      "D_43 0.3\n",
      "D_46 0.22\n",
      "D_48 0.13\n",
      "D_49 0.9\n",
      "D_50 0.57\n",
      "D_53 0.74\n",
      "S_7 0.18\n",
      "D_56 0.54\n",
      "S_9 0.53\n",
      "D_61 0.11\n",
      "D_62 0.14\n",
      "B_17 0.57\n",
      "D_66 0.89\n",
      "D_73 0.99\n",
      "D_76 0.89\n",
      "D_77 0.45\n",
      "R_9 0.94\n",
      "D_82 0.73\n",
      "B_29 0.93\n",
      "D_87 1.0\n",
      "D_88 1.0\n",
      "D_105 0.55\n",
      "D_106 0.9\n",
      "R_26 0.89\n",
      "D_108 0.99\n",
      "D_110 0.99\n",
      "D_111 0.99\n",
      "B_39 0.99\n",
      "S_27 0.25\n",
      "B_42 0.99\n",
      "D_132 0.9\n",
      "D_134 0.96\n",
      "D_135 0.96\n",
      "D_136 0.96\n",
      "D_137 0.96\n",
      "D_138 0.96\n",
      "D_142 0.83\n",
      "173\n"
     ]
    }
   ],
   "source": [
    "print(df1.shape[1])\n",
    "#inspecting NaN\n",
    "for i in range(len(df1.columns)):\n",
    "    if (df1.iloc[:,i].isnull().sum()/len(df1) > 0.1):\n",
    "        print(df1.columns[i], round(df1.iloc[:,i].isnull().sum()/len(df1),2))\n",
    "\n",
    "#drop columns with high freq of NaN\n",
    "columns_to_drop = [column for column in df1.columns if df1[column].isnull().sum()/len(df1) >= 0.9]\n",
    "df1.drop(columns_to_drop, axis=1, inplace=True)\n",
    "print(df1.shape[1])"
   ]
  },
  {
   "cell_type": "code",
   "execution_count": 7,
   "id": "a0f920c9",
   "metadata": {
    "execution": {
     "iopub.execute_input": "2022-08-24T23:28:42.662533Z",
     "iopub.status.busy": "2022-08-24T23:28:42.661232Z",
     "iopub.status.idle": "2022-08-24T23:28:58.643435Z",
     "shell.execute_reply": "2022-08-24T23:28:58.642778Z"
    },
    "papermill": {
     "duration": 15.993429,
     "end_time": "2022-08-24T23:28:58.645258",
     "exception": false,
     "start_time": "2022-08-24T23:28:42.651829",
     "status": "completed"
    },
    "tags": []
   },
   "outputs": [
    {
     "name": "stdout",
     "output_type": "stream",
     "text": [
      "(5531451, 173) (458913, 171)\n",
      "Columns left with NaN:\n"
     ]
    }
   ],
   "source": [
    "#using only most recent transaction from each customer\n",
    "temp = df1.shape\n",
    "df1=df1.set_index(['customer_ID'])\n",
    "df1=df1.ffill()\n",
    "df1=df1.bfill()\n",
    "df1=df1.reset_index()\n",
    "\n",
    "df1=df1.groupby('customer_ID').tail(1)\n",
    "df1=df1.set_index(['customer_ID'])\n",
    "\n",
    "#Drop date column since it is no longer useful\n",
    "df1.drop(['S_2'],axis=1,inplace=True)\n",
    "\n",
    "print(temp, df1.shape)\n",
    "\n",
    "#inspecting NaN\n",
    "print('Columns left with NaN:')\n",
    "for i in range(len(df1.columns)):\n",
    "    if (df1.iloc[:,i].isnull().sum()/len(df1) > 0):\n",
    "        print(df1.columns[i], round(df1.iloc[:,i].isnull().sum()/len(df1),2))"
   ]
  },
  {
   "cell_type": "code",
   "execution_count": 8,
   "id": "cf6097c5",
   "metadata": {
    "execution": {
     "iopub.execute_input": "2022-08-24T23:28:58.662451Z",
     "iopub.status.busy": "2022-08-24T23:28:58.661388Z",
     "iopub.status.idle": "2022-08-24T23:28:58.724910Z",
     "shell.execute_reply": "2022-08-24T23:28:58.723826Z"
    },
    "papermill": {
     "duration": 0.074333,
     "end_time": "2022-08-24T23:28:58.727190",
     "exception": false,
     "start_time": "2022-08-24T23:28:58.652857",
     "status": "completed"
    },
    "tags": []
   },
   "outputs": [],
   "source": [
    "df1.head()\n",
    "df1 = df1.drop(['target'], axis=1)\n",
    "keep = df1.columns"
   ]
  },
  {
   "cell_type": "code",
   "execution_count": 9,
   "id": "65ff560c",
   "metadata": {
    "execution": {
     "iopub.execute_input": "2022-08-24T23:28:58.745714Z",
     "iopub.status.busy": "2022-08-24T23:28:58.745169Z",
     "iopub.status.idle": "2022-08-24T23:29:23.554393Z",
     "shell.execute_reply": "2022-08-24T23:29:23.552983Z"
    },
    "papermill": {
     "duration": 24.821326,
     "end_time": "2022-08-24T23:29:23.556362",
     "exception": false,
     "start_time": "2022-08-24T23:28:58.735036",
     "status": "completed"
    },
    "tags": []
   },
   "outputs": [
    {
     "name": "stdout",
     "output_type": "stream",
     "text": [
      "(458913, 170)\n",
      "(458913, 162)\n"
     ]
    },
    {
     "name": "stderr",
     "output_type": "stream",
     "text": [
      "/opt/conda/lib/python3.7/site-packages/ipykernel_launcher.py:6: DeprecationWarning: `np.bool` is a deprecated alias for the builtin `bool`. To silence this warning, use `bool` by itself. Doing this will not modify any behavior and is safe. If you specifically wanted the numpy scalar type, use `np.bool_` here.\n",
      "Deprecated in NumPy 1.20; for more details and guidance: https://numpy.org/devdocs/release/1.20.0-notes.html#deprecations\n",
      "  \n"
     ]
    }
   ],
   "source": [
    "print(df1.shape)\n",
    "# Create correlation matrix\n",
    "corr_matrix = df1.corr().abs()\n",
    "\n",
    "# Select upper triangle of correlation matrix\n",
    "upper = corr_matrix.where(np.triu(np.ones(corr_matrix.shape), k=1).astype(np.bool))\n",
    "\n",
    "# Find features with correlation greater than 0.9\n",
    "to_drop = [column for column in upper.columns if any(upper[column] > 0.98)]\n",
    "\n",
    "# Drop features w/ high correl\n",
    "df1.drop(to_drop, axis=1, inplace=True)\n",
    "\n",
    "print(df1.shape)\n"
   ]
  },
  {
   "cell_type": "code",
   "execution_count": 10,
   "id": "ad7ef269",
   "metadata": {
    "execution": {
     "iopub.execute_input": "2022-08-24T23:29:23.574011Z",
     "iopub.status.busy": "2022-08-24T23:29:23.573669Z",
     "iopub.status.idle": "2022-08-24T23:29:24.251775Z",
     "shell.execute_reply": "2022-08-24T23:29:24.250724Z"
    },
    "papermill": {
     "duration": 0.689809,
     "end_time": "2022-08-24T23:29:24.254077",
     "exception": false,
     "start_time": "2022-08-24T23:29:23.564268",
     "status": "completed"
    },
    "tags": []
   },
   "outputs": [
    {
     "data": {
      "text/plain": [
       "61"
      ]
     },
     "execution_count": 10,
     "metadata": {},
     "output_type": "execute_result"
    }
   ],
   "source": [
    "#Removing low variance columns in interest of ram\n",
    "from sklearn.feature_selection import VarianceThreshold\n",
    "from itertools import compress\n",
    "\n",
    "temp = df1.drop(['D_63', 'D_64'], axis=1)\n",
    "\n",
    "# Initialize and fit the method\n",
    "vt = VarianceThreshold(threshold = float(0.1))\n",
    "vt.fit(temp)\n",
    "\n",
    "#columns with sufficient variance\n",
    "keep = list(compress(temp.columns, vt.get_support()))\n",
    "\n",
    "keep.append('D_63')\n",
    "keep.append('D_64')\n",
    "\n",
    "df1=df1[keep]\n",
    "\n",
    "keep.append('customer_ID')\n",
    "keep.append('S_2')\n",
    "len(keep)\n"
   ]
  },
  {
   "cell_type": "code",
   "execution_count": 11,
   "id": "3773d08f",
   "metadata": {
    "execution": {
     "iopub.execute_input": "2022-08-24T23:29:24.270412Z",
     "iopub.status.busy": "2022-08-24T23:29:24.270097Z",
     "iopub.status.idle": "2022-08-24T23:29:24.275746Z",
     "shell.execute_reply": "2022-08-24T23:29:24.274717Z"
    },
    "papermill": {
     "duration": 0.015663,
     "end_time": "2022-08-24T23:29:24.277471",
     "exception": false,
     "start_time": "2022-08-24T23:29:24.261808",
     "status": "completed"
    },
    "tags": []
   },
   "outputs": [
    {
     "data": {
      "text/plain": [
       "'\"\\n#removing outliers\\nprint(df1.shape)\\n\\ndf1 = df1[df1[\\'R_6\\'] < df1[\\'R_6\\'].quantile(0.97)]\\nprint(df1[\\'R_6\\'].max())\\nprint(df1.shape)'"
      ]
     },
     "execution_count": 11,
     "metadata": {},
     "output_type": "execute_result"
    }
   ],
   "source": [
    "\"\"\"\"\n",
    "#removing outliers\n",
    "print(df1.shape)\n",
    "\n",
    "df1 = df1[df1['R_6'] < df1['R_6'].quantile(0.97)]\n",
    "print(df1['R_6'].max())\n",
    "print(df1.shape)\"\"\""
   ]
  },
  {
   "cell_type": "code",
   "execution_count": 12,
   "id": "dccd768a",
   "metadata": {
    "execution": {
     "iopub.execute_input": "2022-08-24T23:29:24.295562Z",
     "iopub.status.busy": "2022-08-24T23:29:24.295049Z",
     "iopub.status.idle": "2022-08-24T23:29:24.300398Z",
     "shell.execute_reply": "2022-08-24T23:29:24.299722Z"
    },
    "papermill": {
     "duration": 0.016436,
     "end_time": "2022-08-24T23:29:24.301912",
     "exception": false,
     "start_time": "2022-08-24T23:29:24.285476",
     "status": "completed"
    },
    "tags": []
   },
   "outputs": [
    {
     "data": {
      "text/plain": [
       "\"#df1.iloc[:100000,7].value_counts()\\nprint(df1.iloc[:,1].head())\\n\\n\\n#What type of variable for dates\\ndf1['S_2'] = pd.to_datetime(df1['S_2'])\\ndf1['S_2'] = pd.to_numeric(df1['S_2'])\\n\\n#normalizing\\n#df1['S_2'] = (df1['S_2']-df1['S_2'].min())/(df1['S_2'].max() - df1['S_2'].min())\\nprint(df1['S_2'].head())\\n\\ndf1['S_2'] = pd.to_timedelta(df1['S_2'])\\nprint(df1.iloc[:,1].dt.total_seconds())\\n\""
      ]
     },
     "execution_count": 12,
     "metadata": {},
     "output_type": "execute_result"
    }
   ],
   "source": [
    "\"\"\"#df1.iloc[:100000,7].value_counts()\n",
    "print(df1.iloc[:,1].head())\n",
    "\n",
    "\n",
    "#What type of variable for dates\n",
    "df1['S_2'] = pd.to_datetime(df1['S_2'])\n",
    "df1['S_2'] = pd.to_numeric(df1['S_2'])\n",
    "\n",
    "#normalizing\n",
    "#df1['S_2'] = (df1['S_2']-df1['S_2'].min())/(df1['S_2'].max() - df1['S_2'].min())\n",
    "print(df1['S_2'].head())\n",
    "\n",
    "df1['S_2'] = pd.to_timedelta(df1['S_2'])\n",
    "print(df1.iloc[:,1].dt.total_seconds())\n",
    "\"\"\""
   ]
  },
  {
   "cell_type": "code",
   "execution_count": 13,
   "id": "af2557cf",
   "metadata": {
    "execution": {
     "iopub.execute_input": "2022-08-24T23:29:24.320589Z",
     "iopub.status.busy": "2022-08-24T23:29:24.319794Z",
     "iopub.status.idle": "2022-08-24T23:29:24.575499Z",
     "shell.execute_reply": "2022-08-24T23:29:24.573684Z"
    },
    "papermill": {
     "duration": 0.267316,
     "end_time": "2022-08-24T23:29:24.577571",
     "exception": false,
     "start_time": "2022-08-24T23:29:24.310255",
     "status": "completed"
    },
    "tags": []
   },
   "outputs": [
    {
     "name": "stdout",
     "output_type": "stream",
     "text": [
      "(458913, 67)\n",
      "Index(['D_39', 'B_2', 'B_5', 'D_48', 'B_6', 'B_8', 'D_50', 'B_10', 'S_5',\n",
      "       'S_6', 'B_12', 'B_13', 'R_5', 'D_60', 'D_61', 'D_65', 'B_16', 'B_17',\n",
      "       'B_18', 'B_20', 'D_68', 'R_6', 'B_21', 'D_69', 'D_71', 'P_4', 'B_24',\n",
      "       'R_7', 'B_26', 'D_78', 'R_8', 'S_16', 'R_10', 'D_81', 'R_14', 'D_84',\n",
      "       'B_30', 'R_20', 'B_33', 'S_22', 'S_23', 'S_24', 'S_26', 'D_103', 'R_27',\n",
      "       'B_38', 'D_112', 'B_40', 'S_27', 'D_114', 'D_117', 'D_120', 'D_126',\n",
      "       'D_128', 'D_129', 'D_130', 'D_139', 'D_63_CL', 'D_63_CO', 'D_63_CR',\n",
      "       'D_63_XL', 'D_63_XM', 'D_63_XZ', 'D_64_-1', 'D_64_O', 'D_64_R',\n",
      "       'D_64_U'],\n",
      "      dtype='object')\n",
      "1865\n",
      "(458913, 66)\n"
     ]
    }
   ],
   "source": [
    "#Hot ones\n",
    "df1 = pd.get_dummies(df1)\n",
    "print(df1.shape)\n",
    "print(df1.columns)\n",
    "print(df1['D_64_-1'].sum())\n",
    "df1.drop(['D_64_-1'], axis=1, inplace = True)\n",
    "print(df1.shape)"
   ]
  },
  {
   "cell_type": "code",
   "execution_count": 14,
   "id": "7d6e9f85",
   "metadata": {
    "execution": {
     "iopub.execute_input": "2022-08-24T23:29:24.595696Z",
     "iopub.status.busy": "2022-08-24T23:29:24.595345Z",
     "iopub.status.idle": "2022-08-24T23:29:24.600104Z",
     "shell.execute_reply": "2022-08-24T23:29:24.599022Z"
    },
    "papermill": {
     "duration": 0.016133,
     "end_time": "2022-08-24T23:29:24.602042",
     "exception": false,
     "start_time": "2022-08-24T23:29:24.585909",
     "status": "completed"
    },
    "tags": []
   },
   "outputs": [],
   "source": [
    "#Handling missing values\n",
    "#my_imputer = SimpleImputer()\n",
    "#df1.iloc[:,:] = my_imputer.fit_transform(df1.iloc[:,:])"
   ]
  },
  {
   "cell_type": "code",
   "execution_count": 15,
   "id": "f158f40c",
   "metadata": {
    "execution": {
     "iopub.execute_input": "2022-08-24T23:29:24.620341Z",
     "iopub.status.busy": "2022-08-24T23:29:24.619355Z",
     "iopub.status.idle": "2022-08-24T23:29:24.646490Z",
     "shell.execute_reply": "2022-08-24T23:29:24.645489Z"
    },
    "papermill": {
     "duration": 0.038532,
     "end_time": "2022-08-24T23:29:24.648719",
     "exception": false,
     "start_time": "2022-08-24T23:29:24.610187",
     "status": "completed"
    },
    "tags": []
   },
   "outputs": [],
   "source": [
    "X = df1.iloc[:, :].values.reshape(-1, len(df1.columns))\n",
    "Y = df_label.iloc[:len(df1), 1].values.reshape(-1, 1)"
   ]
  },
  {
   "cell_type": "code",
   "execution_count": 16,
   "id": "38297a55",
   "metadata": {
    "execution": {
     "iopub.execute_input": "2022-08-24T23:29:24.666458Z",
     "iopub.status.busy": "2022-08-24T23:29:24.666086Z",
     "iopub.status.idle": "2022-08-24T23:29:24.673351Z",
     "shell.execute_reply": "2022-08-24T23:29:24.672180Z"
    },
    "papermill": {
     "duration": 0.018524,
     "end_time": "2022-08-24T23:29:24.675561",
     "exception": false,
     "start_time": "2022-08-24T23:29:24.657037",
     "status": "completed"
    },
    "tags": []
   },
   "outputs": [
    {
     "data": {
      "text/plain": [
       "'\\n# create object for the class\\nlog = LogisticRegression()\\nlog.fit(X, Y) \\nY_pred = log.predict(X)\\n\\nprint(Y_pred, np.sum(Y_pred))\\nprint(log.score(X, Y))'"
      ]
     },
     "execution_count": 16,
     "metadata": {},
     "output_type": "execute_result"
    }
   ],
   "source": [
    "\"\"\"\n",
    "# create object for the class\n",
    "log = LogisticRegression()\n",
    "log.fit(X, Y) \n",
    "Y_pred = log.predict(X)\n",
    "\n",
    "print(Y_pred, np.sum(Y_pred))\n",
    "print(log.score(X, Y))\"\"\""
   ]
  },
  {
   "cell_type": "code",
   "execution_count": 17,
   "id": "735d10eb",
   "metadata": {
    "execution": {
     "iopub.execute_input": "2022-08-24T23:29:24.695546Z",
     "iopub.status.busy": "2022-08-24T23:29:24.694570Z",
     "iopub.status.idle": "2022-08-24T23:46:49.132123Z",
     "shell.execute_reply": "2022-08-24T23:46:49.130817Z"
    },
    "papermill": {
     "duration": 1044.458884,
     "end_time": "2022-08-24T23:46:49.142757",
     "exception": false,
     "start_time": "2022-08-24T23:29:24.683873",
     "status": "completed"
    },
    "tags": []
   },
   "outputs": [
    {
     "name": "stderr",
     "output_type": "stream",
     "text": [
      "/opt/conda/lib/python3.7/site-packages/ipykernel_launcher.py:28: DataConversionWarning: A column-vector y was passed when a 1d array was expected. Please change the shape of y to (n_samples,), for example using ravel().\n"
     ]
    },
    {
     "data": {
      "text/plain": [
       "RandomForestClassifier(max_depth=30, max_features='sqrt', min_samples_split=5,\n",
       "                       n_estimators=400, n_jobs=-1)"
      ]
     },
     "execution_count": 17,
     "metadata": {},
     "output_type": "execute_result"
    }
   ],
   "source": [
    "\n",
    "#trying random forest\n",
    "from sklearn.ensemble import RandomForestClassifier\n",
    "from sklearn.model_selection import RandomizedSearchCV, GridSearchCV\n",
    "# Number of trees in random forest\n",
    "n_estimators = [int(x) for x in np.linspace(start = 200, stop = 2000, num = 10)]\n",
    "# Number of features to consider at every split\n",
    "max_features = ['auto', 'sqrt']\n",
    "# Maximum number of levels in tree\n",
    "max_depth = [int(x) for x in np.linspace(10, 110, num = 11)]\n",
    "max_depth.append(None)\n",
    "# Minimum number of samples required to split a node\n",
    "min_samples_split = [2, 5, 10]\n",
    "# Minimum number of samples required at each leaf node\n",
    "min_samples_leaf = [1, 2, 4]\n",
    "# Method of selecting samples for training each tree\n",
    "bootstrap = [True, False]\n",
    "# Create the random grid\n",
    "random_grid = {'n_estimators': n_estimators,\n",
    "               'max_features': max_features,\n",
    "               'max_depth': max_depth,\n",
    "               'min_samples_split': min_samples_split,\n",
    "               'min_samples_leaf': min_samples_leaf,\n",
    "               'bootstrap': bootstrap}\n",
    "\n",
    "model = RandomForestClassifier(n_estimators=400, max_features='sqrt', bootstrap=True, max_depth=30, min_samples_leaf=1, min_samples_split=5, n_jobs=-1)\n",
    "#rf_random = GridSearchCV(estimator = rf, param_grid = random_grid, cv = 3, verbose=1, n_jobs = -1)\n",
    "# Fit the random search model\n",
    "model.fit(X,Y)"
   ]
  },
  {
   "cell_type": "code",
   "execution_count": 18,
   "id": "3ec3a563",
   "metadata": {
    "execution": {
     "iopub.execute_input": "2022-08-24T23:46:49.161455Z",
     "iopub.status.busy": "2022-08-24T23:46:49.161070Z",
     "iopub.status.idle": "2022-08-24T23:47:09.039697Z",
     "shell.execute_reply": "2022-08-24T23:47:09.038208Z"
    },
    "papermill": {
     "duration": 19.89077,
     "end_time": "2022-08-24T23:47:09.041830",
     "exception": false,
     "start_time": "2022-08-24T23:46:49.151060",
     "status": "completed"
    },
    "tags": []
   },
   "outputs": [
    {
     "name": "stdout",
     "output_type": "stream",
     "text": [
      "(458913,) [0.8562955  0.19750902 0.96734985 0.00504604 0.03873386 0.01668921\n",
      " 0.00183149 0.00142054 0.00251112 0.99386728 0.06429461 0.00121021\n",
      " 0.8695235  0.97398054 0.00193382 0.10579885 0.01105685 0.01582317\n",
      " 0.00115204 0.00213373 0.86903947 0.01057956 0.82611905 0.00158142\n",
      " 0.00149418]\n"
     ]
    }
   ],
   "source": [
    "Y_pred = model.predict_proba(X)\n",
    "Y_pred = Y_pred[:,1]\n",
    "print(Y_pred.shape, Y_pred[25:50])"
   ]
  },
  {
   "cell_type": "code",
   "execution_count": 19,
   "id": "e33e2f80",
   "metadata": {
    "execution": {
     "iopub.execute_input": "2022-08-24T23:47:09.059351Z",
     "iopub.status.busy": "2022-08-24T23:47:09.058923Z",
     "iopub.status.idle": "2022-08-24T23:47:09.063392Z",
     "shell.execute_reply": "2022-08-24T23:47:09.062851Z"
    },
    "papermill": {
     "duration": 0.014656,
     "end_time": "2022-08-24T23:47:09.064825",
     "exception": false,
     "start_time": "2022-08-24T23:47:09.050169",
     "status": "completed"
    },
    "tags": []
   },
   "outputs": [
    {
     "data": {
      "text/plain": [
       "\"def evaluate(model, test_features, test_labels):\\n    predictions = model.predict(test_features)\\n    errors = abs(predictions - test_labels)\\n    mape = 100 * np.mean(errors / test_labels)\\n    accuracy = 100 - mape\\n    print('Model Performance')\\n    print('Average Error: {:0.4f} degrees.'.format(np.mean(errors)))\\n    print('Accuracy = {:0.2f}%.'.format(accuracy))\\n    \\naccuracy = evaluate(model, X, Y)\\n\\nprint('Accuracy:{:0.2f}%.'.format( 100 * accuracy))\""
      ]
     },
     "execution_count": 19,
     "metadata": {},
     "output_type": "execute_result"
    }
   ],
   "source": [
    "\"\"\"def evaluate(model, test_features, test_labels):\n",
    "    predictions = model.predict(test_features)\n",
    "    errors = abs(predictions - test_labels)\n",
    "    mape = 100 * np.mean(errors / test_labels)\n",
    "    accuracy = 100 - mape\n",
    "    print('Model Performance')\n",
    "    print('Average Error: {:0.4f} degrees.'.format(np.mean(errors)))\n",
    "    print('Accuracy = {:0.2f}%.'.format(accuracy))\n",
    "    \n",
    "accuracy = evaluate(model, X, Y)\n",
    "\n",
    "print('Accuracy:{:0.2f}%.'.format( 100 * accuracy))\"\"\""
   ]
  },
  {
   "cell_type": "code",
   "execution_count": 20,
   "id": "2083a5f7",
   "metadata": {
    "execution": {
     "iopub.execute_input": "2022-08-24T23:47:09.082143Z",
     "iopub.status.busy": "2022-08-24T23:47:09.081695Z",
     "iopub.status.idle": "2022-08-24T23:47:09.086004Z",
     "shell.execute_reply": "2022-08-24T23:47:09.085458Z"
    },
    "papermill": {
     "duration": 0.014337,
     "end_time": "2022-08-24T23:47:09.087348",
     "exception": false,
     "start_time": "2022-08-24T23:47:09.073011",
     "status": "completed"
    },
    "tags": []
   },
   "outputs": [
    {
     "data": {
      "text/plain": [
       "'\"cm = metrics.confusion_matrix(Y, Y_pred)\\n\\nplt.figure(figsize=(9,9))\\nsns.heatmap(cm, annot=True, fmt=\".3f\", linewidths=.5, square = True, cmap = \\'YlGnBu\\');\\nplt.ylabel(\\'Actual label\\');\\nplt.xlabel(\\'Predicted label\\');\\nall_sample_title = \\'Accuracy Score: {0}\\'.format(round(log.score(X, Y),3))\\nplt.title(all_sample_title, size = 15);\\n\\nprint(\\'Accuracy:\\',round(metrics.accuracy_score(Y, Y_pred),3))\\nmetrics.roc_curve(Y, Y_pred)\\nprint(metrics.roc_auc_score(Y, Y_pred))'"
      ]
     },
     "execution_count": 20,
     "metadata": {},
     "output_type": "execute_result"
    }
   ],
   "source": [
    "\"\"\"\"cm = metrics.confusion_matrix(Y, Y_pred)\n",
    "\n",
    "plt.figure(figsize=(9,9))\n",
    "sns.heatmap(cm, annot=True, fmt=\".3f\", linewidths=.5, square = True, cmap = 'YlGnBu');\n",
    "plt.ylabel('Actual label');\n",
    "plt.xlabel('Predicted label');\n",
    "all_sample_title = 'Accuracy Score: {0}'.format(round(log.score(X, Y),3))\n",
    "plt.title(all_sample_title, size = 15);\n",
    "\n",
    "print('Accuracy:',round(metrics.accuracy_score(Y, Y_pred),3))\n",
    "metrics.roc_curve(Y, Y_pred)\n",
    "print(metrics.roc_auc_score(Y, Y_pred))\"\"\""
   ]
  },
  {
   "cell_type": "code",
   "execution_count": 21,
   "id": "2c06c7d2",
   "metadata": {
    "execution": {
     "iopub.execute_input": "2022-08-24T23:47:09.105702Z",
     "iopub.status.busy": "2022-08-24T23:47:09.105330Z",
     "iopub.status.idle": "2022-08-24T23:47:09.262718Z",
     "shell.execute_reply": "2022-08-24T23:47:09.261852Z"
    },
    "papermill": {
     "duration": 0.168808,
     "end_time": "2022-08-24T23:47:09.264455",
     "exception": false,
     "start_time": "2022-08-24T23:47:09.095647",
     "status": "completed"
    },
    "tags": []
   },
   "outputs": [
    {
     "data": {
      "text/plain": [
       "132"
      ]
     },
     "execution_count": 21,
     "metadata": {},
     "output_type": "execute_result"
    }
   ],
   "source": [
    "#free up ram\n",
    "del df1, df_label\n",
    "gc.collect()"
   ]
  },
  {
   "cell_type": "code",
   "execution_count": 22,
   "id": "af2f9846",
   "metadata": {
    "execution": {
     "iopub.execute_input": "2022-08-24T23:47:09.283505Z",
     "iopub.status.busy": "2022-08-24T23:47:09.283172Z",
     "iopub.status.idle": "2022-08-24T23:47:33.829011Z",
     "shell.execute_reply": "2022-08-24T23:47:33.828036Z"
    },
    "papermill": {
     "duration": 24.557792,
     "end_time": "2022-08-24T23:47:33.831025",
     "exception": false,
     "start_time": "2022-08-24T23:47:09.273233",
     "status": "completed"
    },
    "tags": []
   },
   "outputs": [
    {
     "name": "stdout",
     "output_type": "stream",
     "text": [
      "61\n",
      "(11363762, 61)\n"
     ]
    }
   ],
   "source": [
    "#run prediction on test data\n",
    "\n",
    "print(len(keep))\n",
    "#need to only load some columns due to ram limitations\n",
    "df2=pd.read_parquet('/kaggle/input/amex-parquet/test_data.parquet', columns =keep)\n",
    "print(df2.shape)"
   ]
  },
  {
   "cell_type": "code",
   "execution_count": 23,
   "id": "a4cad85d",
   "metadata": {
    "execution": {
     "iopub.execute_input": "2022-08-24T23:47:33.850207Z",
     "iopub.status.busy": "2022-08-24T23:47:33.849560Z",
     "iopub.status.idle": "2022-08-24T23:47:33.871828Z",
     "shell.execute_reply": "2022-08-24T23:47:33.870704Z"
    },
    "papermill": {
     "duration": 0.03425,
     "end_time": "2022-08-24T23:47:33.874261",
     "exception": false,
     "start_time": "2022-08-24T23:47:33.840011",
     "status": "completed"
    },
    "tags": []
   },
   "outputs": [
    {
     "data": {
      "text/html": [
       "<div>\n",
       "<style scoped>\n",
       "    .dataframe tbody tr th:only-of-type {\n",
       "        vertical-align: middle;\n",
       "    }\n",
       "\n",
       "    .dataframe tbody tr th {\n",
       "        vertical-align: top;\n",
       "    }\n",
       "\n",
       "    .dataframe thead th {\n",
       "        text-align: right;\n",
       "    }\n",
       "</style>\n",
       "<table border=\"1\" class=\"dataframe\">\n",
       "  <thead>\n",
       "    <tr style=\"text-align: right;\">\n",
       "      <th></th>\n",
       "      <th>D_39</th>\n",
       "      <th>B_2</th>\n",
       "      <th>B_5</th>\n",
       "      <th>D_48</th>\n",
       "      <th>B_6</th>\n",
       "      <th>B_8</th>\n",
       "      <th>D_50</th>\n",
       "      <th>B_10</th>\n",
       "      <th>S_5</th>\n",
       "      <th>S_6</th>\n",
       "      <th>...</th>\n",
       "      <th>D_120</th>\n",
       "      <th>D_126</th>\n",
       "      <th>D_128</th>\n",
       "      <th>D_129</th>\n",
       "      <th>D_130</th>\n",
       "      <th>D_139</th>\n",
       "      <th>D_63</th>\n",
       "      <th>D_64</th>\n",
       "      <th>customer_ID</th>\n",
       "      <th>S_2</th>\n",
       "    </tr>\n",
       "  </thead>\n",
       "  <tbody>\n",
       "    <tr>\n",
       "      <th>0</th>\n",
       "      <td>0.001912</td>\n",
       "      <td>0.814497</td>\n",
       "      <td>0.009517</td>\n",
       "      <td>0.626467</td>\n",
       "      <td>0.174591</td>\n",
       "      <td>1.003925</td>\n",
       "      <td>NaN</td>\n",
       "      <td>-0.002919</td>\n",
       "      <td>0.002771</td>\n",
       "      <td>1.006875</td>\n",
       "      <td>...</td>\n",
       "      <td>NaN</td>\n",
       "      <td>0.0</td>\n",
       "      <td>NaN</td>\n",
       "      <td>NaN</td>\n",
       "      <td>NaN</td>\n",
       "      <td>NaN</td>\n",
       "      <td>CR</td>\n",
       "      <td>NaN</td>\n",
       "      <td>00000469ba478561f23a92a868bd366de6f6527a684c9a...</td>\n",
       "      <td>2019-02-19</td>\n",
       "    </tr>\n",
       "    <tr>\n",
       "      <th>1</th>\n",
       "      <td>0.005275</td>\n",
       "      <td>0.810848</td>\n",
       "      <td>0.026313</td>\n",
       "      <td>0.611682</td>\n",
       "      <td>0.177115</td>\n",
       "      <td>1.009301</td>\n",
       "      <td>NaN</td>\n",
       "      <td>0.031222</td>\n",
       "      <td>0.006497</td>\n",
       "      <td>1.005728</td>\n",
       "      <td>...</td>\n",
       "      <td>NaN</td>\n",
       "      <td>0.0</td>\n",
       "      <td>0.008782</td>\n",
       "      <td>0.005579</td>\n",
       "      <td>0.007598</td>\n",
       "      <td>0.000142</td>\n",
       "      <td>CR</td>\n",
       "      <td>NaN</td>\n",
       "      <td>00000469ba478561f23a92a868bd366de6f6527a684c9a...</td>\n",
       "      <td>2019-03-25</td>\n",
       "    </tr>\n",
       "    <tr>\n",
       "      <th>2</th>\n",
       "      <td>0.003326</td>\n",
       "      <td>1.004620</td>\n",
       "      <td>0.060017</td>\n",
       "      <td>0.622228</td>\n",
       "      <td>1.417059</td>\n",
       "      <td>1.004635</td>\n",
       "      <td>NaN</td>\n",
       "      <td>0.035532</td>\n",
       "      <td>0.003407</td>\n",
       "      <td>0.006408</td>\n",
       "      <td>...</td>\n",
       "      <td>NaN</td>\n",
       "      <td>0.0</td>\n",
       "      <td>0.005602</td>\n",
       "      <td>0.009336</td>\n",
       "      <td>0.003608</td>\n",
       "      <td>0.000074</td>\n",
       "      <td>CR</td>\n",
       "      <td>NaN</td>\n",
       "      <td>00000469ba478561f23a92a868bd366de6f6527a684c9a...</td>\n",
       "      <td>2019-04-25</td>\n",
       "    </tr>\n",
       "    <tr>\n",
       "      <th>3</th>\n",
       "      <td>0.009065</td>\n",
       "      <td>0.816549</td>\n",
       "      <td>0.003400</td>\n",
       "      <td>0.615620</td>\n",
       "      <td>0.044620</td>\n",
       "      <td>1.009093</td>\n",
       "      <td>NaN</td>\n",
       "      <td>0.043155</td>\n",
       "      <td>0.007204</td>\n",
       "      <td>0.005841</td>\n",
       "      <td>...</td>\n",
       "      <td>NaN</td>\n",
       "      <td>0.0</td>\n",
       "      <td>0.008690</td>\n",
       "      <td>0.006479</td>\n",
       "      <td>0.006133</td>\n",
       "      <td>0.004743</td>\n",
       "      <td>CR</td>\n",
       "      <td>NaN</td>\n",
       "      <td>00000469ba478561f23a92a868bd366de6f6527a684c9a...</td>\n",
       "      <td>2019-05-20</td>\n",
       "    </tr>\n",
       "    <tr>\n",
       "      <th>4</th>\n",
       "      <td>0.238794</td>\n",
       "      <td>0.810456</td>\n",
       "      <td>0.141991</td>\n",
       "      <td>0.591795</td>\n",
       "      <td>0.039586</td>\n",
       "      <td>1.006634</td>\n",
       "      <td>NaN</td>\n",
       "      <td>0.063187</td>\n",
       "      <td>0.008620</td>\n",
       "      <td>0.002622</td>\n",
       "      <td>...</td>\n",
       "      <td>1.0</td>\n",
       "      <td>0.0</td>\n",
       "      <td>0.005304</td>\n",
       "      <td>0.002027</td>\n",
       "      <td>0.006975</td>\n",
       "      <td>0.008133</td>\n",
       "      <td>CR</td>\n",
       "      <td>U</td>\n",
       "      <td>00000469ba478561f23a92a868bd366de6f6527a684c9a...</td>\n",
       "      <td>2019-06-15</td>\n",
       "    </tr>\n",
       "  </tbody>\n",
       "</table>\n",
       "<p>5 rows × 61 columns</p>\n",
       "</div>"
      ],
      "text/plain": [
       "       D_39       B_2       B_5      D_48       B_6       B_8  D_50      B_10  \\\n",
       "0  0.001912  0.814497  0.009517  0.626467  0.174591  1.003925   NaN -0.002919   \n",
       "1  0.005275  0.810848  0.026313  0.611682  0.177115  1.009301   NaN  0.031222   \n",
       "2  0.003326  1.004620  0.060017  0.622228  1.417059  1.004635   NaN  0.035532   \n",
       "3  0.009065  0.816549  0.003400  0.615620  0.044620  1.009093   NaN  0.043155   \n",
       "4  0.238794  0.810456  0.141991  0.591795  0.039586  1.006634   NaN  0.063187   \n",
       "\n",
       "        S_5       S_6  ...  D_120  D_126     D_128     D_129     D_130  \\\n",
       "0  0.002771  1.006875  ...    NaN    0.0       NaN       NaN       NaN   \n",
       "1  0.006497  1.005728  ...    NaN    0.0  0.008782  0.005579  0.007598   \n",
       "2  0.003407  0.006408  ...    NaN    0.0  0.005602  0.009336  0.003608   \n",
       "3  0.007204  0.005841  ...    NaN    0.0  0.008690  0.006479  0.006133   \n",
       "4  0.008620  0.002622  ...    1.0    0.0  0.005304  0.002027  0.006975   \n",
       "\n",
       "      D_139  D_63  D_64                                        customer_ID  \\\n",
       "0       NaN    CR   NaN  00000469ba478561f23a92a868bd366de6f6527a684c9a...   \n",
       "1  0.000142    CR   NaN  00000469ba478561f23a92a868bd366de6f6527a684c9a...   \n",
       "2  0.000074    CR   NaN  00000469ba478561f23a92a868bd366de6f6527a684c9a...   \n",
       "3  0.004743    CR   NaN  00000469ba478561f23a92a868bd366de6f6527a684c9a...   \n",
       "4  0.008133    CR     U  00000469ba478561f23a92a868bd366de6f6527a684c9a...   \n",
       "\n",
       "          S_2  \n",
       "0  2019-02-19  \n",
       "1  2019-03-25  \n",
       "2  2019-04-25  \n",
       "3  2019-05-20  \n",
       "4  2019-06-15  \n",
       "\n",
       "[5 rows x 61 columns]"
      ]
     },
     "execution_count": 23,
     "metadata": {},
     "output_type": "execute_result"
    }
   ],
   "source": [
    "df2.head()"
   ]
  },
  {
   "cell_type": "code",
   "execution_count": 24,
   "id": "507f2b5c",
   "metadata": {
    "execution": {
     "iopub.execute_input": "2022-08-24T23:47:33.894525Z",
     "iopub.status.busy": "2022-08-24T23:47:33.893349Z",
     "iopub.status.idle": "2022-08-24T23:47:33.897256Z",
     "shell.execute_reply": "2022-08-24T23:47:33.896682Z"
    },
    "papermill": {
     "duration": 0.015962,
     "end_time": "2022-08-24T23:47:33.899649",
     "exception": false,
     "start_time": "2022-08-24T23:47:33.883687",
     "status": "completed"
    },
    "tags": []
   },
   "outputs": [],
   "source": [
    "#Handling missing values via imputation\n",
    "#df2.iloc[:,:] = my_imputer.fit_transform(df2.iloc[:,:])"
   ]
  },
  {
   "cell_type": "code",
   "execution_count": 25,
   "id": "9c55ce2e",
   "metadata": {
    "execution": {
     "iopub.execute_input": "2022-08-24T23:47:33.920807Z",
     "iopub.status.busy": "2022-08-24T23:47:33.920260Z",
     "iopub.status.idle": "2022-08-24T23:47:43.611688Z",
     "shell.execute_reply": "2022-08-24T23:47:43.610660Z"
    },
    "papermill": {
     "duration": 9.703998,
     "end_time": "2022-08-24T23:47:43.614019",
     "exception": false,
     "start_time": "2022-08-24T23:47:33.910021",
     "status": "completed"
    },
    "tags": []
   },
   "outputs": [
    {
     "name": "stdout",
     "output_type": "stream",
     "text": [
      "(11363762, 61) (924621, 59)\n",
      "Columns left with NaN:\n"
     ]
    }
   ],
   "source": [
    "#using only most recent transaction from each customer\n",
    "#Does this make sense for test data??\n",
    "temp = df2.shape\n",
    "df2=df2.set_index(['customer_ID'])\n",
    "df2=df2.ffill()\n",
    "df2=df2.bfill()\n",
    "df2=df2.reset_index()\n",
    "\n",
    "df2=df2.groupby('customer_ID').tail(1)\n",
    "df2=df2.set_index(['customer_ID'])\n",
    "\n",
    "#Drop date column since it is no longer useful\n",
    "df2.drop(['S_2'],axis=1,inplace=True)\n",
    "\n",
    "print(temp, df2.shape)\n",
    "\n",
    "#inspecting NaN\n",
    "print('Columns left with NaN:')\n",
    "for i in range(len(df2.columns)):\n",
    "    if (df2.iloc[:,i].isnull().sum()/len(df2) > 0):\n",
    "        print(df2.columns[i], round(df2.iloc[:,i].isnull().sum()/len(df2),2))"
   ]
  },
  {
   "cell_type": "code",
   "execution_count": 26,
   "id": "77b80e44",
   "metadata": {
    "execution": {
     "iopub.execute_input": "2022-08-24T23:47:43.633479Z",
     "iopub.status.busy": "2022-08-24T23:47:43.633161Z",
     "iopub.status.idle": "2022-08-24T23:47:44.147354Z",
     "shell.execute_reply": "2022-08-24T23:47:44.146222Z"
    },
    "papermill": {
     "duration": 0.527208,
     "end_time": "2022-08-24T23:47:44.150266",
     "exception": false,
     "start_time": "2022-08-24T23:47:43.623058",
     "status": "completed"
    },
    "tags": []
   },
   "outputs": [
    {
     "name": "stdout",
     "output_type": "stream",
     "text": [
      "(924621, 66)\n",
      "Index(['D_39', 'B_2', 'B_5', 'D_48', 'B_6', 'B_8', 'D_50', 'B_10', 'S_5',\n",
      "       'S_6', 'B_12', 'B_13', 'R_5', 'D_60', 'D_61', 'D_65', 'B_16', 'B_17',\n",
      "       'B_18', 'B_20', 'D_68', 'R_6', 'B_21', 'D_69', 'D_71', 'P_4', 'B_24',\n",
      "       'R_7', 'B_26', 'D_78', 'R_8', 'S_16', 'R_10', 'D_81', 'R_14', 'D_84',\n",
      "       'B_30', 'R_20', 'B_33', 'S_22', 'S_23', 'S_24', 'S_26', 'D_103', 'R_27',\n",
      "       'B_38', 'D_112', 'B_40', 'S_27', 'D_114', 'D_117', 'D_120', 'D_126',\n",
      "       'D_128', 'D_129', 'D_130', 'D_139', 'D_63_CL', 'D_63_CO', 'D_63_CR',\n",
      "       'D_63_XL', 'D_63_XM', 'D_63_XZ', 'D_64_O', 'D_64_R', 'D_64_U'],\n",
      "      dtype='object')\n"
     ]
    }
   ],
   "source": [
    "#hot ones\n",
    "df2 = pd.get_dummies(df2)\n",
    "print(df2.shape)\n",
    "print(df2.columns)"
   ]
  },
  {
   "cell_type": "code",
   "execution_count": 27,
   "id": "dfbd95a5",
   "metadata": {
    "execution": {
     "iopub.execute_input": "2022-08-24T23:47:44.170653Z",
     "iopub.status.busy": "2022-08-24T23:47:44.170353Z",
     "iopub.status.idle": "2022-08-24T23:47:44.190938Z",
     "shell.execute_reply": "2022-08-24T23:47:44.189692Z"
    },
    "papermill": {
     "duration": 0.032714,
     "end_time": "2022-08-24T23:47:44.192945",
     "exception": false,
     "start_time": "2022-08-24T23:47:44.160231",
     "status": "completed"
    },
    "tags": []
   },
   "outputs": [
    {
     "data": {
      "text/html": [
       "<div>\n",
       "<style scoped>\n",
       "    .dataframe tbody tr th:only-of-type {\n",
       "        vertical-align: middle;\n",
       "    }\n",
       "\n",
       "    .dataframe tbody tr th {\n",
       "        vertical-align: top;\n",
       "    }\n",
       "\n",
       "    .dataframe thead th {\n",
       "        text-align: right;\n",
       "    }\n",
       "</style>\n",
       "<table border=\"1\" class=\"dataframe\">\n",
       "  <thead>\n",
       "    <tr style=\"text-align: right;\">\n",
       "      <th></th>\n",
       "      <th>D_39</th>\n",
       "      <th>B_2</th>\n",
       "      <th>B_5</th>\n",
       "      <th>D_48</th>\n",
       "      <th>B_6</th>\n",
       "      <th>B_8</th>\n",
       "      <th>D_50</th>\n",
       "      <th>B_10</th>\n",
       "      <th>S_5</th>\n",
       "      <th>S_6</th>\n",
       "      <th>...</th>\n",
       "      <th>D_139</th>\n",
       "      <th>D_63_CL</th>\n",
       "      <th>D_63_CO</th>\n",
       "      <th>D_63_CR</th>\n",
       "      <th>D_63_XL</th>\n",
       "      <th>D_63_XM</th>\n",
       "      <th>D_63_XZ</th>\n",
       "      <th>D_64_O</th>\n",
       "      <th>D_64_R</th>\n",
       "      <th>D_64_U</th>\n",
       "    </tr>\n",
       "    <tr>\n",
       "      <th>customer_ID</th>\n",
       "      <th></th>\n",
       "      <th></th>\n",
       "      <th></th>\n",
       "      <th></th>\n",
       "      <th></th>\n",
       "      <th></th>\n",
       "      <th></th>\n",
       "      <th></th>\n",
       "      <th></th>\n",
       "      <th></th>\n",
       "      <th></th>\n",
       "      <th></th>\n",
       "      <th></th>\n",
       "      <th></th>\n",
       "      <th></th>\n",
       "      <th></th>\n",
       "      <th></th>\n",
       "      <th></th>\n",
       "      <th></th>\n",
       "      <th></th>\n",
       "      <th></th>\n",
       "    </tr>\n",
       "  </thead>\n",
       "  <tbody>\n",
       "    <tr>\n",
       "      <th>00000469ba478561f23a92a868bd366de6f6527a684c9a2e78fb826dcac3b9b7</th>\n",
       "      <td>0.121385</td>\n",
       "      <td>1.009347</td>\n",
       "      <td>0.050187</td>\n",
       "      <td>0.517214</td>\n",
       "      <td>0.024945</td>\n",
       "      <td>1.008730</td>\n",
       "      <td>0.007209</td>\n",
       "      <td>0.033599</td>\n",
       "      <td>0.011795</td>\n",
       "      <td>0.003473</td>\n",
       "      <td>...</td>\n",
       "      <td>0.005912</td>\n",
       "      <td>0</td>\n",
       "      <td>0</td>\n",
       "      <td>1</td>\n",
       "      <td>0</td>\n",
       "      <td>0</td>\n",
       "      <td>0</td>\n",
       "      <td>0</td>\n",
       "      <td>0</td>\n",
       "      <td>1</td>\n",
       "    </tr>\n",
       "    <tr>\n",
       "      <th>00001bf2e77ff879fab36aa4fac689b9ba411dae63ae397d4263dafa1daedef5</th>\n",
       "      <td>0.126475</td>\n",
       "      <td>1.009245</td>\n",
       "      <td>0.135907</td>\n",
       "      <td>0.041712</td>\n",
       "      <td>0.182720</td>\n",
       "      <td>1.008640</td>\n",
       "      <td>0.007209</td>\n",
       "      <td>0.298735</td>\n",
       "      <td>0.009336</td>\n",
       "      <td>0.005253</td>\n",
       "      <td>...</td>\n",
       "      <td>0.004344</td>\n",
       "      <td>0</td>\n",
       "      <td>1</td>\n",
       "      <td>0</td>\n",
       "      <td>0</td>\n",
       "      <td>0</td>\n",
       "      <td>0</td>\n",
       "      <td>1</td>\n",
       "      <td>0</td>\n",
       "      <td>0</td>\n",
       "    </tr>\n",
       "    <tr>\n",
       "      <th>0000210045da4f81e5f122c6bde5c2a617d03eef67f82c5e400fc98e7bd43ce8</th>\n",
       "      <td>0.002724</td>\n",
       "      <td>0.810072</td>\n",
       "      <td>0.004851</td>\n",
       "      <td>0.522954</td>\n",
       "      <td>0.058534</td>\n",
       "      <td>1.009375</td>\n",
       "      <td>0.007209</td>\n",
       "      <td>0.129189</td>\n",
       "      <td>0.004455</td>\n",
       "      <td>0.001847</td>\n",
       "      <td>...</td>\n",
       "      <td>1.001246</td>\n",
       "      <td>0</td>\n",
       "      <td>0</td>\n",
       "      <td>1</td>\n",
       "      <td>0</td>\n",
       "      <td>0</td>\n",
       "      <td>0</td>\n",
       "      <td>0</td>\n",
       "      <td>0</td>\n",
       "      <td>1</td>\n",
       "    </tr>\n",
       "    <tr>\n",
       "      <th>00003b41e58ede33b8daf61ab56d9952f17c9ad1c3976cf6e56734528702d694</th>\n",
       "      <td>0.324828</td>\n",
       "      <td>0.205678</td>\n",
       "      <td>0.022947</td>\n",
       "      <td>0.602520</td>\n",
       "      <td>0.023546</td>\n",
       "      <td>0.009775</td>\n",
       "      <td>0.007209</td>\n",
       "      <td>0.032124</td>\n",
       "      <td>0.320184</td>\n",
       "      <td>0.008872</td>\n",
       "      <td>...</td>\n",
       "      <td>1.008246</td>\n",
       "      <td>1</td>\n",
       "      <td>0</td>\n",
       "      <td>0</td>\n",
       "      <td>0</td>\n",
       "      <td>0</td>\n",
       "      <td>0</td>\n",
       "      <td>0</td>\n",
       "      <td>1</td>\n",
       "      <td>0</td>\n",
       "    </tr>\n",
       "    <tr>\n",
       "      <th>00004b22eaeeeb0ec976890c1d9bfc14fd9427e98c4ee9a4693dd914fca22557</th>\n",
       "      <td>0.768016</td>\n",
       "      <td>0.038021</td>\n",
       "      <td>0.011126</td>\n",
       "      <td>0.959607</td>\n",
       "      <td>0.011244</td>\n",
       "      <td>1.006200</td>\n",
       "      <td>0.039149</td>\n",
       "      <td>0.022026</td>\n",
       "      <td>0.064127</td>\n",
       "      <td>0.009401</td>\n",
       "      <td>...</td>\n",
       "      <td>0.006623</td>\n",
       "      <td>0</td>\n",
       "      <td>1</td>\n",
       "      <td>0</td>\n",
       "      <td>0</td>\n",
       "      <td>0</td>\n",
       "      <td>0</td>\n",
       "      <td>0</td>\n",
       "      <td>1</td>\n",
       "      <td>0</td>\n",
       "    </tr>\n",
       "  </tbody>\n",
       "</table>\n",
       "<p>5 rows × 66 columns</p>\n",
       "</div>"
      ],
      "text/plain": [
       "                                                        D_39       B_2  \\\n",
       "customer_ID                                                              \n",
       "00000469ba478561f23a92a868bd366de6f6527a684c9a2...  0.121385  1.009347   \n",
       "00001bf2e77ff879fab36aa4fac689b9ba411dae63ae397...  0.126475  1.009245   \n",
       "0000210045da4f81e5f122c6bde5c2a617d03eef67f82c5...  0.002724  0.810072   \n",
       "00003b41e58ede33b8daf61ab56d9952f17c9ad1c3976cf...  0.324828  0.205678   \n",
       "00004b22eaeeeb0ec976890c1d9bfc14fd9427e98c4ee9a...  0.768016  0.038021   \n",
       "\n",
       "                                                         B_5      D_48  \\\n",
       "customer_ID                                                              \n",
       "00000469ba478561f23a92a868bd366de6f6527a684c9a2...  0.050187  0.517214   \n",
       "00001bf2e77ff879fab36aa4fac689b9ba411dae63ae397...  0.135907  0.041712   \n",
       "0000210045da4f81e5f122c6bde5c2a617d03eef67f82c5...  0.004851  0.522954   \n",
       "00003b41e58ede33b8daf61ab56d9952f17c9ad1c3976cf...  0.022947  0.602520   \n",
       "00004b22eaeeeb0ec976890c1d9bfc14fd9427e98c4ee9a...  0.011126  0.959607   \n",
       "\n",
       "                                                         B_6       B_8  \\\n",
       "customer_ID                                                              \n",
       "00000469ba478561f23a92a868bd366de6f6527a684c9a2...  0.024945  1.008730   \n",
       "00001bf2e77ff879fab36aa4fac689b9ba411dae63ae397...  0.182720  1.008640   \n",
       "0000210045da4f81e5f122c6bde5c2a617d03eef67f82c5...  0.058534  1.009375   \n",
       "00003b41e58ede33b8daf61ab56d9952f17c9ad1c3976cf...  0.023546  0.009775   \n",
       "00004b22eaeeeb0ec976890c1d9bfc14fd9427e98c4ee9a...  0.011244  1.006200   \n",
       "\n",
       "                                                        D_50      B_10  \\\n",
       "customer_ID                                                              \n",
       "00000469ba478561f23a92a868bd366de6f6527a684c9a2...  0.007209  0.033599   \n",
       "00001bf2e77ff879fab36aa4fac689b9ba411dae63ae397...  0.007209  0.298735   \n",
       "0000210045da4f81e5f122c6bde5c2a617d03eef67f82c5...  0.007209  0.129189   \n",
       "00003b41e58ede33b8daf61ab56d9952f17c9ad1c3976cf...  0.007209  0.032124   \n",
       "00004b22eaeeeb0ec976890c1d9bfc14fd9427e98c4ee9a...  0.039149  0.022026   \n",
       "\n",
       "                                                         S_5       S_6  ...  \\\n",
       "customer_ID                                                             ...   \n",
       "00000469ba478561f23a92a868bd366de6f6527a684c9a2...  0.011795  0.003473  ...   \n",
       "00001bf2e77ff879fab36aa4fac689b9ba411dae63ae397...  0.009336  0.005253  ...   \n",
       "0000210045da4f81e5f122c6bde5c2a617d03eef67f82c5...  0.004455  0.001847  ...   \n",
       "00003b41e58ede33b8daf61ab56d9952f17c9ad1c3976cf...  0.320184  0.008872  ...   \n",
       "00004b22eaeeeb0ec976890c1d9bfc14fd9427e98c4ee9a...  0.064127  0.009401  ...   \n",
       "\n",
       "                                                       D_139  D_63_CL  \\\n",
       "customer_ID                                                             \n",
       "00000469ba478561f23a92a868bd366de6f6527a684c9a2...  0.005912        0   \n",
       "00001bf2e77ff879fab36aa4fac689b9ba411dae63ae397...  0.004344        0   \n",
       "0000210045da4f81e5f122c6bde5c2a617d03eef67f82c5...  1.001246        0   \n",
       "00003b41e58ede33b8daf61ab56d9952f17c9ad1c3976cf...  1.008246        1   \n",
       "00004b22eaeeeb0ec976890c1d9bfc14fd9427e98c4ee9a...  0.006623        0   \n",
       "\n",
       "                                                    D_63_CO  D_63_CR  D_63_XL  \\\n",
       "customer_ID                                                                     \n",
       "00000469ba478561f23a92a868bd366de6f6527a684c9a2...        0        1        0   \n",
       "00001bf2e77ff879fab36aa4fac689b9ba411dae63ae397...        1        0        0   \n",
       "0000210045da4f81e5f122c6bde5c2a617d03eef67f82c5...        0        1        0   \n",
       "00003b41e58ede33b8daf61ab56d9952f17c9ad1c3976cf...        0        0        0   \n",
       "00004b22eaeeeb0ec976890c1d9bfc14fd9427e98c4ee9a...        1        0        0   \n",
       "\n",
       "                                                    D_63_XM  D_63_XZ  D_64_O  \\\n",
       "customer_ID                                                                    \n",
       "00000469ba478561f23a92a868bd366de6f6527a684c9a2...        0        0       0   \n",
       "00001bf2e77ff879fab36aa4fac689b9ba411dae63ae397...        0        0       1   \n",
       "0000210045da4f81e5f122c6bde5c2a617d03eef67f82c5...        0        0       0   \n",
       "00003b41e58ede33b8daf61ab56d9952f17c9ad1c3976cf...        0        0       0   \n",
       "00004b22eaeeeb0ec976890c1d9bfc14fd9427e98c4ee9a...        0        0       0   \n",
       "\n",
       "                                                    D_64_R  D_64_U  \n",
       "customer_ID                                                         \n",
       "00000469ba478561f23a92a868bd366de6f6527a684c9a2...       0       1  \n",
       "00001bf2e77ff879fab36aa4fac689b9ba411dae63ae397...       0       0  \n",
       "0000210045da4f81e5f122c6bde5c2a617d03eef67f82c5...       0       1  \n",
       "00003b41e58ede33b8daf61ab56d9952f17c9ad1c3976cf...       1       0  \n",
       "00004b22eaeeeb0ec976890c1d9bfc14fd9427e98c4ee9a...       1       0  \n",
       "\n",
       "[5 rows x 66 columns]"
      ]
     },
     "execution_count": 27,
     "metadata": {},
     "output_type": "execute_result"
    }
   ],
   "source": [
    "df2.head()"
   ]
  },
  {
   "cell_type": "code",
   "execution_count": 28,
   "id": "ae9b720b",
   "metadata": {
    "execution": {
     "iopub.execute_input": "2022-08-24T23:47:44.214437Z",
     "iopub.status.busy": "2022-08-24T23:47:44.214100Z",
     "iopub.status.idle": "2022-08-24T23:47:44.261106Z",
     "shell.execute_reply": "2022-08-24T23:47:44.260209Z"
    },
    "papermill": {
     "duration": 0.060248,
     "end_time": "2022-08-24T23:47:44.263306",
     "exception": false,
     "start_time": "2022-08-24T23:47:44.203058",
     "status": "completed"
    },
    "tags": []
   },
   "outputs": [],
   "source": [
    "X = df2.iloc[:, :].values.reshape(-1, len(df2.columns))"
   ]
  },
  {
   "cell_type": "code",
   "execution_count": 29,
   "id": "9d386c1b",
   "metadata": {
    "execution": {
     "iopub.execute_input": "2022-08-24T23:47:44.284141Z",
     "iopub.status.busy": "2022-08-24T23:47:44.283815Z",
     "iopub.status.idle": "2022-08-24T23:47:44.289102Z",
     "shell.execute_reply": "2022-08-24T23:47:44.288502Z"
    },
    "papermill": {
     "duration": 0.018061,
     "end_time": "2022-08-24T23:47:44.291110",
     "exception": false,
     "start_time": "2022-08-24T23:47:44.273049",
     "status": "completed"
    },
    "tags": []
   },
   "outputs": [
    {
     "data": {
      "text/plain": [
       "'X = df2.iloc[:, :].values.reshape(-1, len(df2.columns))\\n\\nY_pred2 = log.predict(X)\\nprint(Y_pred2)\\n\\ndf2 = df2.reset_index()\\n\\nfinal = pd.DataFrame({\"customer_ID\":df2.customer_ID,\"prediction\":Y_pred2})\\n\\nfinal.to_csv(\\'submission.csv\\', index=False)\\nprint(Y_pred2, np.sum(Y_pred2))\\n\\n#score ended as ~50'"
      ]
     },
     "execution_count": 29,
     "metadata": {},
     "output_type": "execute_result"
    }
   ],
   "source": [
    "\"\"\"X = df2.iloc[:, :].values.reshape(-1, len(df2.columns))\n",
    "\n",
    "Y_pred2 = log.predict(X)\n",
    "print(Y_pred2)\n",
    "\n",
    "df2 = df2.reset_index()\n",
    "\n",
    "final = pd.DataFrame({\"customer_ID\":df2.customer_ID,\"prediction\":Y_pred2})\n",
    "\n",
    "final.to_csv('submission.csv', index=False)\n",
    "print(Y_pred2, np.sum(Y_pred2))\n",
    "\n",
    "#score ended as ~50\"\"\""
   ]
  },
  {
   "cell_type": "code",
   "execution_count": 30,
   "id": "e83a1a2d",
   "metadata": {
    "execution": {
     "iopub.execute_input": "2022-08-24T23:47:44.312366Z",
     "iopub.status.busy": "2022-08-24T23:47:44.311171Z",
     "iopub.status.idle": "2022-08-24T23:48:22.440494Z",
     "shell.execute_reply": "2022-08-24T23:48:22.438635Z"
    },
    "papermill": {
     "duration": 38.150353,
     "end_time": "2022-08-24T23:48:22.451215",
     "exception": false,
     "start_time": "2022-08-24T23:47:44.300862",
     "status": "completed"
    },
    "tags": []
   },
   "outputs": [
    {
     "name": "stderr",
     "output_type": "stream",
     "text": [
      "/opt/conda/lib/python3.7/site-packages/sklearn/base.py:444: UserWarning: X has feature names, but RandomForestClassifier was fitted without feature names\n",
      "  f\"X has feature names, but {self.__class__.__name__} was fitted without\"\n"
     ]
    },
    {
     "name": "stdout",
     "output_type": "stream",
     "text": [
      "[0.22362429 0.001642   0.19207489 ... 0.60485714 0.38775051 0.21494545] 236981.56716237086\n",
      "                                              customer_ID  prediction\n",
      "0       00000469ba478561f23a92a868bd366de6f6527a684c9a...    0.223624\n",
      "1       00001bf2e77ff879fab36aa4fac689b9ba411dae63ae39...    0.001642\n",
      "2       0000210045da4f81e5f122c6bde5c2a617d03eef67f82c...    0.192075\n",
      "3       00003b41e58ede33b8daf61ab56d9952f17c9ad1c3976c...    0.277605\n",
      "4       00004b22eaeeeb0ec976890c1d9bfc14fd9427e98c4ee9...    0.755683\n",
      "...                                                   ...         ...\n",
      "924616  ffff952c631f2c911b8a2a8ca56ea6e656309a83d2f64c...    0.115905\n",
      "924617  ffffcf5df59e5e0bba2a5ac4578a34e2b5aa64a1546cd3...    0.566495\n",
      "924618  ffffd61f098cc056dbd7d2a21380c4804bbfe60856f475...    0.604857\n",
      "924619  ffffddef1fc3643ea179c93245b68dca0f36941cd83977...    0.387751\n",
      "924620  fffffa7cf7e453e1acc6a1426475d5cb9400859f82ff61...    0.214945\n",
      "\n",
      "[924621 rows x 2 columns]\n"
     ]
    }
   ],
   "source": [
    "Y_pred2 = model.predict_proba(df2)\n",
    "Y_pred2 = Y_pred2[:,1]\n",
    "df2 = df2.reset_index()\n",
    "print(Y_pred2, np.sum(Y_pred2))\n",
    "final = pd.DataFrame({\"customer_ID\":df2.customer_ID,\"prediction\":Y_pred2})\n",
    "print(final)"
   ]
  },
  {
   "cell_type": "code",
   "execution_count": 31,
   "id": "536adc07",
   "metadata": {
    "execution": {
     "iopub.execute_input": "2022-08-24T23:48:22.472368Z",
     "iopub.status.busy": "2022-08-24T23:48:22.472055Z",
     "iopub.status.idle": "2022-08-24T23:48:25.372410Z",
     "shell.execute_reply": "2022-08-24T23:48:25.371219Z"
    },
    "papermill": {
     "duration": 2.913384,
     "end_time": "2022-08-24T23:48:25.374343",
     "exception": false,
     "start_time": "2022-08-24T23:48:22.460959",
     "status": "completed"
    },
    "tags": []
   },
   "outputs": [
    {
     "name": "stdout",
     "output_type": "stream",
     "text": [
      "                                              customer_ID  prediction\n",
      "0       00000469ba478561f23a92a868bd366de6f6527a684c9a...    0.223624\n",
      "1       00001bf2e77ff879fab36aa4fac689b9ba411dae63ae39...    0.001642\n",
      "2       0000210045da4f81e5f122c6bde5c2a617d03eef67f82c...    0.192075\n",
      "3       00003b41e58ede33b8daf61ab56d9952f17c9ad1c3976c...    0.277605\n",
      "4       00004b22eaeeeb0ec976890c1d9bfc14fd9427e98c4ee9...    0.755683\n",
      "...                                                   ...         ...\n",
      "924616  ffff952c631f2c911b8a2a8ca56ea6e656309a83d2f64c...    0.115905\n",
      "924617  ffffcf5df59e5e0bba2a5ac4578a34e2b5aa64a1546cd3...    0.566495\n",
      "924618  ffffd61f098cc056dbd7d2a21380c4804bbfe60856f475...    0.604857\n",
      "924619  ffffddef1fc3643ea179c93245b68dca0f36941cd83977...    0.387751\n",
      "924620  fffffa7cf7e453e1acc6a1426475d5cb9400859f82ff61...    0.214945\n",
      "\n",
      "[924621 rows x 2 columns]\n"
     ]
    }
   ],
   "source": [
    "final.to_csv('submission.csv', index=False)\n",
    "print(final)"
   ]
  }
 ],
 "metadata": {
  "kernelspec": {
   "display_name": "Python 3",
   "language": "python",
   "name": "python3"
  },
  "language_info": {
   "codemirror_mode": {
    "name": "ipython",
    "version": 3
   },
   "file_extension": ".py",
   "mimetype": "text/x-python",
   "name": "python",
   "nbconvert_exporter": "python",
   "pygments_lexer": "ipython3",
   "version": "3.7.12"
  },
  "papermill": {
   "default_parameters": {},
   "duration": 1239.916551,
   "end_time": "2022-08-24T23:48:26.812804",
   "environment_variables": {},
   "exception": null,
   "input_path": "__notebook__.ipynb",
   "output_path": "__notebook__.ipynb",
   "parameters": {},
   "start_time": "2022-08-24T23:27:46.896253",
   "version": "2.3.4"
  }
 },
 "nbformat": 4,
 "nbformat_minor": 5
}
