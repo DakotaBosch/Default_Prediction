{
 "cells": [
  {
   "cell_type": "code",
   "execution_count": 1,
   "id": "68034aa9",
   "metadata": {
    "_cell_guid": "b1076dfc-b9ad-4769-8c92-a6c4dae69d19",
    "_uuid": "8f2839f25d086af736a60e9eeb907d3b93b6e0e5",
    "execution": {
     "iopub.execute_input": "2022-09-07T18:04:30.554078Z",
     "iopub.status.busy": "2022-09-07T18:04:30.553517Z",
     "iopub.status.idle": "2022-09-07T18:04:30.577450Z",
     "shell.execute_reply": "2022-09-07T18:04:30.576221Z"
    },
    "papermill": {
     "duration": 0.041459,
     "end_time": "2022-09-07T18:04:30.579914",
     "exception": false,
     "start_time": "2022-09-07T18:04:30.538455",
     "status": "completed"
    },
    "tags": []
   },
   "outputs": [
    {
     "name": "stdout",
     "output_type": "stream",
     "text": [
      "/kaggle/input/amex-default-prediction/sample_submission.csv\n",
      "/kaggle/input/amex-default-prediction/train_data.csv\n",
      "/kaggle/input/amex-default-prediction/test_data.csv\n",
      "/kaggle/input/amex-default-prediction/train_labels.csv\n",
      "/kaggle/input/amex-parquet/test_data.parquet\n",
      "/kaggle/input/amex-parquet/train_data.parquet\n"
     ]
    }
   ],
   "source": [
    "import os\n",
    "for dirname, _, filenames in os.walk('/kaggle/input'):\n",
    "    for filename in filenames:\n",
    "        print(os.path.join(dirname, filename))"
   ]
  },
  {
   "cell_type": "markdown",
   "id": "71a62a91",
   "metadata": {
    "papermill": {
     "duration": 0.010958,
     "end_time": "2022-09-07T18:04:30.601080",
     "exception": false,
     "start_time": "2022-09-07T18:04:30.590122",
     "status": "completed"
    },
    "tags": []
   },
   "source": [
    "Our goal is to use this industrial scale dataset to predict the probability that a customer will default in the future. Eighteen months of profile data is stored for each customer previous their most recent credit card statement. If they do not pay this amount within 120 days of the statement it is considered a default.\n",
    "\n",
    "\n"
   ]
  },
  {
   "cell_type": "markdown",
   "id": "82ca4e00",
   "metadata": {
    "papermill": {
     "duration": 0.009372,
     "end_time": "2022-09-07T18:04:30.620698",
     "exception": false,
     "start_time": "2022-09-07T18:04:30.611326",
     "status": "completed"
    },
    "tags": []
   },
   "source": [
    "# Exploratory Data Analysis"
   ]
  },
  {
   "cell_type": "markdown",
   "id": "3115b496",
   "metadata": {
    "papermill": {
     "duration": 0.009946,
     "end_time": "2022-09-07T18:04:30.640166",
     "exception": false,
     "start_time": "2022-09-07T18:04:30.630220",
     "status": "completed"
    },
    "tags": []
   },
   "source": [
    "The data was converted from .csv to .parquet to enable quick loading into pandas within our 16gb RAM environment. \n",
    "\n",
    "<br />Now we preview the data."
   ]
  },
  {
   "cell_type": "code",
   "execution_count": 2,
   "id": "4eaddbec",
   "metadata": {
    "execution": {
     "iopub.execute_input": "2022-09-07T18:04:30.660347Z",
     "iopub.status.busy": "2022-09-07T18:04:30.660049Z",
     "iopub.status.idle": "2022-09-07T18:05:14.030964Z",
     "shell.execute_reply": "2022-09-07T18:05:14.029858Z"
    },
    "papermill": {
     "duration": 43.397434,
     "end_time": "2022-09-07T18:05:14.047058",
     "exception": false,
     "start_time": "2022-09-07T18:04:30.649624",
     "status": "completed"
    },
    "tags": []
   },
   "outputs": [
    {
     "name": "stdout",
     "output_type": "stream",
     "text": [
      "(5531451, 191)\n"
     ]
    }
   ],
   "source": [
    "import pandas as pd\n",
    "\n",
    "df=pd.read_parquet('/kaggle/input/amex-parquet/train_data.parquet')\n",
    "print(df.shape)\n",
    "#df.head()"
   ]
  },
  {
   "cell_type": "markdown",
   "id": "50af5970",
   "metadata": {
    "papermill": {
     "duration": 0.009244,
     "end_time": "2022-09-07T18:05:14.065954",
     "exception": false,
     "start_time": "2022-09-07T18:05:14.056710",
     "status": "completed"
    },
    "tags": []
   },
   "source": [
    "Wow! We have over 5.5 million rows and 190 columns. Our column names are anonymized but fall into these categories: \n",
    " <br />D_* = Delinquency variables\n",
    " <br />S_* = Spend variables\n",
    " <br />P_* = Payment variables\n",
    " <br />B_* = Balance variables\n",
    " <br />R_* = Risk variables\n",
    " <br />\n",
    " <br />\n",
    "The size of the data is too large for our hardware. Let's remove the data we percieve to be less relevant. \n",
    "\n",
    "We note the customer ID and the date columns. "
   ]
  },
  {
   "cell_type": "code",
   "execution_count": 3,
   "id": "0120f2b8",
   "metadata": {
    "execution": {
     "iopub.execute_input": "2022-09-07T18:05:14.087931Z",
     "iopub.status.busy": "2022-09-07T18:05:14.087255Z",
     "iopub.status.idle": "2022-09-07T18:05:14.113957Z",
     "shell.execute_reply": "2022-09-07T18:05:14.112671Z"
    },
    "papermill": {
     "duration": 0.041906,
     "end_time": "2022-09-07T18:05:14.117330",
     "exception": false,
     "start_time": "2022-09-07T18:05:14.075424",
     "status": "completed"
    },
    "tags": []
   },
   "outputs": [
    {
     "name": "stdout",
     "output_type": "stream",
     "text": [
      "<class 'pandas.core.frame.DataFrame'>\n",
      "Int64Index: 5531451 entries, 0 to 5531450\n",
      "Columns: 191 entries, customer_ID to target\n",
      "dtypes: float32(185), int64(2), object(4)\n",
      "memory usage: 4.1+ GB\n"
     ]
    }
   ],
   "source": [
    "df.info()"
   ]
  },
  {
   "cell_type": "markdown",
   "id": "80578376",
   "metadata": {
    "papermill": {
     "duration": 0.009536,
     "end_time": "2022-09-07T18:05:14.137081",
     "exception": false,
     "start_time": "2022-09-07T18:05:14.127545",
     "status": "completed"
    },
    "tags": []
   },
   "source": [
    "There are four non-numeric data types. Let's convert these so we may apply a logistic regression model.\n",
    "\n",
    "Let's plot our columns."
   ]
  },
  {
   "cell_type": "code",
   "execution_count": 4,
   "id": "98147b13",
   "metadata": {
    "execution": {
     "iopub.execute_input": "2022-09-07T18:05:14.158387Z",
     "iopub.status.busy": "2022-09-07T18:05:14.158043Z",
     "iopub.status.idle": "2022-09-07T18:05:14.167619Z",
     "shell.execute_reply": "2022-09-07T18:05:14.166878Z"
    },
    "papermill": {
     "duration": 0.023686,
     "end_time": "2022-09-07T18:05:14.170585",
     "exception": false,
     "start_time": "2022-09-07T18:05:14.146899",
     "status": "completed"
    },
    "tags": []
   },
   "outputs": [
    {
     "data": {
      "text/plain": [
       "'hist = df.hist(bins=50, figsize = (40,200), layout=(-1,4) )'"
      ]
     },
     "execution_count": 4,
     "metadata": {},
     "output_type": "execute_result"
    }
   ],
   "source": [
    "\"\"\"hist = df.hist(bins=50, figsize = (40,200), layout=(-1,4) )\"\"\""
   ]
  },
  {
   "cell_type": "markdown",
   "id": "8f80630a",
   "metadata": {
    "papermill": {
     "duration": 0.009533,
     "end_time": "2022-09-07T18:05:14.189884",
     "exception": false,
     "start_time": "2022-09-07T18:05:14.180351",
     "status": "completed"
    },
    "tags": []
   },
   "source": [
    "# **Data Cleaning**"
   ]
  },
  {
   "cell_type": "markdown",
   "id": "537e10b3",
   "metadata": {
    "papermill": {
     "duration": 0.009517,
     "end_time": "2022-09-07T18:05:14.209193",
     "exception": false,
     "start_time": "2022-09-07T18:05:14.199676",
     "status": "completed"
    },
    "tags": []
   },
   "source": [
    "Let's find and remove the columns with a significant amount of NaN values. Without knowledge on the contents of each column we will remove the columns that are likely less useful."
   ]
  },
  {
   "cell_type": "code",
   "execution_count": 5,
   "id": "26c9ca9a",
   "metadata": {
    "execution": {
     "iopub.execute_input": "2022-09-07T18:05:14.231243Z",
     "iopub.status.busy": "2022-09-07T18:05:14.230618Z",
     "iopub.status.idle": "2022-09-07T18:05:17.378811Z",
     "shell.execute_reply": "2022-09-07T18:05:17.377449Z"
    },
    "papermill": {
     "duration": 3.163522,
     "end_time": "2022-09-07T18:05:17.382622",
     "exception": false,
     "start_time": "2022-09-07T18:05:14.219100",
     "status": "completed"
    },
    "tags": []
   },
   "outputs": [
    {
     "name": "stdout",
     "output_type": "stream",
     "text": [
      "(5531451, 173)\n"
     ]
    }
   ],
   "source": [
    "temp = [column for column in df.columns if df[column].isnull().sum()/len(df) >= 0.9]\n",
    "df.drop(temp, axis=1, inplace=True)\n",
    "\n",
    "print(df.shape)"
   ]
  },
  {
   "cell_type": "markdown",
   "id": "e4a13d12",
   "metadata": {
    "papermill": {
     "duration": 0.012216,
     "end_time": "2022-09-07T18:05:17.405703",
     "exception": false,
     "start_time": "2022-09-07T18:05:17.393487",
     "status": "completed"
    },
    "tags": []
   },
   "source": [
    "Great! We got rid of 18 columns that contained >90% null values. \n",
    "\n",
    "We choose to impute by filling customer data from other months."
   ]
  },
  {
   "cell_type": "code",
   "execution_count": 6,
   "id": "1d3ad0a1",
   "metadata": {
    "execution": {
     "iopub.execute_input": "2022-09-07T18:05:17.428096Z",
     "iopub.status.busy": "2022-09-07T18:05:17.427596Z",
     "iopub.status.idle": "2022-09-07T18:05:17.434507Z",
     "shell.execute_reply": "2022-09-07T18:05:17.433167Z"
    },
    "papermill": {
     "duration": 0.020501,
     "end_time": "2022-09-07T18:05:17.436654",
     "exception": false,
     "start_time": "2022-09-07T18:05:17.416153",
     "status": "completed"
    },
    "tags": []
   },
   "outputs": [
    {
     "data": {
      "text/plain": [
       "\"df=df.set_index(['customer_ID'])\\ndf.head(n=20)\\n#forward fill and back fill just putting random other customers data into their adjacent rows?\""
      ]
     },
     "execution_count": 6,
     "metadata": {},
     "output_type": "execute_result"
    }
   ],
   "source": [
    "\"\"\"df=df.set_index(['customer_ID'])\n",
    "df.head(n=20)\n",
    "#forward fill and back fill just putting random other customers data into their adjacent rows?\"\"\""
   ]
  },
  {
   "cell_type": "code",
   "execution_count": 7,
   "id": "f3b9bf97",
   "metadata": {
    "execution": {
     "iopub.execute_input": "2022-09-07T18:05:17.459542Z",
     "iopub.status.busy": "2022-09-07T18:05:17.458211Z",
     "iopub.status.idle": "2022-09-07T18:05:17.725523Z",
     "shell.execute_reply": "2022-09-07T18:05:17.723885Z"
    },
    "papermill": {
     "duration": 0.281291,
     "end_time": "2022-09-07T18:05:17.728083",
     "exception": false,
     "start_time": "2022-09-07T18:05:17.446792",
     "status": "completed"
    },
    "tags": []
   },
   "outputs": [
    {
     "name": "stdout",
     "output_type": "stream",
     "text": [
      "                                               customer_ID     D_142\n",
      "0        0000099d6bd597052cdcda90ffabf56573fe9d7c79be5f...       NaN\n",
      "1        0000099d6bd597052cdcda90ffabf56573fe9d7c79be5f...       NaN\n",
      "2        0000099d6bd597052cdcda90ffabf56573fe9d7c79be5f...       NaN\n",
      "3        0000099d6bd597052cdcda90ffabf56573fe9d7c79be5f...       NaN\n",
      "4        0000099d6bd597052cdcda90ffabf56573fe9d7c79be5f...       NaN\n",
      "5        0000099d6bd597052cdcda90ffabf56573fe9d7c79be5f...       NaN\n",
      "6        0000099d6bd597052cdcda90ffabf56573fe9d7c79be5f...       NaN\n",
      "7        0000099d6bd597052cdcda90ffabf56573fe9d7c79be5f...       NaN\n",
      "8        0000099d6bd597052cdcda90ffabf56573fe9d7c79be5f...       NaN\n",
      "9        0000099d6bd597052cdcda90ffabf56573fe9d7c79be5f...       NaN\n",
      "10       0000099d6bd597052cdcda90ffabf56573fe9d7c79be5f...       NaN\n",
      "11       0000099d6bd597052cdcda90ffabf56573fe9d7c79be5f...       NaN\n",
      "12       0000099d6bd597052cdcda90ffabf56573fe9d7c79be5f...       NaN\n",
      "13       00000fd6641609c6ece5454664794f0340ad84dddce9a2...       NaN\n",
      "14       00000fd6641609c6ece5454664794f0340ad84dddce9a2...       NaN\n",
      "15       00000fd6641609c6ece5454664794f0340ad84dddce9a2...       NaN\n",
      "16       00000fd6641609c6ece5454664794f0340ad84dddce9a2...       NaN\n",
      "17       00000fd6641609c6ece5454664794f0340ad84dddce9a2...       NaN\n",
      "18       00000fd6641609c6ece5454664794f0340ad84dddce9a2...       NaN\n",
      "19       00000fd6641609c6ece5454664794f0340ad84dddce9a2...       NaN\n",
      "20       00000fd6641609c6ece5454664794f0340ad84dddce9a2...       NaN\n",
      "21       00000fd6641609c6ece5454664794f0340ad84dddce9a2...       NaN\n",
      "22       00000fd6641609c6ece5454664794f0340ad84dddce9a2...       NaN\n",
      "23       00000fd6641609c6ece5454664794f0340ad84dddce9a2...       NaN\n",
      "24       00000fd6641609c6ece5454664794f0340ad84dddce9a2...       NaN\n",
      "25       00000fd6641609c6ece5454664794f0340ad84dddce9a2...       NaN\n",
      "26       00001b22f846c82c51f6e3958ccd81970162bae8b007e8...       NaN\n",
      "27       00001b22f846c82c51f6e3958ccd81970162bae8b007e8...       NaN\n",
      "28       00001b22f846c82c51f6e3958ccd81970162bae8b007e8...       NaN\n",
      "29       00001b22f846c82c51f6e3958ccd81970162bae8b007e8...       NaN\n",
      "...                                                    ...       ...\n",
      "5531421  ffff9984b999fccb2b6127635ed0736dda94e544e67e02...       NaN\n",
      "5531422  ffff9984b999fccb2b6127635ed0736dda94e544e67e02...       NaN\n",
      "5531423  ffff9984b999fccb2b6127635ed0736dda94e544e67e02...       NaN\n",
      "5531424  ffff9984b999fccb2b6127635ed0736dda94e544e67e02...       NaN\n",
      "5531425  ffffa5c46bc8de74f5a4554e74e239c8dee6b9baf38814...  0.393216\n",
      "5531426  ffffa5c46bc8de74f5a4554e74e239c8dee6b9baf38814...  0.402209\n",
      "5531427  ffffa5c46bc8de74f5a4554e74e239c8dee6b9baf38814...  0.400553\n",
      "5531428  ffffa5c46bc8de74f5a4554e74e239c8dee6b9baf38814...  0.404542\n",
      "5531429  ffffa5c46bc8de74f5a4554e74e239c8dee6b9baf38814...  0.409937\n",
      "5531430  ffffa5c46bc8de74f5a4554e74e239c8dee6b9baf38814...  0.413830\n",
      "5531431  ffffa5c46bc8de74f5a4554e74e239c8dee6b9baf38814...  0.415008\n",
      "5531432  ffffa5c46bc8de74f5a4554e74e239c8dee6b9baf38814...  0.424473\n",
      "5531433  ffffa5c46bc8de74f5a4554e74e239c8dee6b9baf38814...  0.427215\n",
      "5531434  ffffa5c46bc8de74f5a4554e74e239c8dee6b9baf38814...  0.427363\n",
      "5531435  ffffa5c46bc8de74f5a4554e74e239c8dee6b9baf38814...  0.433807\n",
      "5531436  ffffa5c46bc8de74f5a4554e74e239c8dee6b9baf38814...  0.434979\n",
      "5531437  ffffa5c46bc8de74f5a4554e74e239c8dee6b9baf38814...  0.446255\n",
      "5531438  fffff1d38b785cef84adeace64f8f83db3a0c31e8d92ea...       NaN\n",
      "5531439  fffff1d38b785cef84adeace64f8f83db3a0c31e8d92ea...       NaN\n",
      "5531440  fffff1d38b785cef84adeace64f8f83db3a0c31e8d92ea...       NaN\n",
      "5531441  fffff1d38b785cef84adeace64f8f83db3a0c31e8d92ea...       NaN\n",
      "5531442  fffff1d38b785cef84adeace64f8f83db3a0c31e8d92ea...       NaN\n",
      "5531443  fffff1d38b785cef84adeace64f8f83db3a0c31e8d92ea...       NaN\n",
      "5531444  fffff1d38b785cef84adeace64f8f83db3a0c31e8d92ea...       NaN\n",
      "5531445  fffff1d38b785cef84adeace64f8f83db3a0c31e8d92ea...       NaN\n",
      "5531446  fffff1d38b785cef84adeace64f8f83db3a0c31e8d92ea...       NaN\n",
      "5531447  fffff1d38b785cef84adeace64f8f83db3a0c31e8d92ea...       NaN\n",
      "5531448  fffff1d38b785cef84adeace64f8f83db3a0c31e8d92ea...       NaN\n",
      "5531449  fffff1d38b785cef84adeace64f8f83db3a0c31e8d92ea...       NaN\n",
      "5531450  fffff1d38b785cef84adeace64f8f83db3a0c31e8d92ea...       NaN\n",
      "\n",
      "[5531451 rows x 2 columns]\n"
     ]
    }
   ],
   "source": [
    "pd.set_option('min_rows', 60)\n",
    "print(df[['customer_ID','D_142']])"
   ]
  },
  {
   "cell_type": "code",
   "execution_count": 8,
   "id": "237241de",
   "metadata": {
    "execution": {
     "iopub.execute_input": "2022-09-07T18:05:17.750497Z",
     "iopub.status.busy": "2022-09-07T18:05:17.749677Z",
     "iopub.status.idle": "2022-09-07T18:05:28.069418Z",
     "shell.execute_reply": "2022-09-07T18:05:28.067386Z"
    },
    "papermill": {
     "duration": 10.334099,
     "end_time": "2022-09-07T18:05:28.072454",
     "exception": false,
     "start_time": "2022-09-07T18:05:17.738355",
     "status": "completed"
    },
    "tags": []
   },
   "outputs": [
    {
     "name": "stdout",
     "output_type": "stream",
     "text": [
      "(5531451, 173) (458913, 171)\n",
      "91\n"
     ]
    }
   ],
   "source": [
    "temp = df.shape\n",
    "df=df.set_index(['customer_ID'])\n",
    "#df=df.ffill()\n",
    "#df=df.bfill()\n",
    "df=df.reset_index()\n",
    "\n",
    "df=df.groupby('customer_ID').tail(1)\n",
    "df=df.set_index(['customer_ID'])\n",
    "\n",
    "#Drop date column since it\n",
    "df.drop(['S_2'],axis=1,inplace=True)\n",
    "\n",
    "print(temp, df.shape)\n",
    "\n",
    "\n",
    "temp = [column for column in df.columns if df[column].isnull().sum()/len(df) >0]\n",
    "print(len(temp))"
   ]
  },
  {
   "cell_type": "code",
   "execution_count": 9,
   "id": "3529150e",
   "metadata": {
    "execution": {
     "iopub.execute_input": "2022-09-07T18:05:28.096859Z",
     "iopub.status.busy": "2022-09-07T18:05:28.095594Z",
     "iopub.status.idle": "2022-09-07T18:05:28.100888Z",
     "shell.execute_reply": "2022-09-07T18:05:28.099611Z"
    },
    "papermill": {
     "duration": 0.019402,
     "end_time": "2022-09-07T18:05:28.102937",
     "exception": false,
     "start_time": "2022-09-07T18:05:28.083535",
     "status": "completed"
    },
    "tags": []
   },
   "outputs": [],
   "source": [
    "#df=df.reset_index()\n",
    "#print(df[['customer_ID','D_142']])"
   ]
  },
  {
   "cell_type": "markdown",
   "id": "73ee2838",
   "metadata": {
    "papermill": {
     "duration": 0.010056,
     "end_time": "2022-09-07T18:05:28.123352",
     "exception": false,
     "start_time": "2022-09-07T18:05:28.113296",
     "status": "completed"
    },
    "tags": []
   },
   "source": [
    "This magically removes all missing data... ??\n",
    "\n",
    "Lets separate our labels from our dataset."
   ]
  },
  {
   "cell_type": "code",
   "execution_count": 10,
   "id": "8a584068",
   "metadata": {
    "execution": {
     "iopub.execute_input": "2022-09-07T18:05:28.146362Z",
     "iopub.status.busy": "2022-09-07T18:05:28.146041Z",
     "iopub.status.idle": "2022-09-07T18:05:28.149097Z",
     "shell.execute_reply": "2022-09-07T18:05:28.148549Z"
    },
    "papermill": {
     "duration": 0.017068,
     "end_time": "2022-09-07T18:05:28.151254",
     "exception": false,
     "start_time": "2022-09-07T18:05:28.134186",
     "status": "completed"
    },
    "tags": []
   },
   "outputs": [],
   "source": [
    "#print(df[['customer_ID','D_142']])"
   ]
  },
  {
   "cell_type": "code",
   "execution_count": 11,
   "id": "0717247c",
   "metadata": {
    "execution": {
     "iopub.execute_input": "2022-09-07T18:05:28.174584Z",
     "iopub.status.busy": "2022-09-07T18:05:28.173377Z",
     "iopub.status.idle": "2022-09-07T18:05:28.242962Z",
     "shell.execute_reply": "2022-09-07T18:05:28.242056Z"
    },
    "papermill": {
     "duration": 0.083443,
     "end_time": "2022-09-07T18:05:28.245025",
     "exception": false,
     "start_time": "2022-09-07T18:05:28.161582",
     "status": "completed"
    },
    "tags": []
   },
   "outputs": [
    {
     "name": "stdout",
     "output_type": "stream",
     "text": [
      "0.2589336105100531\n"
     ]
    }
   ],
   "source": [
    "df_label = df.iloc[:,len(df.columns)-1]\n",
    "df = df.iloc[:,0:len(df.columns)-1]\n",
    "\n",
    "print(df_label.sum()/len(df_label))"
   ]
  },
  {
   "cell_type": "markdown",
   "id": "ad44f111",
   "metadata": {
    "papermill": {
     "duration": 0.010383,
     "end_time": "2022-09-07T18:05:28.266154",
     "exception": false,
     "start_time": "2022-09-07T18:05:28.255771",
     "status": "completed"
    },
    "tags": []
   },
   "source": [
    "Our train data contains ~25% positive cases but the negative class was subsampled at 5%"
   ]
  },
  {
   "cell_type": "markdown",
   "id": "9737dcf7",
   "metadata": {
    "papermill": {
     "duration": 0.010306,
     "end_time": "2022-09-07T18:05:28.288108",
     "exception": false,
     "start_time": "2022-09-07T18:05:28.277802",
     "status": "completed"
    },
    "tags": []
   },
   "source": [
    "We aim to remove data columns that have too high a correlation."
   ]
  },
  {
   "cell_type": "code",
   "execution_count": 12,
   "id": "8f40c85a",
   "metadata": {
    "execution": {
     "iopub.execute_input": "2022-09-07T18:05:28.312205Z",
     "iopub.status.busy": "2022-09-07T18:05:28.311681Z",
     "iopub.status.idle": "2022-09-07T18:05:53.360568Z",
     "shell.execute_reply": "2022-09-07T18:05:53.359012Z"
    },
    "papermill": {
     "duration": 25.063954,
     "end_time": "2022-09-07T18:05:53.363177",
     "exception": false,
     "start_time": "2022-09-07T18:05:28.299223",
     "status": "completed"
    },
    "tags": []
   },
   "outputs": [
    {
     "name": "stdout",
     "output_type": "stream",
     "text": [
      "15 (458913, 155)\n"
     ]
    }
   ],
   "source": [
    "# Create correlation matrix\n",
    "corr_matrix = df.corr().abs()\n",
    "\n",
    "# Select upper triangle of correlation matrix\n",
    "import numpy as np\n",
    "upper = corr_matrix.where(np.triu(np.ones(corr_matrix.shape), k=1).astype(bool))\n",
    "\n",
    "# Find and drop columns with high correl\n",
    "to_drop = [column for column in upper.columns if any(upper[column] > 0.9)]\n",
    "df.drop(to_drop, axis=1, inplace=True)\n",
    "\n",
    "print(len(to_drop),df.shape)"
   ]
  },
  {
   "cell_type": "markdown",
   "id": "60d27db6",
   "metadata": {
    "papermill": {
     "duration": 0.010152,
     "end_time": "2022-09-07T18:05:53.383917",
     "exception": false,
     "start_time": "2022-09-07T18:05:53.373765",
     "status": "completed"
    },
    "tags": []
   },
   "source": [
    "##### To further reduce the degrees of freedom we remove columns with low variance"
   ]
  },
  {
   "cell_type": "code",
   "execution_count": 13,
   "id": "00620d52",
   "metadata": {
    "execution": {
     "iopub.execute_input": "2022-09-07T18:05:53.407420Z",
     "iopub.status.busy": "2022-09-07T18:05:53.406237Z",
     "iopub.status.idle": "2022-09-07T18:05:55.488416Z",
     "shell.execute_reply": "2022-09-07T18:05:55.487572Z"
    },
    "papermill": {
     "duration": 2.095825,
     "end_time": "2022-09-07T18:05:55.490247",
     "exception": false,
     "start_time": "2022-09-07T18:05:53.394422",
     "status": "completed"
    },
    "tags": []
   },
   "outputs": [
    {
     "data": {
      "text/plain": [
       "58"
      ]
     },
     "execution_count": 13,
     "metadata": {},
     "output_type": "execute_result"
    }
   ],
   "source": [
    "from sklearn.feature_selection import VarianceThreshold\n",
    "from itertools import compress\n",
    "\n",
    "temp = df.drop(['D_63', 'D_64'], axis=1)\n",
    "\n",
    "# Initialize and fit the method\n",
    "vt = VarianceThreshold(threshold = float(0.1))\n",
    "vt.fit(temp)\n",
    "\n",
    "#columns with sufficient variance\n",
    "keep = list(compress(temp.columns, vt.get_support()))\n",
    "\n",
    "#dropped = ['D_63', 'D_64', 'customer_ID', 'S_2']\n",
    "\n",
    "keep.extend(['D_63', 'D_64',])\n",
    "\n",
    "#keep = keep + dropped\n",
    "#keep.append('D_64')\n",
    "df=df[keep]\n",
    "keep.extend([ 'customer_ID', 'S_2'])\n",
    "#keep.append('customer_ID')\n",
    "#keep.append('S_2')\n",
    "len(keep)"
   ]
  },
  {
   "cell_type": "markdown",
   "id": "b73baacf",
   "metadata": {
    "papermill": {
     "duration": 0.009965,
     "end_time": "2022-09-07T18:05:55.510893",
     "exception": false,
     "start_time": "2022-09-07T18:05:55.500928",
     "status": "completed"
    },
    "tags": []
   },
   "source": [
    "Now lets take a look at our data types."
   ]
  },
  {
   "cell_type": "code",
   "execution_count": 14,
   "id": "4c25041e",
   "metadata": {
    "execution": {
     "iopub.execute_input": "2022-09-07T18:05:55.533056Z",
     "iopub.status.busy": "2022-09-07T18:05:55.532493Z",
     "iopub.status.idle": "2022-09-07T18:05:55.539213Z",
     "shell.execute_reply": "2022-09-07T18:05:55.538332Z"
    },
    "papermill": {
     "duration": 0.019984,
     "end_time": "2022-09-07T18:05:55.540944",
     "exception": false,
     "start_time": "2022-09-07T18:05:55.520960",
     "status": "completed"
    },
    "tags": []
   },
   "outputs": [
    {
     "name": "stdout",
     "output_type": "stream",
     "text": [
      "float32    54\n",
      "object      2\n",
      "dtype: int64\n",
      "Index(['D_39', 'B_2', 'B_5', 'D_48', 'B_6', 'B_8', 'D_50', 'B_10', 'S_5',\n",
      "       'S_6', 'B_12', 'R_5', 'D_60', 'D_61', 'D_65', 'B_16', 'B_17', 'B_18',\n",
      "       'B_20', 'D_68', 'R_6', 'B_21', 'D_69', 'D_71', 'P_4', 'B_24', 'R_7',\n",
      "       'B_26', 'D_78', 'R_8', 'S_16', 'R_10', 'D_81', 'R_14', 'D_84', 'B_30',\n",
      "       'R_20', 'S_22', 'S_23', 'S_26', 'D_103', 'R_27', 'B_38', 'D_112',\n",
      "       'B_40', 'S_27', 'D_114', 'D_117', 'D_120', 'D_126', 'D_128', 'D_129',\n",
      "       'D_130', 'D_139', 'D_63', 'D_64'],\n",
      "      dtype='object')\n"
     ]
    }
   ],
   "source": [
    "print(df.dtypes.value_counts())\n",
    "print(df.columns)\n",
    "#how to find categorical data encoded as numeric"
   ]
  },
  {
   "cell_type": "markdown",
   "id": "c1b141fc",
   "metadata": {
    "papermill": {
     "duration": 0.010469,
     "end_time": "2022-09-07T18:05:55.562216",
     "exception": false,
     "start_time": "2022-09-07T18:05:55.551747",
     "status": "completed"
    },
    "tags": []
   },
   "source": [
    "Convert our object columns to numeric via one hot encoding"
   ]
  },
  {
   "cell_type": "code",
   "execution_count": 15,
   "id": "1371680f",
   "metadata": {
    "execution": {
     "iopub.execute_input": "2022-09-07T18:05:55.586096Z",
     "iopub.status.busy": "2022-09-07T18:05:55.585540Z",
     "iopub.status.idle": "2022-09-07T18:05:55.665621Z",
     "shell.execute_reply": "2022-09-07T18:05:55.663481Z"
    },
    "papermill": {
     "duration": 0.095101,
     "end_time": "2022-09-07T18:05:55.668337",
     "exception": false,
     "start_time": "2022-09-07T18:05:55.573236",
     "status": "completed"
    },
    "tags": []
   },
   "outputs": [
    {
     "name": "stdout",
     "output_type": "stream",
     "text": [
      "<class 'pandas.core.frame.DataFrame'>\n",
      "Index: 458913 entries, 0000099d6bd597052cdcda90ffabf56573fe9d7c79be5fbac11a8ed792feb62a to fffff1d38b785cef84adeace64f8f83db3a0c31e8d92eaba8b115f71cab04681\n",
      "Data columns (total 56 columns):\n",
      " #   Column  Non-Null Count   Dtype  \n",
      "---  ------  --------------   -----  \n",
      " 0   D_39    458913 non-null  float32\n",
      " 1   B_2     458882 non-null  float32\n",
      " 2   B_5     458913 non-null  float32\n",
      " 3   D_48    400921 non-null  float32\n",
      " 4   B_6     458873 non-null  float32\n",
      " 5   B_8     454822 non-null  float32\n",
      " 6   D_50    196678 non-null  float32\n",
      " 7   B_10    458913 non-null  float32\n",
      " 8   S_5     458913 non-null  float32\n",
      " 9   S_6     458913 non-null  float32\n",
      " 10  B_12    458913 non-null  float32\n",
      " 11  R_5     458913 non-null  float32\n",
      " 12  D_60    458913 non-null  float32\n",
      " 13  D_61    410565 non-null  float32\n",
      " 14  D_65    458913 non-null  float32\n",
      " 15  B_16    458882 non-null  float32\n",
      " 16  B_17    214442 non-null  float32\n",
      " 17  B_18    458913 non-null  float32\n",
      " 18  B_20    458882 non-null  float32\n",
      " 19  D_68    449901 non-null  float32\n",
      " 20  R_6     458913 non-null  float32\n",
      " 21  B_21    458913 non-null  float32\n",
      " 22  D_69    452548 non-null  float32\n",
      " 23  D_71    458913 non-null  float32\n",
      " 24  P_4     458913 non-null  float32\n",
      " 25  B_24    458913 non-null  float32\n",
      " 26  R_7     458913 non-null  float32\n",
      " 27  B_26    458882 non-null  float32\n",
      " 28  D_78    436618 non-null  float32\n",
      " 29  R_8     458913 non-null  float32\n",
      " 30  S_16    458913 non-null  float32\n",
      " 31  R_10    458913 non-null  float32\n",
      " 32  D_81    457723 non-null  float32\n",
      " 33  R_14    458913 non-null  float32\n",
      " 34  D_84    457673 non-null  float32\n",
      " 35  B_30    458882 non-null  float32\n",
      " 36  R_20    458913 non-null  float32\n",
      " 37  S_22    457146 non-null  float32\n",
      " 38  S_23    458869 non-null  float32\n",
      " 39  S_26    458913 non-null  float32\n",
      " 40  D_103   456083 non-null  float32\n",
      " 41  R_27    430177 non-null  float32\n",
      " 42  B_38    458882 non-null  float32\n",
      " 43  D_112   458882 non-null  float32\n",
      " 44  B_40    458913 non-null  float32\n",
      " 45  S_27    341747 non-null  float32\n",
      " 46  D_114   452896 non-null  float32\n",
      " 47  D_117   452896 non-null  float32\n",
      " 48  D_120   452896 non-null  float32\n",
      " 49  D_126   458913 non-null  float32\n",
      " 50  D_128   456083 non-null  float32\n",
      " 51  D_129   456083 non-null  float32\n",
      " 52  D_130   456083 non-null  float32\n",
      " 53  D_139   456083 non-null  float32\n",
      " 54  D_63    458913 non-null  object \n",
      " 55  D_64    448876 non-null  object \n",
      "dtypes: float32(54), object(2)\n",
      "memory usage: 105.0+ MB\n"
     ]
    }
   ],
   "source": [
    "df.info()"
   ]
  },
  {
   "cell_type": "code",
   "execution_count": 16,
   "id": "fb4cdaf3",
   "metadata": {
    "execution": {
     "iopub.execute_input": "2022-09-07T18:05:55.692098Z",
     "iopub.status.busy": "2022-09-07T18:05:55.691748Z",
     "iopub.status.idle": "2022-09-07T18:05:55.909187Z",
     "shell.execute_reply": "2022-09-07T18:05:55.908302Z"
    },
    "papermill": {
     "duration": 0.231615,
     "end_time": "2022-09-07T18:05:55.911114",
     "exception": false,
     "start_time": "2022-09-07T18:05:55.679499",
     "status": "completed"
    },
    "tags": []
   },
   "outputs": [
    {
     "name": "stdout",
     "output_type": "stream",
     "text": [
      "(458913, 63)\n"
     ]
    }
   ],
   "source": [
    "df = pd.get_dummies(df)\n",
    "#print(df['D_64_-1'].sum())\n",
    "#df.drop(['D_64_-1'], axis=1, inplace = True)\n",
    "print(df.shape)"
   ]
  },
  {
   "cell_type": "code",
   "execution_count": 17,
   "id": "56511cb0",
   "metadata": {
    "execution": {
     "iopub.execute_input": "2022-09-07T18:05:55.933870Z",
     "iopub.status.busy": "2022-09-07T18:05:55.933192Z",
     "iopub.status.idle": "2022-09-07T18:06:00.573103Z",
     "shell.execute_reply": "2022-09-07T18:06:00.572419Z"
    },
    "papermill": {
     "duration": 4.653931,
     "end_time": "2022-09-07T18:06:00.575359",
     "exception": false,
     "start_time": "2022-09-07T18:05:55.921428",
     "status": "completed"
    },
    "tags": []
   },
   "outputs": [],
   "source": [
    "#Handling missing values\n",
    "from sklearn.impute import SimpleImputer\n",
    "my_imputer = SimpleImputer()\n",
    "df.iloc[:,:] = my_imputer.fit_transform(df.iloc[:,:])"
   ]
  },
  {
   "cell_type": "markdown",
   "id": "f524eb58",
   "metadata": {
    "papermill": {
     "duration": 0.0106,
     "end_time": "2022-09-07T18:06:00.596818",
     "exception": false,
     "start_time": "2022-09-07T18:06:00.586218",
     "status": "completed"
    },
    "tags": []
   },
   "source": [
    "We scale our data for better results"
   ]
  },
  {
   "cell_type": "markdown",
   "id": "dc9df79d",
   "metadata": {
    "papermill": {
     "duration": 0.010592,
     "end_time": "2022-09-07T18:06:00.618161",
     "exception": false,
     "start_time": "2022-09-07T18:06:00.607569",
     "status": "completed"
    },
    "tags": []
   },
   "source": [
    "Reshaping data for model training"
   ]
  },
  {
   "cell_type": "code",
   "execution_count": 18,
   "id": "0f72cfda",
   "metadata": {
    "execution": {
     "iopub.execute_input": "2022-09-07T18:06:00.641933Z",
     "iopub.status.busy": "2022-09-07T18:06:00.641284Z",
     "iopub.status.idle": "2022-09-07T18:06:01.175918Z",
     "shell.execute_reply": "2022-09-07T18:06:01.174800Z"
    },
    "papermill": {
     "duration": 0.549132,
     "end_time": "2022-09-07T18:06:01.178288",
     "exception": false,
     "start_time": "2022-09-07T18:06:00.629156",
     "status": "completed"
    },
    "tags": []
   },
   "outputs": [],
   "source": [
    "from sklearn.model_selection import train_test_split\n",
    "\n",
    "\n",
    "#this okay?\n",
    "#df=df.reset_index()\n",
    "\n",
    "\n",
    "x = df.iloc[:, :]\n",
    "y = df_label.iloc[:]\n",
    "\n",
    "x_train, x_test, y_train, y_test = train_test_split(x, y, test_size=0.25, random_state=23)"
   ]
  },
  {
   "cell_type": "code",
   "execution_count": 19,
   "id": "8d90a5ac",
   "metadata": {
    "execution": {
     "iopub.execute_input": "2022-09-07T18:06:01.201154Z",
     "iopub.status.busy": "2022-09-07T18:06:01.200804Z",
     "iopub.status.idle": "2022-09-07T18:06:01.207471Z",
     "shell.execute_reply": "2022-09-07T18:06:01.206383Z"
    },
    "papermill": {
     "duration": 0.020686,
     "end_time": "2022-09-07T18:06:01.209681",
     "exception": false,
     "start_time": "2022-09-07T18:06:01.188995",
     "status": "completed"
    },
    "tags": []
   },
   "outputs": [
    {
     "data": {
      "text/plain": [
       "'#does this actually help log regr sig?\\nfrom sklearn import preprocessing\\n\\nscaler = preprocessing.StandardScaler().fit(X)\\nX_scaled = scaler.transform(X)'"
      ]
     },
     "execution_count": 19,
     "metadata": {},
     "output_type": "execute_result"
    }
   ],
   "source": [
    "\"\"\"#does this actually help log regr sig?\n",
    "from sklearn import preprocessing\n",
    "\n",
    "scaler = preprocessing.StandardScaler().fit(X)\n",
    "X_scaled = scaler.transform(X)\"\"\""
   ]
  },
  {
   "cell_type": "markdown",
   "id": "1d5741e1",
   "metadata": {
    "papermill": {
     "duration": 0.01037,
     "end_time": "2022-09-07T18:06:01.230868",
     "exception": false,
     "start_time": "2022-09-07T18:06:01.220498",
     "status": "completed"
    },
    "tags": []
   },
   "source": [
    "# Model Building"
   ]
  },
  {
   "cell_type": "code",
   "execution_count": 20,
   "id": "93f6e219",
   "metadata": {
    "execution": {
     "iopub.execute_input": "2022-09-07T18:06:01.254082Z",
     "iopub.status.busy": "2022-09-07T18:06:01.253729Z",
     "iopub.status.idle": "2022-09-07T18:06:06.201592Z",
     "shell.execute_reply": "2022-09-07T18:06:06.200583Z"
    },
    "papermill": {
     "duration": 4.962592,
     "end_time": "2022-09-07T18:06:06.204117",
     "exception": false,
     "start_time": "2022-09-07T18:06:01.241525",
     "status": "completed"
    },
    "tags": []
   },
   "outputs": [
    {
     "name": "stdout",
     "output_type": "stream",
     "text": [
      "27211\n",
      "0.8788449302268825\n",
      "\n",
      "Logistics Regression Accuracy: 0.879\n",
      "\n",
      "Logistics Regression Precision: 0.791\n",
      "\n",
      "Logistics Regression Recall: 0.724\n"
     ]
    },
    {
     "name": "stderr",
     "output_type": "stream",
     "text": [
      "/opt/conda/lib/python3.7/site-packages/sklearn/linear_model/_logistic.py:818: ConvergenceWarning: lbfgs failed to converge (status=1):\n",
      "STOP: TOTAL NO. of ITERATIONS REACHED LIMIT.\n",
      "\n",
      "Increase the number of iterations (max_iter) or scale the data as shown in:\n",
      "    https://scikit-learn.org/stable/modules/preprocessing.html\n",
      "Please also refer to the documentation for alternative solver options:\n",
      "    https://scikit-learn.org/stable/modules/linear_model.html#logistic-regression\n",
      "  extra_warning_msg=_LOGISTIC_SOLVER_CONVERGENCE_MSG,\n"
     ]
    }
   ],
   "source": [
    "from sklearn.linear_model import LogisticRegression\n",
    "from sklearn.metrics import accuracy_score  \n",
    "from sklearn.metrics import precision_score                         \n",
    "from sklearn.metrics import recall_score\n",
    "# create object for the class\n",
    "log = LogisticRegression(random_state=12)\n",
    "log.fit(x_train, y_train) \n",
    "y_pred = log.predict(x_test)\n",
    "\n",
    "print(np.sum(y_pred))\n",
    "print(log.score(x_test, y_test))\n",
    "print('\\nLogistics Regression Accuracy: {:.3f}'.format(accuracy_score(y_test, y_pred)))\n",
    "\n",
    "\n",
    "print('\\nLogistics Regression Precision: {:.3f}'.format(precision_score (y_test, y_pred)))\n",
    "\n",
    "\n",
    "print('\\nLogistics Regression Recall: {:.3f}'.format(recall_score (y_test, y_pred)))\n"
   ]
  },
  {
   "cell_type": "markdown",
   "id": "7cab2efc",
   "metadata": {
    "papermill": {
     "duration": 0.010561,
     "end_time": "2022-09-07T18:06:06.225808",
     "exception": false,
     "start_time": "2022-09-07T18:06:06.215247",
     "status": "completed"
    },
    "tags": []
   },
   "source": [
    "# Results"
   ]
  },
  {
   "cell_type": "code",
   "execution_count": 21,
   "id": "f248e21a",
   "metadata": {
    "execution": {
     "iopub.execute_input": "2022-09-07T18:06:06.249377Z",
     "iopub.status.busy": "2022-09-07T18:06:06.249038Z",
     "iopub.status.idle": "2022-09-07T18:06:06.744250Z",
     "shell.execute_reply": "2022-09-07T18:06:06.742702Z"
    },
    "papermill": {
     "duration": 0.509551,
     "end_time": "2022-09-07T18:06:06.746365",
     "exception": false,
     "start_time": "2022-09-07T18:06:06.236814",
     "status": "completed"
    },
    "tags": []
   },
   "outputs": [
    {
     "name": "stdout",
     "output_type": "stream",
     "text": [
      "Accuracy: 0.879\n",
      "0.8284572508888731\n"
     ]
    },
    {
     "data": {
      "image/png": "[encoded data removed]",
      "text/plain": [
       "<Figure size 648x648 with 2 Axes>"
      ]
     },
     "metadata": {
      "needs_background": "light"
     },
     "output_type": "display_data"
    }
   ],
   "source": [
    "from sklearn import metrics\n",
    "import matplotlib.pyplot as plt\n",
    "import seaborn as sns\n",
    "\n",
    "cm = metrics.confusion_matrix(y_test, y_pred)\n",
    "\n",
    "plt.figure(figsize=(9,9))\n",
    "sns.heatmap(cm, annot=True, fmt=\".3f\", linewidths=.5, square = True, cmap = 'YlGnBu');\n",
    "plt.ylabel('Actual label');\n",
    "plt.xlabel('Predicted label');\n",
    "\n",
    "score = log.score(x_test, y_test)\n",
    "\n",
    "all_sample_title = 'Accuracy Score: {0}'.format(round(score,3))\n",
    "\n",
    "#all_sample_title = 'Accuracy Score: {0}'.format(round(log.score(x_test, y_test),3))\n",
    "plt.title(all_sample_title, size = 15);\n",
    "\n",
    "print('Accuracy:',round(metrics.accuracy_score(y_test, y_pred),3))\n",
    "metrics.roc_curve(y_test, y_pred)\n",
    "print(metrics.roc_auc_score(y_test, y_pred))"
   ]
  },
  {
   "cell_type": "code",
   "execution_count": 22,
   "id": "159d2041",
   "metadata": {
    "execution": {
     "iopub.execute_input": "2022-09-07T18:06:06.772497Z",
     "iopub.status.busy": "2022-09-07T18:06:06.771434Z",
     "iopub.status.idle": "2022-09-07T18:06:06.778453Z",
     "shell.execute_reply": "2022-09-07T18:06:06.777504Z"
    },
    "papermill": {
     "duration": 0.023067,
     "end_time": "2022-09-07T18:06:06.780889",
     "exception": false,
     "start_time": "2022-09-07T18:06:06.757822",
     "status": "completed"
    },
    "tags": []
   },
   "outputs": [
    {
     "data": {
      "text/plain": [
       "\"\\n#trying random forest\\nfrom sklearn.ensemble import RandomForestClassifier\\nfrom sklearn.model_selection import RandomizedSearchCV, GridSearchCV\\n# Number of trees in random forest\\nn_estimators = [int(i) for i in np.linspace(start = 200, stop = 2000, num = 10)]\\n# Number of features to consider at every split\\nmax_features = ['auto', 'sqrt']\\n# Maximum number of levels in tree\\nmax_depth = [int(i) for i in np.linspace(10, 110, num = 11)]\\nmax_depth.append(None)\\n# Minimum number of samples required to split a node\\nmin_samples_split = [2, 5, 10]\\n# Minimum number of samples required at each leaf node\\nmin_samples_leaf = [1, 2, 4]\\n# Method of selecting samples for training each tree\\nbootstrap = [True, False]\\n# Create the random grid\\nrandom_grid = {'n_estimators': n_estimators,\\n               'max_features': max_features,\\n               'max_depth': max_depth,\\n               'min_samples_split': min_samples_split,\\n               'min_samples_leaf': min_samples_leaf,\\n               'bootstrap': bootstrap}\\n\\nmodel = RandomForestClassifier(n_estimators=400, max_features='sqrt', bootstrap=True, max_depth=30, min_samples_leaf=1, min_samples_split=5, n_jobs=-1)\\n\\n\\n#rf_random = GridSearchCV(estimator = rf, param_grid = random_grid, cv = 3, verbose=1, n_jobs = -1)\\n# Fit the random search model\\n\\n\\nmodel.fit(x_train,y_train)\""
      ]
     },
     "execution_count": 22,
     "metadata": {},
     "output_type": "execute_result"
    }
   ],
   "source": [
    "\"\"\"\n",
    "#trying random forest\n",
    "from sklearn.ensemble import RandomForestClassifier\n",
    "from sklearn.model_selection import RandomizedSearchCV, GridSearchCV\n",
    "# Number of trees in random forest\n",
    "n_estimators = [int(i) for i in np.linspace(start = 200, stop = 2000, num = 10)]\n",
    "# Number of features to consider at every split\n",
    "max_features = ['auto', 'sqrt']\n",
    "# Maximum number of levels in tree\n",
    "max_depth = [int(i) for i in np.linspace(10, 110, num = 11)]\n",
    "max_depth.append(None)\n",
    "# Minimum number of samples required to split a node\n",
    "min_samples_split = [2, 5, 10]\n",
    "# Minimum number of samples required at each leaf node\n",
    "min_samples_leaf = [1, 2, 4]\n",
    "# Method of selecting samples for training each tree\n",
    "bootstrap = [True, False]\n",
    "# Create the random grid\n",
    "random_grid = {'n_estimators': n_estimators,\n",
    "               'max_features': max_features,\n",
    "               'max_depth': max_depth,\n",
    "               'min_samples_split': min_samples_split,\n",
    "               'min_samples_leaf': min_samples_leaf,\n",
    "               'bootstrap': bootstrap}\n",
    "\n",
    "model = RandomForestClassifier(n_estimators=400, max_features='sqrt', bootstrap=True, max_depth=30, min_samples_leaf=1, min_samples_split=5, n_jobs=-1)\n",
    "\n",
    "\n",
    "#rf_random = GridSearchCV(estimator = rf, param_grid = random_grid, cv = 3, verbose=1, n_jobs = -1)\n",
    "# Fit the random search model\n",
    "\n",
    "\n",
    "model.fit(x_train,y_train)\"\"\""
   ]
  },
  {
   "cell_type": "code",
   "execution_count": 23,
   "id": "d2501a0a",
   "metadata": {
    "execution": {
     "iopub.execute_input": "2022-09-07T18:06:06.806875Z",
     "iopub.status.busy": "2022-09-07T18:06:06.806495Z",
     "iopub.status.idle": "2022-09-07T18:06:06.812061Z",
     "shell.execute_reply": "2022-09-07T18:06:06.811143Z"
    },
    "papermill": {
     "duration": 0.021194,
     "end_time": "2022-09-07T18:06:06.813901",
     "exception": false,
     "start_time": "2022-09-07T18:06:06.792707",
     "status": "completed"
    },
    "tags": []
   },
   "outputs": [
    {
     "data": {
      "text/plain": [
       "'y_pred = model.predict_proba(x_test)\\n#y_pred = model.predict(x_test)\\n#y_pred = y_pred[:,1]\\nprint(y_pred.shape, y_pred[25:50])'"
      ]
     },
     "execution_count": 23,
     "metadata": {},
     "output_type": "execute_result"
    }
   ],
   "source": [
    "\"\"\"y_pred = model.predict_proba(x_test)\n",
    "#y_pred = model.predict(x_test)\n",
    "#y_pred = y_pred[:,1]\n",
    "print(y_pred.shape, y_pred[25:50])\"\"\""
   ]
  },
  {
   "cell_type": "code",
   "execution_count": 24,
   "id": "56a2ff1b",
   "metadata": {
    "execution": {
     "iopub.execute_input": "2022-09-07T18:06:06.839083Z",
     "iopub.status.busy": "2022-09-07T18:06:06.838569Z",
     "iopub.status.idle": "2022-09-07T18:06:06.844125Z",
     "shell.execute_reply": "2022-09-07T18:06:06.843462Z"
    },
    "papermill": {
     "duration": 0.020006,
     "end_time": "2022-09-07T18:06:06.845824",
     "exception": false,
     "start_time": "2022-09-07T18:06:06.825818",
     "status": "completed"
    },
    "tags": []
   },
   "outputs": [
    {
     "data": {
      "text/plain": [
       "'print(y_test, y_test.shape)'"
      ]
     },
     "execution_count": 24,
     "metadata": {},
     "output_type": "execute_result"
    }
   ],
   "source": [
    "\"\"\"print(y_test, y_test.shape)\"\"\""
   ]
  },
  {
   "cell_type": "code",
   "execution_count": 25,
   "id": "979d0696",
   "metadata": {
    "execution": {
     "iopub.execute_input": "2022-09-07T18:06:06.870731Z",
     "iopub.status.busy": "2022-09-07T18:06:06.870185Z",
     "iopub.status.idle": "2022-09-07T18:06:06.878967Z",
     "shell.execute_reply": "2022-09-07T18:06:06.877296Z"
    },
    "papermill": {
     "duration": 0.024551,
     "end_time": "2022-09-07T18:06:06.881859",
     "exception": false,
     "start_time": "2022-09-07T18:06:06.857308",
     "status": "completed"
    },
    "tags": []
   },
   "outputs": [
    {
     "data": {
      "text/plain": [
       "\"from sklearn.ensemble import RandomForestClassifier\\n\\ndef evaluate(model, test_features, test_labels):\\n    predictions = model.predict(test_features)\\n    print(predictions, test_labels)\\n    errors = abs(predictions - test_labels)\\n    print(errors)\\n    mape = 100 * np.mean(errors / test_labels)\\n    print('mape',mape)\\n    accuracy = 100 - mape\\n    print('Model Performance')\\n    print('Average Error: {:0.4f} degrees.'.format(np.mean(errors)))\\n    print('Accuracy = {:0.2f}%.'.format(accuracy))\\n    \\n    return accuracy\\nbase_model = RandomForestClassifier(n_estimators = 10, random_state = 42)\\nbase_model.fit(x_train, y_train)\\nbase_accuracy = evaluate(base_model, x_test, y_test)\""
      ]
     },
     "execution_count": 25,
     "metadata": {},
     "output_type": "execute_result"
    }
   ],
   "source": [
    "\"\"\"from sklearn.ensemble import RandomForestClassifier\n",
    "\n",
    "def evaluate(model, test_features, test_labels):\n",
    "    predictions = model.predict(test_features)\n",
    "    print(predictions, test_labels)\n",
    "    errors = abs(predictions - test_labels)\n",
    "    print(errors)\n",
    "    mape = 100 * np.mean(errors / test_labels)\n",
    "    print('mape',mape)\n",
    "    accuracy = 100 - mape\n",
    "    print('Model Performance')\n",
    "    print('Average Error: {:0.4f} degrees.'.format(np.mean(errors)))\n",
    "    print('Accuracy = {:0.2f}%.'.format(accuracy))\n",
    "    \n",
    "    return accuracy\n",
    "base_model = RandomForestClassifier(n_estimators = 10, random_state = 42)\n",
    "base_model.fit(x_train, y_train)\n",
    "base_accuracy = evaluate(base_model, x_test, y_test)\"\"\""
   ]
  },
  {
   "cell_type": "code",
   "execution_count": 26,
   "id": "c448db12",
   "metadata": {
    "execution": {
     "iopub.execute_input": "2022-09-07T18:06:06.908014Z",
     "iopub.status.busy": "2022-09-07T18:06:06.907692Z",
     "iopub.status.idle": "2022-09-07T18:06:07.038795Z",
     "shell.execute_reply": "2022-09-07T18:06:07.037970Z"
    },
    "papermill": {
     "duration": 0.146678,
     "end_time": "2022-09-07T18:06:07.040545",
     "exception": false,
     "start_time": "2022-09-07T18:06:06.893867",
     "status": "completed"
    },
    "tags": []
   },
   "outputs": [
    {
     "data": {
      "text/plain": [
       "5066"
      ]
     },
     "execution_count": 26,
     "metadata": {},
     "output_type": "execute_result"
    }
   ],
   "source": [
    "import gc\n",
    "#free up ram\n",
    "del df\n",
    "gc.collect()"
   ]
  },
  {
   "cell_type": "code",
   "execution_count": 27,
   "id": "fdbaedfc",
   "metadata": {
    "execution": {
     "iopub.execute_input": "2022-09-07T18:06:07.066814Z",
     "iopub.status.busy": "2022-09-07T18:06:07.065318Z",
     "iopub.status.idle": "2022-09-07T18:06:07.073201Z",
     "shell.execute_reply": "2022-09-07T18:06:07.070273Z"
    },
    "papermill": {
     "duration": 0.02457,
     "end_time": "2022-09-07T18:06:07.076727",
     "exception": false,
     "start_time": "2022-09-07T18:06:07.052157",
     "status": "completed"
    },
    "tags": []
   },
   "outputs": [
    {
     "name": "stdout",
     "output_type": "stream",
     "text": [
      "58 ['D_39', 'B_2', 'B_5', 'D_48', 'B_6', 'B_8', 'D_50', 'B_10', 'S_5', 'S_6', 'B_12', 'R_5', 'D_60', 'D_61', 'D_65', 'B_16', 'B_17', 'B_18', 'B_20', 'D_68', 'R_6', 'B_21', 'D_69', 'D_71', 'P_4', 'B_24', 'R_7', 'B_26', 'D_78', 'R_8', 'S_16', 'R_10', 'D_81', 'R_14', 'D_84', 'B_30', 'R_20', 'S_22', 'S_23', 'S_26', 'D_103', 'R_27', 'B_38', 'D_112', 'B_40', 'S_27', 'D_114', 'D_117', 'D_120', 'D_126', 'D_128', 'D_129', 'D_130', 'D_139', 'D_63', 'D_64', 'customer_ID', 'S_2']\n"
     ]
    }
   ],
   "source": [
    "print(len(keep), keep)"
   ]
  },
  {
   "cell_type": "code",
   "execution_count": 28,
   "id": "d2a1a650",
   "metadata": {
    "execution": {
     "iopub.execute_input": "2022-09-07T18:06:07.103146Z",
     "iopub.status.busy": "2022-09-07T18:06:07.102602Z",
     "iopub.status.idle": "2022-09-07T18:06:32.679280Z",
     "shell.execute_reply": "2022-09-07T18:06:32.678250Z"
    },
    "papermill": {
     "duration": 25.593207,
     "end_time": "2022-09-07T18:06:32.682348",
     "exception": false,
     "start_time": "2022-09-07T18:06:07.089141",
     "status": "completed"
    },
    "tags": []
   },
   "outputs": [
    {
     "name": "stdout",
     "output_type": "stream",
     "text": [
      "(11363762, 58)\n"
     ]
    }
   ],
   "source": [
    "#run prediction on test dat\n",
    "#only loading columns that model utilizes\n",
    "df2=pd.read_parquet('/kaggle/input/amex-parquet/test_data.parquet', columns =keep)\n",
    "print(df2.shape)"
   ]
  },
  {
   "cell_type": "code",
   "execution_count": 29,
   "id": "667d4da6",
   "metadata": {
    "execution": {
     "iopub.execute_input": "2022-09-07T18:06:32.709276Z",
     "iopub.status.busy": "2022-09-07T18:06:32.708775Z",
     "iopub.status.idle": "2022-09-07T18:06:32.712235Z",
     "shell.execute_reply": "2022-09-07T18:06:32.711186Z"
    },
    "papermill": {
     "duration": 0.018542,
     "end_time": "2022-09-07T18:06:32.714146",
     "exception": false,
     "start_time": "2022-09-07T18:06:32.695604",
     "status": "completed"
    },
    "tags": []
   },
   "outputs": [],
   "source": [
    "#Handling missing values via imputation\n",
    "#df2.iloc[:,:] = my_imputer.fit_transform(df2.iloc[:,:])"
   ]
  },
  {
   "cell_type": "code",
   "execution_count": 30,
   "id": "394f6cb1",
   "metadata": {
    "execution": {
     "iopub.execute_input": "2022-09-07T18:06:32.741242Z",
     "iopub.status.busy": "2022-09-07T18:06:32.740663Z",
     "iopub.status.idle": "2022-09-07T18:06:34.961765Z",
     "shell.execute_reply": "2022-09-07T18:06:34.960800Z"
    },
    "papermill": {
     "duration": 2.23617,
     "end_time": "2022-09-07T18:06:34.963920",
     "exception": false,
     "start_time": "2022-09-07T18:06:32.727750",
     "status": "completed"
    },
    "tags": []
   },
   "outputs": [
    {
     "name": "stdout",
     "output_type": "stream",
     "text": [
      "(11363762, 58) (924621, 56)\n",
      "Columns left with NaN:\n",
      "B_2 0.0\n",
      "D_48 0.13\n",
      "B_6 0.0\n",
      "B_8 0.01\n",
      "D_50 0.57\n",
      "D_61 0.11\n",
      "B_16 0.0\n",
      "B_17 0.52\n",
      "B_20 0.0\n",
      "D_68 0.02\n",
      "D_69 0.02\n",
      "B_26 0.0\n",
      "D_78 0.05\n",
      "D_81 0.0\n",
      "D_84 0.0\n",
      "B_30 0.0\n",
      "S_22 0.01\n",
      "S_23 0.0\n",
      "S_26 0.0\n",
      "D_103 0.01\n",
      "R_27 0.06\n",
      "B_38 0.0\n",
      "D_112 0.0\n",
      "B_40 0.0\n",
      "S_27 0.23\n",
      "D_114 0.02\n",
      "D_117 0.02\n",
      "D_120 0.02\n",
      "D_128 0.01\n",
      "D_129 0.01\n",
      "D_130 0.01\n",
      "D_139 0.01\n",
      "D_64 0.03\n"
     ]
    }
   ],
   "source": [
    "#using only most recent transaction from each customer\n",
    "#Does this make sense for test data??\n",
    "temp = df2.shape\n",
    "df2=df2.set_index(['customer_ID'])\n",
    "#df2=df2.ffill()\n",
    "#df2=df2.bfill()\n",
    "df2=df2.reset_index()\n",
    "\n",
    "df2=df2.groupby('customer_ID').tail(1)\n",
    "df2=df2.set_index(['customer_ID'])\n",
    "\n",
    "#Drop date column since it is no longer useful\n",
    "df2.drop(['S_2'],axis=1,inplace=True)\n",
    "\n",
    "print(temp, df2.shape)\n",
    "\n",
    "#inspecting NaN\n",
    "print('Columns left with NaN:')\n",
    "for i in range(len(df2.columns)):\n",
    "    if (df2.iloc[:,i].isnull().sum()/len(df2) > 0):\n",
    "        print(df2.columns[i], round(df2.iloc[:,i].isnull().sum()/len(df2),2))"
   ]
  },
  {
   "cell_type": "code",
   "execution_count": 31,
   "id": "834cac3a",
   "metadata": {
    "execution": {
     "iopub.execute_input": "2022-09-07T18:06:34.989248Z",
     "iopub.status.busy": "2022-09-07T18:06:34.988924Z",
     "iopub.status.idle": "2022-09-07T18:06:35.475738Z",
     "shell.execute_reply": "2022-09-07T18:06:35.474703Z"
    },
    "papermill": {
     "duration": 0.502594,
     "end_time": "2022-09-07T18:06:35.478349",
     "exception": false,
     "start_time": "2022-09-07T18:06:34.975755",
     "status": "completed"
    },
    "tags": []
   },
   "outputs": [],
   "source": [
    "#one hot encoding\n",
    "df2 = pd.get_dummies(df2)"
   ]
  },
  {
   "cell_type": "code",
   "execution_count": 32,
   "id": "7957fbd4",
   "metadata": {
    "execution": {
     "iopub.execute_input": "2022-09-07T18:06:35.504558Z",
     "iopub.status.busy": "2022-09-07T18:06:35.504214Z",
     "iopub.status.idle": "2022-09-07T18:06:44.693483Z",
     "shell.execute_reply": "2022-09-07T18:06:44.692232Z"
    },
    "papermill": {
     "duration": 9.205135,
     "end_time": "2022-09-07T18:06:44.695606",
     "exception": false,
     "start_time": "2022-09-07T18:06:35.490471",
     "status": "completed"
    },
    "tags": []
   },
   "outputs": [],
   "source": [
    "from sklearn.impute import SimpleImputer\n",
    "my_imputer = SimpleImputer()\n",
    "df2.iloc[:,:] = my_imputer.fit_transform(df2.iloc[:,:])"
   ]
  },
  {
   "cell_type": "code",
   "execution_count": 33,
   "id": "2f1f813c",
   "metadata": {
    "execution": {
     "iopub.execute_input": "2022-09-07T18:06:44.720441Z",
     "iopub.status.busy": "2022-09-07T18:06:44.720124Z",
     "iopub.status.idle": "2022-09-07T18:06:45.053548Z",
     "shell.execute_reply": "2022-09-07T18:06:45.051947Z"
    },
    "papermill": {
     "duration": 0.348897,
     "end_time": "2022-09-07T18:06:45.056251",
     "exception": false,
     "start_time": "2022-09-07T18:06:44.707354",
     "status": "completed"
    },
    "tags": []
   },
   "outputs": [
    {
     "name": "stdout",
     "output_type": "stream",
     "text": [
      "[0.22016944 0.01156095 0.15025838 ... 0.45693484 0.46304212 0.07029843]\n",
      "[0.22016944 0.01156095 0.15025838 ... 0.45693484 0.46304212 0.07029843] 241990.02721464453\n"
     ]
    },
    {
     "name": "stderr",
     "output_type": "stream",
     "text": [
      "/opt/conda/lib/python3.7/site-packages/sklearn/base.py:451: UserWarning: X does not have valid feature names, but LogisticRegression was fitted with feature names\n",
      "  \"X does not have valid feature names, but\"\n"
     ]
    }
   ],
   "source": [
    "from sklearn import preprocessing\n",
    "\n",
    "X2 = df2.iloc[:, :].values.reshape(-1, len(df2.columns))\n",
    "#scaler = preprocessing.StandardScaler().fit(X2)\n",
    "#X2 = scaler.transform(X2)\n",
    "\n",
    "\n",
    "Y_pred2 = log.predict_proba(X2)\n",
    "#necessary for predict_proba, as it outputs prob of all classes\n",
    "Y_pred2 = Y_pred2[:,1]\n",
    "print(Y_pred2)\n",
    "\n",
    "df2 = df2.reset_index()\n",
    "\n",
    "final = pd.DataFrame({\"customer_ID\":df2.customer_ID,\"prediction\":Y_pred2})\n",
    "\n",
    "print(Y_pred2, np.sum(Y_pred2))\n",
    "\n",
    "#initial score ended as ~50 w/o scaler"
   ]
  },
  {
   "cell_type": "code",
   "execution_count": 34,
   "id": "e90bec68",
   "metadata": {
    "execution": {
     "iopub.execute_input": "2022-09-07T18:06:45.084994Z",
     "iopub.status.busy": "2022-09-07T18:06:45.084365Z",
     "iopub.status.idle": "2022-09-07T18:06:45.091473Z",
     "shell.execute_reply": "2022-09-07T18:06:45.090146Z"
    },
    "papermill": {
     "duration": 0.024053,
     "end_time": "2022-09-07T18:06:45.094078",
     "exception": false,
     "start_time": "2022-09-07T18:06:45.070025",
     "status": "completed"
    },
    "tags": []
   },
   "outputs": [
    {
     "data": {
      "text/plain": [
       "'Y_pred2 = model.predict_proba(df2)\\nY_pred2 = Y_pred2[:,1]\\ndf2 = df2.reset_index()\\nprint(Y_pred2, np.sum(Y_pred2))\\nfinal = pd.DataFrame({\"customer_ID\":df2.customer_ID,\"prediction\":Y_pred2})\\nprint(final)'"
      ]
     },
     "execution_count": 34,
     "metadata": {},
     "output_type": "execute_result"
    }
   ],
   "source": [
    "\"\"\"Y_pred2 = model.predict_proba(df2)\n",
    "Y_pred2 = Y_pred2[:,1]\n",
    "df2 = df2.reset_index()\n",
    "print(Y_pred2, np.sum(Y_pred2))\n",
    "final = pd.DataFrame({\"customer_ID\":df2.customer_ID,\"prediction\":Y_pred2})\n",
    "print(final)\"\"\""
   ]
  },
  {
   "cell_type": "code",
   "execution_count": 35,
   "id": "90d8f6f7",
   "metadata": {
    "execution": {
     "iopub.execute_input": "2022-09-07T18:06:45.120817Z",
     "iopub.status.busy": "2022-09-07T18:06:45.120130Z",
     "iopub.status.idle": "2022-09-07T18:06:48.044177Z",
     "shell.execute_reply": "2022-09-07T18:06:48.042155Z"
    },
    "papermill": {
     "duration": 2.939901,
     "end_time": "2022-09-07T18:06:48.046330",
     "exception": false,
     "start_time": "2022-09-07T18:06:45.106429",
     "status": "completed"
    },
    "tags": []
   },
   "outputs": [
    {
     "name": "stdout",
     "output_type": "stream",
     "text": [
      "                                              customer_ID  prediction\n",
      "0       00000469ba478561f23a92a868bd366de6f6527a684c9a...    0.220169\n",
      "1       00001bf2e77ff879fab36aa4fac689b9ba411dae63ae39...    0.011561\n",
      "2       0000210045da4f81e5f122c6bde5c2a617d03eef67f82c...    0.150258\n",
      "3       00003b41e58ede33b8daf61ab56d9952f17c9ad1c3976c...    0.382377\n",
      "4       00004b22eaeeeb0ec976890c1d9bfc14fd9427e98c4ee9...    0.954028\n",
      "5       00004ffe6e01e1b688170bbd108da8351bc4c316eacfef...    0.007146\n",
      "6       00007cfcce97abfa0b4fa0647986157281d01d3ab90de9...    0.921407\n",
      "7       000089cc2a30dad8e6ba39126f9d86df6088c9f975093a...    0.363824\n",
      "8       00008f50a1dd76fa211ba36a2b0d5a1b201e4134a5fd53...    0.773871\n",
      "9       0000b48a4f27dc1d61e78d081678e811620300b88eb3ab...    0.007017\n",
      "10      0000bccc55cf039a23d49832234f224085716d85bed7d2...    0.139724\n",
      "11      0000c7144ae91777aeeb02a7e02bdbfe7edb127b69fa53...    0.538344\n",
      "12      0000f63151bd00e2ebad53ff5fb207fed9139a89f50711...    0.060406\n",
      "13      00010121860f74c1641baa1478a329eb81f2cf4608e32b...    0.003684\n",
      "14      000115113b3bd18d3db243e9f5277c99fc6f9a6f20db04...    0.004032\n",
      "15      000161f9915b90002777477cd221e1c2ad1f8524082d89...    0.010043\n",
      "16      000175a73a8417938a1aa41f87ec9ac5141fe67e5085ff...    0.022844\n",
      "17      00017cddc321be913b790e010267ae3f219839f518c5ed...    0.588780\n",
      "18      00018b499469c9f10a1b428cbcf7419efa4b3336e6dd78...    0.031447\n",
      "19      0001c21882f3dbfd4833bb6d5c4505e2a33464fcac7a4f...    0.004125\n",
      "20      0001cba4b614f0b5612bd243d78045e986335d6d143756...    0.001369\n",
      "21      0001da0528cabd99e3e1454eb684e14a64e71fd028763f...    0.013698\n",
      "22      0001f3f954aa6f02144ee5f3a84bf9fb3f67089dacc132...    0.998610\n",
      "23      00020f228f70fb1e4bda115846f78470473727b4b723a7...    0.729706\n",
      "24      000214314d7894ad428c287f980c82191006ce93fa704d...    0.013380\n",
      "25      00021b573a9813d8795f25b3ab8085af4720177bffe4ea...    0.247660\n",
      "26      0002365ef2ccc6e6a4c8c9f0a350fcfb4332a8ddf01dc0...    0.414248\n",
      "27      000247206d805f4499e2f630bddc847437f6cdd7588e9b...    0.005995\n",
      "28      0002489ff92c3462b6d7122580d90803d0c7d13cbe2148...    0.016949\n",
      "29      000268651746840861f634869243cc42af43d715efb427...    0.066992\n",
      "...                                                   ...         ...\n",
      "924591  fffd77a7f5d8b72f7185cd92c9d1978de85c585655a012...    0.011815\n",
      "924592  fffd93355242cf518f1f4a378d40f08aeed6c153b5e714...    0.003520\n",
      "924593  fffd9644010686e7e2bf96ca6f3af174bd2b075a887445...    0.818032\n",
      "924594  fffdb7a2cb231906b6a23c46bee95d409a3f24a0450618...    0.072056\n",
      "924595  fffdbeb7d79c47034a5f67febe9f67b135583387484254...    0.045347\n",
      "924596  fffdd95a05be0dded02fd04607297103941bb105e59d6f...    0.000102\n",
      "924597  fffde7767956a81c22f0975092df1767260c305d9c8fca...    0.008061\n",
      "924598  fffdf0264d14645b3e369401f5a89242139d2a7aa317b5...    0.042185\n",
      "924599  fffdfc616936506845bdc453898f71ef3b6a24adcf6ccc...    0.454863\n",
      "924600  fffe08c31209b6eed5a030d31929bda796f35062595bb6...    0.023791\n",
      "924601  fffe18292809bfa56593d81b9cf46a12c2ff2daee3011d...    0.048225\n",
      "924602  fffe8a7b2e4b0078515a64d72a3e1125e9332432ce8ef6...    0.079331\n",
      "924603  fffea5947a2b2fd31068c61c68b8ab6e733053530f5d62...    0.012121\n",
      "924604  fffeb474f68a13f0808a683c52cf9e2bff200679242be7...    0.109389\n",
      "924605  fffebe9b71bc1124ca23d8c6335e221786b711bbec38ed...    0.145277\n",
      "924606  fffed30125fe6ef5ba5bb841a66bb026ad804d4fbe7e52...    0.028589\n",
      "924607  fffed528456683bc080e85131cdcd4bd1a067fcbeca9d4...    0.004896\n",
      "924608  fffed768c2776427eb09b7665df629f647228c0654017e...    0.109173\n",
      "924609  fffed845116a1a9c7c4b2f0fff839e7aa418e3c0307e8c...    0.030282\n",
      "924610  ffff1cf18b40bacfe82d222c6d214eb8400c5a82b207ff...    0.895566\n",
      "924611  ffff4e18b688e62c93b5bb406036c9a94969bb54868232...    0.469900\n",
      "924612  ffff6e21564cd8768222aef92c7a1b332532b8215f71b6...    0.032885\n",
      "924613  ffff7210a542ace67b1ab66aa20cb478495bdb9a4ed7c7...    0.594764\n",
      "924614  ffff76707978792b6eb985027dbe0e85435e90429459c5...    0.041530\n",
      "924615  ffff824b313399b00db6bc930b83f1a2188d8b1dbd3a31...    0.007313\n",
      "924616  ffff952c631f2c911b8a2a8ca56ea6e656309a83d2f64c...    0.049523\n",
      "924617  ffffcf5df59e5e0bba2a5ac4578a34e2b5aa64a1546cd3...    0.451814\n",
      "924618  ffffd61f098cc056dbd7d2a21380c4804bbfe60856f475...    0.456935\n",
      "924619  ffffddef1fc3643ea179c93245b68dca0f36941cd83977...    0.463042\n",
      "924620  fffffa7cf7e453e1acc6a1426475d5cb9400859f82ff61...    0.070298\n",
      "\n",
      "[924621 rows x 2 columns]\n"
     ]
    }
   ],
   "source": [
    "final.to_csv('submission.csv', index=False)\n",
    "print(final)"
   ]
  },
  {
   "cell_type": "markdown",
   "id": "d5435ad4",
   "metadata": {
    "papermill": {
     "duration": 0.01227,
     "end_time": "2022-09-07T18:06:48.071520",
     "exception": false,
     "start_time": "2022-09-07T18:06:48.059250",
     "status": "completed"
    },
    "tags": []
   },
   "source": []
  }
 ],
 "metadata": {
  "kernelspec": {
   "display_name": "Python 3",
   "language": "python",
   "name": "python3"
  },
  "language_info": {
   "codemirror_mode": {
    "name": "ipython",
    "version": 3
   },
   "file_extension": ".py",
   "mimetype": "text/x-python",
   "name": "python",
   "nbconvert_exporter": "python",
   "pygments_lexer": "ipython3",
   "version": "3.7.12"
  },
  "papermill": {
   "default_parameters": {},
   "duration": 146.769412,
   "end_time": "2022-09-07T18:06:49.007736",
   "environment_variables": {},
   "exception": null,
   "input_path": "__notebook__.ipynb",
   "output_path": "__notebook__.ipynb",
   "parameters": {},
   "start_time": "2022-09-07T18:04:22.238324",
   "version": "2.3.4"
  }
 },
 "nbformat": 4,
 "nbformat_minor": 5
}
