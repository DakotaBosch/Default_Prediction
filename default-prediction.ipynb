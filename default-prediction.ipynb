{
 "cells": [
  {
   "cell_type": "code",
   "execution_count": 1,
   "id": "a88f3e60",
   "metadata": {
    "_cell_guid": "b1076dfc-b9ad-4769-8c92-a6c4dae69d19",
    "_uuid": "8f2839f25d086af736a60e9eeb907d3b93b6e0e5",
    "execution": {
     "iopub.execute_input": "2022-09-06T14:48:39.741580Z",
     "iopub.status.busy": "2022-09-06T14:48:39.740759Z",
     "iopub.status.idle": "2022-09-06T14:48:39.760507Z",
     "shell.execute_reply": "2022-09-06T14:48:39.759465Z"
    },
    "papermill": {
     "duration": 0.035637,
     "end_time": "2022-09-06T14:48:39.763039",
     "exception": false,
     "start_time": "2022-09-06T14:48:39.727402",
     "status": "completed"
    },
    "tags": []
   },
   "outputs": [
    {
     "name": "stdout",
     "output_type": "stream",
     "text": [
      "/kaggle/input/amex-parquet/test_data.parquet\n",
      "/kaggle/input/amex-parquet/train_data.parquet\n",
      "/kaggle/input/amex-default-prediction/sample_submission.csv\n",
      "/kaggle/input/amex-default-prediction/train_data.csv\n",
      "/kaggle/input/amex-default-prediction/test_data.csv\n",
      "/kaggle/input/amex-default-prediction/train_labels.csv\n"
     ]
    }
   ],
   "source": [
    "import os\n",
    "for dirname, _, filenames in os.walk('/kaggle/input'):\n",
    "    for filename in filenames:\n",
    "        print(os.path.join(dirname, filename))"
   ]
  },
  {
   "cell_type": "markdown",
   "id": "1991c5ee",
   "metadata": {
    "papermill": {
     "duration": 0.00985,
     "end_time": "2022-09-06T14:48:39.784199",
     "exception": false,
     "start_time": "2022-09-06T14:48:39.774349",
     "status": "completed"
    },
    "tags": []
   },
   "source": [
    "Our goal is to use this industrial scale dataset to predict the probability that a customer will default in the future. Eighteen months of profile data is stored for each customer previous their most recent credit card statement. If they do not pay this amount within 120 days of the statement it is considered a default.\n",
    "\n",
    "\n"
   ]
  },
  {
   "cell_type": "markdown",
   "id": "01f2289c",
   "metadata": {
    "papermill": {
     "duration": 0.009743,
     "end_time": "2022-09-06T14:48:39.804033",
     "exception": false,
     "start_time": "2022-09-06T14:48:39.794290",
     "status": "completed"
    },
    "tags": []
   },
   "source": [
    "# Exploratory Data Analysis"
   ]
  },
  {
   "cell_type": "markdown",
   "id": "4d946335",
   "metadata": {
    "papermill": {
     "duration": 0.009837,
     "end_time": "2022-09-06T14:48:39.824187",
     "exception": false,
     "start_time": "2022-09-06T14:48:39.814350",
     "status": "completed"
    },
    "tags": []
   },
   "source": [
    "The data was converted from .csv to .parquet to enable quick loading into pandas within our 16gb RAM environment. \n",
    "\n",
    "<br />Now we preview the data."
   ]
  },
  {
   "cell_type": "code",
   "execution_count": 2,
   "id": "058ea11f",
   "metadata": {
    "execution": {
     "iopub.execute_input": "2022-09-06T14:48:39.848557Z",
     "iopub.status.busy": "2022-09-06T14:48:39.847739Z",
     "iopub.status.idle": "2022-09-06T14:49:24.543451Z",
     "shell.execute_reply": "2022-09-06T14:49:24.541831Z"
    },
    "papermill": {
     "duration": 44.727276,
     "end_time": "2022-09-06T14:49:24.562045",
     "exception": false,
     "start_time": "2022-09-06T14:48:39.834769",
     "status": "completed"
    },
    "tags": []
   },
   "outputs": [
    {
     "name": "stdout",
     "output_type": "stream",
     "text": [
      "(5531451, 191)\n"
     ]
    },
    {
     "data": {
      "text/html": [
       "<div>\n",
       "<style scoped>\n",
       "    .dataframe tbody tr th:only-of-type {\n",
       "        vertical-align: middle;\n",
       "    }\n",
       "\n",
       "    .dataframe tbody tr th {\n",
       "        vertical-align: top;\n",
       "    }\n",
       "\n",
       "    .dataframe thead th {\n",
       "        text-align: right;\n",
       "    }\n",
       "</style>\n",
       "<table border=\"1\" class=\"dataframe\">\n",
       "  <thead>\n",
       "    <tr style=\"text-align: right;\">\n",
       "      <th></th>\n",
       "      <th>customer_ID</th>\n",
       "      <th>S_2</th>\n",
       "      <th>P_2</th>\n",
       "      <th>D_39</th>\n",
       "      <th>B_1</th>\n",
       "      <th>B_2</th>\n",
       "      <th>R_1</th>\n",
       "      <th>S_3</th>\n",
       "      <th>D_41</th>\n",
       "      <th>B_3</th>\n",
       "      <th>...</th>\n",
       "      <th>D_137</th>\n",
       "      <th>D_138</th>\n",
       "      <th>D_139</th>\n",
       "      <th>D_140</th>\n",
       "      <th>D_141</th>\n",
       "      <th>D_142</th>\n",
       "      <th>D_143</th>\n",
       "      <th>D_144</th>\n",
       "      <th>D_145</th>\n",
       "      <th>target</th>\n",
       "    </tr>\n",
       "  </thead>\n",
       "  <tbody>\n",
       "    <tr>\n",
       "      <th>0</th>\n",
       "      <td>0000099d6bd597052cdcda90ffabf56573fe9d7c79be5f...</td>\n",
       "      <td>2017-03-09</td>\n",
       "      <td>0.938469</td>\n",
       "      <td>0.001733</td>\n",
       "      <td>0.008724</td>\n",
       "      <td>1.006838</td>\n",
       "      <td>0.009228</td>\n",
       "      <td>0.124035</td>\n",
       "      <td>0.008771</td>\n",
       "      <td>0.004709</td>\n",
       "      <td>...</td>\n",
       "      <td>NaN</td>\n",
       "      <td>NaN</td>\n",
       "      <td>0.002427</td>\n",
       "      <td>0.003706</td>\n",
       "      <td>0.003818</td>\n",
       "      <td>NaN</td>\n",
       "      <td>0.000569</td>\n",
       "      <td>0.000610</td>\n",
       "      <td>0.002674</td>\n",
       "      <td>0</td>\n",
       "    </tr>\n",
       "    <tr>\n",
       "      <th>1</th>\n",
       "      <td>0000099d6bd597052cdcda90ffabf56573fe9d7c79be5f...</td>\n",
       "      <td>2017-04-07</td>\n",
       "      <td>0.936665</td>\n",
       "      <td>0.005775</td>\n",
       "      <td>0.004923</td>\n",
       "      <td>1.000653</td>\n",
       "      <td>0.006151</td>\n",
       "      <td>0.126750</td>\n",
       "      <td>0.000798</td>\n",
       "      <td>0.002714</td>\n",
       "      <td>...</td>\n",
       "      <td>NaN</td>\n",
       "      <td>NaN</td>\n",
       "      <td>0.003954</td>\n",
       "      <td>0.003167</td>\n",
       "      <td>0.005032</td>\n",
       "      <td>NaN</td>\n",
       "      <td>0.009576</td>\n",
       "      <td>0.005492</td>\n",
       "      <td>0.009217</td>\n",
       "      <td>0</td>\n",
       "    </tr>\n",
       "    <tr>\n",
       "      <th>2</th>\n",
       "      <td>0000099d6bd597052cdcda90ffabf56573fe9d7c79be5f...</td>\n",
       "      <td>2017-05-28</td>\n",
       "      <td>0.954180</td>\n",
       "      <td>0.091505</td>\n",
       "      <td>0.021655</td>\n",
       "      <td>1.009672</td>\n",
       "      <td>0.006815</td>\n",
       "      <td>0.123977</td>\n",
       "      <td>0.007598</td>\n",
       "      <td>0.009423</td>\n",
       "      <td>...</td>\n",
       "      <td>NaN</td>\n",
       "      <td>NaN</td>\n",
       "      <td>0.003269</td>\n",
       "      <td>0.007329</td>\n",
       "      <td>0.000427</td>\n",
       "      <td>NaN</td>\n",
       "      <td>0.003429</td>\n",
       "      <td>0.006986</td>\n",
       "      <td>0.002603</td>\n",
       "      <td>0</td>\n",
       "    </tr>\n",
       "    <tr>\n",
       "      <th>3</th>\n",
       "      <td>0000099d6bd597052cdcda90ffabf56573fe9d7c79be5f...</td>\n",
       "      <td>2017-06-13</td>\n",
       "      <td>0.960384</td>\n",
       "      <td>0.002455</td>\n",
       "      <td>0.013683</td>\n",
       "      <td>1.002700</td>\n",
       "      <td>0.001373</td>\n",
       "      <td>0.117169</td>\n",
       "      <td>0.000685</td>\n",
       "      <td>0.005531</td>\n",
       "      <td>...</td>\n",
       "      <td>NaN</td>\n",
       "      <td>NaN</td>\n",
       "      <td>0.006117</td>\n",
       "      <td>0.004516</td>\n",
       "      <td>0.003200</td>\n",
       "      <td>NaN</td>\n",
       "      <td>0.008419</td>\n",
       "      <td>0.006527</td>\n",
       "      <td>0.009600</td>\n",
       "      <td>0</td>\n",
       "    </tr>\n",
       "    <tr>\n",
       "      <th>4</th>\n",
       "      <td>0000099d6bd597052cdcda90ffabf56573fe9d7c79be5f...</td>\n",
       "      <td>2017-07-16</td>\n",
       "      <td>0.947248</td>\n",
       "      <td>0.002483</td>\n",
       "      <td>0.015193</td>\n",
       "      <td>1.000727</td>\n",
       "      <td>0.007605</td>\n",
       "      <td>0.117325</td>\n",
       "      <td>0.004653</td>\n",
       "      <td>0.009312</td>\n",
       "      <td>...</td>\n",
       "      <td>NaN</td>\n",
       "      <td>NaN</td>\n",
       "      <td>0.003671</td>\n",
       "      <td>0.004946</td>\n",
       "      <td>0.008889</td>\n",
       "      <td>NaN</td>\n",
       "      <td>0.001670</td>\n",
       "      <td>0.008126</td>\n",
       "      <td>0.009827</td>\n",
       "      <td>0</td>\n",
       "    </tr>\n",
       "  </tbody>\n",
       "</table>\n",
       "<p>5 rows × 191 columns</p>\n",
       "</div>"
      ],
      "text/plain": [
       "                                         customer_ID         S_2       P_2  \\\n",
       "0  0000099d6bd597052cdcda90ffabf56573fe9d7c79be5f...  2017-03-09  0.938469   \n",
       "1  0000099d6bd597052cdcda90ffabf56573fe9d7c79be5f...  2017-04-07  0.936665   \n",
       "2  0000099d6bd597052cdcda90ffabf56573fe9d7c79be5f...  2017-05-28  0.954180   \n",
       "3  0000099d6bd597052cdcda90ffabf56573fe9d7c79be5f...  2017-06-13  0.960384   \n",
       "4  0000099d6bd597052cdcda90ffabf56573fe9d7c79be5f...  2017-07-16  0.947248   \n",
       "\n",
       "       D_39       B_1       B_2       R_1       S_3      D_41       B_3  ...  \\\n",
       "0  0.001733  0.008724  1.006838  0.009228  0.124035  0.008771  0.004709  ...   \n",
       "1  0.005775  0.004923  1.000653  0.006151  0.126750  0.000798  0.002714  ...   \n",
       "2  0.091505  0.021655  1.009672  0.006815  0.123977  0.007598  0.009423  ...   \n",
       "3  0.002455  0.013683  1.002700  0.001373  0.117169  0.000685  0.005531  ...   \n",
       "4  0.002483  0.015193  1.000727  0.007605  0.117325  0.004653  0.009312  ...   \n",
       "\n",
       "   D_137  D_138     D_139     D_140     D_141  D_142     D_143     D_144  \\\n",
       "0    NaN    NaN  0.002427  0.003706  0.003818    NaN  0.000569  0.000610   \n",
       "1    NaN    NaN  0.003954  0.003167  0.005032    NaN  0.009576  0.005492   \n",
       "2    NaN    NaN  0.003269  0.007329  0.000427    NaN  0.003429  0.006986   \n",
       "3    NaN    NaN  0.006117  0.004516  0.003200    NaN  0.008419  0.006527   \n",
       "4    NaN    NaN  0.003671  0.004946  0.008889    NaN  0.001670  0.008126   \n",
       "\n",
       "      D_145  target  \n",
       "0  0.002674       0  \n",
       "1  0.009217       0  \n",
       "2  0.002603       0  \n",
       "3  0.009600       0  \n",
       "4  0.009827       0  \n",
       "\n",
       "[5 rows x 191 columns]"
      ]
     },
     "execution_count": 2,
     "metadata": {},
     "output_type": "execute_result"
    }
   ],
   "source": [
    "import pandas as pd\n",
    "\n",
    "df=pd.read_parquet('/kaggle/input/amex-parquet/train_data.parquet')\n",
    "print(df.shape)\n",
    "df.head()"
   ]
  },
  {
   "cell_type": "markdown",
   "id": "b59c24f2",
   "metadata": {
    "papermill": {
     "duration": 0.011663,
     "end_time": "2022-09-06T14:49:24.585077",
     "exception": false,
     "start_time": "2022-09-06T14:49:24.573414",
     "status": "completed"
    },
    "tags": []
   },
   "source": [
    "Wow! We have over 5.5 million rows and 190 columns. Our column names are anonymized but fall into these categories: \n",
    " <br />D_* = Delinquency variables\n",
    " <br />S_* = Spend variables\n",
    " <br />P_* = Payment variables\n",
    " <br />B_* = Balance variables\n",
    " <br />R_* = Risk variables\n",
    " <br />\n",
    " <br />\n",
    "The size of the data is too large for our hardware. Let's remove the data we percieve to be less relevant. \n",
    "\n",
    "We note the customer ID and the date columns. "
   ]
  },
  {
   "cell_type": "code",
   "execution_count": 3,
   "id": "4724321e",
   "metadata": {
    "execution": {
     "iopub.execute_input": "2022-09-06T14:49:24.611703Z",
     "iopub.status.busy": "2022-09-06T14:49:24.611228Z",
     "iopub.status.idle": "2022-09-06T14:49:24.642351Z",
     "shell.execute_reply": "2022-09-06T14:49:24.640853Z"
    },
    "papermill": {
     "duration": 0.046935,
     "end_time": "2022-09-06T14:49:24.644915",
     "exception": false,
     "start_time": "2022-09-06T14:49:24.597980",
     "status": "completed"
    },
    "tags": []
   },
   "outputs": [
    {
     "name": "stdout",
     "output_type": "stream",
     "text": [
      "<class 'pandas.core.frame.DataFrame'>\n",
      "Int64Index: 5531451 entries, 0 to 5531450\n",
      "Columns: 191 entries, customer_ID to target\n",
      "dtypes: float32(185), int64(2), object(4)\n",
      "memory usage: 4.1+ GB\n"
     ]
    }
   ],
   "source": [
    "df.info()"
   ]
  },
  {
   "cell_type": "markdown",
   "id": "b7ec44a9",
   "metadata": {
    "papermill": {
     "duration": 0.011633,
     "end_time": "2022-09-06T14:49:24.667630",
     "exception": false,
     "start_time": "2022-09-06T14:49:24.655997",
     "status": "completed"
    },
    "tags": []
   },
   "source": [
    "There are four non-numeric data types. Let's convert these so we may apply a logistic regression model.\n",
    "\n",
    "Let's plot our columns."
   ]
  },
  {
   "cell_type": "code",
   "execution_count": 4,
   "id": "2c14389d",
   "metadata": {
    "execution": {
     "iopub.execute_input": "2022-09-06T14:49:24.692649Z",
     "iopub.status.busy": "2022-09-06T14:49:24.692181Z",
     "iopub.status.idle": "2022-09-06T14:49:24.700043Z",
     "shell.execute_reply": "2022-09-06T14:49:24.698802Z"
    },
    "papermill": {
     "duration": 0.022754,
     "end_time": "2022-09-06T14:49:24.702776",
     "exception": false,
     "start_time": "2022-09-06T14:49:24.680022",
     "status": "completed"
    },
    "tags": []
   },
   "outputs": [
    {
     "data": {
      "text/plain": [
       "'hist = df.hist(bins=50, figsize = (40,200), layout=(-1,4) )'"
      ]
     },
     "execution_count": 4,
     "metadata": {},
     "output_type": "execute_result"
    }
   ],
   "source": [
    "\"\"\"hist = df.hist(bins=50, figsize = (40,200), layout=(-1,4) )\"\"\""
   ]
  },
  {
   "cell_type": "markdown",
   "id": "59c2ce10",
   "metadata": {
    "papermill": {
     "duration": 0.011378,
     "end_time": "2022-09-06T14:49:24.725881",
     "exception": false,
     "start_time": "2022-09-06T14:49:24.714503",
     "status": "completed"
    },
    "tags": []
   },
   "source": [
    "# **Data Cleaning**"
   ]
  },
  {
   "cell_type": "markdown",
   "id": "3a2ab031",
   "metadata": {
    "papermill": {
     "duration": 0.01065,
     "end_time": "2022-09-06T14:49:24.748239",
     "exception": false,
     "start_time": "2022-09-06T14:49:24.737589",
     "status": "completed"
    },
    "tags": []
   },
   "source": [
    "Let's find and remove the columns with a significant amount of NaN values. Without knowledge on the contents of each column we will remove the columns that are likely less useful."
   ]
  },
  {
   "cell_type": "code",
   "execution_count": 5,
   "id": "1ba3070d",
   "metadata": {
    "execution": {
     "iopub.execute_input": "2022-09-06T14:49:24.772910Z",
     "iopub.status.busy": "2022-09-06T14:49:24.772453Z",
     "iopub.status.idle": "2022-09-06T14:49:30.074142Z",
     "shell.execute_reply": "2022-09-06T14:49:30.072610Z"
    },
    "papermill": {
     "duration": 5.319156,
     "end_time": "2022-09-06T14:49:30.078580",
     "exception": false,
     "start_time": "2022-09-06T14:49:24.759424",
     "status": "completed"
    },
    "tags": []
   },
   "outputs": [
    {
     "name": "stdout",
     "output_type": "stream",
     "text": [
      "(5531451, 173)\n"
     ]
    }
   ],
   "source": [
    "temp = [column for column in df.columns if df[column].isnull().sum()/len(df) >= 0.9]\n",
    "df.drop(temp, axis=1, inplace=True)\n",
    "\n",
    "print(df.shape)"
   ]
  },
  {
   "cell_type": "markdown",
   "id": "a788176c",
   "metadata": {
    "papermill": {
     "duration": 0.011479,
     "end_time": "2022-09-06T14:49:30.101712",
     "exception": false,
     "start_time": "2022-09-06T14:49:30.090233",
     "status": "completed"
    },
    "tags": []
   },
   "source": [
    "Great! We got rid of 18 columns that contained >90% null values. \n",
    "\n",
    "We choose to impute by filling customer data from other months."
   ]
  },
  {
   "cell_type": "code",
   "execution_count": 6,
   "id": "d074976a",
   "metadata": {
    "execution": {
     "iopub.execute_input": "2022-09-06T14:49:30.130879Z",
     "iopub.status.busy": "2022-09-06T14:49:30.130414Z",
     "iopub.status.idle": "2022-09-06T14:49:30.137250Z",
     "shell.execute_reply": "2022-09-06T14:49:30.136249Z"
    },
    "papermill": {
     "duration": 0.027903,
     "end_time": "2022-09-06T14:49:30.140780",
     "exception": false,
     "start_time": "2022-09-06T14:49:30.112877",
     "status": "completed"
    },
    "tags": []
   },
   "outputs": [
    {
     "data": {
      "text/plain": [
       "\"df=df.set_index(['customer_ID'])\\ndf.head(n=20)\\n#forward fill and back fill just putting random other customers data into their adjacent rows?\""
      ]
     },
     "execution_count": 6,
     "metadata": {},
     "output_type": "execute_result"
    }
   ],
   "source": [
    "\"\"\"df=df.set_index(['customer_ID'])\n",
    "df.head(n=20)\n",
    "#forward fill and back fill just putting random other customers data into their adjacent rows?\"\"\""
   ]
  },
  {
   "cell_type": "code",
   "execution_count": 7,
   "id": "a4e16cb5",
   "metadata": {
    "execution": {
     "iopub.execute_input": "2022-09-06T14:49:30.164368Z",
     "iopub.status.busy": "2022-09-06T14:49:30.163988Z",
     "iopub.status.idle": "2022-09-06T14:49:58.071947Z",
     "shell.execute_reply": "2022-09-06T14:49:58.069809Z"
    },
    "papermill": {
     "duration": 27.923117,
     "end_time": "2022-09-06T14:49:58.075173",
     "exception": false,
     "start_time": "2022-09-06T14:49:30.152056",
     "status": "completed"
    },
    "tags": []
   },
   "outputs": [
    {
     "name": "stdout",
     "output_type": "stream",
     "text": [
      "(5531451, 173) (458913, 171)\n",
      "0\n"
     ]
    }
   ],
   "source": [
    "temp = df.shape\n",
    "df=df.set_index(['customer_ID'])\n",
    "df=df.ffill()\n",
    "df=df.bfill()\n",
    "df=df.reset_index()\n",
    "\n",
    "df=df.groupby('customer_ID').tail(1)\n",
    "df=df.set_index(['customer_ID'])\n",
    "\n",
    "#Drop date column since it\n",
    "df.drop(['S_2'],axis=1,inplace=True)\n",
    "\n",
    "print(temp, df.shape)\n",
    "\n",
    "\n",
    "temp = [column for column in df.columns if df[column].isnull().sum()/len(df) >0]\n",
    "print(len(temp))"
   ]
  },
  {
   "cell_type": "code",
   "execution_count": 8,
   "id": "5cebb50c",
   "metadata": {
    "execution": {
     "iopub.execute_input": "2022-09-06T14:49:58.103041Z",
     "iopub.status.busy": "2022-09-06T14:49:58.101576Z",
     "iopub.status.idle": "2022-09-06T14:49:58.140542Z",
     "shell.execute_reply": "2022-09-06T14:49:58.139031Z"
    },
    "papermill": {
     "duration": 0.05501,
     "end_time": "2022-09-06T14:49:58.143911",
     "exception": false,
     "start_time": "2022-09-06T14:49:58.088901",
     "status": "completed"
    },
    "tags": []
   },
   "outputs": [
    {
     "data": {
      "text/html": [
       "<div>\n",
       "<style scoped>\n",
       "    .dataframe tbody tr th:only-of-type {\n",
       "        vertical-align: middle;\n",
       "    }\n",
       "\n",
       "    .dataframe tbody tr th {\n",
       "        vertical-align: top;\n",
       "    }\n",
       "\n",
       "    .dataframe thead th {\n",
       "        text-align: right;\n",
       "    }\n",
       "</style>\n",
       "<table border=\"1\" class=\"dataframe\">\n",
       "  <thead>\n",
       "    <tr style=\"text-align: right;\">\n",
       "      <th></th>\n",
       "      <th>P_2</th>\n",
       "      <th>D_39</th>\n",
       "      <th>B_1</th>\n",
       "      <th>B_2</th>\n",
       "      <th>R_1</th>\n",
       "      <th>S_3</th>\n",
       "      <th>D_41</th>\n",
       "      <th>B_3</th>\n",
       "      <th>D_42</th>\n",
       "      <th>D_43</th>\n",
       "      <th>...</th>\n",
       "      <th>D_133</th>\n",
       "      <th>R_28</th>\n",
       "      <th>D_139</th>\n",
       "      <th>D_140</th>\n",
       "      <th>D_141</th>\n",
       "      <th>D_142</th>\n",
       "      <th>D_143</th>\n",
       "      <th>D_144</th>\n",
       "      <th>D_145</th>\n",
       "      <th>target</th>\n",
       "    </tr>\n",
       "    <tr>\n",
       "      <th>customer_ID</th>\n",
       "      <th></th>\n",
       "      <th></th>\n",
       "      <th></th>\n",
       "      <th></th>\n",
       "      <th></th>\n",
       "      <th></th>\n",
       "      <th></th>\n",
       "      <th></th>\n",
       "      <th></th>\n",
       "      <th></th>\n",
       "      <th></th>\n",
       "      <th></th>\n",
       "      <th></th>\n",
       "      <th></th>\n",
       "      <th></th>\n",
       "      <th></th>\n",
       "      <th></th>\n",
       "      <th></th>\n",
       "      <th></th>\n",
       "      <th></th>\n",
       "      <th></th>\n",
       "    </tr>\n",
       "  </thead>\n",
       "  <tbody>\n",
       "    <tr>\n",
       "      <th>0000099d6bd597052cdcda90ffabf56573fe9d7c79be5fbac11a8ed792feb62a</th>\n",
       "      <td>0.934745</td>\n",
       "      <td>0.009119</td>\n",
       "      <td>0.009382</td>\n",
       "      <td>1.007647</td>\n",
       "      <td>0.006104</td>\n",
       "      <td>0.135021</td>\n",
       "      <td>0.001604</td>\n",
       "      <td>0.007174</td>\n",
       "      <td>0.152932</td>\n",
       "      <td>0.525600</td>\n",
       "      <td>...</td>\n",
       "      <td>0.006210</td>\n",
       "      <td>0.002715</td>\n",
       "      <td>0.007186</td>\n",
       "      <td>0.004234</td>\n",
       "      <td>0.005086</td>\n",
       "      <td>0.141214</td>\n",
       "      <td>0.005810</td>\n",
       "      <td>0.002970</td>\n",
       "      <td>0.008533</td>\n",
       "      <td>0</td>\n",
       "    </tr>\n",
       "    <tr>\n",
       "      <th>00000fd6641609c6ece5454664794f0340ad84dddce9a267a310b5ae68e9d8e5</th>\n",
       "      <td>0.880519</td>\n",
       "      <td>0.178126</td>\n",
       "      <td>0.034684</td>\n",
       "      <td>1.004028</td>\n",
       "      <td>0.006911</td>\n",
       "      <td>0.165509</td>\n",
       "      <td>0.005552</td>\n",
       "      <td>0.005068</td>\n",
       "      <td>0.152932</td>\n",
       "      <td>0.060646</td>\n",
       "      <td>...</td>\n",
       "      <td>0.002996</td>\n",
       "      <td>0.001701</td>\n",
       "      <td>0.002980</td>\n",
       "      <td>0.007479</td>\n",
       "      <td>0.007870</td>\n",
       "      <td>0.141214</td>\n",
       "      <td>0.003284</td>\n",
       "      <td>0.003169</td>\n",
       "      <td>0.008514</td>\n",
       "      <td>0</td>\n",
       "    </tr>\n",
       "    <tr>\n",
       "      <th>00001b22f846c82c51f6e3958ccd81970162bae8b007e80662ef27519fcc18c1</th>\n",
       "      <td>0.880875</td>\n",
       "      <td>0.009704</td>\n",
       "      <td>0.004284</td>\n",
       "      <td>0.812649</td>\n",
       "      <td>0.006450</td>\n",
       "      <td>0.165509</td>\n",
       "      <td>0.003796</td>\n",
       "      <td>0.007196</td>\n",
       "      <td>0.152932</td>\n",
       "      <td>0.060646</td>\n",
       "      <td>...</td>\n",
       "      <td>0.009881</td>\n",
       "      <td>0.007691</td>\n",
       "      <td>0.007383</td>\n",
       "      <td>0.006623</td>\n",
       "      <td>0.000964</td>\n",
       "      <td>0.141214</td>\n",
       "      <td>0.002202</td>\n",
       "      <td>0.000834</td>\n",
       "      <td>0.003444</td>\n",
       "      <td>0</td>\n",
       "    </tr>\n",
       "    <tr>\n",
       "      <th>000041bdba6ecadd89a52d11886e8eaaec9325906c9723355abb5ca523658edc</th>\n",
       "      <td>0.621776</td>\n",
       "      <td>0.001083</td>\n",
       "      <td>0.012564</td>\n",
       "      <td>1.006183</td>\n",
       "      <td>0.007829</td>\n",
       "      <td>0.287766</td>\n",
       "      <td>0.004532</td>\n",
       "      <td>0.009937</td>\n",
       "      <td>0.152932</td>\n",
       "      <td>0.046104</td>\n",
       "      <td>...</td>\n",
       "      <td>0.001789</td>\n",
       "      <td>0.005140</td>\n",
       "      <td>0.002704</td>\n",
       "      <td>0.006184</td>\n",
       "      <td>0.001899</td>\n",
       "      <td>0.141214</td>\n",
       "      <td>0.008183</td>\n",
       "      <td>0.005560</td>\n",
       "      <td>0.002983</td>\n",
       "      <td>0</td>\n",
       "    </tr>\n",
       "    <tr>\n",
       "      <th>00007889e4fcd2614b6cbe7f8f3d2e5c728eca32d9eb8ad51ca8b8c4a24cefed</th>\n",
       "      <td>0.871900</td>\n",
       "      <td>0.005573</td>\n",
       "      <td>0.007679</td>\n",
       "      <td>0.815746</td>\n",
       "      <td>0.001247</td>\n",
       "      <td>0.176403</td>\n",
       "      <td>0.000231</td>\n",
       "      <td>0.005528</td>\n",
       "      <td>0.152932</td>\n",
       "      <td>0.044671</td>\n",
       "      <td>...</td>\n",
       "      <td>0.005045</td>\n",
       "      <td>0.003706</td>\n",
       "      <td>0.002974</td>\n",
       "      <td>0.004162</td>\n",
       "      <td>0.005764</td>\n",
       "      <td>0.141214</td>\n",
       "      <td>0.008154</td>\n",
       "      <td>0.006944</td>\n",
       "      <td>0.000905</td>\n",
       "      <td>0</td>\n",
       "    </tr>\n",
       "    <tr>\n",
       "      <th>000084e5023181993c2e1b665ac88dbb1ce9ef621ec5370150fc2f8bdca6202c</th>\n",
       "      <td>0.824061</td>\n",
       "      <td>0.009776</td>\n",
       "      <td>0.007853</td>\n",
       "      <td>1.001713</td>\n",
       "      <td>0.006885</td>\n",
       "      <td>0.395740</td>\n",
       "      <td>0.002855</td>\n",
       "      <td>0.006134</td>\n",
       "      <td>0.152932</td>\n",
       "      <td>0.013881</td>\n",
       "      <td>...</td>\n",
       "      <td>0.002709</td>\n",
       "      <td>0.002873</td>\n",
       "      <td>0.009401</td>\n",
       "      <td>0.007832</td>\n",
       "      <td>0.000957</td>\n",
       "      <td>0.141214</td>\n",
       "      <td>0.009054</td>\n",
       "      <td>0.006943</td>\n",
       "      <td>0.001446</td>\n",
       "      <td>0</td>\n",
       "    </tr>\n",
       "    <tr>\n",
       "      <th>000098081fde4fd64bc4d503a5d6f86a0aedc425c96f5235f98b0f47c9d7d8d4</th>\n",
       "      <td>0.477116</td>\n",
       "      <td>0.000467</td>\n",
       "      <td>0.009413</td>\n",
       "      <td>1.009217</td>\n",
       "      <td>0.007775</td>\n",
       "      <td>0.267037</td>\n",
       "      <td>0.006128</td>\n",
       "      <td>0.125927</td>\n",
       "      <td>0.132976</td>\n",
       "      <td>0.057729</td>\n",
       "      <td>...</td>\n",
       "      <td>0.001976</td>\n",
       "      <td>0.003672</td>\n",
       "      <td>0.006010</td>\n",
       "      <td>0.005221</td>\n",
       "      <td>0.000937</td>\n",
       "      <td>0.141214</td>\n",
       "      <td>0.009790</td>\n",
       "      <td>0.003703</td>\n",
       "      <td>0.006274</td>\n",
       "      <td>0</td>\n",
       "    </tr>\n",
       "    <tr>\n",
       "      <th>0000d17a1447b25a01e42e1ac56b091bb7cbb06317be4cb59b50fec59e0b6381</th>\n",
       "      <td>1.009762</td>\n",
       "      <td>0.006181</td>\n",
       "      <td>-0.000886</td>\n",
       "      <td>1.006692</td>\n",
       "      <td>0.006112</td>\n",
       "      <td>0.116401</td>\n",
       "      <td>0.000824</td>\n",
       "      <td>0.149496</td>\n",
       "      <td>0.132976</td>\n",
       "      <td>0.014716</td>\n",
       "      <td>...</td>\n",
       "      <td>0.006115</td>\n",
       "      <td>0.009657</td>\n",
       "      <td>0.002262</td>\n",
       "      <td>0.005217</td>\n",
       "      <td>0.002153</td>\n",
       "      <td>0.141214</td>\n",
       "      <td>0.001170</td>\n",
       "      <td>0.003350</td>\n",
       "      <td>0.000675</td>\n",
       "      <td>0</td>\n",
       "    </tr>\n",
       "    <tr>\n",
       "      <th>0000f99513770170a1aba690daeeb8a96da4a39f11fc27da5c30a79db61c1e85</th>\n",
       "      <td>0.424624</td>\n",
       "      <td>0.531173</td>\n",
       "      <td>0.979303</td>\n",
       "      <td>0.029291</td>\n",
       "      <td>0.008500</td>\n",
       "      <td>0.152608</td>\n",
       "      <td>0.005344</td>\n",
       "      <td>1.155846</td>\n",
       "      <td>0.132976</td>\n",
       "      <td>0.028677</td>\n",
       "      <td>...</td>\n",
       "      <td>0.009832</td>\n",
       "      <td>0.003794</td>\n",
       "      <td>1.001303</td>\n",
       "      <td>0.007061</td>\n",
       "      <td>0.876028</td>\n",
       "      <td>0.184614</td>\n",
       "      <td>1.005212</td>\n",
       "      <td>0.003350</td>\n",
       "      <td>0.734467</td>\n",
       "      <td>1</td>\n",
       "    </tr>\n",
       "    <tr>\n",
       "      <th>00013181a0c5fc8f1ea38cd2b90fe8ad2fa8cad9d9f13e4063bdf6b0f7d51eb6</th>\n",
       "      <td>0.359892</td>\n",
       "      <td>0.009807</td>\n",
       "      <td>0.090679</td>\n",
       "      <td>0.818198</td>\n",
       "      <td>0.507561</td>\n",
       "      <td>0.182016</td>\n",
       "      <td>0.002933</td>\n",
       "      <td>0.009862</td>\n",
       "      <td>0.132976</td>\n",
       "      <td>0.246734</td>\n",
       "      <td>...</td>\n",
       "      <td>0.002222</td>\n",
       "      <td>0.007014</td>\n",
       "      <td>0.009808</td>\n",
       "      <td>0.002212</td>\n",
       "      <td>0.004070</td>\n",
       "      <td>0.184614</td>\n",
       "      <td>0.005430</td>\n",
       "      <td>0.007106</td>\n",
       "      <td>0.006270</td>\n",
       "      <td>1</td>\n",
       "    </tr>\n",
       "    <tr>\n",
       "      <th>0001337ded4e1c2539d1a78ff44a457bd4a95caa55ba1730b2849b92ea687f9e</th>\n",
       "      <td>0.255796</td>\n",
       "      <td>0.007591</td>\n",
       "      <td>0.208633</td>\n",
       "      <td>1.004648</td>\n",
       "      <td>1.003798</td>\n",
       "      <td>0.175447</td>\n",
       "      <td>0.009316</td>\n",
       "      <td>0.004711</td>\n",
       "      <td>0.048749</td>\n",
       "      <td>0.246734</td>\n",
       "      <td>...</td>\n",
       "      <td>1.501225</td>\n",
       "      <td>0.004692</td>\n",
       "      <td>1.005313</td>\n",
       "      <td>0.004475</td>\n",
       "      <td>0.876428</td>\n",
       "      <td>0.051367</td>\n",
       "      <td>1.005640</td>\n",
       "      <td>0.001958</td>\n",
       "      <td>0.094792</td>\n",
       "      <td>1</td>\n",
       "    </tr>\n",
       "    <tr>\n",
       "      <th>00013c6e1cec7c21bede7cb319f1e28eb994f5625257f479c53ad6e90c177f7c</th>\n",
       "      <td>-0.015913</td>\n",
       "      <td>0.037253</td>\n",
       "      <td>0.100166</td>\n",
       "      <td>0.143920</td>\n",
       "      <td>1.506197</td>\n",
       "      <td>0.494139</td>\n",
       "      <td>0.256431</td>\n",
       "      <td>0.192567</td>\n",
       "      <td>0.201442</td>\n",
       "      <td>0.092177</td>\n",
       "      <td>...</td>\n",
       "      <td>0.000151</td>\n",
       "      <td>0.000070</td>\n",
       "      <td>0.008857</td>\n",
       "      <td>0.001684</td>\n",
       "      <td>0.007280</td>\n",
       "      <td>0.051367</td>\n",
       "      <td>0.005165</td>\n",
       "      <td>0.003616</td>\n",
       "      <td>0.001009</td>\n",
       "      <td>1</td>\n",
       "    </tr>\n",
       "    <tr>\n",
       "      <th>0001812036f1558332e5c0880ecbad70b13a6f28ab04a8db6d83a26ef40aadb0</th>\n",
       "      <td>0.424076</td>\n",
       "      <td>0.240983</td>\n",
       "      <td>0.917384</td>\n",
       "      <td>0.029441</td>\n",
       "      <td>0.257114</td>\n",
       "      <td>0.153415</td>\n",
       "      <td>0.008596</td>\n",
       "      <td>0.972654</td>\n",
       "      <td>0.201442</td>\n",
       "      <td>0.304252</td>\n",
       "      <td>...</td>\n",
       "      <td>0.000753</td>\n",
       "      <td>0.008164</td>\n",
       "      <td>0.005706</td>\n",
       "      <td>0.009877</td>\n",
       "      <td>0.003770</td>\n",
       "      <td>0.051367</td>\n",
       "      <td>0.002888</td>\n",
       "      <td>0.009148</td>\n",
       "      <td>0.001400</td>\n",
       "      <td>1</td>\n",
       "    </tr>\n",
       "    <tr>\n",
       "      <th>00018dd4932409baf6083519b52113c2ef58be59e1213e4681d28c7719a65ddf</th>\n",
       "      <td>0.894465</td>\n",
       "      <td>0.007793</td>\n",
       "      <td>0.017898</td>\n",
       "      <td>0.812249</td>\n",
       "      <td>0.007025</td>\n",
       "      <td>0.097096</td>\n",
       "      <td>0.008311</td>\n",
       "      <td>0.009978</td>\n",
       "      <td>0.201442</td>\n",
       "      <td>0.019808</td>\n",
       "      <td>...</td>\n",
       "      <td>0.006734</td>\n",
       "      <td>0.007240</td>\n",
       "      <td>0.004283</td>\n",
       "      <td>0.006910</td>\n",
       "      <td>0.007719</td>\n",
       "      <td>0.051367</td>\n",
       "      <td>0.004930</td>\n",
       "      <td>0.008561</td>\n",
       "      <td>0.004405</td>\n",
       "      <td>0</td>\n",
       "    </tr>\n",
       "    <tr>\n",
       "      <th>000198b3dc70edd65dbf0d7eddbcb926c6d7dbd7986af19d91ef3992ae3ab896</th>\n",
       "      <td>0.527167</td>\n",
       "      <td>0.360424</td>\n",
       "      <td>0.041721</td>\n",
       "      <td>0.673220</td>\n",
       "      <td>0.006728</td>\n",
       "      <td>0.838725</td>\n",
       "      <td>0.001353</td>\n",
       "      <td>0.049048</td>\n",
       "      <td>0.201442</td>\n",
       "      <td>0.108544</td>\n",
       "      <td>...</td>\n",
       "      <td>0.003603</td>\n",
       "      <td>0.001279</td>\n",
       "      <td>1.005531</td>\n",
       "      <td>0.005125</td>\n",
       "      <td>0.888655</td>\n",
       "      <td>0.191270</td>\n",
       "      <td>1.009955</td>\n",
       "      <td>0.670402</td>\n",
       "      <td>0.186725</td>\n",
       "      <td>0</td>\n",
       "    </tr>\n",
       "  </tbody>\n",
       "</table>\n",
       "<p>15 rows × 171 columns</p>\n",
       "</div>"
      ],
      "text/plain": [
       "                                                         P_2      D_39  \\\n",
       "customer_ID                                                              \n",
       "0000099d6bd597052cdcda90ffabf56573fe9d7c79be5fb...  0.934745  0.009119   \n",
       "00000fd6641609c6ece5454664794f0340ad84dddce9a26...  0.880519  0.178126   \n",
       "00001b22f846c82c51f6e3958ccd81970162bae8b007e80...  0.880875  0.009704   \n",
       "000041bdba6ecadd89a52d11886e8eaaec9325906c97233...  0.621776  0.001083   \n",
       "00007889e4fcd2614b6cbe7f8f3d2e5c728eca32d9eb8ad...  0.871900  0.005573   \n",
       "000084e5023181993c2e1b665ac88dbb1ce9ef621ec5370...  0.824061  0.009776   \n",
       "000098081fde4fd64bc4d503a5d6f86a0aedc425c96f523...  0.477116  0.000467   \n",
       "0000d17a1447b25a01e42e1ac56b091bb7cbb06317be4cb...  1.009762  0.006181   \n",
       "0000f99513770170a1aba690daeeb8a96da4a39f11fc27d...  0.424624  0.531173   \n",
       "00013181a0c5fc8f1ea38cd2b90fe8ad2fa8cad9d9f13e4...  0.359892  0.009807   \n",
       "0001337ded4e1c2539d1a78ff44a457bd4a95caa55ba173...  0.255796  0.007591   \n",
       "00013c6e1cec7c21bede7cb319f1e28eb994f5625257f47... -0.015913  0.037253   \n",
       "0001812036f1558332e5c0880ecbad70b13a6f28ab04a8d...  0.424076  0.240983   \n",
       "00018dd4932409baf6083519b52113c2ef58be59e1213e4...  0.894465  0.007793   \n",
       "000198b3dc70edd65dbf0d7eddbcb926c6d7dbd7986af19...  0.527167  0.360424   \n",
       "\n",
       "                                                         B_1       B_2  \\\n",
       "customer_ID                                                              \n",
       "0000099d6bd597052cdcda90ffabf56573fe9d7c79be5fb...  0.009382  1.007647   \n",
       "00000fd6641609c6ece5454664794f0340ad84dddce9a26...  0.034684  1.004028   \n",
       "00001b22f846c82c51f6e3958ccd81970162bae8b007e80...  0.004284  0.812649   \n",
       "000041bdba6ecadd89a52d11886e8eaaec9325906c97233...  0.012564  1.006183   \n",
       "00007889e4fcd2614b6cbe7f8f3d2e5c728eca32d9eb8ad...  0.007679  0.815746   \n",
       "000084e5023181993c2e1b665ac88dbb1ce9ef621ec5370...  0.007853  1.001713   \n",
       "000098081fde4fd64bc4d503a5d6f86a0aedc425c96f523...  0.009413  1.009217   \n",
       "0000d17a1447b25a01e42e1ac56b091bb7cbb06317be4cb... -0.000886  1.006692   \n",
       "0000f99513770170a1aba690daeeb8a96da4a39f11fc27d...  0.979303  0.029291   \n",
       "00013181a0c5fc8f1ea38cd2b90fe8ad2fa8cad9d9f13e4...  0.090679  0.818198   \n",
       "0001337ded4e1c2539d1a78ff44a457bd4a95caa55ba173...  0.208633  1.004648   \n",
       "00013c6e1cec7c21bede7cb319f1e28eb994f5625257f47...  0.100166  0.143920   \n",
       "0001812036f1558332e5c0880ecbad70b13a6f28ab04a8d...  0.917384  0.029441   \n",
       "00018dd4932409baf6083519b52113c2ef58be59e1213e4...  0.017898  0.812249   \n",
       "000198b3dc70edd65dbf0d7eddbcb926c6d7dbd7986af19...  0.041721  0.673220   \n",
       "\n",
       "                                                         R_1       S_3  \\\n",
       "customer_ID                                                              \n",
       "0000099d6bd597052cdcda90ffabf56573fe9d7c79be5fb...  0.006104  0.135021   \n",
       "00000fd6641609c6ece5454664794f0340ad84dddce9a26...  0.006911  0.165509   \n",
       "00001b22f846c82c51f6e3958ccd81970162bae8b007e80...  0.006450  0.165509   \n",
       "000041bdba6ecadd89a52d11886e8eaaec9325906c97233...  0.007829  0.287766   \n",
       "00007889e4fcd2614b6cbe7f8f3d2e5c728eca32d9eb8ad...  0.001247  0.176403   \n",
       "000084e5023181993c2e1b665ac88dbb1ce9ef621ec5370...  0.006885  0.395740   \n",
       "000098081fde4fd64bc4d503a5d6f86a0aedc425c96f523...  0.007775  0.267037   \n",
       "0000d17a1447b25a01e42e1ac56b091bb7cbb06317be4cb...  0.006112  0.116401   \n",
       "0000f99513770170a1aba690daeeb8a96da4a39f11fc27d...  0.008500  0.152608   \n",
       "00013181a0c5fc8f1ea38cd2b90fe8ad2fa8cad9d9f13e4...  0.507561  0.182016   \n",
       "0001337ded4e1c2539d1a78ff44a457bd4a95caa55ba173...  1.003798  0.175447   \n",
       "00013c6e1cec7c21bede7cb319f1e28eb994f5625257f47...  1.506197  0.494139   \n",
       "0001812036f1558332e5c0880ecbad70b13a6f28ab04a8d...  0.257114  0.153415   \n",
       "00018dd4932409baf6083519b52113c2ef58be59e1213e4...  0.007025  0.097096   \n",
       "000198b3dc70edd65dbf0d7eddbcb926c6d7dbd7986af19...  0.006728  0.838725   \n",
       "\n",
       "                                                        D_41       B_3  \\\n",
       "customer_ID                                                              \n",
       "0000099d6bd597052cdcda90ffabf56573fe9d7c79be5fb...  0.001604  0.007174   \n",
       "00000fd6641609c6ece5454664794f0340ad84dddce9a26...  0.005552  0.005068   \n",
       "00001b22f846c82c51f6e3958ccd81970162bae8b007e80...  0.003796  0.007196   \n",
       "000041bdba6ecadd89a52d11886e8eaaec9325906c97233...  0.004532  0.009937   \n",
       "00007889e4fcd2614b6cbe7f8f3d2e5c728eca32d9eb8ad...  0.000231  0.005528   \n",
       "000084e5023181993c2e1b665ac88dbb1ce9ef621ec5370...  0.002855  0.006134   \n",
       "000098081fde4fd64bc4d503a5d6f86a0aedc425c96f523...  0.006128  0.125927   \n",
       "0000d17a1447b25a01e42e1ac56b091bb7cbb06317be4cb...  0.000824  0.149496   \n",
       "0000f99513770170a1aba690daeeb8a96da4a39f11fc27d...  0.005344  1.155846   \n",
       "00013181a0c5fc8f1ea38cd2b90fe8ad2fa8cad9d9f13e4...  0.002933  0.009862   \n",
       "0001337ded4e1c2539d1a78ff44a457bd4a95caa55ba173...  0.009316  0.004711   \n",
       "00013c6e1cec7c21bede7cb319f1e28eb994f5625257f47...  0.256431  0.192567   \n",
       "0001812036f1558332e5c0880ecbad70b13a6f28ab04a8d...  0.008596  0.972654   \n",
       "00018dd4932409baf6083519b52113c2ef58be59e1213e4...  0.008311  0.009978   \n",
       "000198b3dc70edd65dbf0d7eddbcb926c6d7dbd7986af19...  0.001353  0.049048   \n",
       "\n",
       "                                                        D_42      D_43  ...  \\\n",
       "customer_ID                                                             ...   \n",
       "0000099d6bd597052cdcda90ffabf56573fe9d7c79be5fb...  0.152932  0.525600  ...   \n",
       "00000fd6641609c6ece5454664794f0340ad84dddce9a26...  0.152932  0.060646  ...   \n",
       "00001b22f846c82c51f6e3958ccd81970162bae8b007e80...  0.152932  0.060646  ...   \n",
       "000041bdba6ecadd89a52d11886e8eaaec9325906c97233...  0.152932  0.046104  ...   \n",
       "00007889e4fcd2614b6cbe7f8f3d2e5c728eca32d9eb8ad...  0.152932  0.044671  ...   \n",
       "000084e5023181993c2e1b665ac88dbb1ce9ef621ec5370...  0.152932  0.013881  ...   \n",
       "000098081fde4fd64bc4d503a5d6f86a0aedc425c96f523...  0.132976  0.057729  ...   \n",
       "0000d17a1447b25a01e42e1ac56b091bb7cbb06317be4cb...  0.132976  0.014716  ...   \n",
       "0000f99513770170a1aba690daeeb8a96da4a39f11fc27d...  0.132976  0.028677  ...   \n",
       "00013181a0c5fc8f1ea38cd2b90fe8ad2fa8cad9d9f13e4...  0.132976  0.246734  ...   \n",
       "0001337ded4e1c2539d1a78ff44a457bd4a95caa55ba173...  0.048749  0.246734  ...   \n",
       "00013c6e1cec7c21bede7cb319f1e28eb994f5625257f47...  0.201442  0.092177  ...   \n",
       "0001812036f1558332e5c0880ecbad70b13a6f28ab04a8d...  0.201442  0.304252  ...   \n",
       "00018dd4932409baf6083519b52113c2ef58be59e1213e4...  0.201442  0.019808  ...   \n",
       "000198b3dc70edd65dbf0d7eddbcb926c6d7dbd7986af19...  0.201442  0.108544  ...   \n",
       "\n",
       "                                                       D_133      R_28  \\\n",
       "customer_ID                                                              \n",
       "0000099d6bd597052cdcda90ffabf56573fe9d7c79be5fb...  0.006210  0.002715   \n",
       "00000fd6641609c6ece5454664794f0340ad84dddce9a26...  0.002996  0.001701   \n",
       "00001b22f846c82c51f6e3958ccd81970162bae8b007e80...  0.009881  0.007691   \n",
       "000041bdba6ecadd89a52d11886e8eaaec9325906c97233...  0.001789  0.005140   \n",
       "00007889e4fcd2614b6cbe7f8f3d2e5c728eca32d9eb8ad...  0.005045  0.003706   \n",
       "000084e5023181993c2e1b665ac88dbb1ce9ef621ec5370...  0.002709  0.002873   \n",
       "000098081fde4fd64bc4d503a5d6f86a0aedc425c96f523...  0.001976  0.003672   \n",
       "0000d17a1447b25a01e42e1ac56b091bb7cbb06317be4cb...  0.006115  0.009657   \n",
       "0000f99513770170a1aba690daeeb8a96da4a39f11fc27d...  0.009832  0.003794   \n",
       "00013181a0c5fc8f1ea38cd2b90fe8ad2fa8cad9d9f13e4...  0.002222  0.007014   \n",
       "0001337ded4e1c2539d1a78ff44a457bd4a95caa55ba173...  1.501225  0.004692   \n",
       "00013c6e1cec7c21bede7cb319f1e28eb994f5625257f47...  0.000151  0.000070   \n",
       "0001812036f1558332e5c0880ecbad70b13a6f28ab04a8d...  0.000753  0.008164   \n",
       "00018dd4932409baf6083519b52113c2ef58be59e1213e4...  0.006734  0.007240   \n",
       "000198b3dc70edd65dbf0d7eddbcb926c6d7dbd7986af19...  0.003603  0.001279   \n",
       "\n",
       "                                                       D_139     D_140  \\\n",
       "customer_ID                                                              \n",
       "0000099d6bd597052cdcda90ffabf56573fe9d7c79be5fb...  0.007186  0.004234   \n",
       "00000fd6641609c6ece5454664794f0340ad84dddce9a26...  0.002980  0.007479   \n",
       "00001b22f846c82c51f6e3958ccd81970162bae8b007e80...  0.007383  0.006623   \n",
       "000041bdba6ecadd89a52d11886e8eaaec9325906c97233...  0.002704  0.006184   \n",
       "00007889e4fcd2614b6cbe7f8f3d2e5c728eca32d9eb8ad...  0.002974  0.004162   \n",
       "000084e5023181993c2e1b665ac88dbb1ce9ef621ec5370...  0.009401  0.007832   \n",
       "000098081fde4fd64bc4d503a5d6f86a0aedc425c96f523...  0.006010  0.005221   \n",
       "0000d17a1447b25a01e42e1ac56b091bb7cbb06317be4cb...  0.002262  0.005217   \n",
       "0000f99513770170a1aba690daeeb8a96da4a39f11fc27d...  1.001303  0.007061   \n",
       "00013181a0c5fc8f1ea38cd2b90fe8ad2fa8cad9d9f13e4...  0.009808  0.002212   \n",
       "0001337ded4e1c2539d1a78ff44a457bd4a95caa55ba173...  1.005313  0.004475   \n",
       "00013c6e1cec7c21bede7cb319f1e28eb994f5625257f47...  0.008857  0.001684   \n",
       "0001812036f1558332e5c0880ecbad70b13a6f28ab04a8d...  0.005706  0.009877   \n",
       "00018dd4932409baf6083519b52113c2ef58be59e1213e4...  0.004283  0.006910   \n",
       "000198b3dc70edd65dbf0d7eddbcb926c6d7dbd7986af19...  1.005531  0.005125   \n",
       "\n",
       "                                                       D_141     D_142  \\\n",
       "customer_ID                                                              \n",
       "0000099d6bd597052cdcda90ffabf56573fe9d7c79be5fb...  0.005086  0.141214   \n",
       "00000fd6641609c6ece5454664794f0340ad84dddce9a26...  0.007870  0.141214   \n",
       "00001b22f846c82c51f6e3958ccd81970162bae8b007e80...  0.000964  0.141214   \n",
       "000041bdba6ecadd89a52d11886e8eaaec9325906c97233...  0.001899  0.141214   \n",
       "00007889e4fcd2614b6cbe7f8f3d2e5c728eca32d9eb8ad...  0.005764  0.141214   \n",
       "000084e5023181993c2e1b665ac88dbb1ce9ef621ec5370...  0.000957  0.141214   \n",
       "000098081fde4fd64bc4d503a5d6f86a0aedc425c96f523...  0.000937  0.141214   \n",
       "0000d17a1447b25a01e42e1ac56b091bb7cbb06317be4cb...  0.002153  0.141214   \n",
       "0000f99513770170a1aba690daeeb8a96da4a39f11fc27d...  0.876028  0.184614   \n",
       "00013181a0c5fc8f1ea38cd2b90fe8ad2fa8cad9d9f13e4...  0.004070  0.184614   \n",
       "0001337ded4e1c2539d1a78ff44a457bd4a95caa55ba173...  0.876428  0.051367   \n",
       "00013c6e1cec7c21bede7cb319f1e28eb994f5625257f47...  0.007280  0.051367   \n",
       "0001812036f1558332e5c0880ecbad70b13a6f28ab04a8d...  0.003770  0.051367   \n",
       "00018dd4932409baf6083519b52113c2ef58be59e1213e4...  0.007719  0.051367   \n",
       "000198b3dc70edd65dbf0d7eddbcb926c6d7dbd7986af19...  0.888655  0.191270   \n",
       "\n",
       "                                                       D_143     D_144  \\\n",
       "customer_ID                                                              \n",
       "0000099d6bd597052cdcda90ffabf56573fe9d7c79be5fb...  0.005810  0.002970   \n",
       "00000fd6641609c6ece5454664794f0340ad84dddce9a26...  0.003284  0.003169   \n",
       "00001b22f846c82c51f6e3958ccd81970162bae8b007e80...  0.002202  0.000834   \n",
       "000041bdba6ecadd89a52d11886e8eaaec9325906c97233...  0.008183  0.005560   \n",
       "00007889e4fcd2614b6cbe7f8f3d2e5c728eca32d9eb8ad...  0.008154  0.006944   \n",
       "000084e5023181993c2e1b665ac88dbb1ce9ef621ec5370...  0.009054  0.006943   \n",
       "000098081fde4fd64bc4d503a5d6f86a0aedc425c96f523...  0.009790  0.003703   \n",
       "0000d17a1447b25a01e42e1ac56b091bb7cbb06317be4cb...  0.001170  0.003350   \n",
       "0000f99513770170a1aba690daeeb8a96da4a39f11fc27d...  1.005212  0.003350   \n",
       "00013181a0c5fc8f1ea38cd2b90fe8ad2fa8cad9d9f13e4...  0.005430  0.007106   \n",
       "0001337ded4e1c2539d1a78ff44a457bd4a95caa55ba173...  1.005640  0.001958   \n",
       "00013c6e1cec7c21bede7cb319f1e28eb994f5625257f47...  0.005165  0.003616   \n",
       "0001812036f1558332e5c0880ecbad70b13a6f28ab04a8d...  0.002888  0.009148   \n",
       "00018dd4932409baf6083519b52113c2ef58be59e1213e4...  0.004930  0.008561   \n",
       "000198b3dc70edd65dbf0d7eddbcb926c6d7dbd7986af19...  1.009955  0.670402   \n",
       "\n",
       "                                                       D_145  target  \n",
       "customer_ID                                                           \n",
       "0000099d6bd597052cdcda90ffabf56573fe9d7c79be5fb...  0.008533       0  \n",
       "00000fd6641609c6ece5454664794f0340ad84dddce9a26...  0.008514       0  \n",
       "00001b22f846c82c51f6e3958ccd81970162bae8b007e80...  0.003444       0  \n",
       "000041bdba6ecadd89a52d11886e8eaaec9325906c97233...  0.002983       0  \n",
       "00007889e4fcd2614b6cbe7f8f3d2e5c728eca32d9eb8ad...  0.000905       0  \n",
       "000084e5023181993c2e1b665ac88dbb1ce9ef621ec5370...  0.001446       0  \n",
       "000098081fde4fd64bc4d503a5d6f86a0aedc425c96f523...  0.006274       0  \n",
       "0000d17a1447b25a01e42e1ac56b091bb7cbb06317be4cb...  0.000675       0  \n",
       "0000f99513770170a1aba690daeeb8a96da4a39f11fc27d...  0.734467       1  \n",
       "00013181a0c5fc8f1ea38cd2b90fe8ad2fa8cad9d9f13e4...  0.006270       1  \n",
       "0001337ded4e1c2539d1a78ff44a457bd4a95caa55ba173...  0.094792       1  \n",
       "00013c6e1cec7c21bede7cb319f1e28eb994f5625257f47...  0.001009       1  \n",
       "0001812036f1558332e5c0880ecbad70b13a6f28ab04a8d...  0.001400       1  \n",
       "00018dd4932409baf6083519b52113c2ef58be59e1213e4...  0.004405       0  \n",
       "000198b3dc70edd65dbf0d7eddbcb926c6d7dbd7986af19...  0.186725       0  \n",
       "\n",
       "[15 rows x 171 columns]"
      ]
     },
     "execution_count": 8,
     "metadata": {},
     "output_type": "execute_result"
    }
   ],
   "source": [
    "df.head(n=15)"
   ]
  },
  {
   "cell_type": "markdown",
   "id": "4f877d0d",
   "metadata": {
    "papermill": {
     "duration": 0.012625,
     "end_time": "2022-09-06T14:49:58.170904",
     "exception": false,
     "start_time": "2022-09-06T14:49:58.158279",
     "status": "completed"
    },
    "tags": []
   },
   "source": [
    "This magically removes all missing data... ??\n",
    "\n",
    "Lets separate our labels from our dataset."
   ]
  },
  {
   "cell_type": "code",
   "execution_count": 9,
   "id": "173c9280",
   "metadata": {
    "execution": {
     "iopub.execute_input": "2022-09-06T14:49:58.198145Z",
     "iopub.status.busy": "2022-09-06T14:49:58.197308Z",
     "iopub.status.idle": "2022-09-06T14:49:58.317472Z",
     "shell.execute_reply": "2022-09-06T14:49:58.315747Z"
    },
    "papermill": {
     "duration": 0.138247,
     "end_time": "2022-09-06T14:49:58.321511",
     "exception": false,
     "start_time": "2022-09-06T14:49:58.183264",
     "status": "completed"
    },
    "tags": []
   },
   "outputs": [
    {
     "name": "stdout",
     "output_type": "stream",
     "text": [
      "0.2589336105100531\n"
     ]
    }
   ],
   "source": [
    "df_label = df.iloc[:,len(df.columns)-1]\n",
    "df = df.iloc[:,0:len(df.columns)-1]\n",
    "print(df_label.sum()/len(df_label))"
   ]
  },
  {
   "cell_type": "markdown",
   "id": "eeb20310",
   "metadata": {
    "papermill": {
     "duration": 0.013238,
     "end_time": "2022-09-06T14:49:58.348402",
     "exception": false,
     "start_time": "2022-09-06T14:49:58.335164",
     "status": "completed"
    },
    "tags": []
   },
   "source": [
    "Our train data contains ~25% positive cases but the negative class was subsampled at 5%"
   ]
  },
  {
   "cell_type": "markdown",
   "id": "9e32e670",
   "metadata": {
    "papermill": {
     "duration": 0.01277,
     "end_time": "2022-09-06T14:49:58.373568",
     "exception": false,
     "start_time": "2022-09-06T14:49:58.360798",
     "status": "completed"
    },
    "tags": []
   },
   "source": [
    "We aim to remove data columns that have too high a correlation."
   ]
  },
  {
   "cell_type": "code",
   "execution_count": 10,
   "id": "d049b988",
   "metadata": {
    "execution": {
     "iopub.execute_input": "2022-09-06T14:49:58.400382Z",
     "iopub.status.busy": "2022-09-06T14:49:58.399886Z",
     "iopub.status.idle": "2022-09-06T14:50:33.950682Z",
     "shell.execute_reply": "2022-09-06T14:50:33.949317Z"
    },
    "papermill": {
     "duration": 35.578907,
     "end_time": "2022-09-06T14:50:33.964978",
     "exception": false,
     "start_time": "2022-09-06T14:49:58.386071",
     "status": "completed"
    },
    "tags": []
   },
   "outputs": [
    {
     "name": "stdout",
     "output_type": "stream",
     "text": [
      "14 (458913, 156)\n"
     ]
    }
   ],
   "source": [
    "# Create correlation matrix\n",
    "corr_matrix = df.corr().abs()\n",
    "\n",
    "# Select upper triangle of correlation matrix\n",
    "import numpy as np\n",
    "upper = corr_matrix.where(np.triu(np.ones(corr_matrix.shape), k=1).astype(bool))\n",
    "\n",
    "# Find and drop columns with high correl\n",
    "to_drop = [column for column in upper.columns if any(upper[column] > 0.9)]\n",
    "df.drop(to_drop, axis=1, inplace=True)\n",
    "\n",
    "print(len(to_drop),df.shape)"
   ]
  },
  {
   "cell_type": "markdown",
   "id": "fe341fc9",
   "metadata": {
    "papermill": {
     "duration": 0.0117,
     "end_time": "2022-09-06T14:50:33.989341",
     "exception": false,
     "start_time": "2022-09-06T14:50:33.977641",
     "status": "completed"
    },
    "tags": []
   },
   "source": [
    "##### To further reduce the degrees of freedom we remove columns with low variance"
   ]
  },
  {
   "cell_type": "code",
   "execution_count": 11,
   "id": "6c0e918a",
   "metadata": {
    "execution": {
     "iopub.execute_input": "2022-09-06T14:50:34.016426Z",
     "iopub.status.busy": "2022-09-06T14:50:34.015619Z",
     "iopub.status.idle": "2022-09-06T14:50:36.517420Z",
     "shell.execute_reply": "2022-09-06T14:50:36.516167Z"
    },
    "papermill": {
     "duration": 2.518331,
     "end_time": "2022-09-06T14:50:36.519978",
     "exception": false,
     "start_time": "2022-09-06T14:50:34.001647",
     "status": "completed"
    },
    "tags": []
   },
   "outputs": [
    {
     "data": {
      "text/plain": [
       "58"
      ]
     },
     "execution_count": 11,
     "metadata": {},
     "output_type": "execute_result"
    }
   ],
   "source": [
    "from sklearn.feature_selection import VarianceThreshold\n",
    "from itertools import compress\n",
    "\n",
    "temp = df.drop(['D_63', 'D_64'], axis=1)\n",
    "\n",
    "# Initialize and fit the method\n",
    "vt = VarianceThreshold(threshold = float(0.1))\n",
    "vt.fit(temp)\n",
    "\n",
    "#columns with sufficient variance\n",
    "keep = list(compress(temp.columns, vt.get_support()))\n",
    "\n",
    "#dropped = ['D_63', 'D_64', 'customer_ID', 'S_2']\n",
    "\n",
    "keep.extend(['D_63', 'D_64',])\n",
    "\n",
    "#keep = keep + dropped\n",
    "#keep.append('D_64')\n",
    "df=df[keep]\n",
    "keep.extend([ 'customer_ID', 'S_2'])\n",
    "#keep.append('customer_ID')\n",
    "#keep.append('S_2')\n",
    "len(keep)"
   ]
  },
  {
   "cell_type": "markdown",
   "id": "a4f09cf4",
   "metadata": {
    "papermill": {
     "duration": 0.013263,
     "end_time": "2022-09-06T14:50:36.545486",
     "exception": false,
     "start_time": "2022-09-06T14:50:36.532223",
     "status": "completed"
    },
    "tags": []
   },
   "source": [
    "Now lets take a look at our data types."
   ]
  },
  {
   "cell_type": "code",
   "execution_count": 12,
   "id": "3e89be4b",
   "metadata": {
    "execution": {
     "iopub.execute_input": "2022-09-06T14:50:36.572695Z",
     "iopub.status.busy": "2022-09-06T14:50:36.571870Z",
     "iopub.status.idle": "2022-09-06T14:50:36.582726Z",
     "shell.execute_reply": "2022-09-06T14:50:36.580856Z"
    },
    "papermill": {
     "duration": 0.029365,
     "end_time": "2022-09-06T14:50:36.587299",
     "exception": false,
     "start_time": "2022-09-06T14:50:36.557934",
     "status": "completed"
    },
    "tags": []
   },
   "outputs": [
    {
     "name": "stdout",
     "output_type": "stream",
     "text": [
      "float32    54\n",
      "object      2\n",
      "dtype: int64\n",
      "Index(['D_39', 'B_2', 'B_5', 'D_48', 'B_6', 'B_8', 'D_50', 'B_10', 'S_5',\n",
      "       'S_6', 'B_12', 'R_5', 'D_60', 'D_61', 'D_65', 'B_16', 'B_17', 'B_18',\n",
      "       'B_20', 'D_68', 'R_6', 'B_21', 'D_69', 'D_71', 'P_4', 'B_24', 'R_7',\n",
      "       'B_26', 'D_78', 'R_8', 'S_16', 'R_10', 'D_81', 'R_14', 'D_84', 'B_30',\n",
      "       'R_20', 'S_22', 'S_23', 'S_26', 'D_103', 'R_27', 'B_38', 'D_112',\n",
      "       'B_40', 'S_27', 'D_114', 'D_117', 'D_120', 'D_126', 'D_128', 'D_129',\n",
      "       'D_130', 'D_139', 'D_63', 'D_64'],\n",
      "      dtype='object')\n"
     ]
    }
   ],
   "source": [
    "print(df.dtypes.value_counts())\n",
    "print(df.columns)\n",
    "#how to find categorical data encoded as numeric"
   ]
  },
  {
   "cell_type": "markdown",
   "id": "dd8db53d",
   "metadata": {
    "papermill": {
     "duration": 0.012206,
     "end_time": "2022-09-06T14:50:36.612318",
     "exception": false,
     "start_time": "2022-09-06T14:50:36.600112",
     "status": "completed"
    },
    "tags": []
   },
   "source": [
    "Convert our object columns to numeric via one hot encoding"
   ]
  },
  {
   "cell_type": "code",
   "execution_count": 13,
   "id": "7a651936",
   "metadata": {
    "execution": {
     "iopub.execute_input": "2022-09-06T14:50:36.639704Z",
     "iopub.status.busy": "2022-09-06T14:50:36.638544Z",
     "iopub.status.idle": "2022-09-06T14:50:37.000056Z",
     "shell.execute_reply": "2022-09-06T14:50:36.998406Z"
    },
    "papermill": {
     "duration": 0.378331,
     "end_time": "2022-09-06T14:50:37.003216",
     "exception": false,
     "start_time": "2022-09-06T14:50:36.624885",
     "status": "completed"
    },
    "tags": []
   },
   "outputs": [
    {
     "name": "stdout",
     "output_type": "stream",
     "text": [
      "1865\n",
      "(458913, 63)\n"
     ]
    }
   ],
   "source": [
    "df = pd.get_dummies(df)\n",
    "print(df['D_64_-1'].sum())\n",
    "df.drop(['D_64_-1'], axis=1, inplace = True)\n",
    "print(df.shape)"
   ]
  },
  {
   "cell_type": "code",
   "execution_count": 14,
   "id": "40dfc040",
   "metadata": {
    "execution": {
     "iopub.execute_input": "2022-09-06T14:50:37.031234Z",
     "iopub.status.busy": "2022-09-06T14:50:37.030777Z",
     "iopub.status.idle": "2022-09-06T14:50:37.035643Z",
     "shell.execute_reply": "2022-09-06T14:50:37.034317Z"
    },
    "papermill": {
     "duration": 0.02153,
     "end_time": "2022-09-06T14:50:37.038241",
     "exception": false,
     "start_time": "2022-09-06T14:50:37.016711",
     "status": "completed"
    },
    "tags": []
   },
   "outputs": [],
   "source": [
    "#Handling missing values\n",
    "#from sklearn.impute import SimpleImputer\n",
    "#my_imputer = SimpleImputer()\n",
    "#df1.iloc[:,:] = my_imputer.fit_transform(df1.iloc[:,:])"
   ]
  },
  {
   "cell_type": "markdown",
   "id": "1941900f",
   "metadata": {
    "papermill": {
     "duration": 0.013115,
     "end_time": "2022-09-06T14:50:37.064498",
     "exception": false,
     "start_time": "2022-09-06T14:50:37.051383",
     "status": "completed"
    },
    "tags": []
   },
   "source": [
    "We scale our data for better results"
   ]
  },
  {
   "cell_type": "markdown",
   "id": "34f90487",
   "metadata": {
    "papermill": {
     "duration": 0.012805,
     "end_time": "2022-09-06T14:50:37.092221",
     "exception": false,
     "start_time": "2022-09-06T14:50:37.079416",
     "status": "completed"
    },
    "tags": []
   },
   "source": [
    "Reshaping data for model training"
   ]
  },
  {
   "cell_type": "code",
   "execution_count": 15,
   "id": "1fae3573",
   "metadata": {
    "execution": {
     "iopub.execute_input": "2022-09-06T14:50:37.120510Z",
     "iopub.status.busy": "2022-09-06T14:50:37.119639Z",
     "iopub.status.idle": "2022-09-06T14:50:37.578308Z",
     "shell.execute_reply": "2022-09-06T14:50:37.576995Z"
    },
    "papermill": {
     "duration": 0.475946,
     "end_time": "2022-09-06T14:50:37.581353",
     "exception": false,
     "start_time": "2022-09-06T14:50:37.105407",
     "status": "completed"
    },
    "tags": []
   },
   "outputs": [],
   "source": [
    "from sklearn.model_selection import train_test_split\n",
    "\n",
    "x = df.iloc[:, :]\n",
    "y = df_label.iloc[:]\n",
    "\n",
    "x_train, x_test, y_train, y_test = train_test_split(x, y, test_size=0.25, random_state=23)"
   ]
  },
  {
   "cell_type": "code",
   "execution_count": 16,
   "id": "a5f67479",
   "metadata": {
    "execution": {
     "iopub.execute_input": "2022-09-06T14:50:37.608644Z",
     "iopub.status.busy": "2022-09-06T14:50:37.607846Z",
     "iopub.status.idle": "2022-09-06T14:50:37.615880Z",
     "shell.execute_reply": "2022-09-06T14:50:37.614406Z"
    },
    "papermill": {
     "duration": 0.026018,
     "end_time": "2022-09-06T14:50:37.619857",
     "exception": false,
     "start_time": "2022-09-06T14:50:37.593839",
     "status": "completed"
    },
    "tags": []
   },
   "outputs": [
    {
     "data": {
      "text/plain": [
       "'#does this actually help log regr sig?\\nfrom sklearn import preprocessing\\n\\nscaler = preprocessing.StandardScaler().fit(X)\\nX_scaled = scaler.transform(X)'"
      ]
     },
     "execution_count": 16,
     "metadata": {},
     "output_type": "execute_result"
    }
   ],
   "source": [
    "\"\"\"#does this actually help log regr sig?\n",
    "from sklearn import preprocessing\n",
    "\n",
    "scaler = preprocessing.StandardScaler().fit(X)\n",
    "X_scaled = scaler.transform(X)\"\"\""
   ]
  },
  {
   "cell_type": "markdown",
   "id": "5801b417",
   "metadata": {
    "papermill": {
     "duration": 0.013229,
     "end_time": "2022-09-06T14:50:37.646512",
     "exception": false,
     "start_time": "2022-09-06T14:50:37.633283",
     "status": "completed"
    },
    "tags": []
   },
   "source": [
    "# Model Building"
   ]
  },
  {
   "cell_type": "code",
   "execution_count": 17,
   "id": "332c83d5",
   "metadata": {
    "execution": {
     "iopub.execute_input": "2022-09-06T14:50:37.674266Z",
     "iopub.status.busy": "2022-09-06T14:50:37.673356Z",
     "iopub.status.idle": "2022-09-06T14:50:45.806654Z",
     "shell.execute_reply": "2022-09-06T14:50:45.804919Z"
    },
    "papermill": {
     "duration": 8.150151,
     "end_time": "2022-09-06T14:50:45.809503",
     "exception": false,
     "start_time": "2022-09-06T14:50:37.659352",
     "status": "completed"
    },
    "tags": []
   },
   "outputs": [
    {
     "name": "stderr",
     "output_type": "stream",
     "text": [
      "/opt/conda/lib/python3.7/site-packages/sklearn/linear_model/_logistic.py:818: ConvergenceWarning: lbfgs failed to converge (status=1):\n",
      "STOP: TOTAL NO. of ITERATIONS REACHED LIMIT.\n",
      "\n",
      "Increase the number of iterations (max_iter) or scale the data as shown in:\n",
      "    https://scikit-learn.org/stable/modules/preprocessing.html\n",
      "Please also refer to the documentation for alternative solver options:\n",
      "    https://scikit-learn.org/stable/modules/linear_model.html#logistic-regression\n",
      "  extra_warning_msg=_LOGISTIC_SOLVER_CONVERGENCE_MSG,\n"
     ]
    },
    {
     "name": "stdout",
     "output_type": "stream",
     "text": [
      "5637\n",
      "0.7880222088573944\n",
      "\n",
      "Logistics Regression Accuracy: 0.788\n",
      "\n",
      "Logistics Regression Precision: 0.980\n",
      "\n",
      "Logistics Regression Recall: 0.186\n"
     ]
    }
   ],
   "source": [
    "from sklearn.linear_model import LogisticRegression\n",
    "from sklearn.metrics import accuracy_score  \n",
    "from sklearn.metrics import precision_score                         \n",
    "from sklearn.metrics import recall_score\n",
    "# create object for the class\n",
    "log = LogisticRegression(random_state=12, penalty='l2', class_weight = {0:.95, 1:.05})\n",
    "log.fit(x_train, y_train) \n",
    "y_pred = log.predict(x_test)\n",
    "\n",
    "print(np.sum(y_pred))\n",
    "print(log.score(x_test, y_test))\n",
    "print('\\nLogistics Regression Accuracy: {:.3f}'.format(accuracy_score(y_test, y_pred)))\n",
    "\n",
    "\n",
    "print('\\nLogistics Regression Precision: {:.3f}'.format(precision_score (y_test, y_pred)))\n",
    "\n",
    "\n",
    "print('\\nLogistics Regression Recall: {:.3f}'.format(recall_score (y_test, y_pred)))\n"
   ]
  },
  {
   "cell_type": "markdown",
   "id": "dde73644",
   "metadata": {
    "papermill": {
     "duration": 0.01319,
     "end_time": "2022-09-06T14:50:45.835947",
     "exception": false,
     "start_time": "2022-09-06T14:50:45.822757",
     "status": "completed"
    },
    "tags": []
   },
   "source": [
    "# Results"
   ]
  },
  {
   "cell_type": "code",
   "execution_count": 18,
   "id": "91b6d716",
   "metadata": {
    "execution": {
     "iopub.execute_input": "2022-09-06T14:50:45.863786Z",
     "iopub.status.busy": "2022-09-06T14:50:45.863143Z",
     "iopub.status.idle": "2022-09-06T14:50:46.563329Z",
     "shell.execute_reply": "2022-09-06T14:50:46.562104Z"
    },
    "papermill": {
     "duration": 0.71732,
     "end_time": "2022-09-06T14:50:46.566099",
     "exception": false,
     "start_time": "2022-09-06T14:50:45.848779",
     "status": "completed"
    },
    "tags": []
   },
   "outputs": [
    {
     "name": "stdout",
     "output_type": "stream",
     "text": [
      "Accuracy: 0.788\n",
      "0.5922349454913682\n"
     ]
    },
    {
     "data": {
      "image/png": "[encoded data removed]",
      "text/plain": [
       "<Figure size 648x648 with 2 Axes>"
      ]
     },
     "metadata": {
      "needs_background": "light"
     },
     "output_type": "display_data"
    }
   ],
   "source": [
    "from sklearn import metrics\n",
    "import matplotlib.pyplot as plt\n",
    "import seaborn as sns\n",
    "\n",
    "cm = metrics.confusion_matrix(y_test, y_pred)\n",
    "\n",
    "plt.figure(figsize=(9,9))\n",
    "sns.heatmap(cm, annot=True, fmt=\".3f\", linewidths=.5, square = True, cmap = 'YlGnBu');\n",
    "plt.ylabel('Actual label');\n",
    "plt.xlabel('Predicted label');\n",
    "all_sample_title = 'Accuracy Score: {0}'.format(round(log.score(x_test, y_test),3))\n",
    "plt.title(all_sample_title, size = 15);\n",
    "\n",
    "print('Accuracy:',round(metrics.accuracy_score(y_test, y_pred),3))\n",
    "metrics.roc_curve(y_test, y_pred)\n",
    "print(metrics.roc_auc_score(y_test, y_pred))"
   ]
  },
  {
   "cell_type": "code",
   "execution_count": 19,
   "id": "0600cd57",
   "metadata": {
    "execution": {
     "iopub.execute_input": "2022-09-06T14:50:46.594862Z",
     "iopub.status.busy": "2022-09-06T14:50:46.594367Z",
     "iopub.status.idle": "2022-09-06T14:50:46.602398Z",
     "shell.execute_reply": "2022-09-06T14:50:46.601201Z"
    },
    "papermill": {
     "duration": 0.02533,
     "end_time": "2022-09-06T14:50:46.604898",
     "exception": false,
     "start_time": "2022-09-06T14:50:46.579568",
     "status": "completed"
    },
    "tags": []
   },
   "outputs": [
    {
     "data": {
      "text/plain": [
       "\"\\n#trying random forest\\nfrom sklearn.ensemble import RandomForestClassifier\\nfrom sklearn.model_selection import RandomizedSearchCV, GridSearchCV\\n# Number of trees in random forest\\nn_estimators = [int(x) for x in np.linspace(start = 200, stop = 2000, num = 10)]\\n# Number of features to consider at every split\\nmax_features = ['auto', 'sqrt']\\n# Maximum number of levels in tree\\nmax_depth = [int(x) for x in np.linspace(10, 110, num = 11)]\\nmax_depth.append(None)\\n# Minimum number of samples required to split a node\\nmin_samples_split = [2, 5, 10]\\n# Minimum number of samples required at each leaf node\\nmin_samples_leaf = [1, 2, 4]\\n# Method of selecting samples for training each tree\\nbootstrap = [True, False]\\n# Create the random grid\\nrandom_grid = {'n_estimators': n_estimators,\\n               'max_features': max_features,\\n               'max_depth': max_depth,\\n               'min_samples_split': min_samples_split,\\n               'min_samples_leaf': min_samples_leaf,\\n               'bootstrap': bootstrap}\\n\\nmodel = RandomForestClassifier(n_estimators=400, max_features='sqrt', bootstrap=True, max_depth=30, min_samples_leaf=1, min_samples_split=5, n_jobs=-1)\\n#rf_random = GridSearchCV(estimator = rf, param_grid = random_grid, cv = 3, verbose=1, n_jobs = -1)\\n# Fit the random search model\\nmodel.fit(X,Y)\""
      ]
     },
     "execution_count": 19,
     "metadata": {},
     "output_type": "execute_result"
    }
   ],
   "source": [
    "\"\"\"\n",
    "#trying random forest\n",
    "from sklearn.ensemble import RandomForestClassifier\n",
    "from sklearn.model_selection import RandomizedSearchCV, GridSearchCV\n",
    "# Number of trees in random forest\n",
    "n_estimators = [int(x) for x in np.linspace(start = 200, stop = 2000, num = 10)]\n",
    "# Number of features to consider at every split\n",
    "max_features = ['auto', 'sqrt']\n",
    "# Maximum number of levels in tree\n",
    "max_depth = [int(x) for x in np.linspace(10, 110, num = 11)]\n",
    "max_depth.append(None)\n",
    "# Minimum number of samples required to split a node\n",
    "min_samples_split = [2, 5, 10]\n",
    "# Minimum number of samples required at each leaf node\n",
    "min_samples_leaf = [1, 2, 4]\n",
    "# Method of selecting samples for training each tree\n",
    "bootstrap = [True, False]\n",
    "# Create the random grid\n",
    "random_grid = {'n_estimators': n_estimators,\n",
    "               'max_features': max_features,\n",
    "               'max_depth': max_depth,\n",
    "               'min_samples_split': min_samples_split,\n",
    "               'min_samples_leaf': min_samples_leaf,\n",
    "               'bootstrap': bootstrap}\n",
    "\n",
    "model = RandomForestClassifier(n_estimators=400, max_features='sqrt', bootstrap=True, max_depth=30, min_samples_leaf=1, min_samples_split=5, n_jobs=-1)\n",
    "#rf_random = GridSearchCV(estimator = rf, param_grid = random_grid, cv = 3, verbose=1, n_jobs = -1)\n",
    "# Fit the random search model\n",
    "model.fit(X,Y)\"\"\""
   ]
  },
  {
   "cell_type": "code",
   "execution_count": 20,
   "id": "9348fc31",
   "metadata": {
    "execution": {
     "iopub.execute_input": "2022-09-06T14:50:46.635019Z",
     "iopub.status.busy": "2022-09-06T14:50:46.634579Z",
     "iopub.status.idle": "2022-09-06T14:50:46.640456Z",
     "shell.execute_reply": "2022-09-06T14:50:46.639621Z"
    },
    "papermill": {
     "duration": 0.023908,
     "end_time": "2022-09-06T14:50:46.642510",
     "exception": false,
     "start_time": "2022-09-06T14:50:46.618602",
     "status": "completed"
    },
    "tags": []
   },
   "outputs": [
    {
     "data": {
      "text/plain": [
       "'Y_pred = model.predict_proba(X)\\nY_pred = Y_pred[:,1]\\nprint(Y_pred.shape, Y_pred[25:50])'"
      ]
     },
     "execution_count": 20,
     "metadata": {},
     "output_type": "execute_result"
    }
   ],
   "source": [
    "\"\"\"Y_pred = model.predict_proba(X)\n",
    "Y_pred = Y_pred[:,1]\n",
    "print(Y_pred.shape, Y_pred[25:50])\"\"\""
   ]
  },
  {
   "cell_type": "code",
   "execution_count": 21,
   "id": "27c67834",
   "metadata": {
    "execution": {
     "iopub.execute_input": "2022-09-06T14:50:46.671916Z",
     "iopub.status.busy": "2022-09-06T14:50:46.670948Z",
     "iopub.status.idle": "2022-09-06T14:50:46.805082Z",
     "shell.execute_reply": "2022-09-06T14:50:46.803778Z"
    },
    "papermill": {
     "duration": 0.152101,
     "end_time": "2022-09-06T14:50:46.808014",
     "exception": false,
     "start_time": "2022-09-06T14:50:46.655913",
     "status": "completed"
    },
    "tags": []
   },
   "outputs": [
    {
     "data": {
      "text/plain": [
       "5106"
      ]
     },
     "execution_count": 21,
     "metadata": {},
     "output_type": "execute_result"
    }
   ],
   "source": [
    "import gc\n",
    "#free up ram\n",
    "del df\n",
    "gc.collect()"
   ]
  },
  {
   "cell_type": "code",
   "execution_count": 22,
   "id": "c41e021c",
   "metadata": {
    "execution": {
     "iopub.execute_input": "2022-09-06T14:50:46.838260Z",
     "iopub.status.busy": "2022-09-06T14:50:46.837789Z",
     "iopub.status.idle": "2022-09-06T14:50:46.844196Z",
     "shell.execute_reply": "2022-09-06T14:50:46.842939Z"
    },
    "papermill": {
     "duration": 0.02445,
     "end_time": "2022-09-06T14:50:46.846653",
     "exception": false,
     "start_time": "2022-09-06T14:50:46.822203",
     "status": "completed"
    },
    "tags": []
   },
   "outputs": [
    {
     "name": "stdout",
     "output_type": "stream",
     "text": [
      "58 ['D_39', 'B_2', 'B_5', 'D_48', 'B_6', 'B_8', 'D_50', 'B_10', 'S_5', 'S_6', 'B_12', 'R_5', 'D_60', 'D_61', 'D_65', 'B_16', 'B_17', 'B_18', 'B_20', 'D_68', 'R_6', 'B_21', 'D_69', 'D_71', 'P_4', 'B_24', 'R_7', 'B_26', 'D_78', 'R_8', 'S_16', 'R_10', 'D_81', 'R_14', 'D_84', 'B_30', 'R_20', 'S_22', 'S_23', 'S_26', 'D_103', 'R_27', 'B_38', 'D_112', 'B_40', 'S_27', 'D_114', 'D_117', 'D_120', 'D_126', 'D_128', 'D_129', 'D_130', 'D_139', 'D_63', 'D_64', 'customer_ID', 'S_2']\n"
     ]
    }
   ],
   "source": [
    "print(len(keep), keep)"
   ]
  },
  {
   "cell_type": "code",
   "execution_count": 23,
   "id": "3ac3a3b4",
   "metadata": {
    "execution": {
     "iopub.execute_input": "2022-09-06T14:50:46.877159Z",
     "iopub.status.busy": "2022-09-06T14:50:46.876307Z",
     "iopub.status.idle": "2022-09-06T14:51:20.724288Z",
     "shell.execute_reply": "2022-09-06T14:51:20.722936Z"
    },
    "papermill": {
     "duration": 33.88023,
     "end_time": "2022-09-06T14:51:20.740953",
     "exception": false,
     "start_time": "2022-09-06T14:50:46.860723",
     "status": "completed"
    },
    "tags": []
   },
   "outputs": [
    {
     "name": "stdout",
     "output_type": "stream",
     "text": [
      "(11363762, 58)\n"
     ]
    }
   ],
   "source": [
    "#run prediction on test dat\n",
    "#only loading columns that model utilizes\n",
    "df2=pd.read_parquet('/kaggle/input/amex-parquet/test_data.parquet', columns =keep)\n",
    "print(df2.shape)"
   ]
  },
  {
   "cell_type": "code",
   "execution_count": 24,
   "id": "debb7ee9",
   "metadata": {
    "execution": {
     "iopub.execute_input": "2022-09-06T14:51:20.773428Z",
     "iopub.status.busy": "2022-09-06T14:51:20.772935Z",
     "iopub.status.idle": "2022-09-06T14:51:20.778155Z",
     "shell.execute_reply": "2022-09-06T14:51:20.776777Z"
    },
    "papermill": {
     "duration": 0.024039,
     "end_time": "2022-09-06T14:51:20.780628",
     "exception": false,
     "start_time": "2022-09-06T14:51:20.756589",
     "status": "completed"
    },
    "tags": []
   },
   "outputs": [],
   "source": [
    "#Handling missing values via imputation\n",
    "#df2.iloc[:,:] = my_imputer.fit_transform(df2.iloc[:,:])"
   ]
  },
  {
   "cell_type": "code",
   "execution_count": 25,
   "id": "8090338c",
   "metadata": {
    "execution": {
     "iopub.execute_input": "2022-09-06T14:51:20.811580Z",
     "iopub.status.busy": "2022-09-06T14:51:20.810661Z",
     "iopub.status.idle": "2022-09-06T14:51:29.596764Z",
     "shell.execute_reply": "2022-09-06T14:51:29.595255Z"
    },
    "papermill": {
     "duration": 8.804995,
     "end_time": "2022-09-06T14:51:29.599492",
     "exception": false,
     "start_time": "2022-09-06T14:51:20.794497",
     "status": "completed"
    },
    "tags": []
   },
   "outputs": [
    {
     "name": "stdout",
     "output_type": "stream",
     "text": [
      "(11363762, 58) (924621, 56)\n",
      "Columns left with NaN:\n"
     ]
    }
   ],
   "source": [
    "#using only most recent transaction from each customer\n",
    "#Does this make sense for test data??\n",
    "temp = df2.shape\n",
    "df2=df2.set_index(['customer_ID'])\n",
    "df2=df2.ffill()\n",
    "df2=df2.bfill()\n",
    "df2=df2.reset_index()\n",
    "\n",
    "df2=df2.groupby('customer_ID').tail(1)\n",
    "df2=df2.set_index(['customer_ID'])\n",
    "\n",
    "#Drop date column since it is no longer useful\n",
    "df2.drop(['S_2'],axis=1,inplace=True)\n",
    "\n",
    "print(temp, df2.shape)\n",
    "\n",
    "#inspecting NaN\n",
    "print('Columns left with NaN:')\n",
    "for i in range(len(df2.columns)):\n",
    "    if (df2.iloc[:,i].isnull().sum()/len(df2) > 0):\n",
    "        print(df2.columns[i], round(df2.iloc[:,i].isnull().sum()/len(df2),2))"
   ]
  },
  {
   "cell_type": "code",
   "execution_count": 26,
   "id": "2322ce80",
   "metadata": {
    "execution": {
     "iopub.execute_input": "2022-09-06T14:51:29.631686Z",
     "iopub.status.busy": "2022-09-06T14:51:29.631195Z",
     "iopub.status.idle": "2022-09-06T14:51:30.336264Z",
     "shell.execute_reply": "2022-09-06T14:51:30.334817Z"
    },
    "papermill": {
     "duration": 0.724125,
     "end_time": "2022-09-06T14:51:30.338997",
     "exception": false,
     "start_time": "2022-09-06T14:51:29.614872",
     "status": "completed"
    },
    "tags": []
   },
   "outputs": [],
   "source": [
    "#one hot encoding\n",
    "df2 = pd.get_dummies(df2)"
   ]
  },
  {
   "cell_type": "code",
   "execution_count": 27,
   "id": "c39a7efb",
   "metadata": {
    "execution": {
     "iopub.execute_input": "2022-09-06T14:51:30.370000Z",
     "iopub.status.busy": "2022-09-06T14:51:30.369189Z",
     "iopub.status.idle": "2022-09-06T14:51:33.547063Z",
     "shell.execute_reply": "2022-09-06T14:51:33.544478Z"
    },
    "papermill": {
     "duration": 3.198018,
     "end_time": "2022-09-06T14:51:33.551056",
     "exception": false,
     "start_time": "2022-09-06T14:51:30.353038",
     "status": "completed"
    },
    "tags": []
   },
   "outputs": [
    {
     "name": "stderr",
     "output_type": "stream",
     "text": [
      "/opt/conda/lib/python3.7/site-packages/sklearn/base.py:451: UserWarning: X does not have valid feature names, but LogisticRegression was fitted with feature names\n",
      "  \"X does not have valid feature names, but\"\n"
     ]
    },
    {
     "name": "stdout",
     "output_type": "stream",
     "text": [
      "[0 0 0 ... 0 0 0]\n",
      "[0 0 0 ... 0 0 0] 50305\n"
     ]
    }
   ],
   "source": [
    "from sklearn import preprocessing\n",
    "\n",
    "X2 = df2.iloc[:, :].values.reshape(-1, len(df2.columns))\n",
    "#scaler = preprocessing.StandardScaler().fit(X2)\n",
    "#X2 = scaler.transform(X2)\n",
    "\n",
    "\n",
    "Y_pred2 = log.predict(X2)\n",
    "print(Y_pred2)\n",
    "\n",
    "df2 = df2.reset_index()\n",
    "\n",
    "final = pd.DataFrame({\"customer_ID\":df2.customer_ID,\"prediction\":Y_pred2})\n",
    "\n",
    "final.to_csv('submission.csv', index=False)\n",
    "print(Y_pred2, np.sum(Y_pred2))\n",
    "\n",
    "#initial score ended as ~50 w/o scaler"
   ]
  },
  {
   "cell_type": "code",
   "execution_count": 28,
   "id": "eaa6fe45",
   "metadata": {
    "execution": {
     "iopub.execute_input": "2022-09-06T14:51:33.583419Z",
     "iopub.status.busy": "2022-09-06T14:51:33.582965Z",
     "iopub.status.idle": "2022-09-06T14:51:33.590213Z",
     "shell.execute_reply": "2022-09-06T14:51:33.589188Z"
    },
    "papermill": {
     "duration": 0.02618,
     "end_time": "2022-09-06T14:51:33.593000",
     "exception": false,
     "start_time": "2022-09-06T14:51:33.566820",
     "status": "completed"
    },
    "tags": []
   },
   "outputs": [
    {
     "data": {
      "text/plain": [
       "'Y_pred2 = model.predict_proba(df2)\\nY_pred2 = Y_pred2[:,1]\\ndf2 = df2.reset_index()\\nprint(Y_pred2, np.sum(Y_pred2))\\nfinal = pd.DataFrame({\"customer_ID\":df2.customer_ID,\"prediction\":Y_pred2})\\nprint(final)'"
      ]
     },
     "execution_count": 28,
     "metadata": {},
     "output_type": "execute_result"
    }
   ],
   "source": [
    "\"\"\"Y_pred2 = model.predict_proba(df2)\n",
    "Y_pred2 = Y_pred2[:,1]\n",
    "df2 = df2.reset_index()\n",
    "print(Y_pred2, np.sum(Y_pred2))\n",
    "final = pd.DataFrame({\"customer_ID\":df2.customer_ID,\"prediction\":Y_pred2})\n",
    "print(final)\"\"\""
   ]
  },
  {
   "cell_type": "code",
   "execution_count": 29,
   "id": "c24862ec",
   "metadata": {
    "execution": {
     "iopub.execute_input": "2022-09-06T14:51:33.623742Z",
     "iopub.status.busy": "2022-09-06T14:51:33.623030Z",
     "iopub.status.idle": "2022-09-06T14:51:36.187090Z",
     "shell.execute_reply": "2022-09-06T14:51:36.185344Z"
    },
    "papermill": {
     "duration": 2.583111,
     "end_time": "2022-09-06T14:51:36.190473",
     "exception": false,
     "start_time": "2022-09-06T14:51:33.607362",
     "status": "completed"
    },
    "tags": []
   },
   "outputs": [
    {
     "name": "stdout",
     "output_type": "stream",
     "text": [
      "                                              customer_ID  prediction\n",
      "0       00000469ba478561f23a92a868bd366de6f6527a684c9a...           0\n",
      "1       00001bf2e77ff879fab36aa4fac689b9ba411dae63ae39...           0\n",
      "2       0000210045da4f81e5f122c6bde5c2a617d03eef67f82c...           0\n",
      "3       00003b41e58ede33b8daf61ab56d9952f17c9ad1c3976c...           0\n",
      "4       00004b22eaeeeb0ec976890c1d9bfc14fd9427e98c4ee9...           0\n",
      "...                                                   ...         ...\n",
      "924616  ffff952c631f2c911b8a2a8ca56ea6e656309a83d2f64c...           0\n",
      "924617  ffffcf5df59e5e0bba2a5ac4578a34e2b5aa64a1546cd3...           0\n",
      "924618  ffffd61f098cc056dbd7d2a21380c4804bbfe60856f475...           0\n",
      "924619  ffffddef1fc3643ea179c93245b68dca0f36941cd83977...           0\n",
      "924620  fffffa7cf7e453e1acc6a1426475d5cb9400859f82ff61...           0\n",
      "\n",
      "[924621 rows x 2 columns]\n"
     ]
    }
   ],
   "source": [
    "final.to_csv('submission.csv', index=False)\n",
    "print(final)"
   ]
  },
  {
   "cell_type": "markdown",
   "id": "f9a446aa",
   "metadata": {
    "papermill": {
     "duration": 0.014745,
     "end_time": "2022-09-06T14:51:36.219905",
     "exception": false,
     "start_time": "2022-09-06T14:51:36.205160",
     "status": "completed"
    },
    "tags": []
   },
   "source": []
  }
 ],
 "metadata": {
  "kernelspec": {
   "display_name": "Python 3",
   "language": "python",
   "name": "python3"
  },
  "language_info": {
   "codemirror_mode": {
    "name": "ipython",
    "version": 3
   },
   "file_extension": ".py",
   "mimetype": "text/x-python",
   "name": "python",
   "nbconvert_exporter": "python",
   "pygments_lexer": "ipython3",
   "version": "3.7.12"
  },
  "papermill": {
   "default_parameters": {},
   "duration": 189.365494,
   "end_time": "2022-09-06T14:51:37.765751",
   "environment_variables": {},
   "exception": null,
   "input_path": "__notebook__.ipynb",
   "output_path": "__notebook__.ipynb",
   "parameters": {},
   "start_time": "2022-09-06T14:48:28.400257",
   "version": "2.3.4"
  }
 },
 "nbformat": 4,
 "nbformat_minor": 5
}
