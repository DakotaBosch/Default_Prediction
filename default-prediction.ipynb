{
 "cells": [
  {
   "cell_type": "code",
   "execution_count": 1,
   "id": "00a98666",
   "metadata": {
    "_cell_guid": "b1076dfc-b9ad-4769-8c92-a6c4dae69d19",
    "_uuid": "8f2839f25d086af736a60e9eeb907d3b93b6e0e5",
    "execution": {
     "iopub.execute_input": "2022-08-24T19:19:58.629587Z",
     "iopub.status.busy": "2022-08-24T19:19:58.628940Z",
     "iopub.status.idle": "2022-08-24T19:20:00.056406Z",
     "shell.execute_reply": "2022-08-24T19:20:00.054944Z"
    },
    "papermill": {
     "duration": 1.442478,
     "end_time": "2022-08-24T19:20:00.061515",
     "exception": false,
     "start_time": "2022-08-24T19:19:58.619037",
     "status": "completed"
    },
    "tags": []
   },
   "outputs": [
    {
     "name": "stdout",
     "output_type": "stream",
     "text": [
      "/kaggle/input/amex-parquet/test_data.parquet\n",
      "/kaggle/input/amex-parquet/train_data.parquet\n",
      "/kaggle/input/amex-default-prediction/sample_submission.csv\n",
      "/kaggle/input/amex-default-prediction/train_data.csv\n",
      "/kaggle/input/amex-default-prediction/test_data.csv\n",
      "/kaggle/input/amex-default-prediction/train_labels.csv\n"
     ]
    }
   ],
   "source": [
    "import numpy as np # linear algebra\n",
    "import pandas as pd # data processing, CSV file I/O (e.g. pd.read_csv)\n",
    "import matplotlib.pyplot as plt\n",
    "import seaborn as sns\n",
    "from sklearn.linear_model import LogisticRegression\n",
    "from sklearn.impute import SimpleImputer\n",
    "from sklearn import metrics\n",
    "import gc\n",
    "\n",
    "# Input data files are available in the read-only \"../input/\" directory\n",
    "# For example, running this (by clicking run or pressing Shift+Enter) will list all files under the input directory\n",
    "\n",
    "import os\n",
    "for dirname, _, filenames in os.walk('/kaggle/input'):\n",
    "    for filename in filenames:\n",
    "        print(os.path.join(dirname, filename))\n",
    "\n",
    "# You can write up to 20GB to the current directory (/kaggle/working/) that gets preserved as output when you create a version using \"Save & Run All\" \n",
    "# You can also write temporary files to /kaggle/temp/, but they won't be saved outside of the current session"
   ]
  },
  {
   "cell_type": "code",
   "execution_count": 2,
   "id": "0955fae3",
   "metadata": {
    "execution": {
     "iopub.execute_input": "2022-08-24T19:20:00.078404Z",
     "iopub.status.busy": "2022-08-24T19:20:00.077372Z",
     "iopub.status.idle": "2022-08-24T19:20:38.438939Z",
     "shell.execute_reply": "2022-08-24T19:20:38.437683Z"
    },
    "papermill": {
     "duration": 38.377789,
     "end_time": "2022-08-24T19:20:38.447100",
     "exception": false,
     "start_time": "2022-08-24T19:20:00.069311",
     "status": "completed"
    },
    "tags": []
   },
   "outputs": [
    {
     "data": {
      "text/html": [
       "<div>\n",
       "<style scoped>\n",
       "    .dataframe tbody tr th:only-of-type {\n",
       "        vertical-align: middle;\n",
       "    }\n",
       "\n",
       "    .dataframe tbody tr th {\n",
       "        vertical-align: top;\n",
       "    }\n",
       "\n",
       "    .dataframe thead th {\n",
       "        text-align: right;\n",
       "    }\n",
       "</style>\n",
       "<table border=\"1\" class=\"dataframe\">\n",
       "  <thead>\n",
       "    <tr style=\"text-align: right;\">\n",
       "      <th></th>\n",
       "      <th>customer_ID</th>\n",
       "      <th>target</th>\n",
       "    </tr>\n",
       "  </thead>\n",
       "  <tbody>\n",
       "    <tr>\n",
       "      <th>0</th>\n",
       "      <td>0000099d6bd597052cdcda90ffabf56573fe9d7c79be5f...</td>\n",
       "      <td>0</td>\n",
       "    </tr>\n",
       "    <tr>\n",
       "      <th>1</th>\n",
       "      <td>00000fd6641609c6ece5454664794f0340ad84dddce9a2...</td>\n",
       "      <td>0</td>\n",
       "    </tr>\n",
       "    <tr>\n",
       "      <th>2</th>\n",
       "      <td>00001b22f846c82c51f6e3958ccd81970162bae8b007e8...</td>\n",
       "      <td>0</td>\n",
       "    </tr>\n",
       "    <tr>\n",
       "      <th>3</th>\n",
       "      <td>000041bdba6ecadd89a52d11886e8eaaec9325906c9723...</td>\n",
       "      <td>0</td>\n",
       "    </tr>\n",
       "    <tr>\n",
       "      <th>4</th>\n",
       "      <td>00007889e4fcd2614b6cbe7f8f3d2e5c728eca32d9eb8a...</td>\n",
       "      <td>0</td>\n",
       "    </tr>\n",
       "  </tbody>\n",
       "</table>\n",
       "</div>"
      ],
      "text/plain": [
       "                                         customer_ID  target\n",
       "0  0000099d6bd597052cdcda90ffabf56573fe9d7c79be5f...       0\n",
       "1  00000fd6641609c6ece5454664794f0340ad84dddce9a2...       0\n",
       "2  00001b22f846c82c51f6e3958ccd81970162bae8b007e8...       0\n",
       "3  000041bdba6ecadd89a52d11886e8eaaec9325906c9723...       0\n",
       "4  00007889e4fcd2614b6cbe7f8f3d2e5c728eca32d9eb8a...       0"
      ]
     },
     "execution_count": 2,
     "metadata": {},
     "output_type": "execute_result"
    }
   ],
   "source": [
    "df1=pd.read_parquet('/kaggle/input/amex-parquet/train_data.parquet')\n",
    "df1.head()\n",
    "df1.shape\n",
    "df_label = pd.read_csv('/kaggle/input/amex-default-prediction/train_labels.csv')\n",
    "df_label.head()"
   ]
  },
  {
   "cell_type": "code",
   "execution_count": 3,
   "id": "35eef0c7",
   "metadata": {
    "execution": {
     "iopub.execute_input": "2022-08-24T19:20:38.462444Z",
     "iopub.status.busy": "2022-08-24T19:20:38.462009Z",
     "iopub.status.idle": "2022-08-24T19:20:38.496214Z",
     "shell.execute_reply": "2022-08-24T19:20:38.494931Z"
    },
    "papermill": {
     "duration": 0.044769,
     "end_time": "2022-08-24T19:20:38.498660",
     "exception": false,
     "start_time": "2022-08-24T19:20:38.453891",
     "status": "completed"
    },
    "tags": []
   },
   "outputs": [
    {
     "data": {
      "text/html": [
       "<div>\n",
       "<style scoped>\n",
       "    .dataframe tbody tr th:only-of-type {\n",
       "        vertical-align: middle;\n",
       "    }\n",
       "\n",
       "    .dataframe tbody tr th {\n",
       "        vertical-align: top;\n",
       "    }\n",
       "\n",
       "    .dataframe thead th {\n",
       "        text-align: right;\n",
       "    }\n",
       "</style>\n",
       "<table border=\"1\" class=\"dataframe\">\n",
       "  <thead>\n",
       "    <tr style=\"text-align: right;\">\n",
       "      <th></th>\n",
       "      <th>customer_ID</th>\n",
       "      <th>S_2</th>\n",
       "      <th>P_2</th>\n",
       "      <th>D_39</th>\n",
       "      <th>B_1</th>\n",
       "      <th>B_2</th>\n",
       "      <th>R_1</th>\n",
       "      <th>S_3</th>\n",
       "      <th>D_41</th>\n",
       "      <th>B_3</th>\n",
       "      <th>...</th>\n",
       "      <th>D_137</th>\n",
       "      <th>D_138</th>\n",
       "      <th>D_139</th>\n",
       "      <th>D_140</th>\n",
       "      <th>D_141</th>\n",
       "      <th>D_142</th>\n",
       "      <th>D_143</th>\n",
       "      <th>D_144</th>\n",
       "      <th>D_145</th>\n",
       "      <th>target</th>\n",
       "    </tr>\n",
       "  </thead>\n",
       "  <tbody>\n",
       "    <tr>\n",
       "      <th>0</th>\n",
       "      <td>0000099d6bd597052cdcda90ffabf56573fe9d7c79be5f...</td>\n",
       "      <td>2017-03-09</td>\n",
       "      <td>0.938469</td>\n",
       "      <td>0.001733</td>\n",
       "      <td>0.008724</td>\n",
       "      <td>1.006838</td>\n",
       "      <td>0.009228</td>\n",
       "      <td>0.124035</td>\n",
       "      <td>0.008771</td>\n",
       "      <td>0.004709</td>\n",
       "      <td>...</td>\n",
       "      <td>NaN</td>\n",
       "      <td>NaN</td>\n",
       "      <td>0.002427</td>\n",
       "      <td>0.003706</td>\n",
       "      <td>0.003818</td>\n",
       "      <td>NaN</td>\n",
       "      <td>0.000569</td>\n",
       "      <td>0.000610</td>\n",
       "      <td>0.002674</td>\n",
       "      <td>0</td>\n",
       "    </tr>\n",
       "    <tr>\n",
       "      <th>1</th>\n",
       "      <td>0000099d6bd597052cdcda90ffabf56573fe9d7c79be5f...</td>\n",
       "      <td>2017-04-07</td>\n",
       "      <td>0.936665</td>\n",
       "      <td>0.005775</td>\n",
       "      <td>0.004923</td>\n",
       "      <td>1.000653</td>\n",
       "      <td>0.006151</td>\n",
       "      <td>0.126750</td>\n",
       "      <td>0.000798</td>\n",
       "      <td>0.002714</td>\n",
       "      <td>...</td>\n",
       "      <td>NaN</td>\n",
       "      <td>NaN</td>\n",
       "      <td>0.003954</td>\n",
       "      <td>0.003167</td>\n",
       "      <td>0.005032</td>\n",
       "      <td>NaN</td>\n",
       "      <td>0.009576</td>\n",
       "      <td>0.005492</td>\n",
       "      <td>0.009217</td>\n",
       "      <td>0</td>\n",
       "    </tr>\n",
       "    <tr>\n",
       "      <th>2</th>\n",
       "      <td>0000099d6bd597052cdcda90ffabf56573fe9d7c79be5f...</td>\n",
       "      <td>2017-05-28</td>\n",
       "      <td>0.954180</td>\n",
       "      <td>0.091505</td>\n",
       "      <td>0.021655</td>\n",
       "      <td>1.009672</td>\n",
       "      <td>0.006815</td>\n",
       "      <td>0.123977</td>\n",
       "      <td>0.007598</td>\n",
       "      <td>0.009423</td>\n",
       "      <td>...</td>\n",
       "      <td>NaN</td>\n",
       "      <td>NaN</td>\n",
       "      <td>0.003269</td>\n",
       "      <td>0.007329</td>\n",
       "      <td>0.000427</td>\n",
       "      <td>NaN</td>\n",
       "      <td>0.003429</td>\n",
       "      <td>0.006986</td>\n",
       "      <td>0.002603</td>\n",
       "      <td>0</td>\n",
       "    </tr>\n",
       "    <tr>\n",
       "      <th>3</th>\n",
       "      <td>0000099d6bd597052cdcda90ffabf56573fe9d7c79be5f...</td>\n",
       "      <td>2017-06-13</td>\n",
       "      <td>0.960384</td>\n",
       "      <td>0.002455</td>\n",
       "      <td>0.013683</td>\n",
       "      <td>1.002700</td>\n",
       "      <td>0.001373</td>\n",
       "      <td>0.117169</td>\n",
       "      <td>0.000685</td>\n",
       "      <td>0.005531</td>\n",
       "      <td>...</td>\n",
       "      <td>NaN</td>\n",
       "      <td>NaN</td>\n",
       "      <td>0.006117</td>\n",
       "      <td>0.004516</td>\n",
       "      <td>0.003200</td>\n",
       "      <td>NaN</td>\n",
       "      <td>0.008419</td>\n",
       "      <td>0.006527</td>\n",
       "      <td>0.009600</td>\n",
       "      <td>0</td>\n",
       "    </tr>\n",
       "    <tr>\n",
       "      <th>4</th>\n",
       "      <td>0000099d6bd597052cdcda90ffabf56573fe9d7c79be5f...</td>\n",
       "      <td>2017-07-16</td>\n",
       "      <td>0.947248</td>\n",
       "      <td>0.002483</td>\n",
       "      <td>0.015193</td>\n",
       "      <td>1.000727</td>\n",
       "      <td>0.007605</td>\n",
       "      <td>0.117325</td>\n",
       "      <td>0.004653</td>\n",
       "      <td>0.009312</td>\n",
       "      <td>...</td>\n",
       "      <td>NaN</td>\n",
       "      <td>NaN</td>\n",
       "      <td>0.003671</td>\n",
       "      <td>0.004946</td>\n",
       "      <td>0.008889</td>\n",
       "      <td>NaN</td>\n",
       "      <td>0.001670</td>\n",
       "      <td>0.008126</td>\n",
       "      <td>0.009827</td>\n",
       "      <td>0</td>\n",
       "    </tr>\n",
       "  </tbody>\n",
       "</table>\n",
       "<p>5 rows × 191 columns</p>\n",
       "</div>"
      ],
      "text/plain": [
       "                                         customer_ID         S_2       P_2  \\\n",
       "0  0000099d6bd597052cdcda90ffabf56573fe9d7c79be5f...  2017-03-09  0.938469   \n",
       "1  0000099d6bd597052cdcda90ffabf56573fe9d7c79be5f...  2017-04-07  0.936665   \n",
       "2  0000099d6bd597052cdcda90ffabf56573fe9d7c79be5f...  2017-05-28  0.954180   \n",
       "3  0000099d6bd597052cdcda90ffabf56573fe9d7c79be5f...  2017-06-13  0.960384   \n",
       "4  0000099d6bd597052cdcda90ffabf56573fe9d7c79be5f...  2017-07-16  0.947248   \n",
       "\n",
       "       D_39       B_1       B_2       R_1       S_3      D_41       B_3  ...  \\\n",
       "0  0.001733  0.008724  1.006838  0.009228  0.124035  0.008771  0.004709  ...   \n",
       "1  0.005775  0.004923  1.000653  0.006151  0.126750  0.000798  0.002714  ...   \n",
       "2  0.091505  0.021655  1.009672  0.006815  0.123977  0.007598  0.009423  ...   \n",
       "3  0.002455  0.013683  1.002700  0.001373  0.117169  0.000685  0.005531  ...   \n",
       "4  0.002483  0.015193  1.000727  0.007605  0.117325  0.004653  0.009312  ...   \n",
       "\n",
       "   D_137  D_138     D_139     D_140     D_141  D_142     D_143     D_144  \\\n",
       "0    NaN    NaN  0.002427  0.003706  0.003818    NaN  0.000569  0.000610   \n",
       "1    NaN    NaN  0.003954  0.003167  0.005032    NaN  0.009576  0.005492   \n",
       "2    NaN    NaN  0.003269  0.007329  0.000427    NaN  0.003429  0.006986   \n",
       "3    NaN    NaN  0.006117  0.004516  0.003200    NaN  0.008419  0.006527   \n",
       "4    NaN    NaN  0.003671  0.004946  0.008889    NaN  0.001670  0.008126   \n",
       "\n",
       "      D_145  target  \n",
       "0  0.002674       0  \n",
       "1  0.009217       0  \n",
       "2  0.002603       0  \n",
       "3  0.009600       0  \n",
       "4  0.009827       0  \n",
       "\n",
       "[5 rows x 191 columns]"
      ]
     },
     "execution_count": 3,
     "metadata": {},
     "output_type": "execute_result"
    }
   ],
   "source": [
    "df1.head()"
   ]
  },
  {
   "cell_type": "code",
   "execution_count": 4,
   "id": "0961a489",
   "metadata": {
    "execution": {
     "iopub.execute_input": "2022-08-24T19:20:38.515313Z",
     "iopub.status.busy": "2022-08-24T19:20:38.514883Z",
     "iopub.status.idle": "2022-08-24T19:20:38.878827Z",
     "shell.execute_reply": "2022-08-24T19:20:38.877356Z"
    },
    "papermill": {
     "duration": 0.3756,
     "end_time": "2022-08-24T19:20:38.881383",
     "exception": false,
     "start_time": "2022-08-24T19:20:38.505783",
     "status": "completed"
    },
    "tags": []
   },
   "outputs": [
    {
     "name": "stdout",
     "output_type": "stream",
     "text": [
      "float32    185\n",
      "object       4\n",
      "int64        2\n",
      "dtype: int64\n"
     ]
    },
    {
     "data": {
      "text/plain": [
       "['customer_ID', 'S_2', 'D_63', 'D_64']"
      ]
     },
     "execution_count": 4,
     "metadata": {},
     "output_type": "execute_result"
    }
   ],
   "source": [
    "#checking out data types\n",
    "print(df1.dtypes.value_counts())\n",
    "list(df1.select_dtypes(['object']).columns)"
   ]
  },
  {
   "cell_type": "code",
   "execution_count": 5,
   "id": "be74cac9",
   "metadata": {
    "execution": {
     "iopub.execute_input": "2022-08-24T19:20:38.900365Z",
     "iopub.status.busy": "2022-08-24T19:20:38.899479Z",
     "iopub.status.idle": "2022-08-24T19:20:38.905128Z",
     "shell.execute_reply": "2022-08-24T19:20:38.903791Z"
    },
    "papermill": {
     "duration": 0.0174,
     "end_time": "2022-08-24T19:20:38.907959",
     "exception": false,
     "start_time": "2022-08-24T19:20:38.890559",
     "status": "completed"
    },
    "tags": []
   },
   "outputs": [],
   "source": [
    "#visualizing columns\n",
    "\n",
    "#hist = df1.hist(bins=10, figsize = (40,200), layout=(-1,4) )"
   ]
  },
  {
   "cell_type": "code",
   "execution_count": 6,
   "id": "8c323688",
   "metadata": {
    "execution": {
     "iopub.execute_input": "2022-08-24T19:20:38.925135Z",
     "iopub.status.busy": "2022-08-24T19:20:38.923873Z",
     "iopub.status.idle": "2022-08-24T19:20:46.192301Z",
     "shell.execute_reply": "2022-08-24T19:20:46.190748Z"
    },
    "papermill": {
     "duration": 7.280258,
     "end_time": "2022-08-24T19:20:46.195587",
     "exception": false,
     "start_time": "2022-08-24T19:20:38.915329",
     "status": "completed"
    },
    "tags": []
   },
   "outputs": [
    {
     "name": "stdout",
     "output_type": "stream",
     "text": [
      "191\n",
      "S_3 0.18\n",
      "D_42 0.86\n",
      "D_43 0.3\n",
      "D_46 0.22\n",
      "D_48 0.13\n",
      "D_49 0.9\n",
      "D_50 0.57\n",
      "D_53 0.74\n",
      "S_7 0.18\n",
      "D_56 0.54\n",
      "S_9 0.53\n",
      "D_61 0.11\n",
      "D_62 0.14\n",
      "B_17 0.57\n",
      "D_66 0.89\n",
      "D_73 0.99\n",
      "D_76 0.89\n",
      "D_77 0.45\n",
      "R_9 0.94\n",
      "D_82 0.73\n",
      "B_29 0.93\n",
      "D_87 1.0\n",
      "D_88 1.0\n",
      "D_105 0.55\n",
      "D_106 0.9\n",
      "R_26 0.89\n",
      "D_108 0.99\n",
      "D_110 0.99\n",
      "D_111 0.99\n",
      "B_39 0.99\n",
      "S_27 0.25\n",
      "B_42 0.99\n",
      "D_132 0.9\n",
      "D_134 0.96\n",
      "D_135 0.96\n",
      "D_136 0.96\n",
      "D_137 0.96\n",
      "D_138 0.96\n",
      "D_142 0.83\n",
      "157\n"
     ]
    }
   ],
   "source": [
    "print(df1.shape[1])\n",
    "#inspecting NaN\n",
    "for i in range(len(df1.columns)):\n",
    "    if (df1.iloc[:,i].isnull().sum()/len(df1) > 0.1):\n",
    "        print(df1.columns[i], round(df1.iloc[:,i].isnull().sum()/len(df1),2))\n",
    "\n",
    "#drop columns with high freq of NaN\n",
    "columns_to_drop = [column for column in df1.columns if df1[column].isnull().sum()/len(df1) >= 0.2]\n",
    "df1.drop(columns_to_drop, axis=1, inplace=True)\n",
    "print(df1.shape[1])"
   ]
  },
  {
   "cell_type": "code",
   "execution_count": 7,
   "id": "596eb5ed",
   "metadata": {
    "execution": {
     "iopub.execute_input": "2022-08-24T19:20:46.213902Z",
     "iopub.status.busy": "2022-08-24T19:20:46.213030Z",
     "iopub.status.idle": "2022-08-24T19:21:08.111842Z",
     "shell.execute_reply": "2022-08-24T19:21:08.110488Z"
    },
    "papermill": {
     "duration": 21.911037,
     "end_time": "2022-08-24T19:21:08.114801",
     "exception": false,
     "start_time": "2022-08-24T19:20:46.203764",
     "status": "completed"
    },
    "tags": []
   },
   "outputs": [
    {
     "name": "stdout",
     "output_type": "stream",
     "text": [
      "(5531451, 157) (458913, 155)\n",
      "Columns left with NaN:\n"
     ]
    }
   ],
   "source": [
    "#using only most recent transaction from each customer\n",
    "temp = df1.shape\n",
    "df1=df1.set_index(['customer_ID'])\n",
    "df1=df1.ffill()\n",
    "df1=df1.bfill()\n",
    "df1=df1.reset_index()\n",
    "\n",
    "df1=df1.groupby('customer_ID').tail(1)\n",
    "df1=df1.set_index(['customer_ID'])\n",
    "\n",
    "#Drop date column since it is no longer useful\n",
    "df1.drop(['S_2'],axis=1,inplace=True)\n",
    "\n",
    "print(temp, df1.shape)\n",
    "\n",
    "#inspecting NaN\n",
    "print('Columns left with NaN:')\n",
    "for i in range(len(df1.columns)):\n",
    "    if (df1.iloc[:,i].isnull().sum()/len(df1) > 0):\n",
    "        print(df1.columns[i], round(df1.iloc[:,i].isnull().sum()/len(df1),2))"
   ]
  },
  {
   "cell_type": "code",
   "execution_count": 8,
   "id": "8e5b91f8",
   "metadata": {
    "execution": {
     "iopub.execute_input": "2022-08-24T19:21:08.133748Z",
     "iopub.status.busy": "2022-08-24T19:21:08.132871Z",
     "iopub.status.idle": "2022-08-24T19:21:08.238407Z",
     "shell.execute_reply": "2022-08-24T19:21:08.237363Z"
    },
    "papermill": {
     "duration": 0.117759,
     "end_time": "2022-08-24T19:21:08.240930",
     "exception": false,
     "start_time": "2022-08-24T19:21:08.123171",
     "status": "completed"
    },
    "tags": []
   },
   "outputs": [],
   "source": [
    "df1.head()\n",
    "df1 = df1.drop(['target'], axis=1)\n",
    "keep = df1.columns"
   ]
  },
  {
   "cell_type": "code",
   "execution_count": 9,
   "id": "dea6fb16",
   "metadata": {
    "execution": {
     "iopub.execute_input": "2022-08-24T19:21:08.259959Z",
     "iopub.status.busy": "2022-08-24T19:21:08.259525Z",
     "iopub.status.idle": "2022-08-24T19:21:37.142085Z",
     "shell.execute_reply": "2022-08-24T19:21:37.140835Z"
    },
    "papermill": {
     "duration": 28.896128,
     "end_time": "2022-08-24T19:21:37.145506",
     "exception": false,
     "start_time": "2022-08-24T19:21:08.249378",
     "status": "completed"
    },
    "tags": []
   },
   "outputs": [
    {
     "name": "stdout",
     "output_type": "stream",
     "text": [
      "(458913, 154)\n",
      "(458913, 140)\n"
     ]
    },
    {
     "name": "stderr",
     "output_type": "stream",
     "text": [
      "/opt/conda/lib/python3.7/site-packages/ipykernel_launcher.py:6: DeprecationWarning: `np.bool` is a deprecated alias for the builtin `bool`. To silence this warning, use `bool` by itself. Doing this will not modify any behavior and is safe. If you specifically wanted the numpy scalar type, use `np.bool_` here.\n",
      "Deprecated in NumPy 1.20; for more details and guidance: https://numpy.org/devdocs/release/1.20.0-notes.html#deprecations\n",
      "  \n"
     ]
    }
   ],
   "source": [
    "print(df1.shape)\n",
    "# Create correlation matrix\n",
    "corr_matrix = df1.corr().abs()\n",
    "\n",
    "# Select upper triangle of correlation matrix\n",
    "upper = corr_matrix.where(np.triu(np.ones(corr_matrix.shape), k=1).astype(np.bool))\n",
    "\n",
    "# Find features with correlation greater than 0.9\n",
    "to_drop = [column for column in upper.columns if any(upper[column] > 0.9)]\n",
    "\n",
    "# Drop features w/ high correl\n",
    "df1.drop(to_drop, axis=1, inplace=True)\n",
    "\n",
    "print(df1.shape)\n"
   ]
  },
  {
   "cell_type": "code",
   "execution_count": 10,
   "id": "f14c3986",
   "metadata": {
    "execution": {
     "iopub.execute_input": "2022-08-24T19:21:37.164339Z",
     "iopub.status.busy": "2022-08-24T19:21:37.163425Z",
     "iopub.status.idle": "2022-08-24T19:21:38.029416Z",
     "shell.execute_reply": "2022-08-24T19:21:38.028267Z"
    },
    "papermill": {
     "duration": 0.878001,
     "end_time": "2022-08-24T19:21:38.031861",
     "exception": false,
     "start_time": "2022-08-24T19:21:37.153860",
     "status": "completed"
    },
    "tags": []
   },
   "outputs": [
    {
     "data": {
      "text/plain": [
       "55"
      ]
     },
     "execution_count": 10,
     "metadata": {},
     "output_type": "execute_result"
    }
   ],
   "source": [
    "#Removing low variance columns in interest of ram\n",
    "from sklearn.feature_selection import VarianceThreshold\n",
    "from itertools import compress\n",
    "\n",
    "temp = df1.drop(['D_63', 'D_64'], axis=1)\n",
    "\n",
    "# Initialize and fit the method\n",
    "vt = VarianceThreshold(threshold = float(0.1))\n",
    "vt.fit(temp)\n",
    "\n",
    "#columns with sufficient variance\n",
    "keep = list(compress(temp.columns, vt.get_support()))\n",
    "\n",
    "keep.append('D_63')\n",
    "keep.append('D_64')\n",
    "\n",
    "df1=df1[keep]\n",
    "\n",
    "keep.append('customer_ID')\n",
    "keep.append('S_2')\n",
    "len(keep)\n"
   ]
  },
  {
   "cell_type": "code",
   "execution_count": 11,
   "id": "f977ee1b",
   "metadata": {
    "execution": {
     "iopub.execute_input": "2022-08-24T19:21:38.049441Z",
     "iopub.status.busy": "2022-08-24T19:21:38.048864Z",
     "iopub.status.idle": "2022-08-24T19:21:38.054907Z",
     "shell.execute_reply": "2022-08-24T19:21:38.053680Z"
    },
    "papermill": {
     "duration": 0.017401,
     "end_time": "2022-08-24T19:21:38.057170",
     "exception": false,
     "start_time": "2022-08-24T19:21:38.039769",
     "status": "completed"
    },
    "tags": []
   },
   "outputs": [
    {
     "data": {
      "text/plain": [
       "'\"\\n#removing outliers\\nprint(df1.shape)\\n\\ndf1 = df1[df1[\\'R_6\\'] < df1[\\'R_6\\'].quantile(0.97)]\\nprint(df1[\\'R_6\\'].max())\\nprint(df1.shape)'"
      ]
     },
     "execution_count": 11,
     "metadata": {},
     "output_type": "execute_result"
    }
   ],
   "source": [
    "\"\"\"\"\n",
    "#removing outliers\n",
    "print(df1.shape)\n",
    "\n",
    "df1 = df1[df1['R_6'] < df1['R_6'].quantile(0.97)]\n",
    "print(df1['R_6'].max())\n",
    "print(df1.shape)\"\"\""
   ]
  },
  {
   "cell_type": "code",
   "execution_count": 12,
   "id": "0eb88110",
   "metadata": {
    "execution": {
     "iopub.execute_input": "2022-08-24T19:21:38.076452Z",
     "iopub.status.busy": "2022-08-24T19:21:38.076030Z",
     "iopub.status.idle": "2022-08-24T19:21:38.082741Z",
     "shell.execute_reply": "2022-08-24T19:21:38.081682Z"
    },
    "papermill": {
     "duration": 0.018682,
     "end_time": "2022-08-24T19:21:38.084917",
     "exception": false,
     "start_time": "2022-08-24T19:21:38.066235",
     "status": "completed"
    },
    "tags": []
   },
   "outputs": [
    {
     "data": {
      "text/plain": [
       "\"#df1.iloc[:100000,7].value_counts()\\nprint(df1.iloc[:,1].head())\\n\\n\\n#What type of variable for dates\\ndf1['S_2'] = pd.to_datetime(df1['S_2'])\\ndf1['S_2'] = pd.to_numeric(df1['S_2'])\\n\\n#normalizing\\n#df1['S_2'] = (df1['S_2']-df1['S_2'].min())/(df1['S_2'].max() - df1['S_2'].min())\\nprint(df1['S_2'].head())\\n\\ndf1['S_2'] = pd.to_timedelta(df1['S_2'])\\nprint(df1.iloc[:,1].dt.total_seconds())\\n\""
      ]
     },
     "execution_count": 12,
     "metadata": {},
     "output_type": "execute_result"
    }
   ],
   "source": [
    "\"\"\"#df1.iloc[:100000,7].value_counts()\n",
    "print(df1.iloc[:,1].head())\n",
    "\n",
    "\n",
    "#What type of variable for dates\n",
    "df1['S_2'] = pd.to_datetime(df1['S_2'])\n",
    "df1['S_2'] = pd.to_numeric(df1['S_2'])\n",
    "\n",
    "#normalizing\n",
    "#df1['S_2'] = (df1['S_2']-df1['S_2'].min())/(df1['S_2'].max() - df1['S_2'].min())\n",
    "print(df1['S_2'].head())\n",
    "\n",
    "df1['S_2'] = pd.to_timedelta(df1['S_2'])\n",
    "print(df1.iloc[:,1].dt.total_seconds())\n",
    "\"\"\""
   ]
  },
  {
   "cell_type": "code",
   "execution_count": 13,
   "id": "7433982d",
   "metadata": {
    "execution": {
     "iopub.execute_input": "2022-08-24T19:21:38.103241Z",
     "iopub.status.busy": "2022-08-24T19:21:38.102548Z",
     "iopub.status.idle": "2022-08-24T19:21:38.429609Z",
     "shell.execute_reply": "2022-08-24T19:21:38.428279Z"
    },
    "papermill": {
     "duration": 0.339773,
     "end_time": "2022-08-24T19:21:38.432972",
     "exception": false,
     "start_time": "2022-08-24T19:21:38.093199",
     "status": "completed"
    },
    "tags": []
   },
   "outputs": [
    {
     "name": "stdout",
     "output_type": "stream",
     "text": [
      "(458913, 61)\n",
      "Index(['D_39', 'B_2', 'B_5', 'D_48', 'B_6', 'B_8', 'B_10', 'S_5', 'S_6',\n",
      "       'B_12', 'R_5', 'D_60', 'D_61', 'D_65', 'B_16', 'B_18', 'B_20', 'D_68',\n",
      "       'R_6', 'B_21', 'D_69', 'D_71', 'P_4', 'B_24', 'R_7', 'B_26', 'D_78',\n",
      "       'R_8', 'S_16', 'R_10', 'D_81', 'R_14', 'D_84', 'B_30', 'R_20', 'S_22',\n",
      "       'S_23', 'S_26', 'D_103', 'R_27', 'B_38', 'D_112', 'B_40', 'D_114',\n",
      "       'D_117', 'D_120', 'D_126', 'D_128', 'D_129', 'D_130', 'D_139',\n",
      "       'D_63_CL', 'D_63_CO', 'D_63_CR', 'D_63_XL', 'D_63_XM', 'D_63_XZ',\n",
      "       'D_64_-1', 'D_64_O', 'D_64_R', 'D_64_U'],\n",
      "      dtype='object')\n",
      "1865\n",
      "(458913, 60)\n"
     ]
    }
   ],
   "source": [
    "#Hot ones\n",
    "df1 = pd.get_dummies(df1)\n",
    "print(df1.shape)\n",
    "print(df1.columns)\n",
    "print(df1['D_64_-1'].sum())\n",
    "df1.drop(['D_64_-1'], axis=1, inplace = True)\n",
    "print(df1.shape)"
   ]
  },
  {
   "cell_type": "code",
   "execution_count": 14,
   "id": "6cd56529",
   "metadata": {
    "execution": {
     "iopub.execute_input": "2022-08-24T19:21:38.452559Z",
     "iopub.status.busy": "2022-08-24T19:21:38.452132Z",
     "iopub.status.idle": "2022-08-24T19:21:38.457097Z",
     "shell.execute_reply": "2022-08-24T19:21:38.455826Z"
    },
    "papermill": {
     "duration": 0.018122,
     "end_time": "2022-08-24T19:21:38.460122",
     "exception": false,
     "start_time": "2022-08-24T19:21:38.442000",
     "status": "completed"
    },
    "tags": []
   },
   "outputs": [],
   "source": [
    "#Handling missing values\n",
    "#my_imputer = SimpleImputer()\n",
    "#df1.iloc[:,:] = my_imputer.fit_transform(df1.iloc[:,:])"
   ]
  },
  {
   "cell_type": "code",
   "execution_count": 15,
   "id": "c88b4799",
   "metadata": {
    "execution": {
     "iopub.execute_input": "2022-08-24T19:21:38.479281Z",
     "iopub.status.busy": "2022-08-24T19:21:38.478585Z",
     "iopub.status.idle": "2022-08-24T19:21:47.197969Z",
     "shell.execute_reply": "2022-08-24T19:21:47.196760Z"
    },
    "papermill": {
     "duration": 8.732882,
     "end_time": "2022-08-24T19:21:47.201479",
     "exception": false,
     "start_time": "2022-08-24T19:21:38.468597",
     "status": "completed"
    },
    "tags": []
   },
   "outputs": [
    {
     "name": "stdout",
     "output_type": "stream",
     "text": [
      "half\n"
     ]
    },
    {
     "name": "stderr",
     "output_type": "stream",
     "text": [
      "/opt/conda/lib/python3.7/site-packages/sklearn/utils/validation.py:993: DataConversionWarning: A column-vector y was passed when a 1d array was expected. Please change the shape of y to (n_samples, ), for example using ravel().\n",
      "  y = column_or_1d(y, warn=True)\n",
      "/opt/conda/lib/python3.7/site-packages/sklearn/linear_model/_logistic.py:818: ConvergenceWarning: lbfgs failed to converge (status=1):\n",
      "STOP: TOTAL NO. of ITERATIONS REACHED LIMIT.\n",
      "\n",
      "Increase the number of iterations (max_iter) or scale the data as shown in:\n",
      "    https://scikit-learn.org/stable/modules/preprocessing.html\n",
      "Please also refer to the documentation for alternative solver options:\n",
      "    https://scikit-learn.org/stable/modules/linear_model.html#logistic-regression\n",
      "  extra_warning_msg=_LOGISTIC_SOLVER_CONVERGENCE_MSG,\n"
     ]
    },
    {
     "name": "stdout",
     "output_type": "stream",
     "text": [
      "[0 0 0 ... 0 0 0] 108842\n",
      "0.876399230355209\n"
     ]
    }
   ],
   "source": [
    "X = df1.iloc[:, :].values.reshape(-1, len(df1.columns))\n",
    "Y = df_label.iloc[:len(df1), 1].values.reshape(-1, 1)\n",
    "print('half')\n",
    "# create object for the class\n",
    "log = LogisticRegression()\n",
    "log.fit(X, Y) \n",
    "Y_pred = log.predict(X)\n",
    "\n",
    "print(Y_pred, np.sum(Y_pred))\n",
    "print(log.score(X, Y))"
   ]
  },
  {
   "cell_type": "code",
   "execution_count": 16,
   "id": "8e070a36",
   "metadata": {
    "execution": {
     "iopub.execute_input": "2022-08-24T19:21:47.231292Z",
     "iopub.status.busy": "2022-08-24T19:21:47.230714Z",
     "iopub.status.idle": "2022-08-24T19:21:48.074926Z",
     "shell.execute_reply": "2022-08-24T19:21:48.073782Z"
    },
    "papermill": {
     "duration": 0.862001,
     "end_time": "2022-08-24T19:21:48.077360",
     "exception": false,
     "start_time": "2022-08-24T19:21:47.215359",
     "status": "completed"
    },
    "tags": []
   },
   "outputs": [
    {
     "name": "stdout",
     "output_type": "stream",
     "text": [
      "Accuracy: 0.876\n",
      "0.8252981733814853\n"
     ]
    },
    {
     "data": {
      "image/png": "[encoded data removed]",
      "text/plain": [
       "<Figure size 648x648 with 2 Axes>"
      ]
     },
     "metadata": {
      "needs_background": "light"
     },
     "output_type": "display_data"
    }
   ],
   "source": [
    "cm = metrics.confusion_matrix(Y, Y_pred)\n",
    "\n",
    "plt.figure(figsize=(9,9))\n",
    "sns.heatmap(cm, annot=True, fmt=\".3f\", linewidths=.5, square = True, cmap = 'YlGnBu');\n",
    "plt.ylabel('Actual label');\n",
    "plt.xlabel('Predicted label');\n",
    "all_sample_title = 'Accuracy Score: {0}'.format(round(log.score(X, Y),3))\n",
    "plt.title(all_sample_title, size = 15);\n",
    "\n",
    "print('Accuracy:',round(metrics.accuracy_score(Y, Y_pred),3))\n",
    "metrics.roc_curve(Y, Y_pred)\n",
    "print(metrics.roc_auc_score(Y, Y_pred))"
   ]
  },
  {
   "cell_type": "code",
   "execution_count": 17,
   "id": "8c7dd85a",
   "metadata": {
    "execution": {
     "iopub.execute_input": "2022-08-24T19:21:48.097694Z",
     "iopub.status.busy": "2022-08-24T19:21:48.097220Z",
     "iopub.status.idle": "2022-08-24T19:21:48.239735Z",
     "shell.execute_reply": "2022-08-24T19:21:48.238525Z"
    },
    "papermill": {
     "duration": 0.15541,
     "end_time": "2022-08-24T19:21:48.242091",
     "exception": false,
     "start_time": "2022-08-24T19:21:48.086681",
     "status": "completed"
    },
    "tags": []
   },
   "outputs": [
    {
     "data": {
      "text/plain": [
       "4905"
      ]
     },
     "execution_count": 17,
     "metadata": {},
     "output_type": "execute_result"
    }
   ],
   "source": [
    "#free up ram\n",
    "del df1, df_label, cm\n",
    "gc.collect()"
   ]
  },
  {
   "cell_type": "code",
   "execution_count": 18,
   "id": "f6025d00",
   "metadata": {
    "execution": {
     "iopub.execute_input": "2022-08-24T19:21:48.262927Z",
     "iopub.status.busy": "2022-08-24T19:21:48.262217Z",
     "iopub.status.idle": "2022-08-24T19:22:10.995697Z",
     "shell.execute_reply": "2022-08-24T19:22:10.994360Z"
    },
    "papermill": {
     "duration": 22.747225,
     "end_time": "2022-08-24T19:22:10.998730",
     "exception": false,
     "start_time": "2022-08-24T19:21:48.251505",
     "status": "completed"
    },
    "tags": []
   },
   "outputs": [
    {
     "name": "stdout",
     "output_type": "stream",
     "text": [
      "55\n",
      "(11363762, 55)\n"
     ]
    }
   ],
   "source": [
    "#run prediction on test data\n",
    "\n",
    "print(len(keep))\n",
    "#need to only load some columns due to ram limitations\n",
    "df2=pd.read_parquet('/kaggle/input/amex-parquet/test_data.parquet', columns =keep)\n",
    "print(df2.shape)\n",
    "\n",
    "\n"
   ]
  },
  {
   "cell_type": "code",
   "execution_count": 19,
   "id": "ee4bd9b2",
   "metadata": {
    "execution": {
     "iopub.execute_input": "2022-08-24T19:22:11.020344Z",
     "iopub.status.busy": "2022-08-24T19:22:11.019445Z",
     "iopub.status.idle": "2022-08-24T19:22:11.024619Z",
     "shell.execute_reply": "2022-08-24T19:22:11.023353Z"
    },
    "papermill": {
     "duration": 0.018435,
     "end_time": "2022-08-24T19:22:11.026880",
     "exception": false,
     "start_time": "2022-08-24T19:22:11.008445",
     "status": "completed"
    },
    "tags": []
   },
   "outputs": [],
   "source": [
    "#Handling missing values via imputation\n",
    "#df2.iloc[:,:] = my_imputer.fit_transform(df2.iloc[:,:])"
   ]
  },
  {
   "cell_type": "code",
   "execution_count": 20,
   "id": "a242ee6d",
   "metadata": {
    "execution": {
     "iopub.execute_input": "2022-08-24T19:22:11.047944Z",
     "iopub.status.busy": "2022-08-24T19:22:11.047254Z",
     "iopub.status.idle": "2022-08-24T19:22:18.937909Z",
     "shell.execute_reply": "2022-08-24T19:22:18.936667Z"
    },
    "papermill": {
     "duration": 7.904522,
     "end_time": "2022-08-24T19:22:18.940888",
     "exception": false,
     "start_time": "2022-08-24T19:22:11.036366",
     "status": "completed"
    },
    "tags": []
   },
   "outputs": [
    {
     "name": "stdout",
     "output_type": "stream",
     "text": [
      "(11363762, 55) (924621, 53)\n",
      "Columns left with NaN:\n"
     ]
    }
   ],
   "source": [
    "#using only most recent transaction from each customer\n",
    "#Does this make sense for test data??\n",
    "temp = df2.shape\n",
    "df2=df2.set_index(['customer_ID'])\n",
    "df2=df2.ffill()\n",
    "df2=df2.bfill()\n",
    "df2=df2.reset_index()\n",
    "\n",
    "df2=df2.groupby('customer_ID').tail(1)\n",
    "df2=df2.set_index(['customer_ID'])\n",
    "\n",
    "#Drop date column since it is no longer useful\n",
    "df2.drop(['S_2'],axis=1,inplace=True)\n",
    "\n",
    "print(temp, df2.shape)\n",
    "\n",
    "#inspecting NaN\n",
    "print('Columns left with NaN:')\n",
    "for i in range(len(df2.columns)):\n",
    "    if (df2.iloc[:,i].isnull().sum()/len(df2) > 0):\n",
    "        print(df2.columns[i], round(df2.iloc[:,i].isnull().sum()/len(df2),2))"
   ]
  },
  {
   "cell_type": "code",
   "execution_count": 21,
   "id": "fe886a96",
   "metadata": {
    "execution": {
     "iopub.execute_input": "2022-08-24T19:22:18.962845Z",
     "iopub.status.busy": "2022-08-24T19:22:18.962386Z",
     "iopub.status.idle": "2022-08-24T19:22:19.603508Z",
     "shell.execute_reply": "2022-08-24T19:22:19.600807Z"
    },
    "papermill": {
     "duration": 0.656245,
     "end_time": "2022-08-24T19:22:19.607500",
     "exception": false,
     "start_time": "2022-08-24T19:22:18.951255",
     "status": "completed"
    },
    "tags": []
   },
   "outputs": [
    {
     "name": "stdout",
     "output_type": "stream",
     "text": [
      "(924621, 60)\n",
      "Index(['D_39', 'B_2', 'B_5', 'D_48', 'B_6', 'B_8', 'B_10', 'S_5', 'S_6',\n",
      "       'B_12', 'R_5', 'D_60', 'D_61', 'D_65', 'B_16', 'B_18', 'B_20', 'D_68',\n",
      "       'R_6', 'B_21', 'D_69', 'D_71', 'P_4', 'B_24', 'R_7', 'B_26', 'D_78',\n",
      "       'R_8', 'S_16', 'R_10', 'D_81', 'R_14', 'D_84', 'B_30', 'R_20', 'S_22',\n",
      "       'S_23', 'S_26', 'D_103', 'R_27', 'B_38', 'D_112', 'B_40', 'D_114',\n",
      "       'D_117', 'D_120', 'D_126', 'D_128', 'D_129', 'D_130', 'D_139',\n",
      "       'D_63_CL', 'D_63_CO', 'D_63_CR', 'D_63_XL', 'D_63_XM', 'D_63_XZ',\n",
      "       'D_64_O', 'D_64_R', 'D_64_U'],\n",
      "      dtype='object')\n"
     ]
    }
   ],
   "source": [
    "#hot ones\n",
    "df2 = pd.get_dummies(df2)\n",
    "print(df2.shape)\n",
    "print(df2.columns)"
   ]
  },
  {
   "cell_type": "code",
   "execution_count": 22,
   "id": "c55f5750",
   "metadata": {
    "execution": {
     "iopub.execute_input": "2022-08-24T19:22:19.629103Z",
     "iopub.status.busy": "2022-08-24T19:22:19.628700Z",
     "iopub.status.idle": "2022-08-24T19:22:19.655137Z",
     "shell.execute_reply": "2022-08-24T19:22:19.653944Z"
    },
    "papermill": {
     "duration": 0.040484,
     "end_time": "2022-08-24T19:22:19.657850",
     "exception": false,
     "start_time": "2022-08-24T19:22:19.617366",
     "status": "completed"
    },
    "tags": []
   },
   "outputs": [
    {
     "data": {
      "text/html": [
       "<div>\n",
       "<style scoped>\n",
       "    .dataframe tbody tr th:only-of-type {\n",
       "        vertical-align: middle;\n",
       "    }\n",
       "\n",
       "    .dataframe tbody tr th {\n",
       "        vertical-align: top;\n",
       "    }\n",
       "\n",
       "    .dataframe thead th {\n",
       "        text-align: right;\n",
       "    }\n",
       "</style>\n",
       "<table border=\"1\" class=\"dataframe\">\n",
       "  <thead>\n",
       "    <tr style=\"text-align: right;\">\n",
       "      <th></th>\n",
       "      <th>D_39</th>\n",
       "      <th>B_2</th>\n",
       "      <th>B_5</th>\n",
       "      <th>D_48</th>\n",
       "      <th>B_6</th>\n",
       "      <th>B_8</th>\n",
       "      <th>B_10</th>\n",
       "      <th>S_5</th>\n",
       "      <th>S_6</th>\n",
       "      <th>B_12</th>\n",
       "      <th>...</th>\n",
       "      <th>D_139</th>\n",
       "      <th>D_63_CL</th>\n",
       "      <th>D_63_CO</th>\n",
       "      <th>D_63_CR</th>\n",
       "      <th>D_63_XL</th>\n",
       "      <th>D_63_XM</th>\n",
       "      <th>D_63_XZ</th>\n",
       "      <th>D_64_O</th>\n",
       "      <th>D_64_R</th>\n",
       "      <th>D_64_U</th>\n",
       "    </tr>\n",
       "    <tr>\n",
       "      <th>customer_ID</th>\n",
       "      <th></th>\n",
       "      <th></th>\n",
       "      <th></th>\n",
       "      <th></th>\n",
       "      <th></th>\n",
       "      <th></th>\n",
       "      <th></th>\n",
       "      <th></th>\n",
       "      <th></th>\n",
       "      <th></th>\n",
       "      <th></th>\n",
       "      <th></th>\n",
       "      <th></th>\n",
       "      <th></th>\n",
       "      <th></th>\n",
       "      <th></th>\n",
       "      <th></th>\n",
       "      <th></th>\n",
       "      <th></th>\n",
       "      <th></th>\n",
       "      <th></th>\n",
       "    </tr>\n",
       "  </thead>\n",
       "  <tbody>\n",
       "    <tr>\n",
       "      <th>00000469ba478561f23a92a868bd366de6f6527a684c9a2e78fb826dcac3b9b7</th>\n",
       "      <td>0.121385</td>\n",
       "      <td>1.009347</td>\n",
       "      <td>0.050187</td>\n",
       "      <td>0.517214</td>\n",
       "      <td>0.024945</td>\n",
       "      <td>1.008730</td>\n",
       "      <td>0.033599</td>\n",
       "      <td>0.011795</td>\n",
       "      <td>0.003473</td>\n",
       "      <td>0.058696</td>\n",
       "      <td>...</td>\n",
       "      <td>0.005912</td>\n",
       "      <td>0</td>\n",
       "      <td>0</td>\n",
       "      <td>1</td>\n",
       "      <td>0</td>\n",
       "      <td>0</td>\n",
       "      <td>0</td>\n",
       "      <td>0</td>\n",
       "      <td>0</td>\n",
       "      <td>1</td>\n",
       "    </tr>\n",
       "    <tr>\n",
       "      <th>00001bf2e77ff879fab36aa4fac689b9ba411dae63ae397d4263dafa1daedef5</th>\n",
       "      <td>0.126475</td>\n",
       "      <td>1.009245</td>\n",
       "      <td>0.135907</td>\n",
       "      <td>0.041712</td>\n",
       "      <td>0.182720</td>\n",
       "      <td>1.008640</td>\n",
       "      <td>0.298735</td>\n",
       "      <td>0.009336</td>\n",
       "      <td>0.005253</td>\n",
       "      <td>0.054184</td>\n",
       "      <td>...</td>\n",
       "      <td>0.004344</td>\n",
       "      <td>0</td>\n",
       "      <td>1</td>\n",
       "      <td>0</td>\n",
       "      <td>0</td>\n",
       "      <td>0</td>\n",
       "      <td>0</td>\n",
       "      <td>1</td>\n",
       "      <td>0</td>\n",
       "      <td>0</td>\n",
       "    </tr>\n",
       "    <tr>\n",
       "      <th>0000210045da4f81e5f122c6bde5c2a617d03eef67f82c5e400fc98e7bd43ce8</th>\n",
       "      <td>0.002724</td>\n",
       "      <td>0.810072</td>\n",
       "      <td>0.004851</td>\n",
       "      <td>0.522954</td>\n",
       "      <td>0.058534</td>\n",
       "      <td>1.009375</td>\n",
       "      <td>0.129189</td>\n",
       "      <td>0.004455</td>\n",
       "      <td>0.001847</td>\n",
       "      <td>0.052914</td>\n",
       "      <td>...</td>\n",
       "      <td>1.001246</td>\n",
       "      <td>0</td>\n",
       "      <td>0</td>\n",
       "      <td>1</td>\n",
       "      <td>0</td>\n",
       "      <td>0</td>\n",
       "      <td>0</td>\n",
       "      <td>0</td>\n",
       "      <td>0</td>\n",
       "      <td>1</td>\n",
       "    </tr>\n",
       "    <tr>\n",
       "      <th>00003b41e58ede33b8daf61ab56d9952f17c9ad1c3976cf6e56734528702d694</th>\n",
       "      <td>0.324828</td>\n",
       "      <td>0.205678</td>\n",
       "      <td>0.022947</td>\n",
       "      <td>0.602520</td>\n",
       "      <td>0.023546</td>\n",
       "      <td>0.009775</td>\n",
       "      <td>0.032124</td>\n",
       "      <td>0.320184</td>\n",
       "      <td>0.008872</td>\n",
       "      <td>0.098741</td>\n",
       "      <td>...</td>\n",
       "      <td>1.008246</td>\n",
       "      <td>1</td>\n",
       "      <td>0</td>\n",
       "      <td>0</td>\n",
       "      <td>0</td>\n",
       "      <td>0</td>\n",
       "      <td>0</td>\n",
       "      <td>0</td>\n",
       "      <td>1</td>\n",
       "      <td>0</td>\n",
       "    </tr>\n",
       "    <tr>\n",
       "      <th>00004b22eaeeeb0ec976890c1d9bfc14fd9427e98c4ee9a4693dd914fca22557</th>\n",
       "      <td>0.768016</td>\n",
       "      <td>0.038021</td>\n",
       "      <td>0.011126</td>\n",
       "      <td>0.959607</td>\n",
       "      <td>0.011244</td>\n",
       "      <td>1.006200</td>\n",
       "      <td>0.022026</td>\n",
       "      <td>0.064127</td>\n",
       "      <td>0.009401</td>\n",
       "      <td>0.016391</td>\n",
       "      <td>...</td>\n",
       "      <td>0.006623</td>\n",
       "      <td>0</td>\n",
       "      <td>1</td>\n",
       "      <td>0</td>\n",
       "      <td>0</td>\n",
       "      <td>0</td>\n",
       "      <td>0</td>\n",
       "      <td>0</td>\n",
       "      <td>1</td>\n",
       "      <td>0</td>\n",
       "    </tr>\n",
       "  </tbody>\n",
       "</table>\n",
       "<p>5 rows × 60 columns</p>\n",
       "</div>"
      ],
      "text/plain": [
       "                                                        D_39       B_2  \\\n",
       "customer_ID                                                              \n",
       "00000469ba478561f23a92a868bd366de6f6527a684c9a2...  0.121385  1.009347   \n",
       "00001bf2e77ff879fab36aa4fac689b9ba411dae63ae397...  0.126475  1.009245   \n",
       "0000210045da4f81e5f122c6bde5c2a617d03eef67f82c5...  0.002724  0.810072   \n",
       "00003b41e58ede33b8daf61ab56d9952f17c9ad1c3976cf...  0.324828  0.205678   \n",
       "00004b22eaeeeb0ec976890c1d9bfc14fd9427e98c4ee9a...  0.768016  0.038021   \n",
       "\n",
       "                                                         B_5      D_48  \\\n",
       "customer_ID                                                              \n",
       "00000469ba478561f23a92a868bd366de6f6527a684c9a2...  0.050187  0.517214   \n",
       "00001bf2e77ff879fab36aa4fac689b9ba411dae63ae397...  0.135907  0.041712   \n",
       "0000210045da4f81e5f122c6bde5c2a617d03eef67f82c5...  0.004851  0.522954   \n",
       "00003b41e58ede33b8daf61ab56d9952f17c9ad1c3976cf...  0.022947  0.602520   \n",
       "00004b22eaeeeb0ec976890c1d9bfc14fd9427e98c4ee9a...  0.011126  0.959607   \n",
       "\n",
       "                                                         B_6       B_8  \\\n",
       "customer_ID                                                              \n",
       "00000469ba478561f23a92a868bd366de6f6527a684c9a2...  0.024945  1.008730   \n",
       "00001bf2e77ff879fab36aa4fac689b9ba411dae63ae397...  0.182720  1.008640   \n",
       "0000210045da4f81e5f122c6bde5c2a617d03eef67f82c5...  0.058534  1.009375   \n",
       "00003b41e58ede33b8daf61ab56d9952f17c9ad1c3976cf...  0.023546  0.009775   \n",
       "00004b22eaeeeb0ec976890c1d9bfc14fd9427e98c4ee9a...  0.011244  1.006200   \n",
       "\n",
       "                                                        B_10       S_5  \\\n",
       "customer_ID                                                              \n",
       "00000469ba478561f23a92a868bd366de6f6527a684c9a2...  0.033599  0.011795   \n",
       "00001bf2e77ff879fab36aa4fac689b9ba411dae63ae397...  0.298735  0.009336   \n",
       "0000210045da4f81e5f122c6bde5c2a617d03eef67f82c5...  0.129189  0.004455   \n",
       "00003b41e58ede33b8daf61ab56d9952f17c9ad1c3976cf...  0.032124  0.320184   \n",
       "00004b22eaeeeb0ec976890c1d9bfc14fd9427e98c4ee9a...  0.022026  0.064127   \n",
       "\n",
       "                                                         S_6      B_12  ...  \\\n",
       "customer_ID                                                             ...   \n",
       "00000469ba478561f23a92a868bd366de6f6527a684c9a2...  0.003473  0.058696  ...   \n",
       "00001bf2e77ff879fab36aa4fac689b9ba411dae63ae397...  0.005253  0.054184  ...   \n",
       "0000210045da4f81e5f122c6bde5c2a617d03eef67f82c5...  0.001847  0.052914  ...   \n",
       "00003b41e58ede33b8daf61ab56d9952f17c9ad1c3976cf...  0.008872  0.098741  ...   \n",
       "00004b22eaeeeb0ec976890c1d9bfc14fd9427e98c4ee9a...  0.009401  0.016391  ...   \n",
       "\n",
       "                                                       D_139  D_63_CL  \\\n",
       "customer_ID                                                             \n",
       "00000469ba478561f23a92a868bd366de6f6527a684c9a2...  0.005912        0   \n",
       "00001bf2e77ff879fab36aa4fac689b9ba411dae63ae397...  0.004344        0   \n",
       "0000210045da4f81e5f122c6bde5c2a617d03eef67f82c5...  1.001246        0   \n",
       "00003b41e58ede33b8daf61ab56d9952f17c9ad1c3976cf...  1.008246        1   \n",
       "00004b22eaeeeb0ec976890c1d9bfc14fd9427e98c4ee9a...  0.006623        0   \n",
       "\n",
       "                                                    D_63_CO  D_63_CR  D_63_XL  \\\n",
       "customer_ID                                                                     \n",
       "00000469ba478561f23a92a868bd366de6f6527a684c9a2...        0        1        0   \n",
       "00001bf2e77ff879fab36aa4fac689b9ba411dae63ae397...        1        0        0   \n",
       "0000210045da4f81e5f122c6bde5c2a617d03eef67f82c5...        0        1        0   \n",
       "00003b41e58ede33b8daf61ab56d9952f17c9ad1c3976cf...        0        0        0   \n",
       "00004b22eaeeeb0ec976890c1d9bfc14fd9427e98c4ee9a...        1        0        0   \n",
       "\n",
       "                                                    D_63_XM  D_63_XZ  D_64_O  \\\n",
       "customer_ID                                                                    \n",
       "00000469ba478561f23a92a868bd366de6f6527a684c9a2...        0        0       0   \n",
       "00001bf2e77ff879fab36aa4fac689b9ba411dae63ae397...        0        0       1   \n",
       "0000210045da4f81e5f122c6bde5c2a617d03eef67f82c5...        0        0       0   \n",
       "00003b41e58ede33b8daf61ab56d9952f17c9ad1c3976cf...        0        0       0   \n",
       "00004b22eaeeeb0ec976890c1d9bfc14fd9427e98c4ee9a...        0        0       0   \n",
       "\n",
       "                                                    D_64_R  D_64_U  \n",
       "customer_ID                                                         \n",
       "00000469ba478561f23a92a868bd366de6f6527a684c9a2...       0       1  \n",
       "00001bf2e77ff879fab36aa4fac689b9ba411dae63ae397...       0       0  \n",
       "0000210045da4f81e5f122c6bde5c2a617d03eef67f82c5...       0       1  \n",
       "00003b41e58ede33b8daf61ab56d9952f17c9ad1c3976cf...       1       0  \n",
       "00004b22eaeeeb0ec976890c1d9bfc14fd9427e98c4ee9a...       1       0  \n",
       "\n",
       "[5 rows x 60 columns]"
      ]
     },
     "execution_count": 22,
     "metadata": {},
     "output_type": "execute_result"
    }
   ],
   "source": [
    "df2.head()"
   ]
  },
  {
   "cell_type": "code",
   "execution_count": 23,
   "id": "85ef51f6",
   "metadata": {
    "execution": {
     "iopub.execute_input": "2022-08-24T19:22:19.680647Z",
     "iopub.status.busy": "2022-08-24T19:22:19.680214Z",
     "iopub.status.idle": "2022-08-24T19:22:22.597831Z",
     "shell.execute_reply": "2022-08-24T19:22:22.596369Z"
    },
    "papermill": {
     "duration": 2.933134,
     "end_time": "2022-08-24T19:22:22.601444",
     "exception": false,
     "start_time": "2022-08-24T19:22:19.668310",
     "status": "completed"
    },
    "tags": []
   },
   "outputs": [
    {
     "name": "stdout",
     "output_type": "stream",
     "text": [
      "[0 0 0 ... 0 1 0]\n",
      "[0 0 0 ... 0 1 0] 222724\n"
     ]
    }
   ],
   "source": [
    "X = df2.iloc[:, :].values.reshape(-1, len(df2.columns))\n",
    "\n",
    "Y_pred2 = log.predict(X)\n",
    "print(Y_pred2)\n",
    "\n",
    "df2 = df2.reset_index()\n",
    "\n",
    "final = pd.DataFrame({\"customer_ID\":df2.customer_ID,\"prediction\":Y_pred2})\n",
    "\n",
    "final.to_csv('submission.csv', index=False)\n",
    "print(Y_pred2, np.sum(Y_pred2))"
   ]
  },
  {
   "cell_type": "code",
   "execution_count": 24,
   "id": "ac2f5030",
   "metadata": {
    "execution": {
     "iopub.execute_input": "2022-08-24T19:22:22.626642Z",
     "iopub.status.busy": "2022-08-24T19:22:22.625411Z",
     "iopub.status.idle": "2022-08-24T19:22:25.024145Z",
     "shell.execute_reply": "2022-08-24T19:22:25.022821Z"
    },
    "papermill": {
     "duration": 2.414106,
     "end_time": "2022-08-24T19:22:25.027144",
     "exception": false,
     "start_time": "2022-08-24T19:22:22.613038",
     "status": "completed"
    },
    "tags": []
   },
   "outputs": [
    {
     "name": "stdout",
     "output_type": "stream",
     "text": [
      "                                              customer_ID  prediction\n",
      "0       00000469ba478561f23a92a868bd366de6f6527a684c9a...           0\n",
      "1       00001bf2e77ff879fab36aa4fac689b9ba411dae63ae39...           0\n",
      "2       0000210045da4f81e5f122c6bde5c2a617d03eef67f82c...           0\n",
      "3       00003b41e58ede33b8daf61ab56d9952f17c9ad1c3976c...           0\n",
      "4       00004b22eaeeeb0ec976890c1d9bfc14fd9427e98c4ee9...           1\n",
      "...                                                   ...         ...\n",
      "924616  ffff952c631f2c911b8a2a8ca56ea6e656309a83d2f64c...           0\n",
      "924617  ffffcf5df59e5e0bba2a5ac4578a34e2b5aa64a1546cd3...           0\n",
      "924618  ffffd61f098cc056dbd7d2a21380c4804bbfe60856f475...           0\n",
      "924619  ffffddef1fc3643ea179c93245b68dca0f36941cd83977...           1\n",
      "924620  fffffa7cf7e453e1acc6a1426475d5cb9400859f82ff61...           0\n",
      "\n",
      "[924621 rows x 2 columns]\n"
     ]
    }
   ],
   "source": [
    "final.to_csv('submission.csv', index=False)\n",
    "print(final)"
   ]
  }
 ],
 "metadata": {
  "kernelspec": {
   "display_name": "Python 3",
   "language": "python",
   "name": "python3"
  },
  "language_info": {
   "codemirror_mode": {
    "name": "ipython",
    "version": 3
   },
   "file_extension": ".py",
   "mimetype": "text/x-python",
   "name": "python",
   "nbconvert_exporter": "python",
   "pygments_lexer": "ipython3",
   "version": "3.7.12"
  },
  "papermill": {
   "default_parameters": {},
   "duration": 157.480684,
   "end_time": "2022-08-24T19:22:26.362970",
   "environment_variables": {},
   "exception": null,
   "input_path": "__notebook__.ipynb",
   "output_path": "__notebook__.ipynb",
   "parameters": {},
   "start_time": "2022-08-24T19:19:48.882286",
   "version": "2.3.4"
  }
 },
 "nbformat": 4,
 "nbformat_minor": 5
}
