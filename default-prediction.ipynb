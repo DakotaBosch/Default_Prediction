{
 "cells": [
  {
   "cell_type": "code",
   "execution_count": 1,
   "id": "9fc28a48",
   "metadata": {
    "_cell_guid": "b1076dfc-b9ad-4769-8c92-a6c4dae69d19",
    "_uuid": "8f2839f25d086af736a60e9eeb907d3b93b6e0e5",
    "execution": {
     "iopub.execute_input": "2022-09-07T20:32:43.311154Z",
     "iopub.status.busy": "2022-09-07T20:32:43.310720Z",
     "iopub.status.idle": "2022-09-07T20:32:43.332351Z",
     "shell.execute_reply": "2022-09-07T20:32:43.331524Z"
    },
    "papermill": {
     "duration": 0.038797,
     "end_time": "2022-09-07T20:32:43.335364",
     "exception": false,
     "start_time": "2022-09-07T20:32:43.296567",
     "status": "completed"
    },
    "tags": []
   },
   "outputs": [
    {
     "name": "stdout",
     "output_type": "stream",
     "text": [
      "/kaggle/input/amex-default-prediction/sample_submission.csv\n",
      "/kaggle/input/amex-default-prediction/train_data.csv\n",
      "/kaggle/input/amex-default-prediction/test_data.csv\n",
      "/kaggle/input/amex-default-prediction/train_labels.csv\n",
      "/kaggle/input/amex-parquet/test_data.parquet\n",
      "/kaggle/input/amex-parquet/train_data.parquet\n"
     ]
    }
   ],
   "source": [
    "import os\n",
    "for dirname, _, filenames in os.walk('/kaggle/input'):\n",
    "    for filename in filenames:\n",
    "        print(os.path.join(dirname, filename))"
   ]
  },
  {
   "cell_type": "markdown",
   "id": "a3de011c",
   "metadata": {
    "papermill": {
     "duration": 0.01077,
     "end_time": "2022-09-07T20:32:43.357593",
     "exception": false,
     "start_time": "2022-09-07T20:32:43.346823",
     "status": "completed"
    },
    "tags": []
   },
   "source": [
    "Our goal is to use this industrial scale dataset to predict the probability that a customer will default in the future. Eighteen months of profile data is stored for each customer previous their most recent credit card statement. If they do not pay this amount within 120 days of the statement it is considered a default.\n",
    "\n",
    "\n"
   ]
  },
  {
   "cell_type": "markdown",
   "id": "fa98706a",
   "metadata": {
    "papermill": {
     "duration": 0.011002,
     "end_time": "2022-09-07T20:32:43.380086",
     "exception": false,
     "start_time": "2022-09-07T20:32:43.369084",
     "status": "completed"
    },
    "tags": []
   },
   "source": [
    "# Exploratory Data Analysis"
   ]
  },
  {
   "cell_type": "markdown",
   "id": "946c638d",
   "metadata": {
    "papermill": {
     "duration": 0.012137,
     "end_time": "2022-09-07T20:32:43.403392",
     "exception": false,
     "start_time": "2022-09-07T20:32:43.391255",
     "status": "completed"
    },
    "tags": []
   },
   "source": [
    "The data was converted from .csv to .parquet to enable quick loading into pandas within our 16gb RAM environment. \n",
    "\n",
    "<br />Now we preview the data."
   ]
  },
  {
   "cell_type": "code",
   "execution_count": 2,
   "id": "91c8ac7a",
   "metadata": {
    "execution": {
     "iopub.execute_input": "2022-09-07T20:32:43.429338Z",
     "iopub.status.busy": "2022-09-07T20:32:43.428661Z",
     "iopub.status.idle": "2022-09-07T20:33:42.538487Z",
     "shell.execute_reply": "2022-09-07T20:33:42.537616Z"
    },
    "papermill": {
     "duration": 59.135508,
     "end_time": "2022-09-07T20:33:42.551248",
     "exception": false,
     "start_time": "2022-09-07T20:32:43.415740",
     "status": "completed"
    },
    "tags": []
   },
   "outputs": [
    {
     "name": "stdout",
     "output_type": "stream",
     "text": [
      "(5531451, 191)\n"
     ]
    }
   ],
   "source": [
    "import pandas as pd\n",
    "\n",
    "df=pd.read_parquet('/kaggle/input/amex-parquet/train_data.parquet')\n",
    "print(df.shape)\n",
    "#df.head()"
   ]
  },
  {
   "cell_type": "markdown",
   "id": "8d11b6b0",
   "metadata": {
    "papermill": {
     "duration": 0.010831,
     "end_time": "2022-09-07T20:33:42.573230",
     "exception": false,
     "start_time": "2022-09-07T20:33:42.562399",
     "status": "completed"
    },
    "tags": []
   },
   "source": [
    "Wow! We have over 5.5 million rows and 190 columns. Our column names are anonymized but fall into these categories: \n",
    " <br />D_* = Delinquency variables\n",
    " <br />S_* = Spend variables\n",
    " <br />P_* = Payment variables\n",
    " <br />B_* = Balance variables\n",
    " <br />R_* = Risk variables\n",
    " <br />\n",
    " <br />\n",
    "The size of the data is too large for our hardware. Let's remove the data we percieve to be less relevant. \n",
    "\n",
    "We note the customer ID and the date columns. "
   ]
  },
  {
   "cell_type": "code",
   "execution_count": 3,
   "id": "5bff025b",
   "metadata": {
    "execution": {
     "iopub.execute_input": "2022-09-07T20:33:42.597664Z",
     "iopub.status.busy": "2022-09-07T20:33:42.596945Z",
     "iopub.status.idle": "2022-09-07T20:33:42.622057Z",
     "shell.execute_reply": "2022-09-07T20:33:42.620246Z"
    },
    "papermill": {
     "duration": 0.040306,
     "end_time": "2022-09-07T20:33:42.624653",
     "exception": false,
     "start_time": "2022-09-07T20:33:42.584347",
     "status": "completed"
    },
    "tags": []
   },
   "outputs": [
    {
     "name": "stdout",
     "output_type": "stream",
     "text": [
      "<class 'pandas.core.frame.DataFrame'>\n",
      "Int64Index: 5531451 entries, 0 to 5531450\n",
      "Columns: 191 entries, customer_ID to target\n",
      "dtypes: float32(185), int64(2), object(4)\n",
      "memory usage: 4.1+ GB\n"
     ]
    }
   ],
   "source": [
    "df.info()"
   ]
  },
  {
   "cell_type": "markdown",
   "id": "25e1cb70",
   "metadata": {
    "papermill": {
     "duration": 0.010969,
     "end_time": "2022-09-07T20:33:42.648471",
     "exception": false,
     "start_time": "2022-09-07T20:33:42.637502",
     "status": "completed"
    },
    "tags": []
   },
   "source": [
    "There are four non-numeric data types. Let's convert these so we may apply a logistic regression model.\n",
    "\n",
    "Let's plot our columns."
   ]
  },
  {
   "cell_type": "code",
   "execution_count": 4,
   "id": "d2fe6e8a",
   "metadata": {
    "execution": {
     "iopub.execute_input": "2022-09-07T20:33:42.673403Z",
     "iopub.status.busy": "2022-09-07T20:33:42.672229Z",
     "iopub.status.idle": "2022-09-07T20:33:42.681050Z",
     "shell.execute_reply": "2022-09-07T20:33:42.679917Z"
    },
    "papermill": {
     "duration": 0.023506,
     "end_time": "2022-09-07T20:33:42.683201",
     "exception": false,
     "start_time": "2022-09-07T20:33:42.659695",
     "status": "completed"
    },
    "tags": []
   },
   "outputs": [
    {
     "data": {
      "text/plain": [
       "'hist = df.hist(bins=50, figsize = (40,200), layout=(-1,4) )'"
      ]
     },
     "execution_count": 4,
     "metadata": {},
     "output_type": "execute_result"
    }
   ],
   "source": [
    "\"\"\"hist = df.hist(bins=50, figsize = (40,200), layout=(-1,4) )\"\"\""
   ]
  },
  {
   "cell_type": "markdown",
   "id": "87a97d63",
   "metadata": {
    "papermill": {
     "duration": 0.011257,
     "end_time": "2022-09-07T20:33:42.705998",
     "exception": false,
     "start_time": "2022-09-07T20:33:42.694741",
     "status": "completed"
    },
    "tags": []
   },
   "source": [
    "# **Data Cleaning**"
   ]
  },
  {
   "cell_type": "markdown",
   "id": "43064f30",
   "metadata": {
    "papermill": {
     "duration": 0.013209,
     "end_time": "2022-09-07T20:33:42.733510",
     "exception": false,
     "start_time": "2022-09-07T20:33:42.720301",
     "status": "completed"
    },
    "tags": []
   },
   "source": [
    "Let's find and remove the columns with a significant amount of NaN values. Without knowledge on the contents of each column we will remove the columns that are likely less useful."
   ]
  },
  {
   "cell_type": "code",
   "execution_count": 5,
   "id": "718580d2",
   "metadata": {
    "execution": {
     "iopub.execute_input": "2022-09-07T20:33:42.762966Z",
     "iopub.status.busy": "2022-09-07T20:33:42.762112Z",
     "iopub.status.idle": "2022-09-07T20:33:48.446386Z",
     "shell.execute_reply": "2022-09-07T20:33:48.443706Z"
    },
    "papermill": {
     "duration": 5.700397,
     "end_time": "2022-09-07T20:33:48.449878",
     "exception": false,
     "start_time": "2022-09-07T20:33:42.749481",
     "status": "completed"
    },
    "tags": []
   },
   "outputs": [
    {
     "name": "stdout",
     "output_type": "stream",
     "text": [
      "(5531451, 173)\n"
     ]
    }
   ],
   "source": [
    "temp = [column for column in df.columns if df[column].isnull().sum()/len(df) >= 0.9]\n",
    "df.drop(temp, axis=1, inplace=True)\n",
    "\n",
    "print(df.shape)"
   ]
  },
  {
   "cell_type": "markdown",
   "id": "40f4ee96",
   "metadata": {
    "papermill": {
     "duration": 0.018046,
     "end_time": "2022-09-07T20:33:48.484109",
     "exception": false,
     "start_time": "2022-09-07T20:33:48.466063",
     "status": "completed"
    },
    "tags": []
   },
   "source": [
    "Great! We got rid of 18 columns that contained >90% null values. \n",
    "\n",
    "We choose to impute by filling customer data from other months."
   ]
  },
  {
   "cell_type": "code",
   "execution_count": 6,
   "id": "717acab7",
   "metadata": {
    "execution": {
     "iopub.execute_input": "2022-09-07T20:33:48.513566Z",
     "iopub.status.busy": "2022-09-07T20:33:48.512437Z",
     "iopub.status.idle": "2022-09-07T20:33:48.520462Z",
     "shell.execute_reply": "2022-09-07T20:33:48.519526Z"
    },
    "papermill": {
     "duration": 0.027925,
     "end_time": "2022-09-07T20:33:48.525830",
     "exception": false,
     "start_time": "2022-09-07T20:33:48.497905",
     "status": "completed"
    },
    "tags": []
   },
   "outputs": [
    {
     "data": {
      "text/plain": [
       "\"df=df.set_index(['customer_ID'])\\ndf.head(n=20)\\n#forward fill and back fill just putting random other customers data into their adjacent rows?\""
      ]
     },
     "execution_count": 6,
     "metadata": {},
     "output_type": "execute_result"
    }
   ],
   "source": [
    "\"\"\"df=df.set_index(['customer_ID'])\n",
    "df.head(n=20)\n",
    "#forward fill and back fill just putting random other customers data into their adjacent rows?\"\"\""
   ]
  },
  {
   "cell_type": "code",
   "execution_count": 7,
   "id": "429f54a7",
   "metadata": {
    "execution": {
     "iopub.execute_input": "2022-09-07T20:33:48.555766Z",
     "iopub.status.busy": "2022-09-07T20:33:48.555354Z",
     "iopub.status.idle": "2022-09-07T20:33:48.559643Z",
     "shell.execute_reply": "2022-09-07T20:33:48.558465Z"
    },
    "papermill": {
     "duration": 0.019769,
     "end_time": "2022-09-07T20:33:48.561972",
     "exception": false,
     "start_time": "2022-09-07T20:33:48.542203",
     "status": "completed"
    },
    "tags": []
   },
   "outputs": [],
   "source": [
    "#pd.set_option('min_rows', 60)\n",
    "#print(df[['customer_ID','D_142']])"
   ]
  },
  {
   "cell_type": "code",
   "execution_count": 8,
   "id": "6eda29b6",
   "metadata": {
    "execution": {
     "iopub.execute_input": "2022-09-07T20:33:48.587058Z",
     "iopub.status.busy": "2022-09-07T20:33:48.586663Z",
     "iopub.status.idle": "2022-09-07T20:34:10.246566Z",
     "shell.execute_reply": "2022-09-07T20:34:10.245082Z"
    },
    "papermill": {
     "duration": 21.67545,
     "end_time": "2022-09-07T20:34:10.249245",
     "exception": false,
     "start_time": "2022-09-07T20:33:48.573795",
     "status": "completed"
    },
    "tags": []
   },
   "outputs": [
    {
     "name": "stdout",
     "output_type": "stream",
     "text": [
      "(5531451, 173) (458913, 171)\n",
      "91\n"
     ]
    }
   ],
   "source": [
    "temp = df.shape\n",
    "df=df.set_index(['customer_ID'])\n",
    "#df=df.ffill()\n",
    "#df=df.bfill()\n",
    "df=df.reset_index()\n",
    "\n",
    "df=df.groupby('customer_ID').tail(1)\n",
    "df=df.set_index(['customer_ID'])\n",
    "\n",
    "#Drop date column since it\n",
    "df.drop(['S_2'],axis=1,inplace=True)\n",
    "\n",
    "print(temp, df.shape)\n",
    "\n",
    "\n",
    "temp = [column for column in df.columns if df[column].isnull().sum()/len(df) >0]\n",
    "print(len(temp))"
   ]
  },
  {
   "cell_type": "code",
   "execution_count": 9,
   "id": "e0eb56df",
   "metadata": {
    "execution": {
     "iopub.execute_input": "2022-09-07T20:34:10.274565Z",
     "iopub.status.busy": "2022-09-07T20:34:10.274114Z",
     "iopub.status.idle": "2022-09-07T20:34:10.278896Z",
     "shell.execute_reply": "2022-09-07T20:34:10.277621Z"
    },
    "papermill": {
     "duration": 0.020207,
     "end_time": "2022-09-07T20:34:10.281296",
     "exception": false,
     "start_time": "2022-09-07T20:34:10.261089",
     "status": "completed"
    },
    "tags": []
   },
   "outputs": [],
   "source": [
    "#df=df.reset_index()\n",
    "#print(df[['customer_ID','D_142']])"
   ]
  },
  {
   "cell_type": "markdown",
   "id": "4f48e49d",
   "metadata": {
    "papermill": {
     "duration": 0.011406,
     "end_time": "2022-09-07T20:34:10.304438",
     "exception": false,
     "start_time": "2022-09-07T20:34:10.293032",
     "status": "completed"
    },
    "tags": []
   },
   "source": [
    "This magically removes all missing data... ??\n",
    "\n",
    "Lets separate our labels from our dataset."
   ]
  },
  {
   "cell_type": "code",
   "execution_count": 10,
   "id": "da6a1bbf",
   "metadata": {
    "execution": {
     "iopub.execute_input": "2022-09-07T20:34:10.329804Z",
     "iopub.status.busy": "2022-09-07T20:34:10.329036Z",
     "iopub.status.idle": "2022-09-07T20:34:10.334300Z",
     "shell.execute_reply": "2022-09-07T20:34:10.333431Z"
    },
    "papermill": {
     "duration": 0.020551,
     "end_time": "2022-09-07T20:34:10.336620",
     "exception": false,
     "start_time": "2022-09-07T20:34:10.316069",
     "status": "completed"
    },
    "tags": []
   },
   "outputs": [],
   "source": [
    "#print(df[['customer_ID','D_142']])"
   ]
  },
  {
   "cell_type": "code",
   "execution_count": 11,
   "id": "dbb44a07",
   "metadata": {
    "execution": {
     "iopub.execute_input": "2022-09-07T20:34:10.361667Z",
     "iopub.status.busy": "2022-09-07T20:34:10.361235Z",
     "iopub.status.idle": "2022-09-07T20:34:10.499015Z",
     "shell.execute_reply": "2022-09-07T20:34:10.497546Z"
    },
    "papermill": {
     "duration": 0.153569,
     "end_time": "2022-09-07T20:34:10.501833",
     "exception": false,
     "start_time": "2022-09-07T20:34:10.348264",
     "status": "completed"
    },
    "tags": []
   },
   "outputs": [
    {
     "name": "stdout",
     "output_type": "stream",
     "text": [
      "0.2589336105100531\n"
     ]
    }
   ],
   "source": [
    "df_label = df.iloc[:,len(df.columns)-1]\n",
    "df = df.iloc[:,0:len(df.columns)-1]\n",
    "\n",
    "print(df_label.sum()/len(df_label))"
   ]
  },
  {
   "cell_type": "markdown",
   "id": "78696133",
   "metadata": {
    "papermill": {
     "duration": 0.016393,
     "end_time": "2022-09-07T20:34:10.532870",
     "exception": false,
     "start_time": "2022-09-07T20:34:10.516477",
     "status": "completed"
    },
    "tags": []
   },
   "source": [
    "Our train data contains ~25% positive cases but the negative class was subsampled at 5%"
   ]
  },
  {
   "cell_type": "markdown",
   "id": "5a9d6c07",
   "metadata": {
    "papermill": {
     "duration": 0.012863,
     "end_time": "2022-09-07T20:34:10.559540",
     "exception": false,
     "start_time": "2022-09-07T20:34:10.546677",
     "status": "completed"
    },
    "tags": []
   },
   "source": [
    "We aim to remove data columns that have too high a correlation."
   ]
  },
  {
   "cell_type": "code",
   "execution_count": 12,
   "id": "4afbba02",
   "metadata": {
    "execution": {
     "iopub.execute_input": "2022-09-07T20:34:10.592830Z",
     "iopub.status.busy": "2022-09-07T20:34:10.592429Z",
     "iopub.status.idle": "2022-09-07T20:34:46.034612Z",
     "shell.execute_reply": "2022-09-07T20:34:46.033336Z"
    },
    "papermill": {
     "duration": 35.469749,
     "end_time": "2022-09-07T20:34:46.048665",
     "exception": false,
     "start_time": "2022-09-07T20:34:10.578916",
     "status": "completed"
    },
    "tags": []
   },
   "outputs": [
    {
     "name": "stdout",
     "output_type": "stream",
     "text": [
      "15 (458913, 155)\n"
     ]
    }
   ],
   "source": [
    "# Create correlation matrix\n",
    "corr_matrix = df.corr().abs()\n",
    "\n",
    "# Select upper triangle of correlation matrix\n",
    "import numpy as np\n",
    "upper = corr_matrix.where(np.triu(np.ones(corr_matrix.shape), k=1).astype(bool))\n",
    "\n",
    "# Find and drop columns with high correl\n",
    "to_drop = [column for column in upper.columns if any(upper[column] > 0.9)]\n",
    "df.drop(to_drop, axis=1, inplace=True)\n",
    "\n",
    "print(len(to_drop),df.shape)"
   ]
  },
  {
   "cell_type": "markdown",
   "id": "5abf712f",
   "metadata": {
    "papermill": {
     "duration": 0.01156,
     "end_time": "2022-09-07T20:34:46.072747",
     "exception": false,
     "start_time": "2022-09-07T20:34:46.061187",
     "status": "completed"
    },
    "tags": []
   },
   "source": [
    "##### To further reduce the degrees of freedom we remove columns with low variance"
   ]
  },
  {
   "cell_type": "code",
   "execution_count": 13,
   "id": "d8d7ef78",
   "metadata": {
    "execution": {
     "iopub.execute_input": "2022-09-07T20:34:46.098559Z",
     "iopub.status.busy": "2022-09-07T20:34:46.098160Z",
     "iopub.status.idle": "2022-09-07T20:34:48.777724Z",
     "shell.execute_reply": "2022-09-07T20:34:48.776887Z"
    },
    "papermill": {
     "duration": 2.695013,
     "end_time": "2022-09-07T20:34:48.779959",
     "exception": false,
     "start_time": "2022-09-07T20:34:46.084946",
     "status": "completed"
    },
    "tags": []
   },
   "outputs": [
    {
     "data": {
      "text/plain": [
       "58"
      ]
     },
     "execution_count": 13,
     "metadata": {},
     "output_type": "execute_result"
    }
   ],
   "source": [
    "from sklearn.feature_selection import VarianceThreshold\n",
    "from itertools import compress\n",
    "\n",
    "temp = df.drop(['D_63', 'D_64'], axis=1)\n",
    "\n",
    "# Initialize and fit the method\n",
    "vt = VarianceThreshold(threshold = float(0.1))\n",
    "vt.fit(temp)\n",
    "\n",
    "#columns with sufficient variance\n",
    "keep = list(compress(temp.columns, vt.get_support()))\n",
    "\n",
    "#dropped = ['D_63', 'D_64', 'customer_ID', 'S_2']\n",
    "\n",
    "keep.extend(['D_63', 'D_64',])\n",
    "\n",
    "#keep = keep + dropped\n",
    "#keep.append('D_64')\n",
    "df=df[keep]\n",
    "keep.extend([ 'customer_ID', 'S_2'])\n",
    "#keep.append('customer_ID')\n",
    "#keep.append('S_2')\n",
    "len(keep)"
   ]
  },
  {
   "cell_type": "markdown",
   "id": "34c356eb",
   "metadata": {
    "papermill": {
     "duration": 0.011434,
     "end_time": "2022-09-07T20:34:48.803297",
     "exception": false,
     "start_time": "2022-09-07T20:34:48.791863",
     "status": "completed"
    },
    "tags": []
   },
   "source": [
    "Now lets take a look at our data types."
   ]
  },
  {
   "cell_type": "code",
   "execution_count": 14,
   "id": "e2d379d3",
   "metadata": {
    "execution": {
     "iopub.execute_input": "2022-09-07T20:34:48.829052Z",
     "iopub.status.busy": "2022-09-07T20:34:48.828154Z",
     "iopub.status.idle": "2022-09-07T20:34:48.836336Z",
     "shell.execute_reply": "2022-09-07T20:34:48.834694Z"
    },
    "papermill": {
     "duration": 0.024206,
     "end_time": "2022-09-07T20:34:48.839285",
     "exception": false,
     "start_time": "2022-09-07T20:34:48.815079",
     "status": "completed"
    },
    "tags": []
   },
   "outputs": [
    {
     "name": "stdout",
     "output_type": "stream",
     "text": [
      "float32    54\n",
      "object      2\n",
      "dtype: int64\n",
      "Index(['D_39', 'B_2', 'B_5', 'D_48', 'B_6', 'B_8', 'D_50', 'B_10', 'S_5',\n",
      "       'S_6', 'B_12', 'R_5', 'D_60', 'D_61', 'D_65', 'B_16', 'B_17', 'B_18',\n",
      "       'B_20', 'D_68', 'R_6', 'B_21', 'D_69', 'D_71', 'P_4', 'B_24', 'R_7',\n",
      "       'B_26', 'D_78', 'R_8', 'S_16', 'R_10', 'D_81', 'R_14', 'D_84', 'B_30',\n",
      "       'R_20', 'S_22', 'S_23', 'S_26', 'D_103', 'R_27', 'B_38', 'D_112',\n",
      "       'B_40', 'S_27', 'D_114', 'D_117', 'D_120', 'D_126', 'D_128', 'D_129',\n",
      "       'D_130', 'D_139', 'D_63', 'D_64'],\n",
      "      dtype='object')\n"
     ]
    }
   ],
   "source": [
    "print(df.dtypes.value_counts())\n",
    "print(df.columns)\n",
    "#how to find categorical data encoded as numeric"
   ]
  },
  {
   "cell_type": "markdown",
   "id": "78c425ab",
   "metadata": {
    "papermill": {
     "duration": 0.011631,
     "end_time": "2022-09-07T20:34:48.863625",
     "exception": false,
     "start_time": "2022-09-07T20:34:48.851994",
     "status": "completed"
    },
    "tags": []
   },
   "source": [
    "Convert our object columns to numeric via one hot encoding"
   ]
  },
  {
   "cell_type": "code",
   "execution_count": 15,
   "id": "c66092d6",
   "metadata": {
    "execution": {
     "iopub.execute_input": "2022-09-07T20:34:48.889756Z",
     "iopub.status.busy": "2022-09-07T20:34:48.889331Z",
     "iopub.status.idle": "2022-09-07T20:34:48.893421Z",
     "shell.execute_reply": "2022-09-07T20:34:48.892472Z"
    },
    "papermill": {
     "duration": 0.019955,
     "end_time": "2022-09-07T20:34:48.895731",
     "exception": false,
     "start_time": "2022-09-07T20:34:48.875776",
     "status": "completed"
    },
    "tags": []
   },
   "outputs": [],
   "source": [
    "#df.info()"
   ]
  },
  {
   "cell_type": "code",
   "execution_count": 16,
   "id": "d43ef66e",
   "metadata": {
    "execution": {
     "iopub.execute_input": "2022-09-07T20:34:48.922111Z",
     "iopub.status.busy": "2022-09-07T20:34:48.921117Z",
     "iopub.status.idle": "2022-09-07T20:34:49.215499Z",
     "shell.execute_reply": "2022-09-07T20:34:49.214169Z"
    },
    "papermill": {
     "duration": 0.310657,
     "end_time": "2022-09-07T20:34:49.218487",
     "exception": false,
     "start_time": "2022-09-07T20:34:48.907830",
     "status": "completed"
    },
    "tags": []
   },
   "outputs": [
    {
     "name": "stdout",
     "output_type": "stream",
     "text": [
      "(458913, 63)\n"
     ]
    }
   ],
   "source": [
    "df = pd.get_dummies(df)\n",
    "#print(df['D_64_-1'].sum())\n",
    "#df.drop(['D_64_-1'], axis=1, inplace = True)\n",
    "print(df.shape)"
   ]
  },
  {
   "cell_type": "code",
   "execution_count": 17,
   "id": "87448b0b",
   "metadata": {
    "execution": {
     "iopub.execute_input": "2022-09-07T20:34:49.245677Z",
     "iopub.status.busy": "2022-09-07T20:34:49.244315Z",
     "iopub.status.idle": "2022-09-07T20:34:56.515252Z",
     "shell.execute_reply": "2022-09-07T20:34:56.514197Z"
    },
    "papermill": {
     "duration": 7.287429,
     "end_time": "2022-09-07T20:34:56.518241",
     "exception": false,
     "start_time": "2022-09-07T20:34:49.230812",
     "status": "completed"
    },
    "tags": []
   },
   "outputs": [],
   "source": [
    "#Handling missing values\n",
    "from sklearn.impute import SimpleImputer\n",
    "my_imputer = SimpleImputer()\n",
    "df.iloc[:,:] = my_imputer.fit_transform(df.iloc[:,:])"
   ]
  },
  {
   "cell_type": "markdown",
   "id": "2de93686",
   "metadata": {
    "papermill": {
     "duration": 0.011725,
     "end_time": "2022-09-07T20:34:56.542298",
     "exception": false,
     "start_time": "2022-09-07T20:34:56.530573",
     "status": "completed"
    },
    "tags": []
   },
   "source": [
    "We scale our data for better results"
   ]
  },
  {
   "cell_type": "markdown",
   "id": "ebf3dd63",
   "metadata": {
    "papermill": {
     "duration": 0.011694,
     "end_time": "2022-09-07T20:34:56.566169",
     "exception": false,
     "start_time": "2022-09-07T20:34:56.554475",
     "status": "completed"
    },
    "tags": []
   },
   "source": [
    "Reshaping data for model training"
   ]
  },
  {
   "cell_type": "code",
   "execution_count": 18,
   "id": "88ac4fbb",
   "metadata": {
    "execution": {
     "iopub.execute_input": "2022-09-07T20:34:56.591820Z",
     "iopub.status.busy": "2022-09-07T20:34:56.591402Z",
     "iopub.status.idle": "2022-09-07T20:34:57.324028Z",
     "shell.execute_reply": "2022-09-07T20:34:57.322715Z"
    },
    "papermill": {
     "duration": 0.748819,
     "end_time": "2022-09-07T20:34:57.326868",
     "exception": false,
     "start_time": "2022-09-07T20:34:56.578049",
     "status": "completed"
    },
    "tags": []
   },
   "outputs": [],
   "source": [
    "from sklearn.model_selection import train_test_split\n",
    "\n",
    "\n",
    "#this okay?\n",
    "#df=df.reset_index()\n",
    "\n",
    "\n",
    "x = df.iloc[:, :]\n",
    "y = df_label.iloc[:]\n",
    "\n",
    "x_train, x_test, y_train, y_test = train_test_split(x, y, test_size=0.25, random_state=23)"
   ]
  },
  {
   "cell_type": "code",
   "execution_count": 19,
   "id": "552e4fb7",
   "metadata": {
    "execution": {
     "iopub.execute_input": "2022-09-07T20:34:57.353134Z",
     "iopub.status.busy": "2022-09-07T20:34:57.352700Z",
     "iopub.status.idle": "2022-09-07T20:34:57.359534Z",
     "shell.execute_reply": "2022-09-07T20:34:57.358458Z"
    },
    "papermill": {
     "duration": 0.022763,
     "end_time": "2022-09-07T20:34:57.361844",
     "exception": false,
     "start_time": "2022-09-07T20:34:57.339081",
     "status": "completed"
    },
    "tags": []
   },
   "outputs": [
    {
     "data": {
      "text/plain": [
       "'#does this actually help log regr sig?\\nfrom sklearn import preprocessing\\n\\nscaler = preprocessing.StandardScaler().fit(X)\\nX_scaled = scaler.transform(X)'"
      ]
     },
     "execution_count": 19,
     "metadata": {},
     "output_type": "execute_result"
    }
   ],
   "source": [
    "\"\"\"#does this actually help log regr sig?\n",
    "from sklearn import preprocessing\n",
    "\n",
    "scaler = preprocessing.StandardScaler().fit(X)\n",
    "X_scaled = scaler.transform(X)\"\"\""
   ]
  },
  {
   "cell_type": "markdown",
   "id": "37c7c37d",
   "metadata": {
    "papermill": {
     "duration": 0.012205,
     "end_time": "2022-09-07T20:34:57.386295",
     "exception": false,
     "start_time": "2022-09-07T20:34:57.374090",
     "status": "completed"
    },
    "tags": []
   },
   "source": [
    "# Model Building"
   ]
  },
  {
   "cell_type": "code",
   "execution_count": 20,
   "id": "2947adf5",
   "metadata": {
    "execution": {
     "iopub.execute_input": "2022-09-07T20:34:57.412692Z",
     "iopub.status.busy": "2022-09-07T20:34:57.412308Z",
     "iopub.status.idle": "2022-09-07T20:35:31.162997Z",
     "shell.execute_reply": "2022-09-07T20:35:31.161738Z"
    },
    "papermill": {
     "duration": 33.767233,
     "end_time": "2022-09-07T20:35:31.165706",
     "exception": false,
     "start_time": "2022-09-07T20:34:57.398473",
     "status": "completed"
    },
    "tags": []
   },
   "outputs": [
    {
     "name": "stdout",
     "output_type": "stream",
     "text": [
      "27268\n",
      "0.8788013492665324\n",
      "\n",
      "Logistics Regression Accuracy: 0.879\n",
      "\n",
      "Logistics Regression Precision: 0.790\n",
      "\n",
      "Logistics Regression Recall: 0.725\n"
     ]
    }
   ],
   "source": [
    "from sklearn.linear_model import LogisticRegression\n",
    "from sklearn.metrics import accuracy_score  \n",
    "from sklearn.metrics import precision_score                         \n",
    "from sklearn.metrics import recall_score\n",
    "# create object for the class\n",
    "log = LogisticRegression(random_state=12,  max_iter=500)\n",
    "log.fit(x_train, y_train) \n",
    "y_pred = log.predict(x_test)\n",
    "\n",
    "print(np.sum(y_pred))\n",
    "print(log.score(x_test, y_test))\n",
    "print('\\nLogistics Regression Accuracy: {:.3f}'.format(accuracy_score(y_test, y_pred)))\n",
    "\n",
    "\n",
    "print('\\nLogistics Regression Precision: {:.3f}'.format(precision_score (y_test, y_pred)))\n",
    "\n",
    "\n",
    "print('\\nLogistics Regression Recall: {:.3f}'.format(recall_score (y_test, y_pred)))\n"
   ]
  },
  {
   "cell_type": "markdown",
   "id": "c5b2d9b0",
   "metadata": {
    "papermill": {
     "duration": 0.012242,
     "end_time": "2022-09-07T20:35:31.190504",
     "exception": false,
     "start_time": "2022-09-07T20:35:31.178262",
     "status": "completed"
    },
    "tags": []
   },
   "source": [
    "# Results"
   ]
  },
  {
   "cell_type": "code",
   "execution_count": 21,
   "id": "f1776e5e",
   "metadata": {
    "execution": {
     "iopub.execute_input": "2022-09-07T20:35:31.217184Z",
     "iopub.status.busy": "2022-09-07T20:35:31.216761Z",
     "iopub.status.idle": "2022-09-07T20:35:31.865242Z",
     "shell.execute_reply": "2022-09-07T20:35:31.863938Z"
    },
    "papermill": {
     "duration": 0.665,
     "end_time": "2022-09-07T20:35:31.867887",
     "exception": false,
     "start_time": "2022-09-07T20:35:31.202887",
     "status": "completed"
    },
    "tags": []
   },
   "outputs": [
    {
     "name": "stdout",
     "output_type": "stream",
     "text": [
      "Accuracy: 0.879\n",
      "0.8287121477015382\n"
     ]
    },
    {
     "data": {
      "image/png": "[encoded data removed]",
      "text/plain": [
       "<Figure size 648x648 with 2 Axes>"
      ]
     },
     "metadata": {
      "needs_background": "light"
     },
     "output_type": "display_data"
    }
   ],
   "source": [
    "from sklearn import metrics\n",
    "import matplotlib.pyplot as plt\n",
    "import seaborn as sns\n",
    "\n",
    "cm = metrics.confusion_matrix(y_test, y_pred)\n",
    "\n",
    "plt.figure(figsize=(9,9))\n",
    "sns.heatmap(cm, annot=True, fmt=\".3f\", linewidths=.5, square = True, cmap = 'YlGnBu');\n",
    "plt.ylabel('Actual label');\n",
    "plt.xlabel('Predicted label');\n",
    "\n",
    "score = log.score(x_test, y_test)\n",
    "\n",
    "all_sample_title = 'Accuracy Score: {0}'.format(round(score,3))\n",
    "\n",
    "#all_sample_title = 'Accuracy Score: {0}'.format(round(log.score(x_test, y_test),3))\n",
    "plt.title(all_sample_title, size = 15);\n",
    "\n",
    "print('Accuracy:',round(metrics.accuracy_score(y_test, y_pred),3))\n",
    "metrics.roc_curve(y_test, y_pred)\n",
    "print(metrics.roc_auc_score(y_test, y_pred))"
   ]
  },
  {
   "cell_type": "code",
   "execution_count": 22,
   "id": "c28f5238",
   "metadata": {
    "execution": {
     "iopub.execute_input": "2022-09-07T20:35:31.896405Z",
     "iopub.status.busy": "2022-09-07T20:35:31.895574Z",
     "iopub.status.idle": "2022-09-07T20:35:31.902687Z",
     "shell.execute_reply": "2022-09-07T20:35:31.901781Z"
    },
    "papermill": {
     "duration": 0.023922,
     "end_time": "2022-09-07T20:35:31.905118",
     "exception": false,
     "start_time": "2022-09-07T20:35:31.881196",
     "status": "completed"
    },
    "tags": []
   },
   "outputs": [
    {
     "data": {
      "text/plain": [
       "\"\\n#trying random forest\\nfrom sklearn.ensemble import RandomForestClassifier\\nfrom sklearn.model_selection import RandomizedSearchCV, GridSearchCV\\n# Number of trees in random forest\\nn_estimators = [int(i) for i in np.linspace(start = 200, stop = 2000, num = 10)]\\n# Number of features to consider at every split\\nmax_features = ['auto', 'sqrt']\\n# Maximum number of levels in tree\\nmax_depth = [int(i) for i in np.linspace(10, 110, num = 11)]\\nmax_depth.append(None)\\n# Minimum number of samples required to split a node\\nmin_samples_split = [2, 5, 10]\\n# Minimum number of samples required at each leaf node\\nmin_samples_leaf = [1, 2, 4]\\n# Method of selecting samples for training each tree\\nbootstrap = [True, False]\\n# Create the random grid\\nrandom_grid = {'n_estimators': n_estimators,\\n               'max_features': max_features,\\n               'max_depth': max_depth,\\n               'min_samples_split': min_samples_split,\\n               'min_samples_leaf': min_samples_leaf,\\n               'bootstrap': bootstrap}\\n\\nmodel = RandomForestClassifier(n_estimators=400, max_features='sqrt', bootstrap=True, max_depth=30, min_samples_leaf=1, min_samples_split=5, n_jobs=-1)\\n\\n\\n#rf_random = GridSearchCV(estimator = rf, param_grid = random_grid, cv = 3, verbose=1, n_jobs = -1)\\n# Fit the random search model\\n\\n\\nmodel.fit(x_train,y_train)\""
      ]
     },
     "execution_count": 22,
     "metadata": {},
     "output_type": "execute_result"
    }
   ],
   "source": [
    "\"\"\"\n",
    "#trying random forest\n",
    "from sklearn.ensemble import RandomForestClassifier\n",
    "from sklearn.model_selection import RandomizedSearchCV, GridSearchCV\n",
    "# Number of trees in random forest\n",
    "n_estimators = [int(i) for i in np.linspace(start = 200, stop = 2000, num = 10)]\n",
    "# Number of features to consider at every split\n",
    "max_features = ['auto', 'sqrt']\n",
    "# Maximum number of levels in tree\n",
    "max_depth = [int(i) for i in np.linspace(10, 110, num = 11)]\n",
    "max_depth.append(None)\n",
    "# Minimum number of samples required to split a node\n",
    "min_samples_split = [2, 5, 10]\n",
    "# Minimum number of samples required at each leaf node\n",
    "min_samples_leaf = [1, 2, 4]\n",
    "# Method of selecting samples for training each tree\n",
    "bootstrap = [True, False]\n",
    "# Create the random grid\n",
    "random_grid = {'n_estimators': n_estimators,\n",
    "               'max_features': max_features,\n",
    "               'max_depth': max_depth,\n",
    "               'min_samples_split': min_samples_split,\n",
    "               'min_samples_leaf': min_samples_leaf,\n",
    "               'bootstrap': bootstrap}\n",
    "\n",
    "model = RandomForestClassifier(n_estimators=400, max_features='sqrt', bootstrap=True, max_depth=30, min_samples_leaf=1, min_samples_split=5, n_jobs=-1)\n",
    "\n",
    "\n",
    "#rf_random = GridSearchCV(estimator = rf, param_grid = random_grid, cv = 3, verbose=1, n_jobs = -1)\n",
    "# Fit the random search model\n",
    "\n",
    "\n",
    "model.fit(x_train,y_train)\"\"\""
   ]
  },
  {
   "cell_type": "code",
   "execution_count": 23,
   "id": "9c8a4b53",
   "metadata": {
    "execution": {
     "iopub.execute_input": "2022-09-07T20:35:31.933309Z",
     "iopub.status.busy": "2022-09-07T20:35:31.932264Z",
     "iopub.status.idle": "2022-09-07T20:35:31.938202Z",
     "shell.execute_reply": "2022-09-07T20:35:31.937426Z"
    },
    "papermill": {
     "duration": 0.02223,
     "end_time": "2022-09-07T20:35:31.940298",
     "exception": false,
     "start_time": "2022-09-07T20:35:31.918068",
     "status": "completed"
    },
    "tags": []
   },
   "outputs": [
    {
     "data": {
      "text/plain": [
       "'y_pred = model.predict_proba(x_test)\\n#y_pred = model.predict(x_test)\\n#y_pred = y_pred[:,1]\\nprint(y_pred.shape, y_pred[25:50])'"
      ]
     },
     "execution_count": 23,
     "metadata": {},
     "output_type": "execute_result"
    }
   ],
   "source": [
    "\"\"\"y_pred = model.predict_proba(x_test)\n",
    "#y_pred = model.predict(x_test)\n",
    "#y_pred = y_pred[:,1]\n",
    "print(y_pred.shape, y_pred[25:50])\"\"\""
   ]
  },
  {
   "cell_type": "code",
   "execution_count": 24,
   "id": "5b80a5dd",
   "metadata": {
    "execution": {
     "iopub.execute_input": "2022-09-07T20:35:31.968548Z",
     "iopub.status.busy": "2022-09-07T20:35:31.968118Z",
     "iopub.status.idle": "2022-09-07T20:35:31.974894Z",
     "shell.execute_reply": "2022-09-07T20:35:31.973745Z"
    },
    "papermill": {
     "duration": 0.023932,
     "end_time": "2022-09-07T20:35:31.977429",
     "exception": false,
     "start_time": "2022-09-07T20:35:31.953497",
     "status": "completed"
    },
    "tags": []
   },
   "outputs": [
    {
     "data": {
      "text/plain": [
       "'print(y_test, y_test.shape)'"
      ]
     },
     "execution_count": 24,
     "metadata": {},
     "output_type": "execute_result"
    }
   ],
   "source": [
    "\"\"\"print(y_test, y_test.shape)\"\"\""
   ]
  },
  {
   "cell_type": "code",
   "execution_count": 25,
   "id": "2de7dc46",
   "metadata": {
    "execution": {
     "iopub.execute_input": "2022-09-07T20:35:32.006309Z",
     "iopub.status.busy": "2022-09-07T20:35:32.005921Z",
     "iopub.status.idle": "2022-09-07T20:35:32.013231Z",
     "shell.execute_reply": "2022-09-07T20:35:32.012172Z"
    },
    "papermill": {
     "duration": 0.024915,
     "end_time": "2022-09-07T20:35:32.015670",
     "exception": false,
     "start_time": "2022-09-07T20:35:31.990755",
     "status": "completed"
    },
    "tags": []
   },
   "outputs": [
    {
     "data": {
      "text/plain": [
       "\"from sklearn.ensemble import RandomForestClassifier\\n\\ndef evaluate(model, test_features, test_labels):\\n    predictions = model.predict(test_features)\\n    print(predictions, test_labels)\\n    errors = abs(predictions - test_labels)\\n    print(errors)\\n    mape = 100 * np.mean(errors / test_labels)\\n    print('mape',mape)\\n    accuracy = 100 - mape\\n    print('Model Performance')\\n    print('Average Error: {:0.4f} degrees.'.format(np.mean(errors)))\\n    print('Accuracy = {:0.2f}%.'.format(accuracy))\\n    \\n    return accuracy\\nbase_model = RandomForestClassifier(n_estimators = 10, random_state = 42)\\nbase_model.fit(x_train, y_train)\\nbase_accuracy = evaluate(base_model, x_test, y_test)\""
      ]
     },
     "execution_count": 25,
     "metadata": {},
     "output_type": "execute_result"
    }
   ],
   "source": [
    "\"\"\"from sklearn.ensemble import RandomForestClassifier\n",
    "\n",
    "def evaluate(model, test_features, test_labels):\n",
    "    predictions = model.predict(test_features)\n",
    "    print(predictions, test_labels)\n",
    "    errors = abs(predictions - test_labels)\n",
    "    print(errors)\n",
    "    mape = 100 * np.mean(errors / test_labels)\n",
    "    print('mape',mape)\n",
    "    accuracy = 100 - mape\n",
    "    print('Model Performance')\n",
    "    print('Average Error: {:0.4f} degrees.'.format(np.mean(errors)))\n",
    "    print('Accuracy = {:0.2f}%.'.format(accuracy))\n",
    "    \n",
    "    return accuracy\n",
    "base_model = RandomForestClassifier(n_estimators = 10, random_state = 42)\n",
    "base_model.fit(x_train, y_train)\n",
    "base_accuracy = evaluate(base_model, x_test, y_test)\"\"\""
   ]
  },
  {
   "cell_type": "code",
   "execution_count": 26,
   "id": "5afbae38",
   "metadata": {
    "execution": {
     "iopub.execute_input": "2022-09-07T20:35:32.044233Z",
     "iopub.status.busy": "2022-09-07T20:35:32.043840Z",
     "iopub.status.idle": "2022-09-07T20:35:32.177648Z",
     "shell.execute_reply": "2022-09-07T20:35:32.176512Z"
    },
    "papermill": {
     "duration": 0.151008,
     "end_time": "2022-09-07T20:35:32.180110",
     "exception": false,
     "start_time": "2022-09-07T20:35:32.029102",
     "status": "completed"
    },
    "tags": []
   },
   "outputs": [
    {
     "data": {
      "text/plain": [
       "5071"
      ]
     },
     "execution_count": 26,
     "metadata": {},
     "output_type": "execute_result"
    }
   ],
   "source": [
    "import gc\n",
    "#free up ram\n",
    "del df\n",
    "gc.collect()"
   ]
  },
  {
   "cell_type": "code",
   "execution_count": 27,
   "id": "8c8ee1a1",
   "metadata": {
    "execution": {
     "iopub.execute_input": "2022-09-07T20:35:32.209130Z",
     "iopub.status.busy": "2022-09-07T20:35:32.208727Z",
     "iopub.status.idle": "2022-09-07T20:35:32.214651Z",
     "shell.execute_reply": "2022-09-07T20:35:32.213457Z"
    },
    "papermill": {
     "duration": 0.023742,
     "end_time": "2022-09-07T20:35:32.217651",
     "exception": false,
     "start_time": "2022-09-07T20:35:32.193909",
     "status": "completed"
    },
    "tags": []
   },
   "outputs": [
    {
     "name": "stdout",
     "output_type": "stream",
     "text": [
      "58 ['D_39', 'B_2', 'B_5', 'D_48', 'B_6', 'B_8', 'D_50', 'B_10', 'S_5', 'S_6', 'B_12', 'R_5', 'D_60', 'D_61', 'D_65', 'B_16', 'B_17', 'B_18', 'B_20', 'D_68', 'R_6', 'B_21', 'D_69', 'D_71', 'P_4', 'B_24', 'R_7', 'B_26', 'D_78', 'R_8', 'S_16', 'R_10', 'D_81', 'R_14', 'D_84', 'B_30', 'R_20', 'S_22', 'S_23', 'S_26', 'D_103', 'R_27', 'B_38', 'D_112', 'B_40', 'S_27', 'D_114', 'D_117', 'D_120', 'D_126', 'D_128', 'D_129', 'D_130', 'D_139', 'D_63', 'D_64', 'customer_ID', 'S_2']\n"
     ]
    }
   ],
   "source": [
    "print(len(keep), keep)"
   ]
  },
  {
   "cell_type": "code",
   "execution_count": 28,
   "id": "56385f52",
   "metadata": {
    "execution": {
     "iopub.execute_input": "2022-09-07T20:35:32.247446Z",
     "iopub.status.busy": "2022-09-07T20:35:32.247033Z",
     "iopub.status.idle": "2022-09-07T20:36:05.059917Z",
     "shell.execute_reply": "2022-09-07T20:36:05.058750Z"
    },
    "papermill": {
     "duration": 32.844612,
     "end_time": "2022-09-07T20:36:05.076871",
     "exception": false,
     "start_time": "2022-09-07T20:35:32.232259",
     "status": "completed"
    },
    "tags": []
   },
   "outputs": [
    {
     "name": "stdout",
     "output_type": "stream",
     "text": [
      "(11363762, 58)\n"
     ]
    }
   ],
   "source": [
    "#run prediction on test dat\n",
    "#only loading columns that model utilizes\n",
    "df2=pd.read_parquet('/kaggle/input/amex-parquet/test_data.parquet', columns =keep)\n",
    "print(df2.shape)"
   ]
  },
  {
   "cell_type": "code",
   "execution_count": 29,
   "id": "3b08b4c8",
   "metadata": {
    "execution": {
     "iopub.execute_input": "2022-09-07T20:36:05.106141Z",
     "iopub.status.busy": "2022-09-07T20:36:05.105553Z",
     "iopub.status.idle": "2022-09-07T20:36:05.109162Z",
     "shell.execute_reply": "2022-09-07T20:36:05.108456Z"
    },
    "papermill": {
     "duration": 0.02069,
     "end_time": "2022-09-07T20:36:05.111204",
     "exception": false,
     "start_time": "2022-09-07T20:36:05.090514",
     "status": "completed"
    },
    "tags": []
   },
   "outputs": [],
   "source": [
    "#Handling missing values via imputation\n",
    "#df2.iloc[:,:] = my_imputer.fit_transform(df2.iloc[:,:])"
   ]
  },
  {
   "cell_type": "code",
   "execution_count": 30,
   "id": "3923dac8",
   "metadata": {
    "execution": {
     "iopub.execute_input": "2022-09-07T20:36:05.140332Z",
     "iopub.status.busy": "2022-09-07T20:36:05.139621Z",
     "iopub.status.idle": "2022-09-07T20:36:09.102447Z",
     "shell.execute_reply": "2022-09-07T20:36:09.101035Z"
    },
    "papermill": {
     "duration": 3.981276,
     "end_time": "2022-09-07T20:36:09.106037",
     "exception": false,
     "start_time": "2022-09-07T20:36:05.124761",
     "status": "completed"
    },
    "tags": []
   },
   "outputs": [
    {
     "name": "stdout",
     "output_type": "stream",
     "text": [
      "(11363762, 58) (924621, 56)\n",
      "Columns left with NaN:\n",
      "B_2 0.0\n",
      "D_48 0.13\n",
      "B_6 0.0\n",
      "B_8 0.01\n",
      "D_50 0.57\n",
      "D_61 0.11\n",
      "B_16 0.0\n",
      "B_17 0.52\n",
      "B_20 0.0\n",
      "D_68 0.02\n",
      "D_69 0.02\n",
      "B_26 0.0\n",
      "D_78 0.05\n",
      "D_81 0.0\n",
      "D_84 0.0\n",
      "B_30 0.0\n",
      "S_22 0.01\n",
      "S_23 0.0\n",
      "S_26 0.0\n",
      "D_103 0.01\n",
      "R_27 0.06\n",
      "B_38 0.0\n",
      "D_112 0.0\n",
      "B_40 0.0\n",
      "S_27 0.23\n",
      "D_114 0.02\n",
      "D_117 0.02\n",
      "D_120 0.02\n",
      "D_128 0.01\n",
      "D_129 0.01\n",
      "D_130 0.01\n",
      "D_139 0.01\n",
      "D_64 0.03\n"
     ]
    }
   ],
   "source": [
    "#using only most recent transaction from each customer\n",
    "#Does this make sense for test data??\n",
    "temp = df2.shape\n",
    "df2=df2.set_index(['customer_ID'])\n",
    "#df2=df2.ffill()\n",
    "#df2=df2.bfill()\n",
    "df2=df2.reset_index()\n",
    "\n",
    "df2=df2.groupby('customer_ID').tail(1)\n",
    "df2=df2.set_index(['customer_ID'])\n",
    "\n",
    "#Drop date column since it is no longer useful\n",
    "df2.drop(['S_2'],axis=1,inplace=True)\n",
    "\n",
    "print(temp, df2.shape)\n",
    "\n",
    "#inspecting NaN\n",
    "print('Columns left with NaN:')\n",
    "for i in range(len(df2.columns)):\n",
    "    if (df2.iloc[:,i].isnull().sum()/len(df2) > 0):\n",
    "        print(df2.columns[i], round(df2.iloc[:,i].isnull().sum()/len(df2),2))"
   ]
  },
  {
   "cell_type": "code",
   "execution_count": 31,
   "id": "dfd6cf0b",
   "metadata": {
    "execution": {
     "iopub.execute_input": "2022-09-07T20:36:09.136153Z",
     "iopub.status.busy": "2022-09-07T20:36:09.135760Z",
     "iopub.status.idle": "2022-09-07T20:36:09.822346Z",
     "shell.execute_reply": "2022-09-07T20:36:09.821193Z"
    },
    "papermill": {
     "duration": 0.704386,
     "end_time": "2022-09-07T20:36:09.825191",
     "exception": false,
     "start_time": "2022-09-07T20:36:09.120805",
     "status": "completed"
    },
    "tags": []
   },
   "outputs": [],
   "source": [
    "#one hot encoding\n",
    "df2 = pd.get_dummies(df2)"
   ]
  },
  {
   "cell_type": "code",
   "execution_count": 32,
   "id": "0d7082a3",
   "metadata": {
    "execution": {
     "iopub.execute_input": "2022-09-07T20:36:09.854560Z",
     "iopub.status.busy": "2022-09-07T20:36:09.854170Z",
     "iopub.status.idle": "2022-09-07T20:36:24.082225Z",
     "shell.execute_reply": "2022-09-07T20:36:24.081071Z"
    },
    "papermill": {
     "duration": 14.24592,
     "end_time": "2022-09-07T20:36:24.084986",
     "exception": false,
     "start_time": "2022-09-07T20:36:09.839066",
     "status": "completed"
    },
    "tags": []
   },
   "outputs": [],
   "source": [
    "from sklearn.impute import SimpleImputer\n",
    "my_imputer = SimpleImputer()\n",
    "df2.iloc[:,:] = my_imputer.fit_transform(df2.iloc[:,:])"
   ]
  },
  {
   "cell_type": "code",
   "execution_count": 33,
   "id": "02d258e3",
   "metadata": {
    "execution": {
     "iopub.execute_input": "2022-09-07T20:36:24.114899Z",
     "iopub.status.busy": "2022-09-07T20:36:24.114072Z",
     "iopub.status.idle": "2022-09-07T20:36:24.827212Z",
     "shell.execute_reply": "2022-09-07T20:36:24.825729Z"
    },
    "papermill": {
     "duration": 0.730699,
     "end_time": "2022-09-07T20:36:24.829639",
     "exception": false,
     "start_time": "2022-09-07T20:36:24.098940",
     "status": "completed"
    },
    "tags": []
   },
   "outputs": [
    {
     "name": "stderr",
     "output_type": "stream",
     "text": [
      "/opt/conda/lib/python3.7/site-packages/sklearn/base.py:451: UserWarning: X does not have valid feature names, but LogisticRegression was fitted with feature names\n",
      "  \"X does not have valid feature names, but\"\n"
     ]
    },
    {
     "name": "stdout",
     "output_type": "stream",
     "text": [
      "[0.20861329 0.01105037 0.15440802 ... 0.45003231 0.46316765 0.07129095]\n",
      "[0.20861329 0.01105037 0.15440802 ... 0.45003231 0.46316765 0.07129095] 241577.39168556637\n"
     ]
    }
   ],
   "source": [
    "from sklearn import preprocessing\n",
    "\n",
    "X2 = df2.iloc[:, :].values.reshape(-1, len(df2.columns))\n",
    "#scaler = preprocessing.StandardScaler().fit(X2)\n",
    "#X2 = scaler.transform(X2)\n",
    "\n",
    "\n",
    "Y_pred2 = log.predict_proba(X2)\n",
    "#necessary for predict_proba, as it outputs prob of all classes\n",
    "Y_pred2 = Y_pred2[:,1]\n",
    "print(Y_pred2)\n",
    "\n",
    "df2 = df2.reset_index()\n",
    "\n",
    "final = pd.DataFrame({\"customer_ID\":df2.customer_ID,\"prediction\":Y_pred2})\n",
    "\n",
    "print(Y_pred2, np.sum(Y_pred2))\n",
    "\n",
    "#initial score ended as ~50 w/o scaler"
   ]
  },
  {
   "cell_type": "code",
   "execution_count": 34,
   "id": "e2fd2403",
   "metadata": {
    "execution": {
     "iopub.execute_input": "2022-09-07T20:36:24.859238Z",
     "iopub.status.busy": "2022-09-07T20:36:24.858842Z",
     "iopub.status.idle": "2022-09-07T20:36:24.865906Z",
     "shell.execute_reply": "2022-09-07T20:36:24.864919Z"
    },
    "papermill": {
     "duration": 0.024984,
     "end_time": "2022-09-07T20:36:24.868620",
     "exception": false,
     "start_time": "2022-09-07T20:36:24.843636",
     "status": "completed"
    },
    "tags": []
   },
   "outputs": [
    {
     "data": {
      "text/plain": [
       "'Y_pred2 = model.predict_proba(df2)\\nY_pred2 = Y_pred2[:,1]\\ndf2 = df2.reset_index()\\nprint(Y_pred2, np.sum(Y_pred2))\\nfinal = pd.DataFrame({\"customer_ID\":df2.customer_ID,\"prediction\":Y_pred2})\\nprint(final)'"
      ]
     },
     "execution_count": 34,
     "metadata": {},
     "output_type": "execute_result"
    }
   ],
   "source": [
    "\"\"\"Y_pred2 = model.predict_proba(df2)\n",
    "Y_pred2 = Y_pred2[:,1]\n",
    "df2 = df2.reset_index()\n",
    "print(Y_pred2, np.sum(Y_pred2))\n",
    "final = pd.DataFrame({\"customer_ID\":df2.customer_ID,\"prediction\":Y_pred2})\n",
    "print(final)\"\"\""
   ]
  },
  {
   "cell_type": "code",
   "execution_count": 35,
   "id": "18ff740e",
   "metadata": {
    "execution": {
     "iopub.execute_input": "2022-09-07T20:36:24.898626Z",
     "iopub.status.busy": "2022-09-07T20:36:24.898205Z",
     "iopub.status.idle": "2022-09-07T20:36:28.523542Z",
     "shell.execute_reply": "2022-09-07T20:36:28.522028Z"
    },
    "papermill": {
     "duration": 3.643727,
     "end_time": "2022-09-07T20:36:28.526321",
     "exception": false,
     "start_time": "2022-09-07T20:36:24.882594",
     "status": "completed"
    },
    "tags": []
   },
   "outputs": [
    {
     "name": "stdout",
     "output_type": "stream",
     "text": [
      "                                              customer_ID  prediction\n",
      "0       00000469ba478561f23a92a868bd366de6f6527a684c9a...    0.208613\n",
      "1       00001bf2e77ff879fab36aa4fac689b9ba411dae63ae39...    0.011050\n",
      "2       0000210045da4f81e5f122c6bde5c2a617d03eef67f82c...    0.154408\n",
      "3       00003b41e58ede33b8daf61ab56d9952f17c9ad1c3976c...    0.391565\n",
      "4       00004b22eaeeeb0ec976890c1d9bfc14fd9427e98c4ee9...    0.955546\n",
      "...                                                   ...         ...\n",
      "924616  ffff952c631f2c911b8a2a8ca56ea6e656309a83d2f64c...    0.044493\n",
      "924617  ffffcf5df59e5e0bba2a5ac4578a34e2b5aa64a1546cd3...    0.449600\n",
      "924618  ffffd61f098cc056dbd7d2a21380c4804bbfe60856f475...    0.450032\n",
      "924619  ffffddef1fc3643ea179c93245b68dca0f36941cd83977...    0.463168\n",
      "924620  fffffa7cf7e453e1acc6a1426475d5cb9400859f82ff61...    0.071291\n",
      "\n",
      "[924621 rows x 2 columns]\n"
     ]
    }
   ],
   "source": [
    "final.to_csv('submission.csv', index=False)\n",
    "print(final)"
   ]
  },
  {
   "cell_type": "markdown",
   "id": "2c175d61",
   "metadata": {
    "papermill": {
     "duration": 0.014252,
     "end_time": "2022-09-07T20:36:28.554893",
     "exception": false,
     "start_time": "2022-09-07T20:36:28.540641",
     "status": "completed"
    },
    "tags": []
   },
   "source": []
  }
 ],
 "metadata": {
  "kernelspec": {
   "display_name": "Python 3",
   "language": "python",
   "name": "python3"
  },
  "language_info": {
   "codemirror_mode": {
    "name": "ipython",
    "version": 3
   },
   "file_extension": ".py",
   "mimetype": "text/x-python",
   "name": "python",
   "nbconvert_exporter": "python",
   "pygments_lexer": "ipython3",
   "version": "3.7.12"
  },
  "papermill": {
   "default_parameters": {},
   "duration": 236.089515,
   "end_time": "2022-09-07T20:36:29.493736",
   "environment_variables": {},
   "exception": null,
   "input_path": "__notebook__.ipynb",
   "output_path": "__notebook__.ipynb",
   "parameters": {},
   "start_time": "2022-09-07T20:32:33.404221",
   "version": "2.3.4"
  }
 },
 "nbformat": 4,
 "nbformat_minor": 5
}
