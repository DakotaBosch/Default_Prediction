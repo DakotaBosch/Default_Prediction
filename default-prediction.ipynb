{
 "cells": [
  {
   "cell_type": "code",
   "execution_count": 1,
   "id": "00c2e901",
   "metadata": {
    "_cell_guid": "b1076dfc-b9ad-4769-8c92-a6c4dae69d19",
    "_uuid": "8f2839f25d086af736a60e9eeb907d3b93b6e0e5",
    "execution": {
     "iopub.execute_input": "2022-08-24T19:36:52.073144Z",
     "iopub.status.busy": "2022-08-24T19:36:52.072465Z",
     "iopub.status.idle": "2022-08-24T19:36:53.618611Z",
     "shell.execute_reply": "2022-08-24T19:36:53.617416Z"
    },
    "papermill": {
     "duration": 1.561137,
     "end_time": "2022-08-24T19:36:53.621535",
     "exception": false,
     "start_time": "2022-08-24T19:36:52.060398",
     "status": "completed"
    },
    "tags": []
   },
   "outputs": [
    {
     "name": "stdout",
     "output_type": "stream",
     "text": [
      "/kaggle/input/amex-default-prediction/sample_submission.csv\n",
      "/kaggle/input/amex-default-prediction/train_data.csv\n",
      "/kaggle/input/amex-default-prediction/test_data.csv\n",
      "/kaggle/input/amex-default-prediction/train_labels.csv\n",
      "/kaggle/input/amex-parquet/test_data.parquet\n",
      "/kaggle/input/amex-parquet/train_data.parquet\n"
     ]
    }
   ],
   "source": [
    "import numpy as np # linear algebra\n",
    "import pandas as pd # data processing, CSV file I/O (e.g. pd.read_csv)\n",
    "import matplotlib.pyplot as plt\n",
    "import seaborn as sns\n",
    "from sklearn.linear_model import LogisticRegression\n",
    "from sklearn.impute import SimpleImputer\n",
    "from sklearn import metrics\n",
    "import gc\n",
    "\n",
    "# Input data files are available in the read-only \"../input/\" directory\n",
    "# For example, running this (by clicking run or pressing Shift+Enter) will list all files under the input directory\n",
    "\n",
    "import os\n",
    "for dirname, _, filenames in os.walk('/kaggle/input'):\n",
    "    for filename in filenames:\n",
    "        print(os.path.join(dirname, filename))\n",
    "\n",
    "# You can write up to 20GB to the current directory (/kaggle/working/) that gets preserved as output when you create a version using \"Save & Run All\" \n",
    "# You can also write temporary files to /kaggle/temp/, but they won't be saved outside of the current session"
   ]
  },
  {
   "cell_type": "code",
   "execution_count": 2,
   "id": "c485ae70",
   "metadata": {
    "execution": {
     "iopub.execute_input": "2022-08-24T19:36:53.636675Z",
     "iopub.status.busy": "2022-08-24T19:36:53.636278Z",
     "iopub.status.idle": "2022-08-24T19:37:34.708965Z",
     "shell.execute_reply": "2022-08-24T19:37:34.707518Z"
    },
    "papermill": {
     "duration": 41.087512,
     "end_time": "2022-08-24T19:37:34.715874",
     "exception": false,
     "start_time": "2022-08-24T19:36:53.628362",
     "status": "completed"
    },
    "tags": []
   },
   "outputs": [
    {
     "data": {
      "text/html": [
       "<div>\n",
       "<style scoped>\n",
       "    .dataframe tbody tr th:only-of-type {\n",
       "        vertical-align: middle;\n",
       "    }\n",
       "\n",
       "    .dataframe tbody tr th {\n",
       "        vertical-align: top;\n",
       "    }\n",
       "\n",
       "    .dataframe thead th {\n",
       "        text-align: right;\n",
       "    }\n",
       "</style>\n",
       "<table border=\"1\" class=\"dataframe\">\n",
       "  <thead>\n",
       "    <tr style=\"text-align: right;\">\n",
       "      <th></th>\n",
       "      <th>customer_ID</th>\n",
       "      <th>target</th>\n",
       "    </tr>\n",
       "  </thead>\n",
       "  <tbody>\n",
       "    <tr>\n",
       "      <th>0</th>\n",
       "      <td>0000099d6bd597052cdcda90ffabf56573fe9d7c79be5f...</td>\n",
       "      <td>0</td>\n",
       "    </tr>\n",
       "    <tr>\n",
       "      <th>1</th>\n",
       "      <td>00000fd6641609c6ece5454664794f0340ad84dddce9a2...</td>\n",
       "      <td>0</td>\n",
       "    </tr>\n",
       "    <tr>\n",
       "      <th>2</th>\n",
       "      <td>00001b22f846c82c51f6e3958ccd81970162bae8b007e8...</td>\n",
       "      <td>0</td>\n",
       "    </tr>\n",
       "    <tr>\n",
       "      <th>3</th>\n",
       "      <td>000041bdba6ecadd89a52d11886e8eaaec9325906c9723...</td>\n",
       "      <td>0</td>\n",
       "    </tr>\n",
       "    <tr>\n",
       "      <th>4</th>\n",
       "      <td>00007889e4fcd2614b6cbe7f8f3d2e5c728eca32d9eb8a...</td>\n",
       "      <td>0</td>\n",
       "    </tr>\n",
       "  </tbody>\n",
       "</table>\n",
       "</div>"
      ],
      "text/plain": [
       "                                         customer_ID  target\n",
       "0  0000099d6bd597052cdcda90ffabf56573fe9d7c79be5f...       0\n",
       "1  00000fd6641609c6ece5454664794f0340ad84dddce9a2...       0\n",
       "2  00001b22f846c82c51f6e3958ccd81970162bae8b007e8...       0\n",
       "3  000041bdba6ecadd89a52d11886e8eaaec9325906c9723...       0\n",
       "4  00007889e4fcd2614b6cbe7f8f3d2e5c728eca32d9eb8a...       0"
      ]
     },
     "execution_count": 2,
     "metadata": {},
     "output_type": "execute_result"
    }
   ],
   "source": [
    "df1=pd.read_parquet('/kaggle/input/amex-parquet/train_data.parquet')\n",
    "df1.head()\n",
    "df1.shape\n",
    "df_label = pd.read_csv('/kaggle/input/amex-default-prediction/train_labels.csv')\n",
    "df_label.head()"
   ]
  },
  {
   "cell_type": "code",
   "execution_count": 3,
   "id": "d89013b5",
   "metadata": {
    "execution": {
     "iopub.execute_input": "2022-08-24T19:37:34.730973Z",
     "iopub.status.busy": "2022-08-24T19:37:34.730543Z",
     "iopub.status.idle": "2022-08-24T19:37:34.768880Z",
     "shell.execute_reply": "2022-08-24T19:37:34.766998Z"
    },
    "papermill": {
     "duration": 0.048999,
     "end_time": "2022-08-24T19:37:34.771555",
     "exception": false,
     "start_time": "2022-08-24T19:37:34.722556",
     "status": "completed"
    },
    "tags": []
   },
   "outputs": [
    {
     "data": {
      "text/html": [
       "<div>\n",
       "<style scoped>\n",
       "    .dataframe tbody tr th:only-of-type {\n",
       "        vertical-align: middle;\n",
       "    }\n",
       "\n",
       "    .dataframe tbody tr th {\n",
       "        vertical-align: top;\n",
       "    }\n",
       "\n",
       "    .dataframe thead th {\n",
       "        text-align: right;\n",
       "    }\n",
       "</style>\n",
       "<table border=\"1\" class=\"dataframe\">\n",
       "  <thead>\n",
       "    <tr style=\"text-align: right;\">\n",
       "      <th></th>\n",
       "      <th>customer_ID</th>\n",
       "      <th>S_2</th>\n",
       "      <th>P_2</th>\n",
       "      <th>D_39</th>\n",
       "      <th>B_1</th>\n",
       "      <th>B_2</th>\n",
       "      <th>R_1</th>\n",
       "      <th>S_3</th>\n",
       "      <th>D_41</th>\n",
       "      <th>B_3</th>\n",
       "      <th>...</th>\n",
       "      <th>D_137</th>\n",
       "      <th>D_138</th>\n",
       "      <th>D_139</th>\n",
       "      <th>D_140</th>\n",
       "      <th>D_141</th>\n",
       "      <th>D_142</th>\n",
       "      <th>D_143</th>\n",
       "      <th>D_144</th>\n",
       "      <th>D_145</th>\n",
       "      <th>target</th>\n",
       "    </tr>\n",
       "  </thead>\n",
       "  <tbody>\n",
       "    <tr>\n",
       "      <th>0</th>\n",
       "      <td>0000099d6bd597052cdcda90ffabf56573fe9d7c79be5f...</td>\n",
       "      <td>2017-03-09</td>\n",
       "      <td>0.938469</td>\n",
       "      <td>0.001733</td>\n",
       "      <td>0.008724</td>\n",
       "      <td>1.006838</td>\n",
       "      <td>0.009228</td>\n",
       "      <td>0.124035</td>\n",
       "      <td>0.008771</td>\n",
       "      <td>0.004709</td>\n",
       "      <td>...</td>\n",
       "      <td>NaN</td>\n",
       "      <td>NaN</td>\n",
       "      <td>0.002427</td>\n",
       "      <td>0.003706</td>\n",
       "      <td>0.003818</td>\n",
       "      <td>NaN</td>\n",
       "      <td>0.000569</td>\n",
       "      <td>0.000610</td>\n",
       "      <td>0.002674</td>\n",
       "      <td>0</td>\n",
       "    </tr>\n",
       "    <tr>\n",
       "      <th>1</th>\n",
       "      <td>0000099d6bd597052cdcda90ffabf56573fe9d7c79be5f...</td>\n",
       "      <td>2017-04-07</td>\n",
       "      <td>0.936665</td>\n",
       "      <td>0.005775</td>\n",
       "      <td>0.004923</td>\n",
       "      <td>1.000653</td>\n",
       "      <td>0.006151</td>\n",
       "      <td>0.126750</td>\n",
       "      <td>0.000798</td>\n",
       "      <td>0.002714</td>\n",
       "      <td>...</td>\n",
       "      <td>NaN</td>\n",
       "      <td>NaN</td>\n",
       "      <td>0.003954</td>\n",
       "      <td>0.003167</td>\n",
       "      <td>0.005032</td>\n",
       "      <td>NaN</td>\n",
       "      <td>0.009576</td>\n",
       "      <td>0.005492</td>\n",
       "      <td>0.009217</td>\n",
       "      <td>0</td>\n",
       "    </tr>\n",
       "    <tr>\n",
       "      <th>2</th>\n",
       "      <td>0000099d6bd597052cdcda90ffabf56573fe9d7c79be5f...</td>\n",
       "      <td>2017-05-28</td>\n",
       "      <td>0.954180</td>\n",
       "      <td>0.091505</td>\n",
       "      <td>0.021655</td>\n",
       "      <td>1.009672</td>\n",
       "      <td>0.006815</td>\n",
       "      <td>0.123977</td>\n",
       "      <td>0.007598</td>\n",
       "      <td>0.009423</td>\n",
       "      <td>...</td>\n",
       "      <td>NaN</td>\n",
       "      <td>NaN</td>\n",
       "      <td>0.003269</td>\n",
       "      <td>0.007329</td>\n",
       "      <td>0.000427</td>\n",
       "      <td>NaN</td>\n",
       "      <td>0.003429</td>\n",
       "      <td>0.006986</td>\n",
       "      <td>0.002603</td>\n",
       "      <td>0</td>\n",
       "    </tr>\n",
       "    <tr>\n",
       "      <th>3</th>\n",
       "      <td>0000099d6bd597052cdcda90ffabf56573fe9d7c79be5f...</td>\n",
       "      <td>2017-06-13</td>\n",
       "      <td>0.960384</td>\n",
       "      <td>0.002455</td>\n",
       "      <td>0.013683</td>\n",
       "      <td>1.002700</td>\n",
       "      <td>0.001373</td>\n",
       "      <td>0.117169</td>\n",
       "      <td>0.000685</td>\n",
       "      <td>0.005531</td>\n",
       "      <td>...</td>\n",
       "      <td>NaN</td>\n",
       "      <td>NaN</td>\n",
       "      <td>0.006117</td>\n",
       "      <td>0.004516</td>\n",
       "      <td>0.003200</td>\n",
       "      <td>NaN</td>\n",
       "      <td>0.008419</td>\n",
       "      <td>0.006527</td>\n",
       "      <td>0.009600</td>\n",
       "      <td>0</td>\n",
       "    </tr>\n",
       "    <tr>\n",
       "      <th>4</th>\n",
       "      <td>0000099d6bd597052cdcda90ffabf56573fe9d7c79be5f...</td>\n",
       "      <td>2017-07-16</td>\n",
       "      <td>0.947248</td>\n",
       "      <td>0.002483</td>\n",
       "      <td>0.015193</td>\n",
       "      <td>1.000727</td>\n",
       "      <td>0.007605</td>\n",
       "      <td>0.117325</td>\n",
       "      <td>0.004653</td>\n",
       "      <td>0.009312</td>\n",
       "      <td>...</td>\n",
       "      <td>NaN</td>\n",
       "      <td>NaN</td>\n",
       "      <td>0.003671</td>\n",
       "      <td>0.004946</td>\n",
       "      <td>0.008889</td>\n",
       "      <td>NaN</td>\n",
       "      <td>0.001670</td>\n",
       "      <td>0.008126</td>\n",
       "      <td>0.009827</td>\n",
       "      <td>0</td>\n",
       "    </tr>\n",
       "  </tbody>\n",
       "</table>\n",
       "<p>5 rows × 191 columns</p>\n",
       "</div>"
      ],
      "text/plain": [
       "                                         customer_ID         S_2       P_2  \\\n",
       "0  0000099d6bd597052cdcda90ffabf56573fe9d7c79be5f...  2017-03-09  0.938469   \n",
       "1  0000099d6bd597052cdcda90ffabf56573fe9d7c79be5f...  2017-04-07  0.936665   \n",
       "2  0000099d6bd597052cdcda90ffabf56573fe9d7c79be5f...  2017-05-28  0.954180   \n",
       "3  0000099d6bd597052cdcda90ffabf56573fe9d7c79be5f...  2017-06-13  0.960384   \n",
       "4  0000099d6bd597052cdcda90ffabf56573fe9d7c79be5f...  2017-07-16  0.947248   \n",
       "\n",
       "       D_39       B_1       B_2       R_1       S_3      D_41       B_3  ...  \\\n",
       "0  0.001733  0.008724  1.006838  0.009228  0.124035  0.008771  0.004709  ...   \n",
       "1  0.005775  0.004923  1.000653  0.006151  0.126750  0.000798  0.002714  ...   \n",
       "2  0.091505  0.021655  1.009672  0.006815  0.123977  0.007598  0.009423  ...   \n",
       "3  0.002455  0.013683  1.002700  0.001373  0.117169  0.000685  0.005531  ...   \n",
       "4  0.002483  0.015193  1.000727  0.007605  0.117325  0.004653  0.009312  ...   \n",
       "\n",
       "   D_137  D_138     D_139     D_140     D_141  D_142     D_143     D_144  \\\n",
       "0    NaN    NaN  0.002427  0.003706  0.003818    NaN  0.000569  0.000610   \n",
       "1    NaN    NaN  0.003954  0.003167  0.005032    NaN  0.009576  0.005492   \n",
       "2    NaN    NaN  0.003269  0.007329  0.000427    NaN  0.003429  0.006986   \n",
       "3    NaN    NaN  0.006117  0.004516  0.003200    NaN  0.008419  0.006527   \n",
       "4    NaN    NaN  0.003671  0.004946  0.008889    NaN  0.001670  0.008126   \n",
       "\n",
       "      D_145  target  \n",
       "0  0.002674       0  \n",
       "1  0.009217       0  \n",
       "2  0.002603       0  \n",
       "3  0.009600       0  \n",
       "4  0.009827       0  \n",
       "\n",
       "[5 rows x 191 columns]"
      ]
     },
     "execution_count": 3,
     "metadata": {},
     "output_type": "execute_result"
    }
   ],
   "source": [
    "df1.head()"
   ]
  },
  {
   "cell_type": "code",
   "execution_count": 4,
   "id": "cb7baf20",
   "metadata": {
    "execution": {
     "iopub.execute_input": "2022-08-24T19:37:34.787803Z",
     "iopub.status.busy": "2022-08-24T19:37:34.786580Z",
     "iopub.status.idle": "2022-08-24T19:37:35.158908Z",
     "shell.execute_reply": "2022-08-24T19:37:35.157676Z"
    },
    "papermill": {
     "duration": 0.383244,
     "end_time": "2022-08-24T19:37:35.161781",
     "exception": false,
     "start_time": "2022-08-24T19:37:34.778537",
     "status": "completed"
    },
    "tags": []
   },
   "outputs": [
    {
     "name": "stdout",
     "output_type": "stream",
     "text": [
      "float32    185\n",
      "object       4\n",
      "int64        2\n",
      "dtype: int64\n"
     ]
    },
    {
     "data": {
      "text/plain": [
       "['customer_ID', 'S_2', 'D_63', 'D_64']"
      ]
     },
     "execution_count": 4,
     "metadata": {},
     "output_type": "execute_result"
    }
   ],
   "source": [
    "#checking out data types\n",
    "print(df1.dtypes.value_counts())\n",
    "list(df1.select_dtypes(['object']).columns)"
   ]
  },
  {
   "cell_type": "code",
   "execution_count": 5,
   "id": "9b373e52",
   "metadata": {
    "execution": {
     "iopub.execute_input": "2022-08-24T19:37:35.179216Z",
     "iopub.status.busy": "2022-08-24T19:37:35.178822Z",
     "iopub.status.idle": "2022-08-24T19:37:35.184383Z",
     "shell.execute_reply": "2022-08-24T19:37:35.183026Z"
    },
    "papermill": {
     "duration": 0.017221,
     "end_time": "2022-08-24T19:37:35.186969",
     "exception": false,
     "start_time": "2022-08-24T19:37:35.169748",
     "status": "completed"
    },
    "tags": []
   },
   "outputs": [],
   "source": [
    "#visualizing columns\n",
    "\n",
    "#hist = df1.hist(bins=10, figsize = (40,200), layout=(-1,4) )"
   ]
  },
  {
   "cell_type": "code",
   "execution_count": 6,
   "id": "0fda799e",
   "metadata": {
    "execution": {
     "iopub.execute_input": "2022-08-24T19:37:35.204548Z",
     "iopub.status.busy": "2022-08-24T19:37:35.203465Z",
     "iopub.status.idle": "2022-08-24T19:37:42.799654Z",
     "shell.execute_reply": "2022-08-24T19:37:42.798368Z"
    },
    "papermill": {
     "duration": 7.607467,
     "end_time": "2022-08-24T19:37:42.802111",
     "exception": false,
     "start_time": "2022-08-24T19:37:35.194644",
     "status": "completed"
    },
    "tags": []
   },
   "outputs": [
    {
     "name": "stdout",
     "output_type": "stream",
     "text": [
      "191\n",
      "S_3 0.18\n",
      "D_42 0.86\n",
      "D_43 0.3\n",
      "D_46 0.22\n",
      "D_48 0.13\n",
      "D_49 0.9\n",
      "D_50 0.57\n",
      "D_53 0.74\n",
      "S_7 0.18\n",
      "D_56 0.54\n",
      "S_9 0.53\n",
      "D_61 0.11\n",
      "D_62 0.14\n",
      "B_17 0.57\n",
      "D_66 0.89\n",
      "D_73 0.99\n",
      "D_76 0.89\n",
      "D_77 0.45\n",
      "R_9 0.94\n",
      "D_82 0.73\n",
      "B_29 0.93\n",
      "D_87 1.0\n",
      "D_88 1.0\n",
      "D_105 0.55\n",
      "D_106 0.9\n",
      "R_26 0.89\n",
      "D_108 0.99\n",
      "D_110 0.99\n",
      "D_111 0.99\n",
      "B_39 0.99\n",
      "S_27 0.25\n",
      "B_42 0.99\n",
      "D_132 0.9\n",
      "D_134 0.96\n",
      "D_135 0.96\n",
      "D_136 0.96\n",
      "D_137 0.96\n",
      "D_138 0.96\n",
      "D_142 0.83\n",
      "152\n"
     ]
    }
   ],
   "source": [
    "print(df1.shape[1])\n",
    "#inspecting NaN\n",
    "for i in range(len(df1.columns)):\n",
    "    if (df1.iloc[:,i].isnull().sum()/len(df1) > 0.1):\n",
    "        print(df1.columns[i], round(df1.iloc[:,i].isnull().sum()/len(df1),2))\n",
    "\n",
    "#drop columns with high freq of NaN\n",
    "columns_to_drop = [column for column in df1.columns if df1[column].isnull().sum()/len(df1) >= 0.1]\n",
    "df1.drop(columns_to_drop, axis=1, inplace=True)\n",
    "print(df1.shape[1])"
   ]
  },
  {
   "cell_type": "code",
   "execution_count": 7,
   "id": "878b17bb",
   "metadata": {
    "execution": {
     "iopub.execute_input": "2022-08-24T19:37:42.819626Z",
     "iopub.status.busy": "2022-08-24T19:37:42.818590Z",
     "iopub.status.idle": "2022-08-24T19:38:07.927419Z",
     "shell.execute_reply": "2022-08-24T19:38:07.926170Z"
    },
    "papermill": {
     "duration": 25.121206,
     "end_time": "2022-08-24T19:38:07.931000",
     "exception": false,
     "start_time": "2022-08-24T19:37:42.809794",
     "status": "completed"
    },
    "tags": []
   },
   "outputs": [
    {
     "name": "stdout",
     "output_type": "stream",
     "text": [
      "(5531451, 152) (458913, 150)\n",
      "Columns left with NaN:\n"
     ]
    }
   ],
   "source": [
    "#using only most recent transaction from each customer\n",
    "temp = df1.shape\n",
    "df1=df1.set_index(['customer_ID'])\n",
    "df1=df1.ffill()\n",
    "df1=df1.bfill()\n",
    "df1=df1.reset_index()\n",
    "\n",
    "df1=df1.groupby('customer_ID').tail(1)\n",
    "df1=df1.set_index(['customer_ID'])\n",
    "\n",
    "#Drop date column since it is no longer useful\n",
    "df1.drop(['S_2'],axis=1,inplace=True)\n",
    "\n",
    "print(temp, df1.shape)\n",
    "\n",
    "#inspecting NaN\n",
    "print('Columns left with NaN:')\n",
    "for i in range(len(df1.columns)):\n",
    "    if (df1.iloc[:,i].isnull().sum()/len(df1) > 0):\n",
    "        print(df1.columns[i], round(df1.iloc[:,i].isnull().sum()/len(df1),2))"
   ]
  },
  {
   "cell_type": "code",
   "execution_count": 8,
   "id": "abe46719",
   "metadata": {
    "execution": {
     "iopub.execute_input": "2022-08-24T19:38:07.951216Z",
     "iopub.status.busy": "2022-08-24T19:38:07.950439Z",
     "iopub.status.idle": "2022-08-24T19:38:08.049094Z",
     "shell.execute_reply": "2022-08-24T19:38:08.048169Z"
    },
    "papermill": {
     "duration": 0.110904,
     "end_time": "2022-08-24T19:38:08.051818",
     "exception": false,
     "start_time": "2022-08-24T19:38:07.940914",
     "status": "completed"
    },
    "tags": []
   },
   "outputs": [],
   "source": [
    "df1.head()\n",
    "df1 = df1.drop(['target'], axis=1)\n",
    "keep = df1.columns"
   ]
  },
  {
   "cell_type": "code",
   "execution_count": 9,
   "id": "31d3edcd",
   "metadata": {
    "execution": {
     "iopub.execute_input": "2022-08-24T19:38:08.069882Z",
     "iopub.status.busy": "2022-08-24T19:38:08.068728Z",
     "iopub.status.idle": "2022-08-24T19:38:34.989109Z",
     "shell.execute_reply": "2022-08-24T19:38:34.987538Z"
    },
    "papermill": {
     "duration": 26.932294,
     "end_time": "2022-08-24T19:38:34.991925",
     "exception": false,
     "start_time": "2022-08-24T19:38:08.059631",
     "status": "completed"
    },
    "tags": []
   },
   "outputs": [
    {
     "name": "stdout",
     "output_type": "stream",
     "text": [
      "(458913, 149)\n",
      "(458913, 136)\n"
     ]
    },
    {
     "name": "stderr",
     "output_type": "stream",
     "text": [
      "/opt/conda/lib/python3.7/site-packages/ipykernel_launcher.py:6: DeprecationWarning: `np.bool` is a deprecated alias for the builtin `bool`. To silence this warning, use `bool` by itself. Doing this will not modify any behavior and is safe. If you specifically wanted the numpy scalar type, use `np.bool_` here.\n",
      "Deprecated in NumPy 1.20; for more details and guidance: https://numpy.org/devdocs/release/1.20.0-notes.html#deprecations\n",
      "  \n"
     ]
    }
   ],
   "source": [
    "print(df1.shape)\n",
    "# Create correlation matrix\n",
    "corr_matrix = df1.corr().abs()\n",
    "\n",
    "# Select upper triangle of correlation matrix\n",
    "upper = corr_matrix.where(np.triu(np.ones(corr_matrix.shape), k=1).astype(np.bool))\n",
    "\n",
    "# Find features with correlation greater than 0.9\n",
    "to_drop = [column for column in upper.columns if any(upper[column] > 0.9)]\n",
    "\n",
    "# Drop features w/ high correl\n",
    "df1.drop(to_drop, axis=1, inplace=True)\n",
    "\n",
    "print(df1.shape)\n"
   ]
  },
  {
   "cell_type": "code",
   "execution_count": 10,
   "id": "8475bcc8",
   "metadata": {
    "execution": {
     "iopub.execute_input": "2022-08-24T19:38:35.009848Z",
     "iopub.status.busy": "2022-08-24T19:38:35.009070Z",
     "iopub.status.idle": "2022-08-24T19:38:35.843860Z",
     "shell.execute_reply": "2022-08-24T19:38:35.842556Z"
    },
    "papermill": {
     "duration": 0.846357,
     "end_time": "2022-08-24T19:38:35.846406",
     "exception": false,
     "start_time": "2022-08-24T19:38:35.000049",
     "status": "completed"
    },
    "tags": []
   },
   "outputs": [
    {
     "data": {
      "text/plain": [
       "53"
      ]
     },
     "execution_count": 10,
     "metadata": {},
     "output_type": "execute_result"
    }
   ],
   "source": [
    "#Removing low variance columns in interest of ram\n",
    "from sklearn.feature_selection import VarianceThreshold\n",
    "from itertools import compress\n",
    "\n",
    "temp = df1.drop(['D_63', 'D_64'], axis=1)\n",
    "\n",
    "# Initialize and fit the method\n",
    "vt = VarianceThreshold(threshold = float(0.1))\n",
    "vt.fit(temp)\n",
    "\n",
    "#columns with sufficient variance\n",
    "keep = list(compress(temp.columns, vt.get_support()))\n",
    "\n",
    "keep.append('D_63')\n",
    "keep.append('D_64')\n",
    "\n",
    "df1=df1[keep]\n",
    "\n",
    "keep.append('customer_ID')\n",
    "keep.append('S_2')\n",
    "len(keep)\n"
   ]
  },
  {
   "cell_type": "code",
   "execution_count": 11,
   "id": "72f6e2f7",
   "metadata": {
    "execution": {
     "iopub.execute_input": "2022-08-24T19:38:35.864713Z",
     "iopub.status.busy": "2022-08-24T19:38:35.863476Z",
     "iopub.status.idle": "2022-08-24T19:38:35.870907Z",
     "shell.execute_reply": "2022-08-24T19:38:35.869953Z"
    },
    "papermill": {
     "duration": 0.019028,
     "end_time": "2022-08-24T19:38:35.873252",
     "exception": false,
     "start_time": "2022-08-24T19:38:35.854224",
     "status": "completed"
    },
    "tags": []
   },
   "outputs": [
    {
     "data": {
      "text/plain": [
       "'\"\\n#removing outliers\\nprint(df1.shape)\\n\\ndf1 = df1[df1[\\'R_6\\'] < df1[\\'R_6\\'].quantile(0.97)]\\nprint(df1[\\'R_6\\'].max())\\nprint(df1.shape)'"
      ]
     },
     "execution_count": 11,
     "metadata": {},
     "output_type": "execute_result"
    }
   ],
   "source": [
    "\"\"\"\"\n",
    "#removing outliers\n",
    "print(df1.shape)\n",
    "\n",
    "df1 = df1[df1['R_6'] < df1['R_6'].quantile(0.97)]\n",
    "print(df1['R_6'].max())\n",
    "print(df1.shape)\"\"\""
   ]
  },
  {
   "cell_type": "code",
   "execution_count": 12,
   "id": "21290180",
   "metadata": {
    "execution": {
     "iopub.execute_input": "2022-08-24T19:38:35.893018Z",
     "iopub.status.busy": "2022-08-24T19:38:35.892234Z",
     "iopub.status.idle": "2022-08-24T19:38:35.899281Z",
     "shell.execute_reply": "2022-08-24T19:38:35.898272Z"
    },
    "papermill": {
     "duration": 0.019238,
     "end_time": "2022-08-24T19:38:35.901518",
     "exception": false,
     "start_time": "2022-08-24T19:38:35.882280",
     "status": "completed"
    },
    "tags": []
   },
   "outputs": [
    {
     "data": {
      "text/plain": [
       "\"#df1.iloc[:100000,7].value_counts()\\nprint(df1.iloc[:,1].head())\\n\\n\\n#What type of variable for dates\\ndf1['S_2'] = pd.to_datetime(df1['S_2'])\\ndf1['S_2'] = pd.to_numeric(df1['S_2'])\\n\\n#normalizing\\n#df1['S_2'] = (df1['S_2']-df1['S_2'].min())/(df1['S_2'].max() - df1['S_2'].min())\\nprint(df1['S_2'].head())\\n\\ndf1['S_2'] = pd.to_timedelta(df1['S_2'])\\nprint(df1.iloc[:,1].dt.total_seconds())\\n\""
      ]
     },
     "execution_count": 12,
     "metadata": {},
     "output_type": "execute_result"
    }
   ],
   "source": [
    "\"\"\"#df1.iloc[:100000,7].value_counts()\n",
    "print(df1.iloc[:,1].head())\n",
    "\n",
    "\n",
    "#What type of variable for dates\n",
    "df1['S_2'] = pd.to_datetime(df1['S_2'])\n",
    "df1['S_2'] = pd.to_numeric(df1['S_2'])\n",
    "\n",
    "#normalizing\n",
    "#df1['S_2'] = (df1['S_2']-df1['S_2'].min())/(df1['S_2'].max() - df1['S_2'].min())\n",
    "print(df1['S_2'].head())\n",
    "\n",
    "df1['S_2'] = pd.to_timedelta(df1['S_2'])\n",
    "print(df1.iloc[:,1].dt.total_seconds())\n",
    "\"\"\""
   ]
  },
  {
   "cell_type": "code",
   "execution_count": 13,
   "id": "65e100fc",
   "metadata": {
    "execution": {
     "iopub.execute_input": "2022-08-24T19:38:35.919868Z",
     "iopub.status.busy": "2022-08-24T19:38:35.919098Z",
     "iopub.status.idle": "2022-08-24T19:38:36.238019Z",
     "shell.execute_reply": "2022-08-24T19:38:36.236712Z"
    },
    "papermill": {
     "duration": 0.331227,
     "end_time": "2022-08-24T19:38:36.240804",
     "exception": false,
     "start_time": "2022-08-24T19:38:35.909577",
     "status": "completed"
    },
    "tags": []
   },
   "outputs": [
    {
     "name": "stdout",
     "output_type": "stream",
     "text": [
      "(458913, 59)\n",
      "Index(['D_39', 'B_2', 'B_5', 'B_6', 'B_8', 'B_10', 'S_5', 'S_6', 'B_12', 'R_5',\n",
      "       'D_60', 'D_65', 'B_16', 'B_18', 'B_20', 'D_68', 'R_6', 'B_21', 'D_69',\n",
      "       'D_71', 'P_4', 'B_24', 'R_7', 'B_26', 'D_78', 'R_8', 'S_16', 'R_10',\n",
      "       'D_81', 'R_14', 'D_84', 'B_30', 'R_20', 'S_22', 'S_23', 'S_26', 'D_103',\n",
      "       'R_27', 'B_38', 'D_112', 'B_40', 'D_114', 'D_117', 'D_120', 'D_126',\n",
      "       'D_128', 'D_129', 'D_130', 'D_139', 'D_63_CL', 'D_63_CO', 'D_63_CR',\n",
      "       'D_63_XL', 'D_63_XM', 'D_63_XZ', 'D_64_-1', 'D_64_O', 'D_64_R',\n",
      "       'D_64_U'],\n",
      "      dtype='object')\n",
      "1865\n",
      "(458913, 58)\n"
     ]
    }
   ],
   "source": [
    "#Hot ones\n",
    "df1 = pd.get_dummies(df1)\n",
    "print(df1.shape)\n",
    "print(df1.columns)\n",
    "print(df1['D_64_-1'].sum())\n",
    "df1.drop(['D_64_-1'], axis=1, inplace = True)\n",
    "print(df1.shape)"
   ]
  },
  {
   "cell_type": "code",
   "execution_count": 14,
   "id": "d872e08e",
   "metadata": {
    "execution": {
     "iopub.execute_input": "2022-08-24T19:38:36.260006Z",
     "iopub.status.busy": "2022-08-24T19:38:36.259414Z",
     "iopub.status.idle": "2022-08-24T19:38:36.263543Z",
     "shell.execute_reply": "2022-08-24T19:38:36.262747Z"
    },
    "papermill": {
     "duration": 0.016002,
     "end_time": "2022-08-24T19:38:36.265656",
     "exception": false,
     "start_time": "2022-08-24T19:38:36.249654",
     "status": "completed"
    },
    "tags": []
   },
   "outputs": [],
   "source": [
    "#Handling missing values\n",
    "#my_imputer = SimpleImputer()\n",
    "#df1.iloc[:,:] = my_imputer.fit_transform(df1.iloc[:,:])"
   ]
  },
  {
   "cell_type": "code",
   "execution_count": 15,
   "id": "d464c859",
   "metadata": {
    "execution": {
     "iopub.execute_input": "2022-08-24T19:38:36.284572Z",
     "iopub.status.busy": "2022-08-24T19:38:36.283864Z",
     "iopub.status.idle": "2022-08-24T19:38:47.229729Z",
     "shell.execute_reply": "2022-08-24T19:38:47.228539Z"
    },
    "papermill": {
     "duration": 10.961927,
     "end_time": "2022-08-24T19:38:47.235890",
     "exception": false,
     "start_time": "2022-08-24T19:38:36.273963",
     "status": "completed"
    },
    "tags": []
   },
   "outputs": [
    {
     "name": "stdout",
     "output_type": "stream",
     "text": [
      "half\n"
     ]
    },
    {
     "name": "stderr",
     "output_type": "stream",
     "text": [
      "/opt/conda/lib/python3.7/site-packages/sklearn/utils/validation.py:993: DataConversionWarning: A column-vector y was passed when a 1d array was expected. Please change the shape of y to (n_samples, ), for example using ravel().\n",
      "  y = column_or_1d(y, warn=True)\n",
      "/opt/conda/lib/python3.7/site-packages/sklearn/linear_model/_logistic.py:818: ConvergenceWarning: lbfgs failed to converge (status=1):\n",
      "STOP: TOTAL NO. of ITERATIONS REACHED LIMIT.\n",
      "\n",
      "Increase the number of iterations (max_iter) or scale the data as shown in:\n",
      "    https://scikit-learn.org/stable/modules/preprocessing.html\n",
      "Please also refer to the documentation for alternative solver options:\n",
      "    https://scikit-learn.org/stable/modules/linear_model.html#logistic-regression\n",
      "  extra_warning_msg=_LOGISTIC_SOLVER_CONVERGENCE_MSG,\n"
     ]
    },
    {
     "name": "stdout",
     "output_type": "stream",
     "text": [
      "[0 0 0 ... 0 0 0] 105414\n",
      "0.8716052933780477\n"
     ]
    }
   ],
   "source": [
    "X = df1.iloc[:, :].values.reshape(-1, len(df1.columns))\n",
    "Y = df_label.iloc[:len(df1), 1].values.reshape(-1, 1)\n",
    "print('half')\n",
    "# create object for the class\n",
    "log = LogisticRegression()\n",
    "log.fit(X, Y) \n",
    "Y_pred = log.predict(X)\n",
    "\n",
    "print(Y_pred, np.sum(Y_pred))\n",
    "print(log.score(X, Y))"
   ]
  },
  {
   "cell_type": "code",
   "execution_count": 16,
   "id": "cd705f1b",
   "metadata": {
    "execution": {
     "iopub.execute_input": "2022-08-24T19:38:47.266083Z",
     "iopub.status.busy": "2022-08-24T19:38:47.265643Z",
     "iopub.status.idle": "2022-08-24T19:38:48.117649Z",
     "shell.execute_reply": "2022-08-24T19:38:48.116534Z"
    },
    "papermill": {
     "duration": 0.864502,
     "end_time": "2022-08-24T19:38:48.120385",
     "exception": false,
     "start_time": "2022-08-24T19:38:47.255883",
     "status": "completed"
    },
    "tags": []
   },
   "outputs": [
    {
     "name": "stdout",
     "output_type": "stream",
     "text": [
      "Accuracy: 0.872\n",
      "0.8143602452597325\n"
     ]
    },
    {
     "data": {
      "image/png": "[encoded data removed]",
      "text/plain": [
       "<Figure size 648x648 with 2 Axes>"
      ]
     },
     "metadata": {
      "needs_background": "light"
     },
     "output_type": "display_data"
    }
   ],
   "source": [
    "cm = metrics.confusion_matrix(Y, Y_pred)\n",
    "\n",
    "plt.figure(figsize=(9,9))\n",
    "sns.heatmap(cm, annot=True, fmt=\".3f\", linewidths=.5, square = True, cmap = 'YlGnBu');\n",
    "plt.ylabel('Actual label');\n",
    "plt.xlabel('Predicted label');\n",
    "all_sample_title = 'Accuracy Score: {0}'.format(round(log.score(X, Y),3))\n",
    "plt.title(all_sample_title, size = 15);\n",
    "\n",
    "print('Accuracy:',round(metrics.accuracy_score(Y, Y_pred),3))\n",
    "metrics.roc_curve(Y, Y_pred)\n",
    "print(metrics.roc_auc_score(Y, Y_pred))"
   ]
  },
  {
   "cell_type": "code",
   "execution_count": 17,
   "id": "f6b23d5e",
   "metadata": {
    "execution": {
     "iopub.execute_input": "2022-08-24T19:38:48.141000Z",
     "iopub.status.busy": "2022-08-24T19:38:48.139921Z",
     "iopub.status.idle": "2022-08-24T19:38:48.279131Z",
     "shell.execute_reply": "2022-08-24T19:38:48.277982Z"
    },
    "papermill": {
     "duration": 0.151606,
     "end_time": "2022-08-24T19:38:48.281464",
     "exception": false,
     "start_time": "2022-08-24T19:38:48.129858",
     "status": "completed"
    },
    "tags": []
   },
   "outputs": [
    {
     "data": {
      "text/plain": [
       "4905"
      ]
     },
     "execution_count": 17,
     "metadata": {},
     "output_type": "execute_result"
    }
   ],
   "source": [
    "#free up ram\n",
    "del df1, df_label, cm\n",
    "gc.collect()"
   ]
  },
  {
   "cell_type": "code",
   "execution_count": 18,
   "id": "703f3e79",
   "metadata": {
    "execution": {
     "iopub.execute_input": "2022-08-24T19:38:48.302018Z",
     "iopub.status.busy": "2022-08-24T19:38:48.301598Z",
     "iopub.status.idle": "2022-08-24T19:39:11.222568Z",
     "shell.execute_reply": "2022-08-24T19:39:11.220800Z"
    },
    "papermill": {
     "duration": 22.935498,
     "end_time": "2022-08-24T19:39:11.226243",
     "exception": false,
     "start_time": "2022-08-24T19:38:48.290745",
     "status": "completed"
    },
    "tags": []
   },
   "outputs": [
    {
     "name": "stdout",
     "output_type": "stream",
     "text": [
      "53\n",
      "(11363762, 53)\n"
     ]
    }
   ],
   "source": [
    "#run prediction on test data\n",
    "\n",
    "print(len(keep))\n",
    "#need to only load some columns due to ram limitations\n",
    "df2=pd.read_parquet('/kaggle/input/amex-parquet/test_data.parquet', columns =keep)\n",
    "print(df2.shape)\n",
    "\n",
    "\n"
   ]
  },
  {
   "cell_type": "code",
   "execution_count": 19,
   "id": "4b17be1b",
   "metadata": {
    "execution": {
     "iopub.execute_input": "2022-08-24T19:39:11.246958Z",
     "iopub.status.busy": "2022-08-24T19:39:11.246490Z",
     "iopub.status.idle": "2022-08-24T19:39:11.251550Z",
     "shell.execute_reply": "2022-08-24T19:39:11.250336Z"
    },
    "papermill": {
     "duration": 0.017939,
     "end_time": "2022-08-24T19:39:11.253879",
     "exception": false,
     "start_time": "2022-08-24T19:39:11.235940",
     "status": "completed"
    },
    "tags": []
   },
   "outputs": [],
   "source": [
    "#Handling missing values via imputation\n",
    "#df2.iloc[:,:] = my_imputer.fit_transform(df2.iloc[:,:])"
   ]
  },
  {
   "cell_type": "code",
   "execution_count": 20,
   "id": "6beff750",
   "metadata": {
    "execution": {
     "iopub.execute_input": "2022-08-24T19:39:11.273978Z",
     "iopub.status.busy": "2022-08-24T19:39:11.273276Z",
     "iopub.status.idle": "2022-08-24T19:39:18.404287Z",
     "shell.execute_reply": "2022-08-24T19:39:18.403039Z"
    },
    "papermill": {
     "duration": 7.14426,
     "end_time": "2022-08-24T19:39:18.407306",
     "exception": false,
     "start_time": "2022-08-24T19:39:11.263046",
     "status": "completed"
    },
    "tags": []
   },
   "outputs": [
    {
     "name": "stdout",
     "output_type": "stream",
     "text": [
      "(11363762, 53) (924621, 51)\n",
      "Columns left with NaN:\n"
     ]
    }
   ],
   "source": [
    "#using only most recent transaction from each customer\n",
    "#Does this make sense for test data??\n",
    "temp = df2.shape\n",
    "df2=df2.set_index(['customer_ID'])\n",
    "df2=df2.ffill()\n",
    "df2=df2.bfill()\n",
    "df2=df2.reset_index()\n",
    "\n",
    "df2=df2.groupby('customer_ID').tail(1)\n",
    "df2=df2.set_index(['customer_ID'])\n",
    "\n",
    "#Drop date column since it is no longer useful\n",
    "df2.drop(['S_2'],axis=1,inplace=True)\n",
    "\n",
    "print(temp, df2.shape)\n",
    "\n",
    "#inspecting NaN\n",
    "print('Columns left with NaN:')\n",
    "for i in range(len(df2.columns)):\n",
    "    if (df2.iloc[:,i].isnull().sum()/len(df2) > 0):\n",
    "        print(df2.columns[i], round(df2.iloc[:,i].isnull().sum()/len(df2),2))"
   ]
  },
  {
   "cell_type": "code",
   "execution_count": 21,
   "id": "c85a0406",
   "metadata": {
    "execution": {
     "iopub.execute_input": "2022-08-24T19:39:18.427957Z",
     "iopub.status.busy": "2022-08-24T19:39:18.427510Z",
     "iopub.status.idle": "2022-08-24T19:39:19.075231Z",
     "shell.execute_reply": "2022-08-24T19:39:19.074278Z"
    },
    "papermill": {
     "duration": 0.662214,
     "end_time": "2022-08-24T19:39:19.078885",
     "exception": false,
     "start_time": "2022-08-24T19:39:18.416671",
     "status": "completed"
    },
    "tags": []
   },
   "outputs": [
    {
     "name": "stdout",
     "output_type": "stream",
     "text": [
      "(924621, 58)\n",
      "Index(['D_39', 'B_2', 'B_5', 'B_6', 'B_8', 'B_10', 'S_5', 'S_6', 'B_12', 'R_5',\n",
      "       'D_60', 'D_65', 'B_16', 'B_18', 'B_20', 'D_68', 'R_6', 'B_21', 'D_69',\n",
      "       'D_71', 'P_4', 'B_24', 'R_7', 'B_26', 'D_78', 'R_8', 'S_16', 'R_10',\n",
      "       'D_81', 'R_14', 'D_84', 'B_30', 'R_20', 'S_22', 'S_23', 'S_26', 'D_103',\n",
      "       'R_27', 'B_38', 'D_112', 'B_40', 'D_114', 'D_117', 'D_120', 'D_126',\n",
      "       'D_128', 'D_129', 'D_130', 'D_139', 'D_63_CL', 'D_63_CO', 'D_63_CR',\n",
      "       'D_63_XL', 'D_63_XM', 'D_63_XZ', 'D_64_O', 'D_64_R', 'D_64_U'],\n",
      "      dtype='object')\n"
     ]
    }
   ],
   "source": [
    "#hot ones\n",
    "df2 = pd.get_dummies(df2)\n",
    "print(df2.shape)\n",
    "print(df2.columns)"
   ]
  },
  {
   "cell_type": "code",
   "execution_count": 22,
   "id": "c5a26d05",
   "metadata": {
    "execution": {
     "iopub.execute_input": "2022-08-24T19:39:19.101065Z",
     "iopub.status.busy": "2022-08-24T19:39:19.100365Z",
     "iopub.status.idle": "2022-08-24T19:39:19.125249Z",
     "shell.execute_reply": "2022-08-24T19:39:19.123832Z"
    },
    "papermill": {
     "duration": 0.039011,
     "end_time": "2022-08-24T19:39:19.128272",
     "exception": false,
     "start_time": "2022-08-24T19:39:19.089261",
     "status": "completed"
    },
    "tags": []
   },
   "outputs": [
    {
     "data": {
      "text/html": [
       "<div>\n",
       "<style scoped>\n",
       "    .dataframe tbody tr th:only-of-type {\n",
       "        vertical-align: middle;\n",
       "    }\n",
       "\n",
       "    .dataframe tbody tr th {\n",
       "        vertical-align: top;\n",
       "    }\n",
       "\n",
       "    .dataframe thead th {\n",
       "        text-align: right;\n",
       "    }\n",
       "</style>\n",
       "<table border=\"1\" class=\"dataframe\">\n",
       "  <thead>\n",
       "    <tr style=\"text-align: right;\">\n",
       "      <th></th>\n",
       "      <th>D_39</th>\n",
       "      <th>B_2</th>\n",
       "      <th>B_5</th>\n",
       "      <th>B_6</th>\n",
       "      <th>B_8</th>\n",
       "      <th>B_10</th>\n",
       "      <th>S_5</th>\n",
       "      <th>S_6</th>\n",
       "      <th>B_12</th>\n",
       "      <th>R_5</th>\n",
       "      <th>...</th>\n",
       "      <th>D_139</th>\n",
       "      <th>D_63_CL</th>\n",
       "      <th>D_63_CO</th>\n",
       "      <th>D_63_CR</th>\n",
       "      <th>D_63_XL</th>\n",
       "      <th>D_63_XM</th>\n",
       "      <th>D_63_XZ</th>\n",
       "      <th>D_64_O</th>\n",
       "      <th>D_64_R</th>\n",
       "      <th>D_64_U</th>\n",
       "    </tr>\n",
       "    <tr>\n",
       "      <th>customer_ID</th>\n",
       "      <th></th>\n",
       "      <th></th>\n",
       "      <th></th>\n",
       "      <th></th>\n",
       "      <th></th>\n",
       "      <th></th>\n",
       "      <th></th>\n",
       "      <th></th>\n",
       "      <th></th>\n",
       "      <th></th>\n",
       "      <th></th>\n",
       "      <th></th>\n",
       "      <th></th>\n",
       "      <th></th>\n",
       "      <th></th>\n",
       "      <th></th>\n",
       "      <th></th>\n",
       "      <th></th>\n",
       "      <th></th>\n",
       "      <th></th>\n",
       "      <th></th>\n",
       "    </tr>\n",
       "  </thead>\n",
       "  <tbody>\n",
       "    <tr>\n",
       "      <th>00000469ba478561f23a92a868bd366de6f6527a684c9a2e78fb826dcac3b9b7</th>\n",
       "      <td>0.121385</td>\n",
       "      <td>1.009347</td>\n",
       "      <td>0.050187</td>\n",
       "      <td>0.024945</td>\n",
       "      <td>1.008730</td>\n",
       "      <td>0.033599</td>\n",
       "      <td>0.011795</td>\n",
       "      <td>0.003473</td>\n",
       "      <td>0.058696</td>\n",
       "      <td>0.005444</td>\n",
       "      <td>...</td>\n",
       "      <td>0.005912</td>\n",
       "      <td>0</td>\n",
       "      <td>0</td>\n",
       "      <td>1</td>\n",
       "      <td>0</td>\n",
       "      <td>0</td>\n",
       "      <td>0</td>\n",
       "      <td>0</td>\n",
       "      <td>0</td>\n",
       "      <td>1</td>\n",
       "    </tr>\n",
       "    <tr>\n",
       "      <th>00001bf2e77ff879fab36aa4fac689b9ba411dae63ae397d4263dafa1daedef5</th>\n",
       "      <td>0.126475</td>\n",
       "      <td>1.009245</td>\n",
       "      <td>0.135907</td>\n",
       "      <td>0.182720</td>\n",
       "      <td>1.008640</td>\n",
       "      <td>0.298735</td>\n",
       "      <td>0.009336</td>\n",
       "      <td>0.005253</td>\n",
       "      <td>0.054184</td>\n",
       "      <td>0.004132</td>\n",
       "      <td>...</td>\n",
       "      <td>0.004344</td>\n",
       "      <td>0</td>\n",
       "      <td>1</td>\n",
       "      <td>0</td>\n",
       "      <td>0</td>\n",
       "      <td>0</td>\n",
       "      <td>0</td>\n",
       "      <td>1</td>\n",
       "      <td>0</td>\n",
       "      <td>0</td>\n",
       "    </tr>\n",
       "    <tr>\n",
       "      <th>0000210045da4f81e5f122c6bde5c2a617d03eef67f82c5e400fc98e7bd43ce8</th>\n",
       "      <td>0.002724</td>\n",
       "      <td>0.810072</td>\n",
       "      <td>0.004851</td>\n",
       "      <td>0.058534</td>\n",
       "      <td>1.009375</td>\n",
       "      <td>0.129189</td>\n",
       "      <td>0.004455</td>\n",
       "      <td>0.001847</td>\n",
       "      <td>0.052914</td>\n",
       "      <td>0.006620</td>\n",
       "      <td>...</td>\n",
       "      <td>1.001246</td>\n",
       "      <td>0</td>\n",
       "      <td>0</td>\n",
       "      <td>1</td>\n",
       "      <td>0</td>\n",
       "      <td>0</td>\n",
       "      <td>0</td>\n",
       "      <td>0</td>\n",
       "      <td>0</td>\n",
       "      <td>1</td>\n",
       "    </tr>\n",
       "    <tr>\n",
       "      <th>00003b41e58ede33b8daf61ab56d9952f17c9ad1c3976cf6e56734528702d694</th>\n",
       "      <td>0.324828</td>\n",
       "      <td>0.205678</td>\n",
       "      <td>0.022947</td>\n",
       "      <td>0.023546</td>\n",
       "      <td>0.009775</td>\n",
       "      <td>0.032124</td>\n",
       "      <td>0.320184</td>\n",
       "      <td>0.008872</td>\n",
       "      <td>0.098741</td>\n",
       "      <td>0.002603</td>\n",
       "      <td>...</td>\n",
       "      <td>1.008246</td>\n",
       "      <td>1</td>\n",
       "      <td>0</td>\n",
       "      <td>0</td>\n",
       "      <td>0</td>\n",
       "      <td>0</td>\n",
       "      <td>0</td>\n",
       "      <td>0</td>\n",
       "      <td>1</td>\n",
       "      <td>0</td>\n",
       "    </tr>\n",
       "    <tr>\n",
       "      <th>00004b22eaeeeb0ec976890c1d9bfc14fd9427e98c4ee9a4693dd914fca22557</th>\n",
       "      <td>0.768016</td>\n",
       "      <td>0.038021</td>\n",
       "      <td>0.011126</td>\n",
       "      <td>0.011244</td>\n",
       "      <td>1.006200</td>\n",
       "      <td>0.022026</td>\n",
       "      <td>0.064127</td>\n",
       "      <td>0.009401</td>\n",
       "      <td>0.016391</td>\n",
       "      <td>0.004384</td>\n",
       "      <td>...</td>\n",
       "      <td>0.006623</td>\n",
       "      <td>0</td>\n",
       "      <td>1</td>\n",
       "      <td>0</td>\n",
       "      <td>0</td>\n",
       "      <td>0</td>\n",
       "      <td>0</td>\n",
       "      <td>0</td>\n",
       "      <td>1</td>\n",
       "      <td>0</td>\n",
       "    </tr>\n",
       "  </tbody>\n",
       "</table>\n",
       "<p>5 rows × 58 columns</p>\n",
       "</div>"
      ],
      "text/plain": [
       "                                                        D_39       B_2  \\\n",
       "customer_ID                                                              \n",
       "00000469ba478561f23a92a868bd366de6f6527a684c9a2...  0.121385  1.009347   \n",
       "00001bf2e77ff879fab36aa4fac689b9ba411dae63ae397...  0.126475  1.009245   \n",
       "0000210045da4f81e5f122c6bde5c2a617d03eef67f82c5...  0.002724  0.810072   \n",
       "00003b41e58ede33b8daf61ab56d9952f17c9ad1c3976cf...  0.324828  0.205678   \n",
       "00004b22eaeeeb0ec976890c1d9bfc14fd9427e98c4ee9a...  0.768016  0.038021   \n",
       "\n",
       "                                                         B_5       B_6  \\\n",
       "customer_ID                                                              \n",
       "00000469ba478561f23a92a868bd366de6f6527a684c9a2...  0.050187  0.024945   \n",
       "00001bf2e77ff879fab36aa4fac689b9ba411dae63ae397...  0.135907  0.182720   \n",
       "0000210045da4f81e5f122c6bde5c2a617d03eef67f82c5...  0.004851  0.058534   \n",
       "00003b41e58ede33b8daf61ab56d9952f17c9ad1c3976cf...  0.022947  0.023546   \n",
       "00004b22eaeeeb0ec976890c1d9bfc14fd9427e98c4ee9a...  0.011126  0.011244   \n",
       "\n",
       "                                                         B_8      B_10  \\\n",
       "customer_ID                                                              \n",
       "00000469ba478561f23a92a868bd366de6f6527a684c9a2...  1.008730  0.033599   \n",
       "00001bf2e77ff879fab36aa4fac689b9ba411dae63ae397...  1.008640  0.298735   \n",
       "0000210045da4f81e5f122c6bde5c2a617d03eef67f82c5...  1.009375  0.129189   \n",
       "00003b41e58ede33b8daf61ab56d9952f17c9ad1c3976cf...  0.009775  0.032124   \n",
       "00004b22eaeeeb0ec976890c1d9bfc14fd9427e98c4ee9a...  1.006200  0.022026   \n",
       "\n",
       "                                                         S_5       S_6  \\\n",
       "customer_ID                                                              \n",
       "00000469ba478561f23a92a868bd366de6f6527a684c9a2...  0.011795  0.003473   \n",
       "00001bf2e77ff879fab36aa4fac689b9ba411dae63ae397...  0.009336  0.005253   \n",
       "0000210045da4f81e5f122c6bde5c2a617d03eef67f82c5...  0.004455  0.001847   \n",
       "00003b41e58ede33b8daf61ab56d9952f17c9ad1c3976cf...  0.320184  0.008872   \n",
       "00004b22eaeeeb0ec976890c1d9bfc14fd9427e98c4ee9a...  0.064127  0.009401   \n",
       "\n",
       "                                                        B_12       R_5  ...  \\\n",
       "customer_ID                                                             ...   \n",
       "00000469ba478561f23a92a868bd366de6f6527a684c9a2...  0.058696  0.005444  ...   \n",
       "00001bf2e77ff879fab36aa4fac689b9ba411dae63ae397...  0.054184  0.004132  ...   \n",
       "0000210045da4f81e5f122c6bde5c2a617d03eef67f82c5...  0.052914  0.006620  ...   \n",
       "00003b41e58ede33b8daf61ab56d9952f17c9ad1c3976cf...  0.098741  0.002603  ...   \n",
       "00004b22eaeeeb0ec976890c1d9bfc14fd9427e98c4ee9a...  0.016391  0.004384  ...   \n",
       "\n",
       "                                                       D_139  D_63_CL  \\\n",
       "customer_ID                                                             \n",
       "00000469ba478561f23a92a868bd366de6f6527a684c9a2...  0.005912        0   \n",
       "00001bf2e77ff879fab36aa4fac689b9ba411dae63ae397...  0.004344        0   \n",
       "0000210045da4f81e5f122c6bde5c2a617d03eef67f82c5...  1.001246        0   \n",
       "00003b41e58ede33b8daf61ab56d9952f17c9ad1c3976cf...  1.008246        1   \n",
       "00004b22eaeeeb0ec976890c1d9bfc14fd9427e98c4ee9a...  0.006623        0   \n",
       "\n",
       "                                                    D_63_CO  D_63_CR  D_63_XL  \\\n",
       "customer_ID                                                                     \n",
       "00000469ba478561f23a92a868bd366de6f6527a684c9a2...        0        1        0   \n",
       "00001bf2e77ff879fab36aa4fac689b9ba411dae63ae397...        1        0        0   \n",
       "0000210045da4f81e5f122c6bde5c2a617d03eef67f82c5...        0        1        0   \n",
       "00003b41e58ede33b8daf61ab56d9952f17c9ad1c3976cf...        0        0        0   \n",
       "00004b22eaeeeb0ec976890c1d9bfc14fd9427e98c4ee9a...        1        0        0   \n",
       "\n",
       "                                                    D_63_XM  D_63_XZ  D_64_O  \\\n",
       "customer_ID                                                                    \n",
       "00000469ba478561f23a92a868bd366de6f6527a684c9a2...        0        0       0   \n",
       "00001bf2e77ff879fab36aa4fac689b9ba411dae63ae397...        0        0       1   \n",
       "0000210045da4f81e5f122c6bde5c2a617d03eef67f82c5...        0        0       0   \n",
       "00003b41e58ede33b8daf61ab56d9952f17c9ad1c3976cf...        0        0       0   \n",
       "00004b22eaeeeb0ec976890c1d9bfc14fd9427e98c4ee9a...        0        0       0   \n",
       "\n",
       "                                                    D_64_R  D_64_U  \n",
       "customer_ID                                                         \n",
       "00000469ba478561f23a92a868bd366de6f6527a684c9a2...       0       1  \n",
       "00001bf2e77ff879fab36aa4fac689b9ba411dae63ae397...       0       0  \n",
       "0000210045da4f81e5f122c6bde5c2a617d03eef67f82c5...       0       1  \n",
       "00003b41e58ede33b8daf61ab56d9952f17c9ad1c3976cf...       1       0  \n",
       "00004b22eaeeeb0ec976890c1d9bfc14fd9427e98c4ee9a...       1       0  \n",
       "\n",
       "[5 rows x 58 columns]"
      ]
     },
     "execution_count": 22,
     "metadata": {},
     "output_type": "execute_result"
    }
   ],
   "source": [
    "df2.head()"
   ]
  },
  {
   "cell_type": "code",
   "execution_count": 23,
   "id": "e1e46776",
   "metadata": {
    "execution": {
     "iopub.execute_input": "2022-08-24T19:39:19.150333Z",
     "iopub.status.busy": "2022-08-24T19:39:19.149920Z",
     "iopub.status.idle": "2022-08-24T19:39:22.041977Z",
     "shell.execute_reply": "2022-08-24T19:39:22.040468Z"
    },
    "papermill": {
     "duration": 2.906172,
     "end_time": "2022-08-24T19:39:22.044714",
     "exception": false,
     "start_time": "2022-08-24T19:39:19.138542",
     "status": "completed"
    },
    "tags": []
   },
   "outputs": [
    {
     "name": "stdout",
     "output_type": "stream",
     "text": [
      "[0 0 0 ... 0 1 0]\n",
      "[0 0 0 ... 0 1 0] 218876\n"
     ]
    }
   ],
   "source": [
    "X = df2.iloc[:, :].values.reshape(-1, len(df2.columns))\n",
    "\n",
    "Y_pred2 = log.predict(X)\n",
    "print(Y_pred2)\n",
    "\n",
    "df2 = df2.reset_index()\n",
    "\n",
    "final = pd.DataFrame({\"customer_ID\":df2.customer_ID,\"prediction\":Y_pred2})\n",
    "\n",
    "final.to_csv('submission.csv', index=False)\n",
    "print(Y_pred2, np.sum(Y_pred2))"
   ]
  },
  {
   "cell_type": "code",
   "execution_count": 24,
   "id": "15f07d8f",
   "metadata": {
    "execution": {
     "iopub.execute_input": "2022-08-24T19:39:22.067639Z",
     "iopub.status.busy": "2022-08-24T19:39:22.067227Z",
     "iopub.status.idle": "2022-08-24T19:39:24.478455Z",
     "shell.execute_reply": "2022-08-24T19:39:24.476525Z"
    },
    "papermill": {
     "duration": 2.426226,
     "end_time": "2022-08-24T19:39:24.481153",
     "exception": false,
     "start_time": "2022-08-24T19:39:22.054927",
     "status": "completed"
    },
    "tags": []
   },
   "outputs": [
    {
     "name": "stdout",
     "output_type": "stream",
     "text": [
      "                                              customer_ID  prediction\n",
      "0       00000469ba478561f23a92a868bd366de6f6527a684c9a...           0\n",
      "1       00001bf2e77ff879fab36aa4fac689b9ba411dae63ae39...           0\n",
      "2       0000210045da4f81e5f122c6bde5c2a617d03eef67f82c...           0\n",
      "3       00003b41e58ede33b8daf61ab56d9952f17c9ad1c3976c...           0\n",
      "4       00004b22eaeeeb0ec976890c1d9bfc14fd9427e98c4ee9...           1\n",
      "...                                                   ...         ...\n",
      "924616  ffff952c631f2c911b8a2a8ca56ea6e656309a83d2f64c...           0\n",
      "924617  ffffcf5df59e5e0bba2a5ac4578a34e2b5aa64a1546cd3...           0\n",
      "924618  ffffd61f098cc056dbd7d2a21380c4804bbfe60856f475...           0\n",
      "924619  ffffddef1fc3643ea179c93245b68dca0f36941cd83977...           1\n",
      "924620  fffffa7cf7e453e1acc6a1426475d5cb9400859f82ff61...           0\n",
      "\n",
      "[924621 rows x 2 columns]\n"
     ]
    }
   ],
   "source": [
    "final.to_csv('submission.csv', index=False)\n",
    "print(final)"
   ]
  }
 ],
 "metadata": {
  "kernelspec": {
   "display_name": "Python 3",
   "language": "python",
   "name": "python3"
  },
  "language_info": {
   "codemirror_mode": {
    "name": "ipython",
    "version": 3
   },
   "file_extension": ".py",
   "mimetype": "text/x-python",
   "name": "python",
   "nbconvert_exporter": "python",
   "pygments_lexer": "ipython3",
   "version": "3.7.12"
  },
  "papermill": {
   "default_parameters": {},
   "duration": 163.50709,
   "end_time": "2022-08-24T19:39:25.919148",
   "environment_variables": {},
   "exception": null,
   "input_path": "__notebook__.ipynb",
   "output_path": "__notebook__.ipynb",
   "parameters": {},
   "start_time": "2022-08-24T19:36:42.412058",
   "version": "2.3.4"
  }
 },
 "nbformat": 4,
 "nbformat_minor": 5
}
