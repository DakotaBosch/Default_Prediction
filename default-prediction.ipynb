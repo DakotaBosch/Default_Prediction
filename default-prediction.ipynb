{
 "cells": [
  {
   "cell_type": "code",
   "execution_count": 1,
   "id": "b4f64742",
   "metadata": {
    "_cell_guid": "b1076dfc-b9ad-4769-8c92-a6c4dae69d19",
    "_uuid": "8f2839f25d086af736a60e9eeb907d3b93b6e0e5",
    "execution": {
     "iopub.execute_input": "2022-08-25T01:12:30.946484Z",
     "iopub.status.busy": "2022-08-25T01:12:30.945960Z",
     "iopub.status.idle": "2022-08-25T01:12:32.517609Z",
     "shell.execute_reply": "2022-08-25T01:12:32.516338Z"
    },
    "papermill": {
     "duration": 1.586864,
     "end_time": "2022-08-25T01:12:32.521239",
     "exception": false,
     "start_time": "2022-08-25T01:12:30.934375",
     "status": "completed"
    },
    "tags": []
   },
   "outputs": [
    {
     "name": "stdout",
     "output_type": "stream",
     "text": [
      "/kaggle/input/amex-default-prediction/sample_submission.csv\n",
      "/kaggle/input/amex-default-prediction/train_data.csv\n",
      "/kaggle/input/amex-default-prediction/test_data.csv\n",
      "/kaggle/input/amex-default-prediction/train_labels.csv\n",
      "/kaggle/input/amex-parquet/test_data.parquet\n",
      "/kaggle/input/amex-parquet/train_data.parquet\n"
     ]
    }
   ],
   "source": [
    "import numpy as np # linear algebra\n",
    "import pandas as pd # data processing, CSV file I/O (e.g. pd.read_csv)\n",
    "import matplotlib.pyplot as plt\n",
    "import seaborn as sns\n",
    "from sklearn.linear_model import LogisticRegression\n",
    "from sklearn.impute import SimpleImputer\n",
    "from sklearn import metrics\n",
    "import gc\n",
    "\n",
    "# Input data files are available in the read-only \"../input/\" directory\n",
    "# For example, running this (by clicking run or pressing Shift+Enter) will list all files under the input directory\n",
    "\n",
    "import os\n",
    "for dirname, _, filenames in os.walk('/kaggle/input'):\n",
    "    for filename in filenames:\n",
    "        print(os.path.join(dirname, filename))\n",
    "\n",
    "# You can write up to 20GB to the current directory (/kaggle/working/) that gets preserved as output when you create a version using \"Save & Run All\" \n",
    "# You can also write temporary files to /kaggle/temp/, but they won't be saved outside of the current session"
   ]
  },
  {
   "cell_type": "code",
   "execution_count": 2,
   "id": "c445742b",
   "metadata": {
    "execution": {
     "iopub.execute_input": "2022-08-25T01:12:32.541363Z",
     "iopub.status.busy": "2022-08-25T01:12:32.540181Z",
     "iopub.status.idle": "2022-08-25T01:13:10.656901Z",
     "shell.execute_reply": "2022-08-25T01:13:10.655617Z"
    },
    "papermill": {
     "duration": 38.137581,
     "end_time": "2022-08-25T01:13:10.667507",
     "exception": false,
     "start_time": "2022-08-25T01:12:32.529926",
     "status": "completed"
    },
    "tags": []
   },
   "outputs": [
    {
     "data": {
      "text/html": [
       "<div>\n",
       "<style scoped>\n",
       "    .dataframe tbody tr th:only-of-type {\n",
       "        vertical-align: middle;\n",
       "    }\n",
       "\n",
       "    .dataframe tbody tr th {\n",
       "        vertical-align: top;\n",
       "    }\n",
       "\n",
       "    .dataframe thead th {\n",
       "        text-align: right;\n",
       "    }\n",
       "</style>\n",
       "<table border=\"1\" class=\"dataframe\">\n",
       "  <thead>\n",
       "    <tr style=\"text-align: right;\">\n",
       "      <th></th>\n",
       "      <th>customer_ID</th>\n",
       "      <th>target</th>\n",
       "    </tr>\n",
       "  </thead>\n",
       "  <tbody>\n",
       "    <tr>\n",
       "      <th>0</th>\n",
       "      <td>0000099d6bd597052cdcda90ffabf56573fe9d7c79be5f...</td>\n",
       "      <td>0</td>\n",
       "    </tr>\n",
       "    <tr>\n",
       "      <th>1</th>\n",
       "      <td>00000fd6641609c6ece5454664794f0340ad84dddce9a2...</td>\n",
       "      <td>0</td>\n",
       "    </tr>\n",
       "    <tr>\n",
       "      <th>2</th>\n",
       "      <td>00001b22f846c82c51f6e3958ccd81970162bae8b007e8...</td>\n",
       "      <td>0</td>\n",
       "    </tr>\n",
       "    <tr>\n",
       "      <th>3</th>\n",
       "      <td>000041bdba6ecadd89a52d11886e8eaaec9325906c9723...</td>\n",
       "      <td>0</td>\n",
       "    </tr>\n",
       "    <tr>\n",
       "      <th>4</th>\n",
       "      <td>00007889e4fcd2614b6cbe7f8f3d2e5c728eca32d9eb8a...</td>\n",
       "      <td>0</td>\n",
       "    </tr>\n",
       "  </tbody>\n",
       "</table>\n",
       "</div>"
      ],
      "text/plain": [
       "                                         customer_ID  target\n",
       "0  0000099d6bd597052cdcda90ffabf56573fe9d7c79be5f...       0\n",
       "1  00000fd6641609c6ece5454664794f0340ad84dddce9a2...       0\n",
       "2  00001b22f846c82c51f6e3958ccd81970162bae8b007e8...       0\n",
       "3  000041bdba6ecadd89a52d11886e8eaaec9325906c9723...       0\n",
       "4  00007889e4fcd2614b6cbe7f8f3d2e5c728eca32d9eb8a...       0"
      ]
     },
     "execution_count": 2,
     "metadata": {},
     "output_type": "execute_result"
    }
   ],
   "source": [
    "df1=pd.read_parquet('/kaggle/input/amex-parquet/train_data.parquet')\n",
    "df1.head()\n",
    "df1.shape\n",
    "df_label = pd.read_csv('/kaggle/input/amex-default-prediction/train_labels.csv')\n",
    "df_label.head()"
   ]
  },
  {
   "cell_type": "code",
   "execution_count": 3,
   "id": "15ee10ca",
   "metadata": {
    "execution": {
     "iopub.execute_input": "2022-08-25T01:13:10.689892Z",
     "iopub.status.busy": "2022-08-25T01:13:10.689256Z",
     "iopub.status.idle": "2022-08-25T01:13:10.722564Z",
     "shell.execute_reply": "2022-08-25T01:13:10.721074Z"
    },
    "papermill": {
     "duration": 0.048672,
     "end_time": "2022-08-25T01:13:10.725490",
     "exception": false,
     "start_time": "2022-08-25T01:13:10.676818",
     "status": "completed"
    },
    "tags": []
   },
   "outputs": [
    {
     "data": {
      "text/html": [
       "<div>\n",
       "<style scoped>\n",
       "    .dataframe tbody tr th:only-of-type {\n",
       "        vertical-align: middle;\n",
       "    }\n",
       "\n",
       "    .dataframe tbody tr th {\n",
       "        vertical-align: top;\n",
       "    }\n",
       "\n",
       "    .dataframe thead th {\n",
       "        text-align: right;\n",
       "    }\n",
       "</style>\n",
       "<table border=\"1\" class=\"dataframe\">\n",
       "  <thead>\n",
       "    <tr style=\"text-align: right;\">\n",
       "      <th></th>\n",
       "      <th>customer_ID</th>\n",
       "      <th>S_2</th>\n",
       "      <th>P_2</th>\n",
       "      <th>D_39</th>\n",
       "      <th>B_1</th>\n",
       "      <th>B_2</th>\n",
       "      <th>R_1</th>\n",
       "      <th>S_3</th>\n",
       "      <th>D_41</th>\n",
       "      <th>B_3</th>\n",
       "      <th>...</th>\n",
       "      <th>D_137</th>\n",
       "      <th>D_138</th>\n",
       "      <th>D_139</th>\n",
       "      <th>D_140</th>\n",
       "      <th>D_141</th>\n",
       "      <th>D_142</th>\n",
       "      <th>D_143</th>\n",
       "      <th>D_144</th>\n",
       "      <th>D_145</th>\n",
       "      <th>target</th>\n",
       "    </tr>\n",
       "  </thead>\n",
       "  <tbody>\n",
       "    <tr>\n",
       "      <th>0</th>\n",
       "      <td>0000099d6bd597052cdcda90ffabf56573fe9d7c79be5f...</td>\n",
       "      <td>2017-03-09</td>\n",
       "      <td>0.938469</td>\n",
       "      <td>0.001733</td>\n",
       "      <td>0.008724</td>\n",
       "      <td>1.006838</td>\n",
       "      <td>0.009228</td>\n",
       "      <td>0.124035</td>\n",
       "      <td>0.008771</td>\n",
       "      <td>0.004709</td>\n",
       "      <td>...</td>\n",
       "      <td>NaN</td>\n",
       "      <td>NaN</td>\n",
       "      <td>0.002427</td>\n",
       "      <td>0.003706</td>\n",
       "      <td>0.003818</td>\n",
       "      <td>NaN</td>\n",
       "      <td>0.000569</td>\n",
       "      <td>0.000610</td>\n",
       "      <td>0.002674</td>\n",
       "      <td>0</td>\n",
       "    </tr>\n",
       "    <tr>\n",
       "      <th>1</th>\n",
       "      <td>0000099d6bd597052cdcda90ffabf56573fe9d7c79be5f...</td>\n",
       "      <td>2017-04-07</td>\n",
       "      <td>0.936665</td>\n",
       "      <td>0.005775</td>\n",
       "      <td>0.004923</td>\n",
       "      <td>1.000653</td>\n",
       "      <td>0.006151</td>\n",
       "      <td>0.126750</td>\n",
       "      <td>0.000798</td>\n",
       "      <td>0.002714</td>\n",
       "      <td>...</td>\n",
       "      <td>NaN</td>\n",
       "      <td>NaN</td>\n",
       "      <td>0.003954</td>\n",
       "      <td>0.003167</td>\n",
       "      <td>0.005032</td>\n",
       "      <td>NaN</td>\n",
       "      <td>0.009576</td>\n",
       "      <td>0.005492</td>\n",
       "      <td>0.009217</td>\n",
       "      <td>0</td>\n",
       "    </tr>\n",
       "    <tr>\n",
       "      <th>2</th>\n",
       "      <td>0000099d6bd597052cdcda90ffabf56573fe9d7c79be5f...</td>\n",
       "      <td>2017-05-28</td>\n",
       "      <td>0.954180</td>\n",
       "      <td>0.091505</td>\n",
       "      <td>0.021655</td>\n",
       "      <td>1.009672</td>\n",
       "      <td>0.006815</td>\n",
       "      <td>0.123977</td>\n",
       "      <td>0.007598</td>\n",
       "      <td>0.009423</td>\n",
       "      <td>...</td>\n",
       "      <td>NaN</td>\n",
       "      <td>NaN</td>\n",
       "      <td>0.003269</td>\n",
       "      <td>0.007329</td>\n",
       "      <td>0.000427</td>\n",
       "      <td>NaN</td>\n",
       "      <td>0.003429</td>\n",
       "      <td>0.006986</td>\n",
       "      <td>0.002603</td>\n",
       "      <td>0</td>\n",
       "    </tr>\n",
       "    <tr>\n",
       "      <th>3</th>\n",
       "      <td>0000099d6bd597052cdcda90ffabf56573fe9d7c79be5f...</td>\n",
       "      <td>2017-06-13</td>\n",
       "      <td>0.960384</td>\n",
       "      <td>0.002455</td>\n",
       "      <td>0.013683</td>\n",
       "      <td>1.002700</td>\n",
       "      <td>0.001373</td>\n",
       "      <td>0.117169</td>\n",
       "      <td>0.000685</td>\n",
       "      <td>0.005531</td>\n",
       "      <td>...</td>\n",
       "      <td>NaN</td>\n",
       "      <td>NaN</td>\n",
       "      <td>0.006117</td>\n",
       "      <td>0.004516</td>\n",
       "      <td>0.003200</td>\n",
       "      <td>NaN</td>\n",
       "      <td>0.008419</td>\n",
       "      <td>0.006527</td>\n",
       "      <td>0.009600</td>\n",
       "      <td>0</td>\n",
       "    </tr>\n",
       "    <tr>\n",
       "      <th>4</th>\n",
       "      <td>0000099d6bd597052cdcda90ffabf56573fe9d7c79be5f...</td>\n",
       "      <td>2017-07-16</td>\n",
       "      <td>0.947248</td>\n",
       "      <td>0.002483</td>\n",
       "      <td>0.015193</td>\n",
       "      <td>1.000727</td>\n",
       "      <td>0.007605</td>\n",
       "      <td>0.117325</td>\n",
       "      <td>0.004653</td>\n",
       "      <td>0.009312</td>\n",
       "      <td>...</td>\n",
       "      <td>NaN</td>\n",
       "      <td>NaN</td>\n",
       "      <td>0.003671</td>\n",
       "      <td>0.004946</td>\n",
       "      <td>0.008889</td>\n",
       "      <td>NaN</td>\n",
       "      <td>0.001670</td>\n",
       "      <td>0.008126</td>\n",
       "      <td>0.009827</td>\n",
       "      <td>0</td>\n",
       "    </tr>\n",
       "  </tbody>\n",
       "</table>\n",
       "<p>5 rows × 191 columns</p>\n",
       "</div>"
      ],
      "text/plain": [
       "                                         customer_ID         S_2       P_2  \\\n",
       "0  0000099d6bd597052cdcda90ffabf56573fe9d7c79be5f...  2017-03-09  0.938469   \n",
       "1  0000099d6bd597052cdcda90ffabf56573fe9d7c79be5f...  2017-04-07  0.936665   \n",
       "2  0000099d6bd597052cdcda90ffabf56573fe9d7c79be5f...  2017-05-28  0.954180   \n",
       "3  0000099d6bd597052cdcda90ffabf56573fe9d7c79be5f...  2017-06-13  0.960384   \n",
       "4  0000099d6bd597052cdcda90ffabf56573fe9d7c79be5f...  2017-07-16  0.947248   \n",
       "\n",
       "       D_39       B_1       B_2       R_1       S_3      D_41       B_3  ...  \\\n",
       "0  0.001733  0.008724  1.006838  0.009228  0.124035  0.008771  0.004709  ...   \n",
       "1  0.005775  0.004923  1.000653  0.006151  0.126750  0.000798  0.002714  ...   \n",
       "2  0.091505  0.021655  1.009672  0.006815  0.123977  0.007598  0.009423  ...   \n",
       "3  0.002455  0.013683  1.002700  0.001373  0.117169  0.000685  0.005531  ...   \n",
       "4  0.002483  0.015193  1.000727  0.007605  0.117325  0.004653  0.009312  ...   \n",
       "\n",
       "   D_137  D_138     D_139     D_140     D_141  D_142     D_143     D_144  \\\n",
       "0    NaN    NaN  0.002427  0.003706  0.003818    NaN  0.000569  0.000610   \n",
       "1    NaN    NaN  0.003954  0.003167  0.005032    NaN  0.009576  0.005492   \n",
       "2    NaN    NaN  0.003269  0.007329  0.000427    NaN  0.003429  0.006986   \n",
       "3    NaN    NaN  0.006117  0.004516  0.003200    NaN  0.008419  0.006527   \n",
       "4    NaN    NaN  0.003671  0.004946  0.008889    NaN  0.001670  0.008126   \n",
       "\n",
       "      D_145  target  \n",
       "0  0.002674       0  \n",
       "1  0.009217       0  \n",
       "2  0.002603       0  \n",
       "3  0.009600       0  \n",
       "4  0.009827       0  \n",
       "\n",
       "[5 rows x 191 columns]"
      ]
     },
     "execution_count": 3,
     "metadata": {},
     "output_type": "execute_result"
    }
   ],
   "source": [
    "df1.head()"
   ]
  },
  {
   "cell_type": "code",
   "execution_count": 4,
   "id": "87df2f03",
   "metadata": {
    "execution": {
     "iopub.execute_input": "2022-08-25T01:13:10.746081Z",
     "iopub.status.busy": "2022-08-25T01:13:10.745041Z",
     "iopub.status.idle": "2022-08-25T01:13:11.113722Z",
     "shell.execute_reply": "2022-08-25T01:13:11.112288Z"
    },
    "papermill": {
     "duration": 0.382368,
     "end_time": "2022-08-25T01:13:11.116913",
     "exception": false,
     "start_time": "2022-08-25T01:13:10.734545",
     "status": "completed"
    },
    "tags": []
   },
   "outputs": [
    {
     "name": "stdout",
     "output_type": "stream",
     "text": [
      "float32    185\n",
      "object       4\n",
      "int64        2\n",
      "dtype: int64\n"
     ]
    },
    {
     "data": {
      "text/plain": [
       "['customer_ID', 'S_2', 'D_63', 'D_64']"
      ]
     },
     "execution_count": 4,
     "metadata": {},
     "output_type": "execute_result"
    }
   ],
   "source": [
    "#checking out data types\n",
    "print(df1.dtypes.value_counts())\n",
    "list(df1.select_dtypes(['object']).columns)"
   ]
  },
  {
   "cell_type": "code",
   "execution_count": 5,
   "id": "dedd7204",
   "metadata": {
    "execution": {
     "iopub.execute_input": "2022-08-25T01:13:11.144801Z",
     "iopub.status.busy": "2022-08-25T01:13:11.143304Z",
     "iopub.status.idle": "2022-08-25T01:13:11.149768Z",
     "shell.execute_reply": "2022-08-25T01:13:11.148431Z"
    },
    "papermill": {
     "duration": 0.025212,
     "end_time": "2022-08-25T01:13:11.152330",
     "exception": false,
     "start_time": "2022-08-25T01:13:11.127118",
     "status": "completed"
    },
    "tags": []
   },
   "outputs": [],
   "source": [
    "#visualizing columns\n",
    "\n",
    "#hist = df1.hist(bins=10, figsize = (40,200), layout=(-1,4) )"
   ]
  },
  {
   "cell_type": "code",
   "execution_count": 6,
   "id": "87c204a9",
   "metadata": {
    "execution": {
     "iopub.execute_input": "2022-08-25T01:13:11.173822Z",
     "iopub.status.busy": "2022-08-25T01:13:11.172720Z",
     "iopub.status.idle": "2022-08-25T01:13:18.755918Z",
     "shell.execute_reply": "2022-08-25T01:13:18.754065Z"
    },
    "papermill": {
     "duration": 7.597887,
     "end_time": "2022-08-25T01:13:18.759448",
     "exception": false,
     "start_time": "2022-08-25T01:13:11.161561",
     "status": "completed"
    },
    "tags": []
   },
   "outputs": [
    {
     "name": "stdout",
     "output_type": "stream",
     "text": [
      "191\n",
      "S_3 0.18\n",
      "D_42 0.86\n",
      "D_43 0.3\n",
      "D_46 0.22\n",
      "D_48 0.13\n",
      "D_49 0.9\n",
      "D_50 0.57\n",
      "D_53 0.74\n",
      "S_7 0.18\n",
      "D_56 0.54\n",
      "S_9 0.53\n",
      "D_61 0.11\n",
      "D_62 0.14\n",
      "B_17 0.57\n",
      "D_66 0.89\n",
      "D_73 0.99\n",
      "D_76 0.89\n",
      "D_77 0.45\n",
      "R_9 0.94\n",
      "D_82 0.73\n",
      "B_29 0.93\n",
      "D_87 1.0\n",
      "D_88 1.0\n",
      "D_105 0.55\n",
      "D_106 0.9\n",
      "R_26 0.89\n",
      "D_108 0.99\n",
      "D_110 0.99\n",
      "D_111 0.99\n",
      "B_39 0.99\n",
      "S_27 0.25\n",
      "B_42 0.99\n",
      "D_132 0.9\n",
      "D_134 0.96\n",
      "D_135 0.96\n",
      "D_136 0.96\n",
      "D_137 0.96\n",
      "D_138 0.96\n",
      "D_142 0.83\n",
      "5531451\n"
     ]
    }
   ],
   "source": [
    "print(df1.shape[1])\n",
    "#inspecting NaN\n",
    "for i in range(len(df1.columns)):\n",
    "    if (df1.iloc[:,i].isnull().sum()/len(df1) > 0.1):\n",
    "        print(df1.columns[i], round(df1.iloc[:,i].isnull().sum()/len(df1),2))\n",
    "\n",
    "#drop columns with high freq of NaN\n",
    "columns_to_drop = [column for column in df1.columns if df1[column].isnull().sum()/len(df1) >= 0.9]\n",
    "df1.drop(columns_to_drop, axis=1, inplace=True)\n",
    "\n",
    "print(len(df1))"
   ]
  },
  {
   "cell_type": "code",
   "execution_count": 7,
   "id": "3052f201",
   "metadata": {
    "execution": {
     "iopub.execute_input": "2022-08-25T01:13:18.780962Z",
     "iopub.status.busy": "2022-08-25T01:13:18.780551Z",
     "iopub.status.idle": "2022-08-25T01:13:18.787881Z",
     "shell.execute_reply": "2022-08-25T01:13:18.786682Z"
    },
    "papermill": {
     "duration": 0.020633,
     "end_time": "2022-08-25T01:13:18.790407",
     "exception": false,
     "start_time": "2022-08-25T01:13:18.769774",
     "status": "completed"
    },
    "tags": []
   },
   "outputs": [
    {
     "data": {
      "text/plain": [
       "5531451"
      ]
     },
     "execution_count": 7,
     "metadata": {},
     "output_type": "execute_result"
    }
   ],
   "source": [
    "len(df1)"
   ]
  },
  {
   "cell_type": "code",
   "execution_count": 8,
   "id": "5040c549",
   "metadata": {
    "execution": {
     "iopub.execute_input": "2022-08-25T01:13:18.812224Z",
     "iopub.status.busy": "2022-08-25T01:13:18.811780Z",
     "iopub.status.idle": "2022-08-25T01:13:43.816870Z",
     "shell.execute_reply": "2022-08-25T01:13:43.815642Z"
    },
    "papermill": {
     "duration": 25.019197,
     "end_time": "2022-08-25T01:13:43.819778",
     "exception": false,
     "start_time": "2022-08-25T01:13:18.800581",
     "status": "completed"
    },
    "tags": []
   },
   "outputs": [
    {
     "name": "stdout",
     "output_type": "stream",
     "text": [
      "(5531451, 173) (458913, 171)\n",
      "Columns left with NaN:\n"
     ]
    }
   ],
   "source": [
    "#using only most recent transaction from each customer\n",
    "temp = df1.shape\n",
    "df1=df1.set_index(['customer_ID'])\n",
    "df1=df1.ffill()\n",
    "df1=df1.bfill()\n",
    "df1=df1.reset_index()\n",
    "\n",
    "df1=df1.groupby('customer_ID').tail(1)\n",
    "df1=df1.set_index(['customer_ID'])\n",
    "\n",
    "#Drop date column since it is no longer useful\n",
    "df1.drop(['S_2'],axis=1,inplace=True)\n",
    "\n",
    "print(temp, df1.shape)\n",
    "\n",
    "#inspecting NaN\n",
    "print('Columns left with NaN:')\n",
    "for i in range(len(df1.columns)):\n",
    "    if (df1.iloc[:,i].isnull().sum()/len(df1) > 0):\n",
    "        print(df1.columns[i], round(df1.iloc[:,i].isnull().sum()/len(df1),2))"
   ]
  },
  {
   "cell_type": "code",
   "execution_count": 9,
   "id": "49856e6d",
   "metadata": {
    "execution": {
     "iopub.execute_input": "2022-08-25T01:13:43.842358Z",
     "iopub.status.busy": "2022-08-25T01:13:43.841888Z",
     "iopub.status.idle": "2022-08-25T01:13:43.957064Z",
     "shell.execute_reply": "2022-08-25T01:13:43.955705Z"
    },
    "papermill": {
     "duration": 0.129253,
     "end_time": "2022-08-25T01:13:43.959941",
     "exception": false,
     "start_time": "2022-08-25T01:13:43.830688",
     "status": "completed"
    },
    "tags": []
   },
   "outputs": [],
   "source": [
    "df1.head()\n",
    "df1 = df1.drop(['target'], axis=1)\n",
    "keep = df1.columns"
   ]
  },
  {
   "cell_type": "code",
   "execution_count": 10,
   "id": "5e512378",
   "metadata": {
    "execution": {
     "iopub.execute_input": "2022-08-25T01:13:43.981256Z",
     "iopub.status.busy": "2022-08-25T01:13:43.980844Z",
     "iopub.status.idle": "2022-08-25T01:14:19.190418Z",
     "shell.execute_reply": "2022-08-25T01:14:19.189178Z"
    },
    "papermill": {
     "duration": 35.234277,
     "end_time": "2022-08-25T01:14:19.203966",
     "exception": false,
     "start_time": "2022-08-25T01:13:43.969689",
     "status": "completed"
    },
    "tags": []
   },
   "outputs": [
    {
     "name": "stdout",
     "output_type": "stream",
     "text": [
      "(458913, 170)\n",
      "(458913, 156)\n"
     ]
    },
    {
     "name": "stderr",
     "output_type": "stream",
     "text": [
      "/opt/conda/lib/python3.7/site-packages/ipykernel_launcher.py:6: DeprecationWarning: `np.bool` is a deprecated alias for the builtin `bool`. To silence this warning, use `bool` by itself. Doing this will not modify any behavior and is safe. If you specifically wanted the numpy scalar type, use `np.bool_` here.\n",
      "Deprecated in NumPy 1.20; for more details and guidance: https://numpy.org/devdocs/release/1.20.0-notes.html#deprecations\n",
      "  \n"
     ]
    }
   ],
   "source": [
    "print(df1.shape)\n",
    "# Create correlation matrix\n",
    "corr_matrix = df1.corr().abs()\n",
    "\n",
    "# Select upper triangle of correlation matrix\n",
    "upper = corr_matrix.where(np.triu(np.ones(corr_matrix.shape), k=1).astype(np.bool))\n",
    "\n",
    "# Find features with correlation greater than 0.9\n",
    "to_drop = [column for column in upper.columns if any(upper[column] > 0.9)]\n",
    "\n",
    "# Drop features w/ high correl\n",
    "df1.drop(to_drop, axis=1, inplace=True)\n",
    "\n",
    "print(df1.shape)\n"
   ]
  },
  {
   "cell_type": "code",
   "execution_count": 11,
   "id": "f08f7752",
   "metadata": {
    "execution": {
     "iopub.execute_input": "2022-08-25T01:14:19.226324Z",
     "iopub.status.busy": "2022-08-25T01:14:19.225206Z",
     "iopub.status.idle": "2022-08-25T01:14:20.223437Z",
     "shell.execute_reply": "2022-08-25T01:14:20.222312Z"
    },
    "papermill": {
     "duration": 1.01213,
     "end_time": "2022-08-25T01:14:20.226121",
     "exception": false,
     "start_time": "2022-08-25T01:14:19.213991",
     "status": "completed"
    },
    "tags": []
   },
   "outputs": [
    {
     "data": {
      "text/plain": [
       "58"
      ]
     },
     "execution_count": 11,
     "metadata": {},
     "output_type": "execute_result"
    }
   ],
   "source": [
    "#Removing low variance columns in interest of ram\n",
    "from sklearn.feature_selection import VarianceThreshold\n",
    "from itertools import compress\n",
    "\n",
    "temp = df1.drop(['D_63', 'D_64'], axis=1)\n",
    "\n",
    "# Initialize and fit the method\n",
    "vt = VarianceThreshold(threshold = float(0.1))\n",
    "vt.fit(temp)\n",
    "\n",
    "#columns with sufficient variance\n",
    "keep = list(compress(temp.columns, vt.get_support()))\n",
    "\n",
    "keep.append('D_63')\n",
    "keep.append('D_64')\n",
    "\n",
    "df1=df1[keep]\n",
    "\n",
    "keep.append('customer_ID')\n",
    "keep.append('S_2')\n",
    "len(keep)"
   ]
  },
  {
   "cell_type": "code",
   "execution_count": 12,
   "id": "674e0a75",
   "metadata": {
    "execution": {
     "iopub.execute_input": "2022-08-25T01:14:20.248167Z",
     "iopub.status.busy": "2022-08-25T01:14:20.247711Z",
     "iopub.status.idle": "2022-08-25T01:14:20.254218Z",
     "shell.execute_reply": "2022-08-25T01:14:20.253083Z"
    },
    "papermill": {
     "duration": 0.020629,
     "end_time": "2022-08-25T01:14:20.256815",
     "exception": false,
     "start_time": "2022-08-25T01:14:20.236186",
     "status": "completed"
    },
    "tags": []
   },
   "outputs": [
    {
     "data": {
      "text/plain": [
       "'\"\\n#removing outliers\\nprint(df1.shape)\\n\\ndf1 = df1[df1[\\'R_6\\'] < df1[\\'R_6\\'].quantile(0.97)]\\nprint(df1[\\'R_6\\'].max())\\nprint(df1.shape)'"
      ]
     },
     "execution_count": 12,
     "metadata": {},
     "output_type": "execute_result"
    }
   ],
   "source": [
    "\"\"\"\"\n",
    "#removing outliers\n",
    "print(df1.shape)\n",
    "\n",
    "df1 = df1[df1['R_6'] < df1['R_6'].quantile(0.97)]\n",
    "print(df1['R_6'].max())\n",
    "print(df1.shape)\"\"\""
   ]
  },
  {
   "cell_type": "code",
   "execution_count": 13,
   "id": "361148c8",
   "metadata": {
    "execution": {
     "iopub.execute_input": "2022-08-25T01:14:20.279203Z",
     "iopub.status.busy": "2022-08-25T01:14:20.278707Z",
     "iopub.status.idle": "2022-08-25T01:14:20.285378Z",
     "shell.execute_reply": "2022-08-25T01:14:20.284060Z"
    },
    "papermill": {
     "duration": 0.0208,
     "end_time": "2022-08-25T01:14:20.287825",
     "exception": false,
     "start_time": "2022-08-25T01:14:20.267025",
     "status": "completed"
    },
    "tags": []
   },
   "outputs": [
    {
     "data": {
      "text/plain": [
       "\"#df1.iloc[:100000,7].value_counts()\\nprint(df1.iloc[:,1].head())\\n\\n\\n#What type of variable for dates\\ndf1['S_2'] = pd.to_datetime(df1['S_2'])\\ndf1['S_2'] = pd.to_numeric(df1['S_2'])\\n\\n#normalizing\\n#df1['S_2'] = (df1['S_2']-df1['S_2'].min())/(df1['S_2'].max() - df1['S_2'].min())\\nprint(df1['S_2'].head())\\n\\ndf1['S_2'] = pd.to_timedelta(df1['S_2'])\\nprint(df1.iloc[:,1].dt.total_seconds())\\n\""
      ]
     },
     "execution_count": 13,
     "metadata": {},
     "output_type": "execute_result"
    }
   ],
   "source": [
    "\"\"\"#df1.iloc[:100000,7].value_counts()\n",
    "print(df1.iloc[:,1].head())\n",
    "\n",
    "\n",
    "#What type of variable for dates\n",
    "df1['S_2'] = pd.to_datetime(df1['S_2'])\n",
    "df1['S_2'] = pd.to_numeric(df1['S_2'])\n",
    "\n",
    "#normalizing\n",
    "#df1['S_2'] = (df1['S_2']-df1['S_2'].min())/(df1['S_2'].max() - df1['S_2'].min())\n",
    "print(df1['S_2'].head())\n",
    "\n",
    "df1['S_2'] = pd.to_timedelta(df1['S_2'])\n",
    "print(df1.iloc[:,1].dt.total_seconds())\n",
    "\"\"\""
   ]
  },
  {
   "cell_type": "code",
   "execution_count": 14,
   "id": "4b02857a",
   "metadata": {
    "execution": {
     "iopub.execute_input": "2022-08-25T01:14:20.310510Z",
     "iopub.status.busy": "2022-08-25T01:14:20.310115Z",
     "iopub.status.idle": "2022-08-25T01:14:20.648495Z",
     "shell.execute_reply": "2022-08-25T01:14:20.647031Z"
    },
    "papermill": {
     "duration": 0.353019,
     "end_time": "2022-08-25T01:14:20.651108",
     "exception": false,
     "start_time": "2022-08-25T01:14:20.298089",
     "status": "completed"
    },
    "tags": []
   },
   "outputs": [
    {
     "name": "stdout",
     "output_type": "stream",
     "text": [
      "(458913, 64)\n",
      "Index(['D_39', 'B_2', 'B_5', 'D_48', 'B_6', 'B_8', 'D_50', 'B_10', 'S_5',\n",
      "       'S_6', 'B_12', 'R_5', 'D_60', 'D_61', 'D_65', 'B_16', 'B_17', 'B_18',\n",
      "       'B_20', 'D_68', 'R_6', 'B_21', 'D_69', 'D_71', 'P_4', 'B_24', 'R_7',\n",
      "       'B_26', 'D_78', 'R_8', 'S_16', 'R_10', 'D_81', 'R_14', 'D_84', 'B_30',\n",
      "       'R_20', 'S_22', 'S_23', 'S_26', 'D_103', 'R_27', 'B_38', 'D_112',\n",
      "       'B_40', 'S_27', 'D_114', 'D_117', 'D_120', 'D_126', 'D_128', 'D_129',\n",
      "       'D_130', 'D_139', 'D_63_CL', 'D_63_CO', 'D_63_CR', 'D_63_XL', 'D_63_XM',\n",
      "       'D_63_XZ', 'D_64_-1', 'D_64_O', 'D_64_R', 'D_64_U'],\n",
      "      dtype='object')\n",
      "1865\n",
      "(458913, 63)\n"
     ]
    }
   ],
   "source": [
    "#Hot ones\n",
    "df1 = pd.get_dummies(df1)\n",
    "print(df1.shape)\n",
    "print(df1.columns)\n",
    "print(df1['D_64_-1'].sum())\n",
    "df1.drop(['D_64_-1'], axis=1, inplace = True)\n",
    "print(df1.shape)"
   ]
  },
  {
   "cell_type": "code",
   "execution_count": 15,
   "id": "165a632a",
   "metadata": {
    "execution": {
     "iopub.execute_input": "2022-08-25T01:14:20.673852Z",
     "iopub.status.busy": "2022-08-25T01:14:20.673153Z",
     "iopub.status.idle": "2022-08-25T01:14:20.677365Z",
     "shell.execute_reply": "2022-08-25T01:14:20.676205Z"
    },
    "papermill": {
     "duration": 0.018298,
     "end_time": "2022-08-25T01:14:20.679785",
     "exception": false,
     "start_time": "2022-08-25T01:14:20.661487",
     "status": "completed"
    },
    "tags": []
   },
   "outputs": [],
   "source": [
    "#Handling missing values\n",
    "#my_imputer = SimpleImputer()\n",
    "#df1.iloc[:,:] = my_imputer.fit_transform(df1.iloc[:,:])"
   ]
  },
  {
   "cell_type": "code",
   "execution_count": 16,
   "id": "e16fff23",
   "metadata": {
    "execution": {
     "iopub.execute_input": "2022-08-25T01:14:20.702857Z",
     "iopub.status.busy": "2022-08-25T01:14:20.702407Z",
     "iopub.status.idle": "2022-08-25T01:14:20.751077Z",
     "shell.execute_reply": "2022-08-25T01:14:20.749763Z"
    },
    "papermill": {
     "duration": 0.063694,
     "end_time": "2022-08-25T01:14:20.753995",
     "exception": false,
     "start_time": "2022-08-25T01:14:20.690301",
     "status": "completed"
    },
    "tags": []
   },
   "outputs": [],
   "source": [
    "X = df1.iloc[:, :].values.reshape(-1, len(df1.columns))\n",
    "Y = df_label.iloc[:len(df1), 1].values.reshape(-1, 1)"
   ]
  },
  {
   "cell_type": "code",
   "execution_count": 17,
   "id": "5b9cc7e1",
   "metadata": {
    "execution": {
     "iopub.execute_input": "2022-08-25T01:14:20.776487Z",
     "iopub.status.busy": "2022-08-25T01:14:20.776090Z",
     "iopub.status.idle": "2022-08-25T01:14:20.783385Z",
     "shell.execute_reply": "2022-08-25T01:14:20.782098Z"
    },
    "papermill": {
     "duration": 0.021247,
     "end_time": "2022-08-25T01:14:20.785712",
     "exception": false,
     "start_time": "2022-08-25T01:14:20.764465",
     "status": "completed"
    },
    "tags": []
   },
   "outputs": [
    {
     "data": {
      "text/plain": [
       "'\\n# create object for the class\\nlog = LogisticRegression()\\nlog.fit(X, Y) \\nY_pred = log.predict(X)\\n\\nprint(Y_pred, np.sum(Y_pred))\\nprint(log.score(X, Y))'"
      ]
     },
     "execution_count": 17,
     "metadata": {},
     "output_type": "execute_result"
    }
   ],
   "source": [
    "\"\"\"\n",
    "# create object for the class\n",
    "log = LogisticRegression()\n",
    "log.fit(X, Y) \n",
    "Y_pred = log.predict(X)\n",
    "\n",
    "print(Y_pred, np.sum(Y_pred))\n",
    "print(log.score(X, Y))\"\"\""
   ]
  },
  {
   "cell_type": "code",
   "execution_count": 18,
   "id": "eb9e3a74",
   "metadata": {
    "execution": {
     "iopub.execute_input": "2022-08-25T01:14:20.809913Z",
     "iopub.status.busy": "2022-08-25T01:14:20.808913Z",
     "iopub.status.idle": "2022-08-25T01:31:18.889494Z",
     "shell.execute_reply": "2022-08-25T01:31:18.888568Z"
    },
    "papermill": {
     "duration": 1018.106053,
     "end_time": "2022-08-25T01:31:18.902522",
     "exception": false,
     "start_time": "2022-08-25T01:14:20.796469",
     "status": "completed"
    },
    "tags": []
   },
   "outputs": [
    {
     "name": "stderr",
     "output_type": "stream",
     "text": [
      "/opt/conda/lib/python3.7/site-packages/ipykernel_launcher.py:28: DataConversionWarning: A column-vector y was passed when a 1d array was expected. Please change the shape of y to (n_samples,), for example using ravel().\n"
     ]
    },
    {
     "data": {
      "text/plain": [
       "RandomForestClassifier(max_depth=30, max_features='sqrt', min_samples_split=5,\n",
       "                       n_estimators=400, n_jobs=-1)"
      ]
     },
     "execution_count": 18,
     "metadata": {},
     "output_type": "execute_result"
    }
   ],
   "source": [
    "\n",
    "#trying random forest\n",
    "from sklearn.ensemble import RandomForestClassifier\n",
    "from sklearn.model_selection import RandomizedSearchCV, GridSearchCV\n",
    "# Number of trees in random forest\n",
    "n_estimators = [int(x) for x in np.linspace(start = 200, stop = 2000, num = 10)]\n",
    "# Number of features to consider at every split\n",
    "max_features = ['auto', 'sqrt']\n",
    "# Maximum number of levels in tree\n",
    "max_depth = [int(x) for x in np.linspace(10, 110, num = 11)]\n",
    "max_depth.append(None)\n",
    "# Minimum number of samples required to split a node\n",
    "min_samples_split = [2, 5, 10]\n",
    "# Minimum number of samples required at each leaf node\n",
    "min_samples_leaf = [1, 2, 4]\n",
    "# Method of selecting samples for training each tree\n",
    "bootstrap = [True, False]\n",
    "# Create the random grid\n",
    "random_grid = {'n_estimators': n_estimators,\n",
    "               'max_features': max_features,\n",
    "               'max_depth': max_depth,\n",
    "               'min_samples_split': min_samples_split,\n",
    "               'min_samples_leaf': min_samples_leaf,\n",
    "               'bootstrap': bootstrap}\n",
    "\n",
    "model = RandomForestClassifier(n_estimators=400, max_features='sqrt', bootstrap=True, max_depth=30, min_samples_leaf=1, min_samples_split=5, n_jobs=-1)\n",
    "#rf_random = GridSearchCV(estimator = rf, param_grid = random_grid, cv = 3, verbose=1, n_jobs = -1)\n",
    "# Fit the random search model\n",
    "model.fit(X,Y)"
   ]
  },
  {
   "cell_type": "code",
   "execution_count": 19,
   "id": "5948823d",
   "metadata": {
    "execution": {
     "iopub.execute_input": "2022-08-25T01:31:18.925682Z",
     "iopub.status.busy": "2022-08-25T01:31:18.925264Z",
     "iopub.status.idle": "2022-08-25T01:31:44.415949Z",
     "shell.execute_reply": "2022-08-25T01:31:44.413533Z"
    },
    "papermill": {
     "duration": 25.506467,
     "end_time": "2022-08-25T01:31:44.419601",
     "exception": false,
     "start_time": "2022-08-25T01:31:18.913134",
     "status": "completed"
    },
    "tags": []
   },
   "outputs": [
    {
     "name": "stdout",
     "output_type": "stream",
     "text": [
      "(458913,) [0.84733689 0.20551481 0.96077976 0.00456186 0.02481797 0.01634438\n",
      " 0.00193172 0.00144865 0.00395486 0.9888631  0.02564756 0.00244968\n",
      " 0.86633639 0.98054054 0.00136214 0.11546043 0.02347934 0.01908112\n",
      " 0.00196443 0.00205742 0.87672859 0.01176402 0.81672933 0.00148046\n",
      " 0.00164502]\n"
     ]
    }
   ],
   "source": [
    "Y_pred = model.predict_proba(X)\n",
    "Y_pred = Y_pred[:,1]\n",
    "print(Y_pred.shape, Y_pred[25:50])"
   ]
  },
  {
   "cell_type": "code",
   "execution_count": 20,
   "id": "c3c6a5db",
   "metadata": {
    "execution": {
     "iopub.execute_input": "2022-08-25T01:31:44.443882Z",
     "iopub.status.busy": "2022-08-25T01:31:44.443422Z",
     "iopub.status.idle": "2022-08-25T01:31:44.450640Z",
     "shell.execute_reply": "2022-08-25T01:31:44.449785Z"
    },
    "papermill": {
     "duration": 0.02166,
     "end_time": "2022-08-25T01:31:44.452657",
     "exception": false,
     "start_time": "2022-08-25T01:31:44.430997",
     "status": "completed"
    },
    "tags": []
   },
   "outputs": [
    {
     "data": {
      "text/plain": [
       "\"from xgboost import XGBClassifier\\nfrom sklearn.model_selection import RandomizedSearchCV\\n\\nparam_random_gb = {'learning_rate': np.arange(0.05,0.55, 0.1), 'n_estimators' : [125,150,175], 'subsample' : np.arange(0.3,1.0, 0.1), 'max_depth':[3,4,5]}\\n\\nmse_random = RandomizedSearchCV(estimator = XGBClassifier(), param_distributions = param_random_gb, n_iter = 10,scoring = 'neg_mean_squared_error', cv = 4, verbose = 1)\\n\\n\\n\\nmse_random.best_params_={'subsample': 0.5, 'n_estimators': 175, 'max_depth': 3, 'learning_rate': 0.15}\\nmse_random.best_score_ = (0.32263831733224874)**2\\n\\nmse_random.fit(X,Y)\\n\\n#Run XGBoost model with the best parameters found\\nmodel=XGBClassifier(n_estimators=200,max_depth=3,learning_rate=0.15, subsample=0.5)\\nmodel.fit(x_train_split,y_train_split)\\n#Test the model\\ny_predict=model.predict(x_test_split)\\nprint('XGBoost Classifier Accuracy: {:.3f}'.format(accuracy_score(y_test_split, y_predict)))\""
      ]
     },
     "execution_count": 20,
     "metadata": {},
     "output_type": "execute_result"
    }
   ],
   "source": [
    "\"\"\"from xgboost import XGBClassifier\n",
    "from sklearn.model_selection import RandomizedSearchCV\n",
    "\n",
    "param_random_gb = {'learning_rate': np.arange(0.05,0.55, 0.1), 'n_estimators' : [125,150,175], 'subsample' : np.arange(0.3,1.0, 0.1), 'max_depth':[3,4,5]}\n",
    "\n",
    "mse_random = RandomizedSearchCV(estimator = XGBClassifier(), param_distributions = param_random_gb, n_iter = 10,scoring = 'neg_mean_squared_error', cv = 4, verbose = 1)\n",
    "\n",
    "\n",
    "\n",
    "mse_random.best_params_={'subsample': 0.5, 'n_estimators': 175, 'max_depth': 3, 'learning_rate': 0.15}\n",
    "mse_random.best_score_ = (0.32263831733224874)**2\n",
    "\n",
    "mse_random.fit(X,Y)\n",
    "\n",
    "#Run XGBoost model with the best parameters found\n",
    "model=XGBClassifier(n_estimators=200,max_depth=3,learning_rate=0.15, subsample=0.5)\n",
    "model.fit(x_train_split,y_train_split)\n",
    "#Test the model\n",
    "y_predict=model.predict(x_test_split)\n",
    "print('XGBoost Classifier Accuracy: {:.3f}'.format(accuracy_score(y_test_split, y_predict)))\"\"\""
   ]
  },
  {
   "cell_type": "code",
   "execution_count": 21,
   "id": "8c237db9",
   "metadata": {
    "execution": {
     "iopub.execute_input": "2022-08-25T01:31:44.476870Z",
     "iopub.status.busy": "2022-08-25T01:31:44.476062Z",
     "iopub.status.idle": "2022-08-25T01:31:44.482482Z",
     "shell.execute_reply": "2022-08-25T01:31:44.481502Z"
    },
    "papermill": {
     "duration": 0.021203,
     "end_time": "2022-08-25T01:31:44.484858",
     "exception": false,
     "start_time": "2022-08-25T01:31:44.463655",
     "status": "completed"
    },
    "tags": []
   },
   "outputs": [
    {
     "data": {
      "text/plain": [
       "\"def evaluate(model, test_features, test_labels):\\n    predictions = model.predict(test_features)\\n    errors = abs(predictions - test_labels)\\n    mape = 100 * np.mean(errors / test_labels)\\n    accuracy = 100 - mape\\n    print('Model Performance')\\n    print('Average Error: {:0.4f} degrees.'.format(np.mean(errors)))\\n    print('Accuracy = {:0.2f}%.'.format(accuracy))\\n    \\naccuracy = evaluate(model, X, Y)\\n\\nprint('Accuracy:{:0.2f}%.'.format( 100 * accuracy))\""
      ]
     },
     "execution_count": 21,
     "metadata": {},
     "output_type": "execute_result"
    }
   ],
   "source": [
    "\"\"\"def evaluate(model, test_features, test_labels):\n",
    "    predictions = model.predict(test_features)\n",
    "    errors = abs(predictions - test_labels)\n",
    "    mape = 100 * np.mean(errors / test_labels)\n",
    "    accuracy = 100 - mape\n",
    "    print('Model Performance')\n",
    "    print('Average Error: {:0.4f} degrees.'.format(np.mean(errors)))\n",
    "    print('Accuracy = {:0.2f}%.'.format(accuracy))\n",
    "    \n",
    "accuracy = evaluate(model, X, Y)\n",
    "\n",
    "print('Accuracy:{:0.2f}%.'.format( 100 * accuracy))\"\"\""
   ]
  },
  {
   "cell_type": "code",
   "execution_count": 22,
   "id": "87e763b6",
   "metadata": {
    "execution": {
     "iopub.execute_input": "2022-08-25T01:31:44.509818Z",
     "iopub.status.busy": "2022-08-25T01:31:44.509141Z",
     "iopub.status.idle": "2022-08-25T01:31:44.515093Z",
     "shell.execute_reply": "2022-08-25T01:31:44.514192Z"
    },
    "papermill": {
     "duration": 0.020753,
     "end_time": "2022-08-25T01:31:44.517348",
     "exception": false,
     "start_time": "2022-08-25T01:31:44.496595",
     "status": "completed"
    },
    "tags": []
   },
   "outputs": [
    {
     "data": {
      "text/plain": [
       "'\"cm = metrics.confusion_matrix(Y, Y_pred)\\n\\nplt.figure(figsize=(9,9))\\nsns.heatmap(cm, annot=True, fmt=\".3f\", linewidths=.5, square = True, cmap = \\'YlGnBu\\');\\nplt.ylabel(\\'Actual label\\');\\nplt.xlabel(\\'Predicted label\\');\\nall_sample_title = \\'Accuracy Score: {0}\\'.format(round(log.score(X, Y),3))\\nplt.title(all_sample_title, size = 15);\\n\\nprint(\\'Accuracy:\\',round(metrics.accuracy_score(Y, Y_pred),3))\\nmetrics.roc_curve(Y, Y_pred)\\nprint(metrics.roc_auc_score(Y, Y_pred))'"
      ]
     },
     "execution_count": 22,
     "metadata": {},
     "output_type": "execute_result"
    }
   ],
   "source": [
    "\"\"\"\"cm = metrics.confusion_matrix(Y, Y_pred)\n",
    "\n",
    "plt.figure(figsize=(9,9))\n",
    "sns.heatmap(cm, annot=True, fmt=\".3f\", linewidths=.5, square = True, cmap = 'YlGnBu');\n",
    "plt.ylabel('Actual label');\n",
    "plt.xlabel('Predicted label');\n",
    "all_sample_title = 'Accuracy Score: {0}'.format(round(log.score(X, Y),3))\n",
    "plt.title(all_sample_title, size = 15);\n",
    "\n",
    "print('Accuracy:',round(metrics.accuracy_score(Y, Y_pred),3))\n",
    "metrics.roc_curve(Y, Y_pred)\n",
    "print(metrics.roc_auc_score(Y, Y_pred))\"\"\""
   ]
  },
  {
   "cell_type": "code",
   "execution_count": 23,
   "id": "3afe7b49",
   "metadata": {
    "execution": {
     "iopub.execute_input": "2022-08-25T01:31:44.541903Z",
     "iopub.status.busy": "2022-08-25T01:31:44.541444Z",
     "iopub.status.idle": "2022-08-25T01:31:44.729002Z",
     "shell.execute_reply": "2022-08-25T01:31:44.727705Z"
    },
    "papermill": {
     "duration": 0.20295,
     "end_time": "2022-08-25T01:31:44.731549",
     "exception": false,
     "start_time": "2022-08-25T01:31:44.528599",
     "status": "completed"
    },
    "tags": []
   },
   "outputs": [
    {
     "data": {
      "text/plain": [
       "153"
      ]
     },
     "execution_count": 23,
     "metadata": {},
     "output_type": "execute_result"
    }
   ],
   "source": [
    "#free up ram\n",
    "del df1, df_label\n",
    "gc.collect()"
   ]
  },
  {
   "cell_type": "code",
   "execution_count": 24,
   "id": "071bbb93",
   "metadata": {
    "execution": {
     "iopub.execute_input": "2022-08-25T01:31:44.756621Z",
     "iopub.status.busy": "2022-08-25T01:31:44.756194Z",
     "iopub.status.idle": "2022-08-25T01:32:10.866653Z",
     "shell.execute_reply": "2022-08-25T01:32:10.865003Z"
    },
    "papermill": {
     "duration": 26.127013,
     "end_time": "2022-08-25T01:32:10.870171",
     "exception": false,
     "start_time": "2022-08-25T01:31:44.743158",
     "status": "completed"
    },
    "tags": []
   },
   "outputs": [
    {
     "name": "stdout",
     "output_type": "stream",
     "text": [
      "58\n",
      "(11363762, 58)\n"
     ]
    }
   ],
   "source": [
    "#run prediction on test data\n",
    "\n",
    "print(len(keep))\n",
    "#need to only load some columns due to ram limitations\n",
    "df2=pd.read_parquet('/kaggle/input/amex-parquet/test_data.parquet', columns =keep)\n",
    "print(df2.shape)"
   ]
  },
  {
   "cell_type": "code",
   "execution_count": 25,
   "id": "12c90728",
   "metadata": {
    "execution": {
     "iopub.execute_input": "2022-08-25T01:32:10.895645Z",
     "iopub.status.busy": "2022-08-25T01:32:10.894409Z",
     "iopub.status.idle": "2022-08-25T01:32:10.921807Z",
     "shell.execute_reply": "2022-08-25T01:32:10.920555Z"
    },
    "papermill": {
     "duration": 0.042505,
     "end_time": "2022-08-25T01:32:10.924184",
     "exception": false,
     "start_time": "2022-08-25T01:32:10.881679",
     "status": "completed"
    },
    "tags": []
   },
   "outputs": [
    {
     "data": {
      "text/html": [
       "<div>\n",
       "<style scoped>\n",
       "    .dataframe tbody tr th:only-of-type {\n",
       "        vertical-align: middle;\n",
       "    }\n",
       "\n",
       "    .dataframe tbody tr th {\n",
       "        vertical-align: top;\n",
       "    }\n",
       "\n",
       "    .dataframe thead th {\n",
       "        text-align: right;\n",
       "    }\n",
       "</style>\n",
       "<table border=\"1\" class=\"dataframe\">\n",
       "  <thead>\n",
       "    <tr style=\"text-align: right;\">\n",
       "      <th></th>\n",
       "      <th>D_39</th>\n",
       "      <th>B_2</th>\n",
       "      <th>B_5</th>\n",
       "      <th>D_48</th>\n",
       "      <th>B_6</th>\n",
       "      <th>B_8</th>\n",
       "      <th>D_50</th>\n",
       "      <th>B_10</th>\n",
       "      <th>S_5</th>\n",
       "      <th>S_6</th>\n",
       "      <th>...</th>\n",
       "      <th>D_120</th>\n",
       "      <th>D_126</th>\n",
       "      <th>D_128</th>\n",
       "      <th>D_129</th>\n",
       "      <th>D_130</th>\n",
       "      <th>D_139</th>\n",
       "      <th>D_63</th>\n",
       "      <th>D_64</th>\n",
       "      <th>customer_ID</th>\n",
       "      <th>S_2</th>\n",
       "    </tr>\n",
       "  </thead>\n",
       "  <tbody>\n",
       "    <tr>\n",
       "      <th>0</th>\n",
       "      <td>0.001912</td>\n",
       "      <td>0.814497</td>\n",
       "      <td>0.009517</td>\n",
       "      <td>0.626467</td>\n",
       "      <td>0.174591</td>\n",
       "      <td>1.003925</td>\n",
       "      <td>NaN</td>\n",
       "      <td>-0.002919</td>\n",
       "      <td>0.002771</td>\n",
       "      <td>1.006875</td>\n",
       "      <td>...</td>\n",
       "      <td>NaN</td>\n",
       "      <td>0.0</td>\n",
       "      <td>NaN</td>\n",
       "      <td>NaN</td>\n",
       "      <td>NaN</td>\n",
       "      <td>NaN</td>\n",
       "      <td>CR</td>\n",
       "      <td>NaN</td>\n",
       "      <td>00000469ba478561f23a92a868bd366de6f6527a684c9a...</td>\n",
       "      <td>2019-02-19</td>\n",
       "    </tr>\n",
       "    <tr>\n",
       "      <th>1</th>\n",
       "      <td>0.005275</td>\n",
       "      <td>0.810848</td>\n",
       "      <td>0.026313</td>\n",
       "      <td>0.611682</td>\n",
       "      <td>0.177115</td>\n",
       "      <td>1.009301</td>\n",
       "      <td>NaN</td>\n",
       "      <td>0.031222</td>\n",
       "      <td>0.006497</td>\n",
       "      <td>1.005728</td>\n",
       "      <td>...</td>\n",
       "      <td>NaN</td>\n",
       "      <td>0.0</td>\n",
       "      <td>0.008782</td>\n",
       "      <td>0.005579</td>\n",
       "      <td>0.007598</td>\n",
       "      <td>0.000142</td>\n",
       "      <td>CR</td>\n",
       "      <td>NaN</td>\n",
       "      <td>00000469ba478561f23a92a868bd366de6f6527a684c9a...</td>\n",
       "      <td>2019-03-25</td>\n",
       "    </tr>\n",
       "    <tr>\n",
       "      <th>2</th>\n",
       "      <td>0.003326</td>\n",
       "      <td>1.004620</td>\n",
       "      <td>0.060017</td>\n",
       "      <td>0.622228</td>\n",
       "      <td>1.417059</td>\n",
       "      <td>1.004635</td>\n",
       "      <td>NaN</td>\n",
       "      <td>0.035532</td>\n",
       "      <td>0.003407</td>\n",
       "      <td>0.006408</td>\n",
       "      <td>...</td>\n",
       "      <td>NaN</td>\n",
       "      <td>0.0</td>\n",
       "      <td>0.005602</td>\n",
       "      <td>0.009336</td>\n",
       "      <td>0.003608</td>\n",
       "      <td>0.000074</td>\n",
       "      <td>CR</td>\n",
       "      <td>NaN</td>\n",
       "      <td>00000469ba478561f23a92a868bd366de6f6527a684c9a...</td>\n",
       "      <td>2019-04-25</td>\n",
       "    </tr>\n",
       "    <tr>\n",
       "      <th>3</th>\n",
       "      <td>0.009065</td>\n",
       "      <td>0.816549</td>\n",
       "      <td>0.003400</td>\n",
       "      <td>0.615620</td>\n",
       "      <td>0.044620</td>\n",
       "      <td>1.009093</td>\n",
       "      <td>NaN</td>\n",
       "      <td>0.043155</td>\n",
       "      <td>0.007204</td>\n",
       "      <td>0.005841</td>\n",
       "      <td>...</td>\n",
       "      <td>NaN</td>\n",
       "      <td>0.0</td>\n",
       "      <td>0.008690</td>\n",
       "      <td>0.006479</td>\n",
       "      <td>0.006133</td>\n",
       "      <td>0.004743</td>\n",
       "      <td>CR</td>\n",
       "      <td>NaN</td>\n",
       "      <td>00000469ba478561f23a92a868bd366de6f6527a684c9a...</td>\n",
       "      <td>2019-05-20</td>\n",
       "    </tr>\n",
       "    <tr>\n",
       "      <th>4</th>\n",
       "      <td>0.238794</td>\n",
       "      <td>0.810456</td>\n",
       "      <td>0.141991</td>\n",
       "      <td>0.591795</td>\n",
       "      <td>0.039586</td>\n",
       "      <td>1.006634</td>\n",
       "      <td>NaN</td>\n",
       "      <td>0.063187</td>\n",
       "      <td>0.008620</td>\n",
       "      <td>0.002622</td>\n",
       "      <td>...</td>\n",
       "      <td>1.0</td>\n",
       "      <td>0.0</td>\n",
       "      <td>0.005304</td>\n",
       "      <td>0.002027</td>\n",
       "      <td>0.006975</td>\n",
       "      <td>0.008133</td>\n",
       "      <td>CR</td>\n",
       "      <td>U</td>\n",
       "      <td>00000469ba478561f23a92a868bd366de6f6527a684c9a...</td>\n",
       "      <td>2019-06-15</td>\n",
       "    </tr>\n",
       "  </tbody>\n",
       "</table>\n",
       "<p>5 rows × 58 columns</p>\n",
       "</div>"
      ],
      "text/plain": [
       "       D_39       B_2       B_5      D_48       B_6       B_8  D_50      B_10  \\\n",
       "0  0.001912  0.814497  0.009517  0.626467  0.174591  1.003925   NaN -0.002919   \n",
       "1  0.005275  0.810848  0.026313  0.611682  0.177115  1.009301   NaN  0.031222   \n",
       "2  0.003326  1.004620  0.060017  0.622228  1.417059  1.004635   NaN  0.035532   \n",
       "3  0.009065  0.816549  0.003400  0.615620  0.044620  1.009093   NaN  0.043155   \n",
       "4  0.238794  0.810456  0.141991  0.591795  0.039586  1.006634   NaN  0.063187   \n",
       "\n",
       "        S_5       S_6  ...  D_120  D_126     D_128     D_129     D_130  \\\n",
       "0  0.002771  1.006875  ...    NaN    0.0       NaN       NaN       NaN   \n",
       "1  0.006497  1.005728  ...    NaN    0.0  0.008782  0.005579  0.007598   \n",
       "2  0.003407  0.006408  ...    NaN    0.0  0.005602  0.009336  0.003608   \n",
       "3  0.007204  0.005841  ...    NaN    0.0  0.008690  0.006479  0.006133   \n",
       "4  0.008620  0.002622  ...    1.0    0.0  0.005304  0.002027  0.006975   \n",
       "\n",
       "      D_139  D_63  D_64                                        customer_ID  \\\n",
       "0       NaN    CR   NaN  00000469ba478561f23a92a868bd366de6f6527a684c9a...   \n",
       "1  0.000142    CR   NaN  00000469ba478561f23a92a868bd366de6f6527a684c9a...   \n",
       "2  0.000074    CR   NaN  00000469ba478561f23a92a868bd366de6f6527a684c9a...   \n",
       "3  0.004743    CR   NaN  00000469ba478561f23a92a868bd366de6f6527a684c9a...   \n",
       "4  0.008133    CR     U  00000469ba478561f23a92a868bd366de6f6527a684c9a...   \n",
       "\n",
       "          S_2  \n",
       "0  2019-02-19  \n",
       "1  2019-03-25  \n",
       "2  2019-04-25  \n",
       "3  2019-05-20  \n",
       "4  2019-06-15  \n",
       "\n",
       "[5 rows x 58 columns]"
      ]
     },
     "execution_count": 25,
     "metadata": {},
     "output_type": "execute_result"
    }
   ],
   "source": [
    "df2.head()"
   ]
  },
  {
   "cell_type": "code",
   "execution_count": 26,
   "id": "172b8d06",
   "metadata": {
    "execution": {
     "iopub.execute_input": "2022-08-25T01:32:10.949538Z",
     "iopub.status.busy": "2022-08-25T01:32:10.949138Z",
     "iopub.status.idle": "2022-08-25T01:32:10.953470Z",
     "shell.execute_reply": "2022-08-25T01:32:10.952281Z"
    },
    "papermill": {
     "duration": 0.019887,
     "end_time": "2022-08-25T01:32:10.955886",
     "exception": false,
     "start_time": "2022-08-25T01:32:10.935999",
     "status": "completed"
    },
    "tags": []
   },
   "outputs": [],
   "source": [
    "#Handling missing values via imputation\n",
    "#df2.iloc[:,:] = my_imputer.fit_transform(df2.iloc[:,:])"
   ]
  },
  {
   "cell_type": "code",
   "execution_count": 27,
   "id": "2ee2c482",
   "metadata": {
    "execution": {
     "iopub.execute_input": "2022-08-25T01:32:10.981450Z",
     "iopub.status.busy": "2022-08-25T01:32:10.981040Z",
     "iopub.status.idle": "2022-08-25T01:32:20.071406Z",
     "shell.execute_reply": "2022-08-25T01:32:20.070154Z"
    },
    "papermill": {
     "duration": 9.106902,
     "end_time": "2022-08-25T01:32:20.074299",
     "exception": false,
     "start_time": "2022-08-25T01:32:10.967397",
     "status": "completed"
    },
    "tags": []
   },
   "outputs": [
    {
     "name": "stdout",
     "output_type": "stream",
     "text": [
      "(11363762, 58) (924621, 56)\n",
      "Columns left with NaN:\n"
     ]
    }
   ],
   "source": [
    "#using only most recent transaction from each customer\n",
    "#Does this make sense for test data??\n",
    "temp = df2.shape\n",
    "df2=df2.set_index(['customer_ID'])\n",
    "df2=df2.ffill()\n",
    "df2=df2.bfill()\n",
    "df2=df2.reset_index()\n",
    "\n",
    "df2=df2.groupby('customer_ID').tail(1)\n",
    "df2=df2.set_index(['customer_ID'])\n",
    "\n",
    "#Drop date column since it is no longer useful\n",
    "df2.drop(['S_2'],axis=1,inplace=True)\n",
    "\n",
    "print(temp, df2.shape)\n",
    "\n",
    "#inspecting NaN\n",
    "print('Columns left with NaN:')\n",
    "for i in range(len(df2.columns)):\n",
    "    if (df2.iloc[:,i].isnull().sum()/len(df2) > 0):\n",
    "        print(df2.columns[i], round(df2.iloc[:,i].isnull().sum()/len(df2),2))"
   ]
  },
  {
   "cell_type": "code",
   "execution_count": 28,
   "id": "556e4ddf",
   "metadata": {
    "execution": {
     "iopub.execute_input": "2022-08-25T01:32:20.100464Z",
     "iopub.status.busy": "2022-08-25T01:32:20.100071Z",
     "iopub.status.idle": "2022-08-25T01:32:20.776356Z",
     "shell.execute_reply": "2022-08-25T01:32:20.775202Z"
    },
    "papermill": {
     "duration": 0.693012,
     "end_time": "2022-08-25T01:32:20.779636",
     "exception": false,
     "start_time": "2022-08-25T01:32:20.086624",
     "status": "completed"
    },
    "tags": []
   },
   "outputs": [
    {
     "name": "stdout",
     "output_type": "stream",
     "text": [
      "(924621, 63)\n",
      "Index(['D_39', 'B_2', 'B_5', 'D_48', 'B_6', 'B_8', 'D_50', 'B_10', 'S_5',\n",
      "       'S_6', 'B_12', 'R_5', 'D_60', 'D_61', 'D_65', 'B_16', 'B_17', 'B_18',\n",
      "       'B_20', 'D_68', 'R_6', 'B_21', 'D_69', 'D_71', 'P_4', 'B_24', 'R_7',\n",
      "       'B_26', 'D_78', 'R_8', 'S_16', 'R_10', 'D_81', 'R_14', 'D_84', 'B_30',\n",
      "       'R_20', 'S_22', 'S_23', 'S_26', 'D_103', 'R_27', 'B_38', 'D_112',\n",
      "       'B_40', 'S_27', 'D_114', 'D_117', 'D_120', 'D_126', 'D_128', 'D_129',\n",
      "       'D_130', 'D_139', 'D_63_CL', 'D_63_CO', 'D_63_CR', 'D_63_XL', 'D_63_XM',\n",
      "       'D_63_XZ', 'D_64_O', 'D_64_R', 'D_64_U'],\n",
      "      dtype='object')\n"
     ]
    }
   ],
   "source": [
    "#hot ones\n",
    "df2 = pd.get_dummies(df2)\n",
    "print(df2.shape)\n",
    "print(df2.columns)"
   ]
  },
  {
   "cell_type": "code",
   "execution_count": 29,
   "id": "2f790b54",
   "metadata": {
    "execution": {
     "iopub.execute_input": "2022-08-25T01:32:20.806875Z",
     "iopub.status.busy": "2022-08-25T01:32:20.806419Z",
     "iopub.status.idle": "2022-08-25T01:32:20.833418Z",
     "shell.execute_reply": "2022-08-25T01:32:20.832182Z"
    },
    "papermill": {
     "duration": 0.043896,
     "end_time": "2022-08-25T01:32:20.836218",
     "exception": false,
     "start_time": "2022-08-25T01:32:20.792322",
     "status": "completed"
    },
    "tags": []
   },
   "outputs": [
    {
     "data": {
      "text/html": [
       "<div>\n",
       "<style scoped>\n",
       "    .dataframe tbody tr th:only-of-type {\n",
       "        vertical-align: middle;\n",
       "    }\n",
       "\n",
       "    .dataframe tbody tr th {\n",
       "        vertical-align: top;\n",
       "    }\n",
       "\n",
       "    .dataframe thead th {\n",
       "        text-align: right;\n",
       "    }\n",
       "</style>\n",
       "<table border=\"1\" class=\"dataframe\">\n",
       "  <thead>\n",
       "    <tr style=\"text-align: right;\">\n",
       "      <th></th>\n",
       "      <th>D_39</th>\n",
       "      <th>B_2</th>\n",
       "      <th>B_5</th>\n",
       "      <th>D_48</th>\n",
       "      <th>B_6</th>\n",
       "      <th>B_8</th>\n",
       "      <th>D_50</th>\n",
       "      <th>B_10</th>\n",
       "      <th>S_5</th>\n",
       "      <th>S_6</th>\n",
       "      <th>...</th>\n",
       "      <th>D_139</th>\n",
       "      <th>D_63_CL</th>\n",
       "      <th>D_63_CO</th>\n",
       "      <th>D_63_CR</th>\n",
       "      <th>D_63_XL</th>\n",
       "      <th>D_63_XM</th>\n",
       "      <th>D_63_XZ</th>\n",
       "      <th>D_64_O</th>\n",
       "      <th>D_64_R</th>\n",
       "      <th>D_64_U</th>\n",
       "    </tr>\n",
       "    <tr>\n",
       "      <th>customer_ID</th>\n",
       "      <th></th>\n",
       "      <th></th>\n",
       "      <th></th>\n",
       "      <th></th>\n",
       "      <th></th>\n",
       "      <th></th>\n",
       "      <th></th>\n",
       "      <th></th>\n",
       "      <th></th>\n",
       "      <th></th>\n",
       "      <th></th>\n",
       "      <th></th>\n",
       "      <th></th>\n",
       "      <th></th>\n",
       "      <th></th>\n",
       "      <th></th>\n",
       "      <th></th>\n",
       "      <th></th>\n",
       "      <th></th>\n",
       "      <th></th>\n",
       "      <th></th>\n",
       "    </tr>\n",
       "  </thead>\n",
       "  <tbody>\n",
       "    <tr>\n",
       "      <th>00000469ba478561f23a92a868bd366de6f6527a684c9a2e78fb826dcac3b9b7</th>\n",
       "      <td>0.121385</td>\n",
       "      <td>1.009347</td>\n",
       "      <td>0.050187</td>\n",
       "      <td>0.517214</td>\n",
       "      <td>0.024945</td>\n",
       "      <td>1.008730</td>\n",
       "      <td>0.007209</td>\n",
       "      <td>0.033599</td>\n",
       "      <td>0.011795</td>\n",
       "      <td>0.003473</td>\n",
       "      <td>...</td>\n",
       "      <td>0.005912</td>\n",
       "      <td>0</td>\n",
       "      <td>0</td>\n",
       "      <td>1</td>\n",
       "      <td>0</td>\n",
       "      <td>0</td>\n",
       "      <td>0</td>\n",
       "      <td>0</td>\n",
       "      <td>0</td>\n",
       "      <td>1</td>\n",
       "    </tr>\n",
       "    <tr>\n",
       "      <th>00001bf2e77ff879fab36aa4fac689b9ba411dae63ae397d4263dafa1daedef5</th>\n",
       "      <td>0.126475</td>\n",
       "      <td>1.009245</td>\n",
       "      <td>0.135907</td>\n",
       "      <td>0.041712</td>\n",
       "      <td>0.182720</td>\n",
       "      <td>1.008640</td>\n",
       "      <td>0.007209</td>\n",
       "      <td>0.298735</td>\n",
       "      <td>0.009336</td>\n",
       "      <td>0.005253</td>\n",
       "      <td>...</td>\n",
       "      <td>0.004344</td>\n",
       "      <td>0</td>\n",
       "      <td>1</td>\n",
       "      <td>0</td>\n",
       "      <td>0</td>\n",
       "      <td>0</td>\n",
       "      <td>0</td>\n",
       "      <td>1</td>\n",
       "      <td>0</td>\n",
       "      <td>0</td>\n",
       "    </tr>\n",
       "    <tr>\n",
       "      <th>0000210045da4f81e5f122c6bde5c2a617d03eef67f82c5e400fc98e7bd43ce8</th>\n",
       "      <td>0.002724</td>\n",
       "      <td>0.810072</td>\n",
       "      <td>0.004851</td>\n",
       "      <td>0.522954</td>\n",
       "      <td>0.058534</td>\n",
       "      <td>1.009375</td>\n",
       "      <td>0.007209</td>\n",
       "      <td>0.129189</td>\n",
       "      <td>0.004455</td>\n",
       "      <td>0.001847</td>\n",
       "      <td>...</td>\n",
       "      <td>1.001246</td>\n",
       "      <td>0</td>\n",
       "      <td>0</td>\n",
       "      <td>1</td>\n",
       "      <td>0</td>\n",
       "      <td>0</td>\n",
       "      <td>0</td>\n",
       "      <td>0</td>\n",
       "      <td>0</td>\n",
       "      <td>1</td>\n",
       "    </tr>\n",
       "    <tr>\n",
       "      <th>00003b41e58ede33b8daf61ab56d9952f17c9ad1c3976cf6e56734528702d694</th>\n",
       "      <td>0.324828</td>\n",
       "      <td>0.205678</td>\n",
       "      <td>0.022947</td>\n",
       "      <td>0.602520</td>\n",
       "      <td>0.023546</td>\n",
       "      <td>0.009775</td>\n",
       "      <td>0.007209</td>\n",
       "      <td>0.032124</td>\n",
       "      <td>0.320184</td>\n",
       "      <td>0.008872</td>\n",
       "      <td>...</td>\n",
       "      <td>1.008246</td>\n",
       "      <td>1</td>\n",
       "      <td>0</td>\n",
       "      <td>0</td>\n",
       "      <td>0</td>\n",
       "      <td>0</td>\n",
       "      <td>0</td>\n",
       "      <td>0</td>\n",
       "      <td>1</td>\n",
       "      <td>0</td>\n",
       "    </tr>\n",
       "    <tr>\n",
       "      <th>00004b22eaeeeb0ec976890c1d9bfc14fd9427e98c4ee9a4693dd914fca22557</th>\n",
       "      <td>0.768016</td>\n",
       "      <td>0.038021</td>\n",
       "      <td>0.011126</td>\n",
       "      <td>0.959607</td>\n",
       "      <td>0.011244</td>\n",
       "      <td>1.006200</td>\n",
       "      <td>0.039149</td>\n",
       "      <td>0.022026</td>\n",
       "      <td>0.064127</td>\n",
       "      <td>0.009401</td>\n",
       "      <td>...</td>\n",
       "      <td>0.006623</td>\n",
       "      <td>0</td>\n",
       "      <td>1</td>\n",
       "      <td>0</td>\n",
       "      <td>0</td>\n",
       "      <td>0</td>\n",
       "      <td>0</td>\n",
       "      <td>0</td>\n",
       "      <td>1</td>\n",
       "      <td>0</td>\n",
       "    </tr>\n",
       "  </tbody>\n",
       "</table>\n",
       "<p>5 rows × 63 columns</p>\n",
       "</div>"
      ],
      "text/plain": [
       "                                                        D_39       B_2  \\\n",
       "customer_ID                                                              \n",
       "00000469ba478561f23a92a868bd366de6f6527a684c9a2...  0.121385  1.009347   \n",
       "00001bf2e77ff879fab36aa4fac689b9ba411dae63ae397...  0.126475  1.009245   \n",
       "0000210045da4f81e5f122c6bde5c2a617d03eef67f82c5...  0.002724  0.810072   \n",
       "00003b41e58ede33b8daf61ab56d9952f17c9ad1c3976cf...  0.324828  0.205678   \n",
       "00004b22eaeeeb0ec976890c1d9bfc14fd9427e98c4ee9a...  0.768016  0.038021   \n",
       "\n",
       "                                                         B_5      D_48  \\\n",
       "customer_ID                                                              \n",
       "00000469ba478561f23a92a868bd366de6f6527a684c9a2...  0.050187  0.517214   \n",
       "00001bf2e77ff879fab36aa4fac689b9ba411dae63ae397...  0.135907  0.041712   \n",
       "0000210045da4f81e5f122c6bde5c2a617d03eef67f82c5...  0.004851  0.522954   \n",
       "00003b41e58ede33b8daf61ab56d9952f17c9ad1c3976cf...  0.022947  0.602520   \n",
       "00004b22eaeeeb0ec976890c1d9bfc14fd9427e98c4ee9a...  0.011126  0.959607   \n",
       "\n",
       "                                                         B_6       B_8  \\\n",
       "customer_ID                                                              \n",
       "00000469ba478561f23a92a868bd366de6f6527a684c9a2...  0.024945  1.008730   \n",
       "00001bf2e77ff879fab36aa4fac689b9ba411dae63ae397...  0.182720  1.008640   \n",
       "0000210045da4f81e5f122c6bde5c2a617d03eef67f82c5...  0.058534  1.009375   \n",
       "00003b41e58ede33b8daf61ab56d9952f17c9ad1c3976cf...  0.023546  0.009775   \n",
       "00004b22eaeeeb0ec976890c1d9bfc14fd9427e98c4ee9a...  0.011244  1.006200   \n",
       "\n",
       "                                                        D_50      B_10  \\\n",
       "customer_ID                                                              \n",
       "00000469ba478561f23a92a868bd366de6f6527a684c9a2...  0.007209  0.033599   \n",
       "00001bf2e77ff879fab36aa4fac689b9ba411dae63ae397...  0.007209  0.298735   \n",
       "0000210045da4f81e5f122c6bde5c2a617d03eef67f82c5...  0.007209  0.129189   \n",
       "00003b41e58ede33b8daf61ab56d9952f17c9ad1c3976cf...  0.007209  0.032124   \n",
       "00004b22eaeeeb0ec976890c1d9bfc14fd9427e98c4ee9a...  0.039149  0.022026   \n",
       "\n",
       "                                                         S_5       S_6  ...  \\\n",
       "customer_ID                                                             ...   \n",
       "00000469ba478561f23a92a868bd366de6f6527a684c9a2...  0.011795  0.003473  ...   \n",
       "00001bf2e77ff879fab36aa4fac689b9ba411dae63ae397...  0.009336  0.005253  ...   \n",
       "0000210045da4f81e5f122c6bde5c2a617d03eef67f82c5...  0.004455  0.001847  ...   \n",
       "00003b41e58ede33b8daf61ab56d9952f17c9ad1c3976cf...  0.320184  0.008872  ...   \n",
       "00004b22eaeeeb0ec976890c1d9bfc14fd9427e98c4ee9a...  0.064127  0.009401  ...   \n",
       "\n",
       "                                                       D_139  D_63_CL  \\\n",
       "customer_ID                                                             \n",
       "00000469ba478561f23a92a868bd366de6f6527a684c9a2...  0.005912        0   \n",
       "00001bf2e77ff879fab36aa4fac689b9ba411dae63ae397...  0.004344        0   \n",
       "0000210045da4f81e5f122c6bde5c2a617d03eef67f82c5...  1.001246        0   \n",
       "00003b41e58ede33b8daf61ab56d9952f17c9ad1c3976cf...  1.008246        1   \n",
       "00004b22eaeeeb0ec976890c1d9bfc14fd9427e98c4ee9a...  0.006623        0   \n",
       "\n",
       "                                                    D_63_CO  D_63_CR  D_63_XL  \\\n",
       "customer_ID                                                                     \n",
       "00000469ba478561f23a92a868bd366de6f6527a684c9a2...        0        1        0   \n",
       "00001bf2e77ff879fab36aa4fac689b9ba411dae63ae397...        1        0        0   \n",
       "0000210045da4f81e5f122c6bde5c2a617d03eef67f82c5...        0        1        0   \n",
       "00003b41e58ede33b8daf61ab56d9952f17c9ad1c3976cf...        0        0        0   \n",
       "00004b22eaeeeb0ec976890c1d9bfc14fd9427e98c4ee9a...        1        0        0   \n",
       "\n",
       "                                                    D_63_XM  D_63_XZ  D_64_O  \\\n",
       "customer_ID                                                                    \n",
       "00000469ba478561f23a92a868bd366de6f6527a684c9a2...        0        0       0   \n",
       "00001bf2e77ff879fab36aa4fac689b9ba411dae63ae397...        0        0       1   \n",
       "0000210045da4f81e5f122c6bde5c2a617d03eef67f82c5...        0        0       0   \n",
       "00003b41e58ede33b8daf61ab56d9952f17c9ad1c3976cf...        0        0       0   \n",
       "00004b22eaeeeb0ec976890c1d9bfc14fd9427e98c4ee9a...        0        0       0   \n",
       "\n",
       "                                                    D_64_R  D_64_U  \n",
       "customer_ID                                                         \n",
       "00000469ba478561f23a92a868bd366de6f6527a684c9a2...       0       1  \n",
       "00001bf2e77ff879fab36aa4fac689b9ba411dae63ae397...       0       0  \n",
       "0000210045da4f81e5f122c6bde5c2a617d03eef67f82c5...       0       1  \n",
       "00003b41e58ede33b8daf61ab56d9952f17c9ad1c3976cf...       1       0  \n",
       "00004b22eaeeeb0ec976890c1d9bfc14fd9427e98c4ee9a...       1       0  \n",
       "\n",
       "[5 rows x 63 columns]"
      ]
     },
     "execution_count": 29,
     "metadata": {},
     "output_type": "execute_result"
    }
   ],
   "source": [
    "df2.head()"
   ]
  },
  {
   "cell_type": "code",
   "execution_count": 30,
   "id": "fbde57d0",
   "metadata": {
    "execution": {
     "iopub.execute_input": "2022-08-25T01:32:20.863334Z",
     "iopub.status.busy": "2022-08-25T01:32:20.862897Z",
     "iopub.status.idle": "2022-08-25T01:32:20.964040Z",
     "shell.execute_reply": "2022-08-25T01:32:20.962914Z"
    },
    "papermill": {
     "duration": 0.117546,
     "end_time": "2022-08-25T01:32:20.966649",
     "exception": false,
     "start_time": "2022-08-25T01:32:20.849103",
     "status": "completed"
    },
    "tags": []
   },
   "outputs": [],
   "source": [
    "X = df2.iloc[:, :].values.reshape(-1, len(df2.columns))"
   ]
  },
  {
   "cell_type": "code",
   "execution_count": 31,
   "id": "278bacf9",
   "metadata": {
    "execution": {
     "iopub.execute_input": "2022-08-25T01:32:20.993045Z",
     "iopub.status.busy": "2022-08-25T01:32:20.992628Z",
     "iopub.status.idle": "2022-08-25T01:32:20.998512Z",
     "shell.execute_reply": "2022-08-25T01:32:20.997597Z"
    },
    "papermill": {
     "duration": 0.021646,
     "end_time": "2022-08-25T01:32:21.000630",
     "exception": false,
     "start_time": "2022-08-25T01:32:20.978984",
     "status": "completed"
    },
    "tags": []
   },
   "outputs": [
    {
     "data": {
      "text/plain": [
       "'X = df2.iloc[:, :].values.reshape(-1, len(df2.columns))\\n\\nY_pred2 = log.predict(X)\\nprint(Y_pred2)\\n\\ndf2 = df2.reset_index()\\n\\nfinal = pd.DataFrame({\"customer_ID\":df2.customer_ID,\"prediction\":Y_pred2})\\n\\nfinal.to_csv(\\'submission.csv\\', index=False)\\nprint(Y_pred2, np.sum(Y_pred2))\\n\\n#score ended as ~50'"
      ]
     },
     "execution_count": 31,
     "metadata": {},
     "output_type": "execute_result"
    }
   ],
   "source": [
    "\"\"\"X = df2.iloc[:, :].values.reshape(-1, len(df2.columns))\n",
    "\n",
    "Y_pred2 = log.predict(X)\n",
    "print(Y_pred2)\n",
    "\n",
    "df2 = df2.reset_index()\n",
    "\n",
    "final = pd.DataFrame({\"customer_ID\":df2.customer_ID,\"prediction\":Y_pred2})\n",
    "\n",
    "final.to_csv('submission.csv', index=False)\n",
    "print(Y_pred2, np.sum(Y_pred2))\n",
    "\n",
    "#score ended as ~50\"\"\""
   ]
  },
  {
   "cell_type": "code",
   "execution_count": 32,
   "id": "97fa6cc3",
   "metadata": {
    "execution": {
     "iopub.execute_input": "2022-08-25T01:32:21.026776Z",
     "iopub.status.busy": "2022-08-25T01:32:21.026323Z",
     "iopub.status.idle": "2022-08-25T01:33:11.882173Z",
     "shell.execute_reply": "2022-08-25T01:33:11.880836Z"
    },
    "papermill": {
     "duration": 50.885375,
     "end_time": "2022-08-25T01:33:11.898321",
     "exception": false,
     "start_time": "2022-08-25T01:32:21.012946",
     "status": "completed"
    },
    "tags": []
   },
   "outputs": [
    {
     "name": "stderr",
     "output_type": "stream",
     "text": [
      "/opt/conda/lib/python3.7/site-packages/sklearn/base.py:444: UserWarning: X has feature names, but RandomForestClassifier was fitted without feature names\n",
      "  f\"X has feature names, but {self.__class__.__name__} was fitted without\"\n"
     ]
    },
    {
     "name": "stdout",
     "output_type": "stream",
     "text": [
      "[0.27052621 0.00269555 0.21359158 ... 0.61279808 0.34811388 0.19110318] 236689.62827988918\n",
      "                                              customer_ID  prediction\n",
      "0       00000469ba478561f23a92a868bd366de6f6527a684c9a...    0.270526\n",
      "1       00001bf2e77ff879fab36aa4fac689b9ba411dae63ae39...    0.002696\n",
      "2       0000210045da4f81e5f122c6bde5c2a617d03eef67f82c...    0.213592\n",
      "3       00003b41e58ede33b8daf61ab56d9952f17c9ad1c3976c...    0.302406\n",
      "4       00004b22eaeeeb0ec976890c1d9bfc14fd9427e98c4ee9...    0.748133\n",
      "...                                                   ...         ...\n",
      "924616  ffff952c631f2c911b8a2a8ca56ea6e656309a83d2f64c...    0.145627\n",
      "924617  ffffcf5df59e5e0bba2a5ac4578a34e2b5aa64a1546cd3...    0.582627\n",
      "924618  ffffd61f098cc056dbd7d2a21380c4804bbfe60856f475...    0.612798\n",
      "924619  ffffddef1fc3643ea179c93245b68dca0f36941cd83977...    0.348114\n",
      "924620  fffffa7cf7e453e1acc6a1426475d5cb9400859f82ff61...    0.191103\n",
      "\n",
      "[924621 rows x 2 columns]\n"
     ]
    }
   ],
   "source": [
    "Y_pred2 = model.predict_proba(df2)\n",
    "Y_pred2 = Y_pred2[:,1]\n",
    "df2 = df2.reset_index()\n",
    "print(Y_pred2, np.sum(Y_pred2))\n",
    "final = pd.DataFrame({\"customer_ID\":df2.customer_ID,\"prediction\":Y_pred2})\n",
    "print(final)"
   ]
  },
  {
   "cell_type": "code",
   "execution_count": 33,
   "id": "8380bc01",
   "metadata": {
    "execution": {
     "iopub.execute_input": "2022-08-25T01:33:11.926013Z",
     "iopub.status.busy": "2022-08-25T01:33:11.925364Z",
     "iopub.status.idle": "2022-08-25T01:33:15.623431Z",
     "shell.execute_reply": "2022-08-25T01:33:15.621404Z"
    },
    "papermill": {
     "duration": 3.715521,
     "end_time": "2022-08-25T01:33:15.626714",
     "exception": false,
     "start_time": "2022-08-25T01:33:11.911193",
     "status": "completed"
    },
    "tags": []
   },
   "outputs": [
    {
     "name": "stdout",
     "output_type": "stream",
     "text": [
      "                                              customer_ID  prediction\n",
      "0       00000469ba478561f23a92a868bd366de6f6527a684c9a...    0.270526\n",
      "1       00001bf2e77ff879fab36aa4fac689b9ba411dae63ae39...    0.002696\n",
      "2       0000210045da4f81e5f122c6bde5c2a617d03eef67f82c...    0.213592\n",
      "3       00003b41e58ede33b8daf61ab56d9952f17c9ad1c3976c...    0.302406\n",
      "4       00004b22eaeeeb0ec976890c1d9bfc14fd9427e98c4ee9...    0.748133\n",
      "...                                                   ...         ...\n",
      "924616  ffff952c631f2c911b8a2a8ca56ea6e656309a83d2f64c...    0.145627\n",
      "924617  ffffcf5df59e5e0bba2a5ac4578a34e2b5aa64a1546cd3...    0.582627\n",
      "924618  ffffd61f098cc056dbd7d2a21380c4804bbfe60856f475...    0.612798\n",
      "924619  ffffddef1fc3643ea179c93245b68dca0f36941cd83977...    0.348114\n",
      "924620  fffffa7cf7e453e1acc6a1426475d5cb9400859f82ff61...    0.191103\n",
      "\n",
      "[924621 rows x 2 columns]\n"
     ]
    }
   ],
   "source": [
    "final.to_csv('submission.csv', index=False)\n",
    "print(final)"
   ]
  }
 ],
 "metadata": {
  "kernelspec": {
   "display_name": "Python 3",
   "language": "python",
   "name": "python3"
  },
  "language_info": {
   "codemirror_mode": {
    "name": "ipython",
    "version": 3
   },
   "file_extension": ".py",
   "mimetype": "text/x-python",
   "name": "python",
   "nbconvert_exporter": "python",
   "pygments_lexer": "ipython3",
   "version": "3.7.12"
  },
  "papermill": {
   "default_parameters": {},
   "duration": 1258.444003,
   "end_time": "2022-08-25T01:33:18.385338",
   "environment_variables": {},
   "exception": null,
   "input_path": "__notebook__.ipynb",
   "output_path": "__notebook__.ipynb",
   "parameters": {},
   "start_time": "2022-08-25T01:12:19.941335",
   "version": "2.3.4"
  }
 },
 "nbformat": 4,
 "nbformat_minor": 5
}
