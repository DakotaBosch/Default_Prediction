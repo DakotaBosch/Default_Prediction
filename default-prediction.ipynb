{
 "cells": [
  {
   "cell_type": "code",
   "execution_count": 1,
   "id": "c22c89ab",
   "metadata": {
    "_cell_guid": "b1076dfc-b9ad-4769-8c92-a6c4dae69d19",
    "_uuid": "8f2839f25d086af736a60e9eeb907d3b93b6e0e5",
    "execution": {
     "iopub.execute_input": "2022-08-24T23:05:50.610331Z",
     "iopub.status.busy": "2022-08-24T23:05:50.609703Z",
     "iopub.status.idle": "2022-08-24T23:05:52.152938Z",
     "shell.execute_reply": "2022-08-24T23:05:52.151468Z"
    },
    "papermill": {
     "duration": 1.559755,
     "end_time": "2022-08-24T23:05:52.156928",
     "exception": false,
     "start_time": "2022-08-24T23:05:50.597173",
     "status": "completed"
    },
    "tags": []
   },
   "outputs": [
    {
     "name": "stdout",
     "output_type": "stream",
     "text": [
      "/kaggle/input/amex-parquet/test_data.parquet\n",
      "/kaggle/input/amex-parquet/train_data.parquet\n",
      "/kaggle/input/amex-default-prediction/sample_submission.csv\n",
      "/kaggle/input/amex-default-prediction/train_data.csv\n",
      "/kaggle/input/amex-default-prediction/test_data.csv\n",
      "/kaggle/input/amex-default-prediction/train_labels.csv\n"
     ]
    }
   ],
   "source": [
    "import numpy as np # linear algebra\n",
    "import pandas as pd # data processing, CSV file I/O (e.g. pd.read_csv)\n",
    "import matplotlib.pyplot as plt\n",
    "import seaborn as sns\n",
    "from sklearn.linear_model import LogisticRegression\n",
    "from sklearn.impute import SimpleImputer\n",
    "from sklearn import metrics\n",
    "import gc\n",
    "\n",
    "# Input data files are available in the read-only \"../input/\" directory\n",
    "# For example, running this (by clicking run or pressing Shift+Enter) will list all files under the input directory\n",
    "\n",
    "import os\n",
    "for dirname, _, filenames in os.walk('/kaggle/input'):\n",
    "    for filename in filenames:\n",
    "        print(os.path.join(dirname, filename))\n",
    "\n",
    "# You can write up to 20GB to the current directory (/kaggle/working/) that gets preserved as output when you create a version using \"Save & Run All\" \n",
    "# You can also write temporary files to /kaggle/temp/, but they won't be saved outside of the current session"
   ]
  },
  {
   "cell_type": "code",
   "execution_count": 2,
   "id": "3117befd",
   "metadata": {
    "execution": {
     "iopub.execute_input": "2022-08-24T23:05:52.176594Z",
     "iopub.status.busy": "2022-08-24T23:05:52.175896Z",
     "iopub.status.idle": "2022-08-24T23:06:34.392122Z",
     "shell.execute_reply": "2022-08-24T23:06:34.390713Z"
    },
    "papermill": {
     "duration": 42.240897,
     "end_time": "2022-08-24T23:06:34.407352",
     "exception": false,
     "start_time": "2022-08-24T23:05:52.166455",
     "status": "completed"
    },
    "tags": []
   },
   "outputs": [
    {
     "data": {
      "text/html": [
       "<div>\n",
       "<style scoped>\n",
       "    .dataframe tbody tr th:only-of-type {\n",
       "        vertical-align: middle;\n",
       "    }\n",
       "\n",
       "    .dataframe tbody tr th {\n",
       "        vertical-align: top;\n",
       "    }\n",
       "\n",
       "    .dataframe thead th {\n",
       "        text-align: right;\n",
       "    }\n",
       "</style>\n",
       "<table border=\"1\" class=\"dataframe\">\n",
       "  <thead>\n",
       "    <tr style=\"text-align: right;\">\n",
       "      <th></th>\n",
       "      <th>customer_ID</th>\n",
       "      <th>target</th>\n",
       "    </tr>\n",
       "  </thead>\n",
       "  <tbody>\n",
       "    <tr>\n",
       "      <th>0</th>\n",
       "      <td>0000099d6bd597052cdcda90ffabf56573fe9d7c79be5f...</td>\n",
       "      <td>0</td>\n",
       "    </tr>\n",
       "    <tr>\n",
       "      <th>1</th>\n",
       "      <td>00000fd6641609c6ece5454664794f0340ad84dddce9a2...</td>\n",
       "      <td>0</td>\n",
       "    </tr>\n",
       "    <tr>\n",
       "      <th>2</th>\n",
       "      <td>00001b22f846c82c51f6e3958ccd81970162bae8b007e8...</td>\n",
       "      <td>0</td>\n",
       "    </tr>\n",
       "    <tr>\n",
       "      <th>3</th>\n",
       "      <td>000041bdba6ecadd89a52d11886e8eaaec9325906c9723...</td>\n",
       "      <td>0</td>\n",
       "    </tr>\n",
       "    <tr>\n",
       "      <th>4</th>\n",
       "      <td>00007889e4fcd2614b6cbe7f8f3d2e5c728eca32d9eb8a...</td>\n",
       "      <td>0</td>\n",
       "    </tr>\n",
       "  </tbody>\n",
       "</table>\n",
       "</div>"
      ],
      "text/plain": [
       "                                         customer_ID  target\n",
       "0  0000099d6bd597052cdcda90ffabf56573fe9d7c79be5f...       0\n",
       "1  00000fd6641609c6ece5454664794f0340ad84dddce9a2...       0\n",
       "2  00001b22f846c82c51f6e3958ccd81970162bae8b007e8...       0\n",
       "3  000041bdba6ecadd89a52d11886e8eaaec9325906c9723...       0\n",
       "4  00007889e4fcd2614b6cbe7f8f3d2e5c728eca32d9eb8a...       0"
      ]
     },
     "execution_count": 2,
     "metadata": {},
     "output_type": "execute_result"
    }
   ],
   "source": [
    "df1=pd.read_parquet('/kaggle/input/amex-parquet/train_data.parquet')\n",
    "df1.head()\n",
    "df1.shape\n",
    "df_label = pd.read_csv('/kaggle/input/amex-default-prediction/train_labels.csv')\n",
    "df_label.head()"
   ]
  },
  {
   "cell_type": "code",
   "execution_count": 3,
   "id": "cdd86736",
   "metadata": {
    "execution": {
     "iopub.execute_input": "2022-08-24T23:06:34.426181Z",
     "iopub.status.busy": "2022-08-24T23:06:34.425660Z",
     "iopub.status.idle": "2022-08-24T23:06:34.458107Z",
     "shell.execute_reply": "2022-08-24T23:06:34.457339Z"
    },
    "papermill": {
     "duration": 0.046031,
     "end_time": "2022-08-24T23:06:34.461744",
     "exception": false,
     "start_time": "2022-08-24T23:06:34.415713",
     "status": "completed"
    },
    "tags": []
   },
   "outputs": [
    {
     "data": {
      "text/html": [
       "<div>\n",
       "<style scoped>\n",
       "    .dataframe tbody tr th:only-of-type {\n",
       "        vertical-align: middle;\n",
       "    }\n",
       "\n",
       "    .dataframe tbody tr th {\n",
       "        vertical-align: top;\n",
       "    }\n",
       "\n",
       "    .dataframe thead th {\n",
       "        text-align: right;\n",
       "    }\n",
       "</style>\n",
       "<table border=\"1\" class=\"dataframe\">\n",
       "  <thead>\n",
       "    <tr style=\"text-align: right;\">\n",
       "      <th></th>\n",
       "      <th>customer_ID</th>\n",
       "      <th>S_2</th>\n",
       "      <th>P_2</th>\n",
       "      <th>D_39</th>\n",
       "      <th>B_1</th>\n",
       "      <th>B_2</th>\n",
       "      <th>R_1</th>\n",
       "      <th>S_3</th>\n",
       "      <th>D_41</th>\n",
       "      <th>B_3</th>\n",
       "      <th>...</th>\n",
       "      <th>D_137</th>\n",
       "      <th>D_138</th>\n",
       "      <th>D_139</th>\n",
       "      <th>D_140</th>\n",
       "      <th>D_141</th>\n",
       "      <th>D_142</th>\n",
       "      <th>D_143</th>\n",
       "      <th>D_144</th>\n",
       "      <th>D_145</th>\n",
       "      <th>target</th>\n",
       "    </tr>\n",
       "  </thead>\n",
       "  <tbody>\n",
       "    <tr>\n",
       "      <th>0</th>\n",
       "      <td>0000099d6bd597052cdcda90ffabf56573fe9d7c79be5f...</td>\n",
       "      <td>2017-03-09</td>\n",
       "      <td>0.938469</td>\n",
       "      <td>0.001733</td>\n",
       "      <td>0.008724</td>\n",
       "      <td>1.006838</td>\n",
       "      <td>0.009228</td>\n",
       "      <td>0.124035</td>\n",
       "      <td>0.008771</td>\n",
       "      <td>0.004709</td>\n",
       "      <td>...</td>\n",
       "      <td>NaN</td>\n",
       "      <td>NaN</td>\n",
       "      <td>0.002427</td>\n",
       "      <td>0.003706</td>\n",
       "      <td>0.003818</td>\n",
       "      <td>NaN</td>\n",
       "      <td>0.000569</td>\n",
       "      <td>0.000610</td>\n",
       "      <td>0.002674</td>\n",
       "      <td>0</td>\n",
       "    </tr>\n",
       "    <tr>\n",
       "      <th>1</th>\n",
       "      <td>0000099d6bd597052cdcda90ffabf56573fe9d7c79be5f...</td>\n",
       "      <td>2017-04-07</td>\n",
       "      <td>0.936665</td>\n",
       "      <td>0.005775</td>\n",
       "      <td>0.004923</td>\n",
       "      <td>1.000653</td>\n",
       "      <td>0.006151</td>\n",
       "      <td>0.126750</td>\n",
       "      <td>0.000798</td>\n",
       "      <td>0.002714</td>\n",
       "      <td>...</td>\n",
       "      <td>NaN</td>\n",
       "      <td>NaN</td>\n",
       "      <td>0.003954</td>\n",
       "      <td>0.003167</td>\n",
       "      <td>0.005032</td>\n",
       "      <td>NaN</td>\n",
       "      <td>0.009576</td>\n",
       "      <td>0.005492</td>\n",
       "      <td>0.009217</td>\n",
       "      <td>0</td>\n",
       "    </tr>\n",
       "    <tr>\n",
       "      <th>2</th>\n",
       "      <td>0000099d6bd597052cdcda90ffabf56573fe9d7c79be5f...</td>\n",
       "      <td>2017-05-28</td>\n",
       "      <td>0.954180</td>\n",
       "      <td>0.091505</td>\n",
       "      <td>0.021655</td>\n",
       "      <td>1.009672</td>\n",
       "      <td>0.006815</td>\n",
       "      <td>0.123977</td>\n",
       "      <td>0.007598</td>\n",
       "      <td>0.009423</td>\n",
       "      <td>...</td>\n",
       "      <td>NaN</td>\n",
       "      <td>NaN</td>\n",
       "      <td>0.003269</td>\n",
       "      <td>0.007329</td>\n",
       "      <td>0.000427</td>\n",
       "      <td>NaN</td>\n",
       "      <td>0.003429</td>\n",
       "      <td>0.006986</td>\n",
       "      <td>0.002603</td>\n",
       "      <td>0</td>\n",
       "    </tr>\n",
       "    <tr>\n",
       "      <th>3</th>\n",
       "      <td>0000099d6bd597052cdcda90ffabf56573fe9d7c79be5f...</td>\n",
       "      <td>2017-06-13</td>\n",
       "      <td>0.960384</td>\n",
       "      <td>0.002455</td>\n",
       "      <td>0.013683</td>\n",
       "      <td>1.002700</td>\n",
       "      <td>0.001373</td>\n",
       "      <td>0.117169</td>\n",
       "      <td>0.000685</td>\n",
       "      <td>0.005531</td>\n",
       "      <td>...</td>\n",
       "      <td>NaN</td>\n",
       "      <td>NaN</td>\n",
       "      <td>0.006117</td>\n",
       "      <td>0.004516</td>\n",
       "      <td>0.003200</td>\n",
       "      <td>NaN</td>\n",
       "      <td>0.008419</td>\n",
       "      <td>0.006527</td>\n",
       "      <td>0.009600</td>\n",
       "      <td>0</td>\n",
       "    </tr>\n",
       "    <tr>\n",
       "      <th>4</th>\n",
       "      <td>0000099d6bd597052cdcda90ffabf56573fe9d7c79be5f...</td>\n",
       "      <td>2017-07-16</td>\n",
       "      <td>0.947248</td>\n",
       "      <td>0.002483</td>\n",
       "      <td>0.015193</td>\n",
       "      <td>1.000727</td>\n",
       "      <td>0.007605</td>\n",
       "      <td>0.117325</td>\n",
       "      <td>0.004653</td>\n",
       "      <td>0.009312</td>\n",
       "      <td>...</td>\n",
       "      <td>NaN</td>\n",
       "      <td>NaN</td>\n",
       "      <td>0.003671</td>\n",
       "      <td>0.004946</td>\n",
       "      <td>0.008889</td>\n",
       "      <td>NaN</td>\n",
       "      <td>0.001670</td>\n",
       "      <td>0.008126</td>\n",
       "      <td>0.009827</td>\n",
       "      <td>0</td>\n",
       "    </tr>\n",
       "  </tbody>\n",
       "</table>\n",
       "<p>5 rows × 191 columns</p>\n",
       "</div>"
      ],
      "text/plain": [
       "                                         customer_ID         S_2       P_2  \\\n",
       "0  0000099d6bd597052cdcda90ffabf56573fe9d7c79be5f...  2017-03-09  0.938469   \n",
       "1  0000099d6bd597052cdcda90ffabf56573fe9d7c79be5f...  2017-04-07  0.936665   \n",
       "2  0000099d6bd597052cdcda90ffabf56573fe9d7c79be5f...  2017-05-28  0.954180   \n",
       "3  0000099d6bd597052cdcda90ffabf56573fe9d7c79be5f...  2017-06-13  0.960384   \n",
       "4  0000099d6bd597052cdcda90ffabf56573fe9d7c79be5f...  2017-07-16  0.947248   \n",
       "\n",
       "       D_39       B_1       B_2       R_1       S_3      D_41       B_3  ...  \\\n",
       "0  0.001733  0.008724  1.006838  0.009228  0.124035  0.008771  0.004709  ...   \n",
       "1  0.005775  0.004923  1.000653  0.006151  0.126750  0.000798  0.002714  ...   \n",
       "2  0.091505  0.021655  1.009672  0.006815  0.123977  0.007598  0.009423  ...   \n",
       "3  0.002455  0.013683  1.002700  0.001373  0.117169  0.000685  0.005531  ...   \n",
       "4  0.002483  0.015193  1.000727  0.007605  0.117325  0.004653  0.009312  ...   \n",
       "\n",
       "   D_137  D_138     D_139     D_140     D_141  D_142     D_143     D_144  \\\n",
       "0    NaN    NaN  0.002427  0.003706  0.003818    NaN  0.000569  0.000610   \n",
       "1    NaN    NaN  0.003954  0.003167  0.005032    NaN  0.009576  0.005492   \n",
       "2    NaN    NaN  0.003269  0.007329  0.000427    NaN  0.003429  0.006986   \n",
       "3    NaN    NaN  0.006117  0.004516  0.003200    NaN  0.008419  0.006527   \n",
       "4    NaN    NaN  0.003671  0.004946  0.008889    NaN  0.001670  0.008126   \n",
       "\n",
       "      D_145  target  \n",
       "0  0.002674       0  \n",
       "1  0.009217       0  \n",
       "2  0.002603       0  \n",
       "3  0.009600       0  \n",
       "4  0.009827       0  \n",
       "\n",
       "[5 rows x 191 columns]"
      ]
     },
     "execution_count": 3,
     "metadata": {},
     "output_type": "execute_result"
    }
   ],
   "source": [
    "df1.head()"
   ]
  },
  {
   "cell_type": "code",
   "execution_count": 4,
   "id": "9c627b20",
   "metadata": {
    "execution": {
     "iopub.execute_input": "2022-08-24T23:06:34.485985Z",
     "iopub.status.busy": "2022-08-24T23:06:34.484993Z",
     "iopub.status.idle": "2022-08-24T23:06:34.870685Z",
     "shell.execute_reply": "2022-08-24T23:06:34.869559Z"
    },
    "papermill": {
     "duration": 0.398277,
     "end_time": "2022-08-24T23:06:34.873212",
     "exception": false,
     "start_time": "2022-08-24T23:06:34.474935",
     "status": "completed"
    },
    "tags": []
   },
   "outputs": [
    {
     "name": "stdout",
     "output_type": "stream",
     "text": [
      "float32    185\n",
      "object       4\n",
      "int64        2\n",
      "dtype: int64\n"
     ]
    },
    {
     "data": {
      "text/plain": [
       "['customer_ID', 'S_2', 'D_63', 'D_64']"
      ]
     },
     "execution_count": 4,
     "metadata": {},
     "output_type": "execute_result"
    }
   ],
   "source": [
    "#checking out data types\n",
    "print(df1.dtypes.value_counts())\n",
    "list(df1.select_dtypes(['object']).columns)"
   ]
  },
  {
   "cell_type": "code",
   "execution_count": 5,
   "id": "16bb62b8",
   "metadata": {
    "execution": {
     "iopub.execute_input": "2022-08-24T23:06:34.892136Z",
     "iopub.status.busy": "2022-08-24T23:06:34.891453Z",
     "iopub.status.idle": "2022-08-24T23:06:34.896014Z",
     "shell.execute_reply": "2022-08-24T23:06:34.894895Z"
    },
    "papermill": {
     "duration": 0.016848,
     "end_time": "2022-08-24T23:06:34.898443",
     "exception": false,
     "start_time": "2022-08-24T23:06:34.881595",
     "status": "completed"
    },
    "tags": []
   },
   "outputs": [],
   "source": [
    "#visualizing columns\n",
    "\n",
    "#hist = df1.hist(bins=10, figsize = (40,200), layout=(-1,4) )"
   ]
  },
  {
   "cell_type": "code",
   "execution_count": 6,
   "id": "7317fb42",
   "metadata": {
    "execution": {
     "iopub.execute_input": "2022-08-24T23:06:34.918525Z",
     "iopub.status.busy": "2022-08-24T23:06:34.917269Z",
     "iopub.status.idle": "2022-08-24T23:06:42.532222Z",
     "shell.execute_reply": "2022-08-24T23:06:42.529820Z"
    },
    "papermill": {
     "duration": 7.628855,
     "end_time": "2022-08-24T23:06:42.535611",
     "exception": false,
     "start_time": "2022-08-24T23:06:34.906756",
     "status": "completed"
    },
    "tags": []
   },
   "outputs": [
    {
     "name": "stdout",
     "output_type": "stream",
     "text": [
      "191\n",
      "S_3 0.18\n",
      "D_42 0.86\n",
      "D_43 0.3\n",
      "D_46 0.22\n",
      "D_48 0.13\n",
      "D_49 0.9\n",
      "D_50 0.57\n",
      "D_53 0.74\n",
      "S_7 0.18\n",
      "D_56 0.54\n",
      "S_9 0.53\n",
      "D_61 0.11\n",
      "D_62 0.14\n",
      "B_17 0.57\n",
      "D_66 0.89\n",
      "D_73 0.99\n",
      "D_76 0.89\n",
      "D_77 0.45\n",
      "R_9 0.94\n",
      "D_82 0.73\n",
      "B_29 0.93\n",
      "D_87 1.0\n",
      "D_88 1.0\n",
      "D_105 0.55\n",
      "D_106 0.9\n",
      "R_26 0.89\n",
      "D_108 0.99\n",
      "D_110 0.99\n",
      "D_111 0.99\n",
      "B_39 0.99\n",
      "S_27 0.25\n",
      "B_42 0.99\n",
      "D_132 0.9\n",
      "D_134 0.96\n",
      "D_135 0.96\n",
      "D_136 0.96\n",
      "D_137 0.96\n",
      "D_138 0.96\n",
      "D_142 0.83\n",
      "152\n"
     ]
    }
   ],
   "source": [
    "print(df1.shape[1])\n",
    "#inspecting NaN\n",
    "for i in range(len(df1.columns)):\n",
    "    if (df1.iloc[:,i].isnull().sum()/len(df1) > 0.1):\n",
    "        print(df1.columns[i], round(df1.iloc[:,i].isnull().sum()/len(df1),2))\n",
    "\n",
    "#drop columns with high freq of NaN\n",
    "columns_to_drop = [column for column in df1.columns if df1[column].isnull().sum()/len(df1) >= 0.1]\n",
    "df1.drop(columns_to_drop, axis=1, inplace=True)\n",
    "print(df1.shape[1])"
   ]
  },
  {
   "cell_type": "code",
   "execution_count": 7,
   "id": "ec3547ff",
   "metadata": {
    "execution": {
     "iopub.execute_input": "2022-08-24T23:06:42.557512Z",
     "iopub.status.busy": "2022-08-24T23:06:42.556480Z",
     "iopub.status.idle": "2022-08-24T23:07:06.631995Z",
     "shell.execute_reply": "2022-08-24T23:07:06.630483Z"
    },
    "papermill": {
     "duration": 24.089845,
     "end_time": "2022-08-24T23:07:06.634946",
     "exception": false,
     "start_time": "2022-08-24T23:06:42.545101",
     "status": "completed"
    },
    "tags": []
   },
   "outputs": [
    {
     "name": "stdout",
     "output_type": "stream",
     "text": [
      "(5531451, 152) (458913, 150)\n",
      "Columns left with NaN:\n"
     ]
    }
   ],
   "source": [
    "#using only most recent transaction from each customer\n",
    "temp = df1.shape\n",
    "df1=df1.set_index(['customer_ID'])\n",
    "df1=df1.ffill()\n",
    "df1=df1.bfill()\n",
    "df1=df1.reset_index()\n",
    "\n",
    "df1=df1.groupby('customer_ID').tail(1)\n",
    "df1=df1.set_index(['customer_ID'])\n",
    "\n",
    "#Drop date column since it is no longer useful\n",
    "df1.drop(['S_2'],axis=1,inplace=True)\n",
    "\n",
    "print(temp, df1.shape)\n",
    "\n",
    "#inspecting NaN\n",
    "print('Columns left with NaN:')\n",
    "for i in range(len(df1.columns)):\n",
    "    if (df1.iloc[:,i].isnull().sum()/len(df1) > 0):\n",
    "        print(df1.columns[i], round(df1.iloc[:,i].isnull().sum()/len(df1),2))"
   ]
  },
  {
   "cell_type": "code",
   "execution_count": 8,
   "id": "afa1ed05",
   "metadata": {
    "execution": {
     "iopub.execute_input": "2022-08-24T23:07:06.655529Z",
     "iopub.status.busy": "2022-08-24T23:07:06.655094Z",
     "iopub.status.idle": "2022-08-24T23:07:06.763265Z",
     "shell.execute_reply": "2022-08-24T23:07:06.761891Z"
    },
    "papermill": {
     "duration": 0.121589,
     "end_time": "2022-08-24T23:07:06.765858",
     "exception": false,
     "start_time": "2022-08-24T23:07:06.644269",
     "status": "completed"
    },
    "tags": []
   },
   "outputs": [],
   "source": [
    "df1.head()\n",
    "df1 = df1.drop(['target'], axis=1)\n",
    "keep = df1.columns"
   ]
  },
  {
   "cell_type": "code",
   "execution_count": 9,
   "id": "776a6195",
   "metadata": {
    "execution": {
     "iopub.execute_input": "2022-08-24T23:07:06.788178Z",
     "iopub.status.busy": "2022-08-24T23:07:06.787779Z",
     "iopub.status.idle": "2022-08-24T23:07:33.671849Z",
     "shell.execute_reply": "2022-08-24T23:07:33.670441Z"
    },
    "papermill": {
     "duration": 26.899084,
     "end_time": "2022-08-24T23:07:33.674293",
     "exception": false,
     "start_time": "2022-08-24T23:07:06.775209",
     "status": "completed"
    },
    "tags": []
   },
   "outputs": [
    {
     "name": "stdout",
     "output_type": "stream",
     "text": [
      "(458913, 149)\n",
      "(458913, 136)\n"
     ]
    },
    {
     "name": "stderr",
     "output_type": "stream",
     "text": [
      "/opt/conda/lib/python3.7/site-packages/ipykernel_launcher.py:6: DeprecationWarning: `np.bool` is a deprecated alias for the builtin `bool`. To silence this warning, use `bool` by itself. Doing this will not modify any behavior and is safe. If you specifically wanted the numpy scalar type, use `np.bool_` here.\n",
      "Deprecated in NumPy 1.20; for more details and guidance: https://numpy.org/devdocs/release/1.20.0-notes.html#deprecations\n",
      "  \n"
     ]
    }
   ],
   "source": [
    "print(df1.shape)\n",
    "# Create correlation matrix\n",
    "corr_matrix = df1.corr().abs()\n",
    "\n",
    "# Select upper triangle of correlation matrix\n",
    "upper = corr_matrix.where(np.triu(np.ones(corr_matrix.shape), k=1).astype(np.bool))\n",
    "\n",
    "# Find features with correlation greater than 0.9\n",
    "to_drop = [column for column in upper.columns if any(upper[column] > 0.9)]\n",
    "\n",
    "# Drop features w/ high correl\n",
    "df1.drop(to_drop, axis=1, inplace=True)\n",
    "\n",
    "print(df1.shape)\n"
   ]
  },
  {
   "cell_type": "code",
   "execution_count": 10,
   "id": "6629fc67",
   "metadata": {
    "execution": {
     "iopub.execute_input": "2022-08-24T23:07:33.695215Z",
     "iopub.status.busy": "2022-08-24T23:07:33.694241Z",
     "iopub.status.idle": "2022-08-24T23:07:34.563580Z",
     "shell.execute_reply": "2022-08-24T23:07:34.562299Z"
    },
    "papermill": {
     "duration": 0.882262,
     "end_time": "2022-08-24T23:07:34.565910",
     "exception": false,
     "start_time": "2022-08-24T23:07:33.683648",
     "status": "completed"
    },
    "tags": []
   },
   "outputs": [
    {
     "data": {
      "text/plain": [
       "53"
      ]
     },
     "execution_count": 10,
     "metadata": {},
     "output_type": "execute_result"
    }
   ],
   "source": [
    "#Removing low variance columns in interest of ram\n",
    "from sklearn.feature_selection import VarianceThreshold\n",
    "from itertools import compress\n",
    "\n",
    "temp = df1.drop(['D_63', 'D_64'], axis=1)\n",
    "\n",
    "# Initialize and fit the method\n",
    "vt = VarianceThreshold(threshold = float(0.1))\n",
    "vt.fit(temp)\n",
    "\n",
    "#columns with sufficient variance\n",
    "keep = list(compress(temp.columns, vt.get_support()))\n",
    "\n",
    "keep.append('D_63')\n",
    "keep.append('D_64')\n",
    "\n",
    "df1=df1[keep]\n",
    "\n",
    "keep.append('customer_ID')\n",
    "keep.append('S_2')\n",
    "len(keep)\n"
   ]
  },
  {
   "cell_type": "code",
   "execution_count": 11,
   "id": "3815eded",
   "metadata": {
    "execution": {
     "iopub.execute_input": "2022-08-24T23:07:34.586478Z",
     "iopub.status.busy": "2022-08-24T23:07:34.585882Z",
     "iopub.status.idle": "2022-08-24T23:07:34.593085Z",
     "shell.execute_reply": "2022-08-24T23:07:34.591943Z"
    },
    "papermill": {
     "duration": 0.020254,
     "end_time": "2022-08-24T23:07:34.595514",
     "exception": false,
     "start_time": "2022-08-24T23:07:34.575260",
     "status": "completed"
    },
    "tags": []
   },
   "outputs": [
    {
     "data": {
      "text/plain": [
       "'\"\\n#removing outliers\\nprint(df1.shape)\\n\\ndf1 = df1[df1[\\'R_6\\'] < df1[\\'R_6\\'].quantile(0.97)]\\nprint(df1[\\'R_6\\'].max())\\nprint(df1.shape)'"
      ]
     },
     "execution_count": 11,
     "metadata": {},
     "output_type": "execute_result"
    }
   ],
   "source": [
    "\"\"\"\"\n",
    "#removing outliers\n",
    "print(df1.shape)\n",
    "\n",
    "df1 = df1[df1['R_6'] < df1['R_6'].quantile(0.97)]\n",
    "print(df1['R_6'].max())\n",
    "print(df1.shape)\"\"\""
   ]
  },
  {
   "cell_type": "code",
   "execution_count": 12,
   "id": "5ce384fe",
   "metadata": {
    "execution": {
     "iopub.execute_input": "2022-08-24T23:07:34.616378Z",
     "iopub.status.busy": "2022-08-24T23:07:34.615715Z",
     "iopub.status.idle": "2022-08-24T23:07:34.621544Z",
     "shell.execute_reply": "2022-08-24T23:07:34.620748Z"
    },
    "papermill": {
     "duration": 0.018648,
     "end_time": "2022-08-24T23:07:34.623571",
     "exception": false,
     "start_time": "2022-08-24T23:07:34.604923",
     "status": "completed"
    },
    "tags": []
   },
   "outputs": [
    {
     "data": {
      "text/plain": [
       "\"#df1.iloc[:100000,7].value_counts()\\nprint(df1.iloc[:,1].head())\\n\\n\\n#What type of variable for dates\\ndf1['S_2'] = pd.to_datetime(df1['S_2'])\\ndf1['S_2'] = pd.to_numeric(df1['S_2'])\\n\\n#normalizing\\n#df1['S_2'] = (df1['S_2']-df1['S_2'].min())/(df1['S_2'].max() - df1['S_2'].min())\\nprint(df1['S_2'].head())\\n\\ndf1['S_2'] = pd.to_timedelta(df1['S_2'])\\nprint(df1.iloc[:,1].dt.total_seconds())\\n\""
      ]
     },
     "execution_count": 12,
     "metadata": {},
     "output_type": "execute_result"
    }
   ],
   "source": [
    "\"\"\"#df1.iloc[:100000,7].value_counts()\n",
    "print(df1.iloc[:,1].head())\n",
    "\n",
    "\n",
    "#What type of variable for dates\n",
    "df1['S_2'] = pd.to_datetime(df1['S_2'])\n",
    "df1['S_2'] = pd.to_numeric(df1['S_2'])\n",
    "\n",
    "#normalizing\n",
    "#df1['S_2'] = (df1['S_2']-df1['S_2'].min())/(df1['S_2'].max() - df1['S_2'].min())\n",
    "print(df1['S_2'].head())\n",
    "\n",
    "df1['S_2'] = pd.to_timedelta(df1['S_2'])\n",
    "print(df1.iloc[:,1].dt.total_seconds())\n",
    "\"\"\""
   ]
  },
  {
   "cell_type": "code",
   "execution_count": 13,
   "id": "7202c7a0",
   "metadata": {
    "execution": {
     "iopub.execute_input": "2022-08-24T23:07:34.644625Z",
     "iopub.status.busy": "2022-08-24T23:07:34.643825Z",
     "iopub.status.idle": "2022-08-24T23:07:34.980153Z",
     "shell.execute_reply": "2022-08-24T23:07:34.978616Z"
    },
    "papermill": {
     "duration": 0.35046,
     "end_time": "2022-08-24T23:07:34.983423",
     "exception": false,
     "start_time": "2022-08-24T23:07:34.632963",
     "status": "completed"
    },
    "tags": []
   },
   "outputs": [
    {
     "name": "stdout",
     "output_type": "stream",
     "text": [
      "(458913, 59)\n",
      "Index(['D_39', 'B_2', 'B_5', 'B_6', 'B_8', 'B_10', 'S_5', 'S_6', 'B_12', 'R_5',\n",
      "       'D_60', 'D_65', 'B_16', 'B_18', 'B_20', 'D_68', 'R_6', 'B_21', 'D_69',\n",
      "       'D_71', 'P_4', 'B_24', 'R_7', 'B_26', 'D_78', 'R_8', 'S_16', 'R_10',\n",
      "       'D_81', 'R_14', 'D_84', 'B_30', 'R_20', 'S_22', 'S_23', 'S_26', 'D_103',\n",
      "       'R_27', 'B_38', 'D_112', 'B_40', 'D_114', 'D_117', 'D_120', 'D_126',\n",
      "       'D_128', 'D_129', 'D_130', 'D_139', 'D_63_CL', 'D_63_CO', 'D_63_CR',\n",
      "       'D_63_XL', 'D_63_XM', 'D_63_XZ', 'D_64_-1', 'D_64_O', 'D_64_R',\n",
      "       'D_64_U'],\n",
      "      dtype='object')\n",
      "1865\n",
      "(458913, 58)\n"
     ]
    }
   ],
   "source": [
    "#Hot ones\n",
    "df1 = pd.get_dummies(df1)\n",
    "print(df1.shape)\n",
    "print(df1.columns)\n",
    "print(df1['D_64_-1'].sum())\n",
    "df1.drop(['D_64_-1'], axis=1, inplace = True)\n",
    "print(df1.shape)"
   ]
  },
  {
   "cell_type": "code",
   "execution_count": 14,
   "id": "ec12fd8f",
   "metadata": {
    "execution": {
     "iopub.execute_input": "2022-08-24T23:07:35.005620Z",
     "iopub.status.busy": "2022-08-24T23:07:35.005213Z",
     "iopub.status.idle": "2022-08-24T23:07:35.009808Z",
     "shell.execute_reply": "2022-08-24T23:07:35.008459Z"
    },
    "papermill": {
     "duration": 0.018524,
     "end_time": "2022-08-24T23:07:35.012304",
     "exception": false,
     "start_time": "2022-08-24T23:07:34.993780",
     "status": "completed"
    },
    "tags": []
   },
   "outputs": [],
   "source": [
    "#Handling missing values\n",
    "#my_imputer = SimpleImputer()\n",
    "#df1.iloc[:,:] = my_imputer.fit_transform(df1.iloc[:,:])"
   ]
  },
  {
   "cell_type": "code",
   "execution_count": 15,
   "id": "16bc20aa",
   "metadata": {
    "execution": {
     "iopub.execute_input": "2022-08-24T23:07:35.034095Z",
     "iopub.status.busy": "2022-08-24T23:07:35.033014Z",
     "iopub.status.idle": "2022-08-24T23:07:35.078771Z",
     "shell.execute_reply": "2022-08-24T23:07:35.077710Z"
    },
    "papermill": {
     "duration": 0.059558,
     "end_time": "2022-08-24T23:07:35.081626",
     "exception": false,
     "start_time": "2022-08-24T23:07:35.022068",
     "status": "completed"
    },
    "tags": []
   },
   "outputs": [],
   "source": [
    "X = df1.iloc[:, :].values.reshape(-1, len(df1.columns))\n",
    "Y = df_label.iloc[:len(df1), 1].values.reshape(-1, 1)"
   ]
  },
  {
   "cell_type": "code",
   "execution_count": 16,
   "id": "262a2523",
   "metadata": {
    "execution": {
     "iopub.execute_input": "2022-08-24T23:07:35.103235Z",
     "iopub.status.busy": "2022-08-24T23:07:35.102371Z",
     "iopub.status.idle": "2022-08-24T23:07:35.107846Z",
     "shell.execute_reply": "2022-08-24T23:07:35.107069Z"
    },
    "papermill": {
     "duration": 0.018441,
     "end_time": "2022-08-24T23:07:35.109922",
     "exception": false,
     "start_time": "2022-08-24T23:07:35.091481",
     "status": "completed"
    },
    "tags": []
   },
   "outputs": [
    {
     "data": {
      "text/plain": [
       "'\\n# create object for the class\\nlog = LogisticRegression()\\nlog.fit(X, Y) \\nY_pred = log.predict(X)\\n\\nprint(Y_pred, np.sum(Y_pred))\\nprint(log.score(X, Y))'"
      ]
     },
     "execution_count": 16,
     "metadata": {},
     "output_type": "execute_result"
    }
   ],
   "source": [
    "\"\"\"\n",
    "# create object for the class\n",
    "log = LogisticRegression()\n",
    "log.fit(X, Y) \n",
    "Y_pred = log.predict(X)\n",
    "\n",
    "print(Y_pred, np.sum(Y_pred))\n",
    "print(log.score(X, Y))\"\"\""
   ]
  },
  {
   "cell_type": "code",
   "execution_count": 17,
   "id": "745b79bc",
   "metadata": {
    "execution": {
     "iopub.execute_input": "2022-08-24T23:07:35.131432Z",
     "iopub.status.busy": "2022-08-24T23:07:35.130827Z",
     "iopub.status.idle": "2022-08-24T23:24:33.607595Z",
     "shell.execute_reply": "2022-08-24T23:24:33.606143Z"
    },
    "papermill": {
     "duration": 1018.503225,
     "end_time": "2022-08-24T23:24:33.622947",
     "exception": false,
     "start_time": "2022-08-24T23:07:35.119722",
     "status": "completed"
    },
    "tags": []
   },
   "outputs": [
    {
     "name": "stderr",
     "output_type": "stream",
     "text": [
      "/opt/conda/lib/python3.7/site-packages/ipykernel_launcher.py:28: DataConversionWarning: A column-vector y was passed when a 1d array was expected. Please change the shape of y to (n_samples,), for example using ravel().\n"
     ]
    },
    {
     "data": {
      "text/plain": [
       "RandomForestClassifier(max_depth=30, max_features='sqrt', min_samples_split=5,\n",
       "                       n_estimators=400, n_jobs=-1)"
      ]
     },
     "execution_count": 17,
     "metadata": {},
     "output_type": "execute_result"
    }
   ],
   "source": [
    "\n",
    "#trying random forest\n",
    "from sklearn.ensemble import RandomForestClassifier\n",
    "from sklearn.model_selection import RandomizedSearchCV, GridSearchCV\n",
    "# Number of trees in random forest\n",
    "n_estimators = [int(x) for x in np.linspace(start = 200, stop = 2000, num = 10)]\n",
    "# Number of features to consider at every split\n",
    "max_features = ['auto', 'sqrt']\n",
    "# Maximum number of levels in tree\n",
    "max_depth = [int(x) for x in np.linspace(10, 110, num = 11)]\n",
    "max_depth.append(None)\n",
    "# Minimum number of samples required to split a node\n",
    "min_samples_split = [2, 5, 10]\n",
    "# Minimum number of samples required at each leaf node\n",
    "min_samples_leaf = [1, 2, 4]\n",
    "# Method of selecting samples for training each tree\n",
    "bootstrap = [True, False]\n",
    "# Create the random grid\n",
    "random_grid = {'n_estimators': n_estimators,\n",
    "               'max_features': max_features,\n",
    "               'max_depth': max_depth,\n",
    "               'min_samples_split': min_samples_split,\n",
    "               'min_samples_leaf': min_samples_leaf,\n",
    "               'bootstrap': bootstrap}\n",
    "\n",
    "model = RandomForestClassifier(n_estimators=400, max_features='sqrt', bootstrap=True, max_depth=30, min_samples_leaf=1, min_samples_split=5, n_jobs=-1)\n",
    "#rf_random = GridSearchCV(estimator = rf, param_grid = random_grid, cv = 3, verbose=1, n_jobs = -1)\n",
    "# Fit the random search model\n",
    "model.fit(X,Y)"
   ]
  },
  {
   "cell_type": "code",
   "execution_count": 18,
   "id": "af074113",
   "metadata": {
    "execution": {
     "iopub.execute_input": "2022-08-24T23:24:33.645195Z",
     "iopub.status.busy": "2022-08-24T23:24:33.644803Z",
     "iopub.status.idle": "2022-08-24T23:24:57.729880Z",
     "shell.execute_reply": "2022-08-24T23:24:57.728087Z"
    },
    "papermill": {
     "duration": 24.099947,
     "end_time": "2022-08-24T23:24:57.732803",
     "exception": false,
     "start_time": "2022-08-24T23:24:33.632856",
     "status": "completed"
    },
    "tags": []
   },
   "outputs": [
    {
     "name": "stdout",
     "output_type": "stream",
     "text": [
      "(458913,) [0.84701281 0.2522547  0.96073817 0.00227321 0.02118109 0.03232589\n",
      " 0.00204018 0.0013853  0.00274719 0.99130128 0.03654359 0.00145439\n",
      " 0.90311354 0.97194019 0.00159041 0.19221718 0.02136508 0.00347306\n",
      " 0.0014219  0.00255803 0.87244717 0.00476321 0.74691914 0.00142361\n",
      " 0.00154948]\n"
     ]
    }
   ],
   "source": [
    "Y_pred = model.predict_proba(X)\n",
    "Y_pred = Y_pred[:,1]\n",
    "print(Y_pred.shape, Y_pred[25:50])"
   ]
  },
  {
   "cell_type": "code",
   "execution_count": 19,
   "id": "4299c4e5",
   "metadata": {
    "execution": {
     "iopub.execute_input": "2022-08-24T23:24:57.754905Z",
     "iopub.status.busy": "2022-08-24T23:24:57.754509Z",
     "iopub.status.idle": "2022-08-24T23:24:57.761187Z",
     "shell.execute_reply": "2022-08-24T23:24:57.760145Z"
    },
    "papermill": {
     "duration": 0.020267,
     "end_time": "2022-08-24T23:24:57.763347",
     "exception": false,
     "start_time": "2022-08-24T23:24:57.743080",
     "status": "completed"
    },
    "tags": []
   },
   "outputs": [
    {
     "data": {
      "text/plain": [
       "\"def evaluate(model, test_features, test_labels):\\n    predictions = model.predict(test_features)\\n    errors = abs(predictions - test_labels)\\n    mape = 100 * np.mean(errors / test_labels)\\n    accuracy = 100 - mape\\n    print('Model Performance')\\n    print('Average Error: {:0.4f} degrees.'.format(np.mean(errors)))\\n    print('Accuracy = {:0.2f}%.'.format(accuracy))\\n    \\naccuracy = evaluate(model, X, Y)\\n\\nprint('Accuracy:{:0.2f}%.'.format( 100 * accuracy))\""
      ]
     },
     "execution_count": 19,
     "metadata": {},
     "output_type": "execute_result"
    }
   ],
   "source": [
    "\"\"\"def evaluate(model, test_features, test_labels):\n",
    "    predictions = model.predict(test_features)\n",
    "    errors = abs(predictions - test_labels)\n",
    "    mape = 100 * np.mean(errors / test_labels)\n",
    "    accuracy = 100 - mape\n",
    "    print('Model Performance')\n",
    "    print('Average Error: {:0.4f} degrees.'.format(np.mean(errors)))\n",
    "    print('Accuracy = {:0.2f}%.'.format(accuracy))\n",
    "    \n",
    "accuracy = evaluate(model, X, Y)\n",
    "\n",
    "print('Accuracy:{:0.2f}%.'.format( 100 * accuracy))\"\"\""
   ]
  },
  {
   "cell_type": "code",
   "execution_count": 20,
   "id": "aa63679f",
   "metadata": {
    "execution": {
     "iopub.execute_input": "2022-08-24T23:24:57.785291Z",
     "iopub.status.busy": "2022-08-24T23:24:57.784884Z",
     "iopub.status.idle": "2022-08-24T23:24:57.791497Z",
     "shell.execute_reply": "2022-08-24T23:24:57.790701Z"
    },
    "papermill": {
     "duration": 0.019898,
     "end_time": "2022-08-24T23:24:57.793470",
     "exception": false,
     "start_time": "2022-08-24T23:24:57.773572",
     "status": "completed"
    },
    "tags": []
   },
   "outputs": [
    {
     "data": {
      "text/plain": [
       "'\"cm = metrics.confusion_matrix(Y, Y_pred)\\n\\nplt.figure(figsize=(9,9))\\nsns.heatmap(cm, annot=True, fmt=\".3f\", linewidths=.5, square = True, cmap = \\'YlGnBu\\');\\nplt.ylabel(\\'Actual label\\');\\nplt.xlabel(\\'Predicted label\\');\\nall_sample_title = \\'Accuracy Score: {0}\\'.format(round(log.score(X, Y),3))\\nplt.title(all_sample_title, size = 15);\\n\\nprint(\\'Accuracy:\\',round(metrics.accuracy_score(Y, Y_pred),3))\\nmetrics.roc_curve(Y, Y_pred)\\nprint(metrics.roc_auc_score(Y, Y_pred))'"
      ]
     },
     "execution_count": 20,
     "metadata": {},
     "output_type": "execute_result"
    }
   ],
   "source": [
    "\"\"\"\"cm = metrics.confusion_matrix(Y, Y_pred)\n",
    "\n",
    "plt.figure(figsize=(9,9))\n",
    "sns.heatmap(cm, annot=True, fmt=\".3f\", linewidths=.5, square = True, cmap = 'YlGnBu');\n",
    "plt.ylabel('Actual label');\n",
    "plt.xlabel('Predicted label');\n",
    "all_sample_title = 'Accuracy Score: {0}'.format(round(log.score(X, Y),3))\n",
    "plt.title(all_sample_title, size = 15);\n",
    "\n",
    "print('Accuracy:',round(metrics.accuracy_score(Y, Y_pred),3))\n",
    "metrics.roc_curve(Y, Y_pred)\n",
    "print(metrics.roc_auc_score(Y, Y_pred))\"\"\""
   ]
  },
  {
   "cell_type": "code",
   "execution_count": 21,
   "id": "7d8f80db",
   "metadata": {
    "execution": {
     "iopub.execute_input": "2022-08-24T23:24:57.816322Z",
     "iopub.status.busy": "2022-08-24T23:24:57.815296Z",
     "iopub.status.idle": "2022-08-24T23:24:58.244308Z",
     "shell.execute_reply": "2022-08-24T23:24:58.243269Z"
    },
    "papermill": {
     "duration": 0.442948,
     "end_time": "2022-08-24T23:24:58.246652",
     "exception": false,
     "start_time": "2022-08-24T23:24:57.803704",
     "status": "completed"
    },
    "tags": []
   },
   "outputs": [
    {
     "data": {
      "text/plain": [
       "132"
      ]
     },
     "execution_count": 21,
     "metadata": {},
     "output_type": "execute_result"
    }
   ],
   "source": [
    "#free up ram\n",
    "del df1, df_label\n",
    "gc.collect()"
   ]
  },
  {
   "cell_type": "code",
   "execution_count": 22,
   "id": "d0aabae7",
   "metadata": {
    "execution": {
     "iopub.execute_input": "2022-08-24T23:24:58.270197Z",
     "iopub.status.busy": "2022-08-24T23:24:58.269201Z",
     "iopub.status.idle": "2022-08-24T23:25:22.660963Z",
     "shell.execute_reply": "2022-08-24T23:25:22.659355Z"
    },
    "papermill": {
     "duration": 24.406112,
     "end_time": "2022-08-24T23:25:22.663372",
     "exception": false,
     "start_time": "2022-08-24T23:24:58.257260",
     "status": "completed"
    },
    "tags": []
   },
   "outputs": [
    {
     "name": "stdout",
     "output_type": "stream",
     "text": [
      "53\n",
      "(11363762, 53)\n"
     ]
    }
   ],
   "source": [
    "#run prediction on test data\n",
    "\n",
    "print(len(keep))\n",
    "#need to only load some columns due to ram limitations\n",
    "df2=pd.read_parquet('/kaggle/input/amex-parquet/test_data.parquet', columns =keep)\n",
    "print(df2.shape)"
   ]
  },
  {
   "cell_type": "code",
   "execution_count": 23,
   "id": "9ed5154b",
   "metadata": {
    "execution": {
     "iopub.execute_input": "2022-08-24T23:25:22.687299Z",
     "iopub.status.busy": "2022-08-24T23:25:22.686268Z",
     "iopub.status.idle": "2022-08-24T23:25:22.713612Z",
     "shell.execute_reply": "2022-08-24T23:25:22.712490Z"
    },
    "papermill": {
     "duration": 0.04189,
     "end_time": "2022-08-24T23:25:22.716103",
     "exception": false,
     "start_time": "2022-08-24T23:25:22.674213",
     "status": "completed"
    },
    "tags": []
   },
   "outputs": [
    {
     "data": {
      "text/html": [
       "<div>\n",
       "<style scoped>\n",
       "    .dataframe tbody tr th:only-of-type {\n",
       "        vertical-align: middle;\n",
       "    }\n",
       "\n",
       "    .dataframe tbody tr th {\n",
       "        vertical-align: top;\n",
       "    }\n",
       "\n",
       "    .dataframe thead th {\n",
       "        text-align: right;\n",
       "    }\n",
       "</style>\n",
       "<table border=\"1\" class=\"dataframe\">\n",
       "  <thead>\n",
       "    <tr style=\"text-align: right;\">\n",
       "      <th></th>\n",
       "      <th>D_39</th>\n",
       "      <th>B_2</th>\n",
       "      <th>B_5</th>\n",
       "      <th>B_6</th>\n",
       "      <th>B_8</th>\n",
       "      <th>B_10</th>\n",
       "      <th>S_5</th>\n",
       "      <th>S_6</th>\n",
       "      <th>B_12</th>\n",
       "      <th>R_5</th>\n",
       "      <th>...</th>\n",
       "      <th>D_120</th>\n",
       "      <th>D_126</th>\n",
       "      <th>D_128</th>\n",
       "      <th>D_129</th>\n",
       "      <th>D_130</th>\n",
       "      <th>D_139</th>\n",
       "      <th>D_63</th>\n",
       "      <th>D_64</th>\n",
       "      <th>customer_ID</th>\n",
       "      <th>S_2</th>\n",
       "    </tr>\n",
       "  </thead>\n",
       "  <tbody>\n",
       "    <tr>\n",
       "      <th>0</th>\n",
       "      <td>0.001912</td>\n",
       "      <td>0.814497</td>\n",
       "      <td>0.009517</td>\n",
       "      <td>0.174591</td>\n",
       "      <td>1.003925</td>\n",
       "      <td>-0.002919</td>\n",
       "      <td>0.002771</td>\n",
       "      <td>1.006875</td>\n",
       "      <td>0.119198</td>\n",
       "      <td>0.003420</td>\n",
       "      <td>...</td>\n",
       "      <td>NaN</td>\n",
       "      <td>0.0</td>\n",
       "      <td>NaN</td>\n",
       "      <td>NaN</td>\n",
       "      <td>NaN</td>\n",
       "      <td>NaN</td>\n",
       "      <td>CR</td>\n",
       "      <td>NaN</td>\n",
       "      <td>00000469ba478561f23a92a868bd366de6f6527a684c9a...</td>\n",
       "      <td>2019-02-19</td>\n",
       "    </tr>\n",
       "    <tr>\n",
       "      <th>1</th>\n",
       "      <td>0.005275</td>\n",
       "      <td>0.810848</td>\n",
       "      <td>0.026313</td>\n",
       "      <td>0.177115</td>\n",
       "      <td>1.009301</td>\n",
       "      <td>0.031222</td>\n",
       "      <td>0.006497</td>\n",
       "      <td>1.005728</td>\n",
       "      <td>0.121490</td>\n",
       "      <td>0.007156</td>\n",
       "      <td>...</td>\n",
       "      <td>NaN</td>\n",
       "      <td>0.0</td>\n",
       "      <td>0.008782</td>\n",
       "      <td>0.005579</td>\n",
       "      <td>0.007598</td>\n",
       "      <td>0.000142</td>\n",
       "      <td>CR</td>\n",
       "      <td>NaN</td>\n",
       "      <td>00000469ba478561f23a92a868bd366de6f6527a684c9a...</td>\n",
       "      <td>2019-03-25</td>\n",
       "    </tr>\n",
       "    <tr>\n",
       "      <th>2</th>\n",
       "      <td>0.003326</td>\n",
       "      <td>1.004620</td>\n",
       "      <td>0.060017</td>\n",
       "      <td>1.417059</td>\n",
       "      <td>1.004635</td>\n",
       "      <td>0.035532</td>\n",
       "      <td>0.003407</td>\n",
       "      <td>0.006408</td>\n",
       "      <td>0.120145</td>\n",
       "      <td>0.006025</td>\n",
       "      <td>...</td>\n",
       "      <td>NaN</td>\n",
       "      <td>0.0</td>\n",
       "      <td>0.005602</td>\n",
       "      <td>0.009336</td>\n",
       "      <td>0.003608</td>\n",
       "      <td>0.000074</td>\n",
       "      <td>CR</td>\n",
       "      <td>NaN</td>\n",
       "      <td>00000469ba478561f23a92a868bd366de6f6527a684c9a...</td>\n",
       "      <td>2019-04-25</td>\n",
       "    </tr>\n",
       "    <tr>\n",
       "      <th>3</th>\n",
       "      <td>0.009065</td>\n",
       "      <td>0.816549</td>\n",
       "      <td>0.003400</td>\n",
       "      <td>0.044620</td>\n",
       "      <td>1.009093</td>\n",
       "      <td>0.043155</td>\n",
       "      <td>0.007204</td>\n",
       "      <td>0.005841</td>\n",
       "      <td>0.073299</td>\n",
       "      <td>0.005942</td>\n",
       "      <td>...</td>\n",
       "      <td>NaN</td>\n",
       "      <td>0.0</td>\n",
       "      <td>0.008690</td>\n",
       "      <td>0.006479</td>\n",
       "      <td>0.006133</td>\n",
       "      <td>0.004743</td>\n",
       "      <td>CR</td>\n",
       "      <td>NaN</td>\n",
       "      <td>00000469ba478561f23a92a868bd366de6f6527a684c9a...</td>\n",
       "      <td>2019-05-20</td>\n",
       "    </tr>\n",
       "    <tr>\n",
       "      <th>4</th>\n",
       "      <td>0.238794</td>\n",
       "      <td>0.810456</td>\n",
       "      <td>0.141991</td>\n",
       "      <td>0.039586</td>\n",
       "      <td>1.006634</td>\n",
       "      <td>0.063187</td>\n",
       "      <td>0.008620</td>\n",
       "      <td>0.002622</td>\n",
       "      <td>0.049336</td>\n",
       "      <td>0.001305</td>\n",
       "      <td>...</td>\n",
       "      <td>1.0</td>\n",
       "      <td>0.0</td>\n",
       "      <td>0.005304</td>\n",
       "      <td>0.002027</td>\n",
       "      <td>0.006975</td>\n",
       "      <td>0.008133</td>\n",
       "      <td>CR</td>\n",
       "      <td>U</td>\n",
       "      <td>00000469ba478561f23a92a868bd366de6f6527a684c9a...</td>\n",
       "      <td>2019-06-15</td>\n",
       "    </tr>\n",
       "  </tbody>\n",
       "</table>\n",
       "<p>5 rows × 53 columns</p>\n",
       "</div>"
      ],
      "text/plain": [
       "       D_39       B_2       B_5       B_6       B_8      B_10       S_5  \\\n",
       "0  0.001912  0.814497  0.009517  0.174591  1.003925 -0.002919  0.002771   \n",
       "1  0.005275  0.810848  0.026313  0.177115  1.009301  0.031222  0.006497   \n",
       "2  0.003326  1.004620  0.060017  1.417059  1.004635  0.035532  0.003407   \n",
       "3  0.009065  0.816549  0.003400  0.044620  1.009093  0.043155  0.007204   \n",
       "4  0.238794  0.810456  0.141991  0.039586  1.006634  0.063187  0.008620   \n",
       "\n",
       "        S_6      B_12       R_5  ...  D_120  D_126     D_128     D_129  \\\n",
       "0  1.006875  0.119198  0.003420  ...    NaN    0.0       NaN       NaN   \n",
       "1  1.005728  0.121490  0.007156  ...    NaN    0.0  0.008782  0.005579   \n",
       "2  0.006408  0.120145  0.006025  ...    NaN    0.0  0.005602  0.009336   \n",
       "3  0.005841  0.073299  0.005942  ...    NaN    0.0  0.008690  0.006479   \n",
       "4  0.002622  0.049336  0.001305  ...    1.0    0.0  0.005304  0.002027   \n",
       "\n",
       "      D_130     D_139  D_63  D_64  \\\n",
       "0       NaN       NaN    CR   NaN   \n",
       "1  0.007598  0.000142    CR   NaN   \n",
       "2  0.003608  0.000074    CR   NaN   \n",
       "3  0.006133  0.004743    CR   NaN   \n",
       "4  0.006975  0.008133    CR     U   \n",
       "\n",
       "                                         customer_ID         S_2  \n",
       "0  00000469ba478561f23a92a868bd366de6f6527a684c9a...  2019-02-19  \n",
       "1  00000469ba478561f23a92a868bd366de6f6527a684c9a...  2019-03-25  \n",
       "2  00000469ba478561f23a92a868bd366de6f6527a684c9a...  2019-04-25  \n",
       "3  00000469ba478561f23a92a868bd366de6f6527a684c9a...  2019-05-20  \n",
       "4  00000469ba478561f23a92a868bd366de6f6527a684c9a...  2019-06-15  \n",
       "\n",
       "[5 rows x 53 columns]"
      ]
     },
     "execution_count": 23,
     "metadata": {},
     "output_type": "execute_result"
    }
   ],
   "source": [
    "df2.head()"
   ]
  },
  {
   "cell_type": "code",
   "execution_count": 24,
   "id": "aa2a3cf9",
   "metadata": {
    "execution": {
     "iopub.execute_input": "2022-08-24T23:25:22.740048Z",
     "iopub.status.busy": "2022-08-24T23:25:22.739670Z",
     "iopub.status.idle": "2022-08-24T23:25:22.743353Z",
     "shell.execute_reply": "2022-08-24T23:25:22.742547Z"
    },
    "papermill": {
     "duration": 0.017875,
     "end_time": "2022-08-24T23:25:22.745340",
     "exception": false,
     "start_time": "2022-08-24T23:25:22.727465",
     "status": "completed"
    },
    "tags": []
   },
   "outputs": [],
   "source": [
    "#Handling missing values via imputation\n",
    "#df2.iloc[:,:] = my_imputer.fit_transform(df2.iloc[:,:])"
   ]
  },
  {
   "cell_type": "code",
   "execution_count": 25,
   "id": "5ea1db34",
   "metadata": {
    "execution": {
     "iopub.execute_input": "2022-08-24T23:25:22.769193Z",
     "iopub.status.busy": "2022-08-24T23:25:22.768092Z",
     "iopub.status.idle": "2022-08-24T23:25:34.103209Z",
     "shell.execute_reply": "2022-08-24T23:25:34.101688Z"
    },
    "papermill": {
     "duration": 11.349956,
     "end_time": "2022-08-24T23:25:34.106081",
     "exception": false,
     "start_time": "2022-08-24T23:25:22.756125",
     "status": "completed"
    },
    "tags": []
   },
   "outputs": [
    {
     "name": "stdout",
     "output_type": "stream",
     "text": [
      "(11363762, 53) (924621, 51)\n",
      "Columns left with NaN:\n"
     ]
    }
   ],
   "source": [
    "#using only most recent transaction from each customer\n",
    "#Does this make sense for test data??\n",
    "temp = df2.shape\n",
    "df2=df2.set_index(['customer_ID'])\n",
    "df2=df2.ffill()\n",
    "df2=df2.bfill()\n",
    "df2=df2.reset_index()\n",
    "\n",
    "df2=df2.groupby('customer_ID').tail(1)\n",
    "df2=df2.set_index(['customer_ID'])\n",
    "\n",
    "#Drop date column since it is no longer useful\n",
    "df2.drop(['S_2'],axis=1,inplace=True)\n",
    "\n",
    "print(temp, df2.shape)\n",
    "\n",
    "#inspecting NaN\n",
    "print('Columns left with NaN:')\n",
    "for i in range(len(df2.columns)):\n",
    "    if (df2.iloc[:,i].isnull().sum()/len(df2) > 0):\n",
    "        print(df2.columns[i], round(df2.iloc[:,i].isnull().sum()/len(df2),2))"
   ]
  },
  {
   "cell_type": "code",
   "execution_count": 26,
   "id": "8d0d211e",
   "metadata": {
    "execution": {
     "iopub.execute_input": "2022-08-24T23:25:34.130106Z",
     "iopub.status.busy": "2022-08-24T23:25:34.129181Z",
     "iopub.status.idle": "2022-08-24T23:25:34.797494Z",
     "shell.execute_reply": "2022-08-24T23:25:34.795801Z"
    },
    "papermill": {
     "duration": 0.684527,
     "end_time": "2022-08-24T23:25:34.801595",
     "exception": false,
     "start_time": "2022-08-24T23:25:34.117068",
     "status": "completed"
    },
    "tags": []
   },
   "outputs": [
    {
     "name": "stdout",
     "output_type": "stream",
     "text": [
      "(924621, 58)\n",
      "Index(['D_39', 'B_2', 'B_5', 'B_6', 'B_8', 'B_10', 'S_5', 'S_6', 'B_12', 'R_5',\n",
      "       'D_60', 'D_65', 'B_16', 'B_18', 'B_20', 'D_68', 'R_6', 'B_21', 'D_69',\n",
      "       'D_71', 'P_4', 'B_24', 'R_7', 'B_26', 'D_78', 'R_8', 'S_16', 'R_10',\n",
      "       'D_81', 'R_14', 'D_84', 'B_30', 'R_20', 'S_22', 'S_23', 'S_26', 'D_103',\n",
      "       'R_27', 'B_38', 'D_112', 'B_40', 'D_114', 'D_117', 'D_120', 'D_126',\n",
      "       'D_128', 'D_129', 'D_130', 'D_139', 'D_63_CL', 'D_63_CO', 'D_63_CR',\n",
      "       'D_63_XL', 'D_63_XM', 'D_63_XZ', 'D_64_O', 'D_64_R', 'D_64_U'],\n",
      "      dtype='object')\n"
     ]
    }
   ],
   "source": [
    "#hot ones\n",
    "df2 = pd.get_dummies(df2)\n",
    "print(df2.shape)\n",
    "print(df2.columns)"
   ]
  },
  {
   "cell_type": "code",
   "execution_count": 27,
   "id": "9275aeda",
   "metadata": {
    "execution": {
     "iopub.execute_input": "2022-08-24T23:25:34.825999Z",
     "iopub.status.busy": "2022-08-24T23:25:34.825265Z",
     "iopub.status.idle": "2022-08-24T23:25:34.849180Z",
     "shell.execute_reply": "2022-08-24T23:25:34.847970Z"
    },
    "papermill": {
     "duration": 0.038196,
     "end_time": "2022-08-24T23:25:34.851534",
     "exception": false,
     "start_time": "2022-08-24T23:25:34.813338",
     "status": "completed"
    },
    "tags": []
   },
   "outputs": [
    {
     "data": {
      "text/html": [
       "<div>\n",
       "<style scoped>\n",
       "    .dataframe tbody tr th:only-of-type {\n",
       "        vertical-align: middle;\n",
       "    }\n",
       "\n",
       "    .dataframe tbody tr th {\n",
       "        vertical-align: top;\n",
       "    }\n",
       "\n",
       "    .dataframe thead th {\n",
       "        text-align: right;\n",
       "    }\n",
       "</style>\n",
       "<table border=\"1\" class=\"dataframe\">\n",
       "  <thead>\n",
       "    <tr style=\"text-align: right;\">\n",
       "      <th></th>\n",
       "      <th>D_39</th>\n",
       "      <th>B_2</th>\n",
       "      <th>B_5</th>\n",
       "      <th>B_6</th>\n",
       "      <th>B_8</th>\n",
       "      <th>B_10</th>\n",
       "      <th>S_5</th>\n",
       "      <th>S_6</th>\n",
       "      <th>B_12</th>\n",
       "      <th>R_5</th>\n",
       "      <th>...</th>\n",
       "      <th>D_139</th>\n",
       "      <th>D_63_CL</th>\n",
       "      <th>D_63_CO</th>\n",
       "      <th>D_63_CR</th>\n",
       "      <th>D_63_XL</th>\n",
       "      <th>D_63_XM</th>\n",
       "      <th>D_63_XZ</th>\n",
       "      <th>D_64_O</th>\n",
       "      <th>D_64_R</th>\n",
       "      <th>D_64_U</th>\n",
       "    </tr>\n",
       "    <tr>\n",
       "      <th>customer_ID</th>\n",
       "      <th></th>\n",
       "      <th></th>\n",
       "      <th></th>\n",
       "      <th></th>\n",
       "      <th></th>\n",
       "      <th></th>\n",
       "      <th></th>\n",
       "      <th></th>\n",
       "      <th></th>\n",
       "      <th></th>\n",
       "      <th></th>\n",
       "      <th></th>\n",
       "      <th></th>\n",
       "      <th></th>\n",
       "      <th></th>\n",
       "      <th></th>\n",
       "      <th></th>\n",
       "      <th></th>\n",
       "      <th></th>\n",
       "      <th></th>\n",
       "      <th></th>\n",
       "    </tr>\n",
       "  </thead>\n",
       "  <tbody>\n",
       "    <tr>\n",
       "      <th>00000469ba478561f23a92a868bd366de6f6527a684c9a2e78fb826dcac3b9b7</th>\n",
       "      <td>0.121385</td>\n",
       "      <td>1.009347</td>\n",
       "      <td>0.050187</td>\n",
       "      <td>0.024945</td>\n",
       "      <td>1.008730</td>\n",
       "      <td>0.033599</td>\n",
       "      <td>0.011795</td>\n",
       "      <td>0.003473</td>\n",
       "      <td>0.058696</td>\n",
       "      <td>0.005444</td>\n",
       "      <td>...</td>\n",
       "      <td>0.005912</td>\n",
       "      <td>0</td>\n",
       "      <td>0</td>\n",
       "      <td>1</td>\n",
       "      <td>0</td>\n",
       "      <td>0</td>\n",
       "      <td>0</td>\n",
       "      <td>0</td>\n",
       "      <td>0</td>\n",
       "      <td>1</td>\n",
       "    </tr>\n",
       "    <tr>\n",
       "      <th>00001bf2e77ff879fab36aa4fac689b9ba411dae63ae397d4263dafa1daedef5</th>\n",
       "      <td>0.126475</td>\n",
       "      <td>1.009245</td>\n",
       "      <td>0.135907</td>\n",
       "      <td>0.182720</td>\n",
       "      <td>1.008640</td>\n",
       "      <td>0.298735</td>\n",
       "      <td>0.009336</td>\n",
       "      <td>0.005253</td>\n",
       "      <td>0.054184</td>\n",
       "      <td>0.004132</td>\n",
       "      <td>...</td>\n",
       "      <td>0.004344</td>\n",
       "      <td>0</td>\n",
       "      <td>1</td>\n",
       "      <td>0</td>\n",
       "      <td>0</td>\n",
       "      <td>0</td>\n",
       "      <td>0</td>\n",
       "      <td>1</td>\n",
       "      <td>0</td>\n",
       "      <td>0</td>\n",
       "    </tr>\n",
       "    <tr>\n",
       "      <th>0000210045da4f81e5f122c6bde5c2a617d03eef67f82c5e400fc98e7bd43ce8</th>\n",
       "      <td>0.002724</td>\n",
       "      <td>0.810072</td>\n",
       "      <td>0.004851</td>\n",
       "      <td>0.058534</td>\n",
       "      <td>1.009375</td>\n",
       "      <td>0.129189</td>\n",
       "      <td>0.004455</td>\n",
       "      <td>0.001847</td>\n",
       "      <td>0.052914</td>\n",
       "      <td>0.006620</td>\n",
       "      <td>...</td>\n",
       "      <td>1.001246</td>\n",
       "      <td>0</td>\n",
       "      <td>0</td>\n",
       "      <td>1</td>\n",
       "      <td>0</td>\n",
       "      <td>0</td>\n",
       "      <td>0</td>\n",
       "      <td>0</td>\n",
       "      <td>0</td>\n",
       "      <td>1</td>\n",
       "    </tr>\n",
       "    <tr>\n",
       "      <th>00003b41e58ede33b8daf61ab56d9952f17c9ad1c3976cf6e56734528702d694</th>\n",
       "      <td>0.324828</td>\n",
       "      <td>0.205678</td>\n",
       "      <td>0.022947</td>\n",
       "      <td>0.023546</td>\n",
       "      <td>0.009775</td>\n",
       "      <td>0.032124</td>\n",
       "      <td>0.320184</td>\n",
       "      <td>0.008872</td>\n",
       "      <td>0.098741</td>\n",
       "      <td>0.002603</td>\n",
       "      <td>...</td>\n",
       "      <td>1.008246</td>\n",
       "      <td>1</td>\n",
       "      <td>0</td>\n",
       "      <td>0</td>\n",
       "      <td>0</td>\n",
       "      <td>0</td>\n",
       "      <td>0</td>\n",
       "      <td>0</td>\n",
       "      <td>1</td>\n",
       "      <td>0</td>\n",
       "    </tr>\n",
       "    <tr>\n",
       "      <th>00004b22eaeeeb0ec976890c1d9bfc14fd9427e98c4ee9a4693dd914fca22557</th>\n",
       "      <td>0.768016</td>\n",
       "      <td>0.038021</td>\n",
       "      <td>0.011126</td>\n",
       "      <td>0.011244</td>\n",
       "      <td>1.006200</td>\n",
       "      <td>0.022026</td>\n",
       "      <td>0.064127</td>\n",
       "      <td>0.009401</td>\n",
       "      <td>0.016391</td>\n",
       "      <td>0.004384</td>\n",
       "      <td>...</td>\n",
       "      <td>0.006623</td>\n",
       "      <td>0</td>\n",
       "      <td>1</td>\n",
       "      <td>0</td>\n",
       "      <td>0</td>\n",
       "      <td>0</td>\n",
       "      <td>0</td>\n",
       "      <td>0</td>\n",
       "      <td>1</td>\n",
       "      <td>0</td>\n",
       "    </tr>\n",
       "  </tbody>\n",
       "</table>\n",
       "<p>5 rows × 58 columns</p>\n",
       "</div>"
      ],
      "text/plain": [
       "                                                        D_39       B_2  \\\n",
       "customer_ID                                                              \n",
       "00000469ba478561f23a92a868bd366de6f6527a684c9a2...  0.121385  1.009347   \n",
       "00001bf2e77ff879fab36aa4fac689b9ba411dae63ae397...  0.126475  1.009245   \n",
       "0000210045da4f81e5f122c6bde5c2a617d03eef67f82c5...  0.002724  0.810072   \n",
       "00003b41e58ede33b8daf61ab56d9952f17c9ad1c3976cf...  0.324828  0.205678   \n",
       "00004b22eaeeeb0ec976890c1d9bfc14fd9427e98c4ee9a...  0.768016  0.038021   \n",
       "\n",
       "                                                         B_5       B_6  \\\n",
       "customer_ID                                                              \n",
       "00000469ba478561f23a92a868bd366de6f6527a684c9a2...  0.050187  0.024945   \n",
       "00001bf2e77ff879fab36aa4fac689b9ba411dae63ae397...  0.135907  0.182720   \n",
       "0000210045da4f81e5f122c6bde5c2a617d03eef67f82c5...  0.004851  0.058534   \n",
       "00003b41e58ede33b8daf61ab56d9952f17c9ad1c3976cf...  0.022947  0.023546   \n",
       "00004b22eaeeeb0ec976890c1d9bfc14fd9427e98c4ee9a...  0.011126  0.011244   \n",
       "\n",
       "                                                         B_8      B_10  \\\n",
       "customer_ID                                                              \n",
       "00000469ba478561f23a92a868bd366de6f6527a684c9a2...  1.008730  0.033599   \n",
       "00001bf2e77ff879fab36aa4fac689b9ba411dae63ae397...  1.008640  0.298735   \n",
       "0000210045da4f81e5f122c6bde5c2a617d03eef67f82c5...  1.009375  0.129189   \n",
       "00003b41e58ede33b8daf61ab56d9952f17c9ad1c3976cf...  0.009775  0.032124   \n",
       "00004b22eaeeeb0ec976890c1d9bfc14fd9427e98c4ee9a...  1.006200  0.022026   \n",
       "\n",
       "                                                         S_5       S_6  \\\n",
       "customer_ID                                                              \n",
       "00000469ba478561f23a92a868bd366de6f6527a684c9a2...  0.011795  0.003473   \n",
       "00001bf2e77ff879fab36aa4fac689b9ba411dae63ae397...  0.009336  0.005253   \n",
       "0000210045da4f81e5f122c6bde5c2a617d03eef67f82c5...  0.004455  0.001847   \n",
       "00003b41e58ede33b8daf61ab56d9952f17c9ad1c3976cf...  0.320184  0.008872   \n",
       "00004b22eaeeeb0ec976890c1d9bfc14fd9427e98c4ee9a...  0.064127  0.009401   \n",
       "\n",
       "                                                        B_12       R_5  ...  \\\n",
       "customer_ID                                                             ...   \n",
       "00000469ba478561f23a92a868bd366de6f6527a684c9a2...  0.058696  0.005444  ...   \n",
       "00001bf2e77ff879fab36aa4fac689b9ba411dae63ae397...  0.054184  0.004132  ...   \n",
       "0000210045da4f81e5f122c6bde5c2a617d03eef67f82c5...  0.052914  0.006620  ...   \n",
       "00003b41e58ede33b8daf61ab56d9952f17c9ad1c3976cf...  0.098741  0.002603  ...   \n",
       "00004b22eaeeeb0ec976890c1d9bfc14fd9427e98c4ee9a...  0.016391  0.004384  ...   \n",
       "\n",
       "                                                       D_139  D_63_CL  \\\n",
       "customer_ID                                                             \n",
       "00000469ba478561f23a92a868bd366de6f6527a684c9a2...  0.005912        0   \n",
       "00001bf2e77ff879fab36aa4fac689b9ba411dae63ae397...  0.004344        0   \n",
       "0000210045da4f81e5f122c6bde5c2a617d03eef67f82c5...  1.001246        0   \n",
       "00003b41e58ede33b8daf61ab56d9952f17c9ad1c3976cf...  1.008246        1   \n",
       "00004b22eaeeeb0ec976890c1d9bfc14fd9427e98c4ee9a...  0.006623        0   \n",
       "\n",
       "                                                    D_63_CO  D_63_CR  D_63_XL  \\\n",
       "customer_ID                                                                     \n",
       "00000469ba478561f23a92a868bd366de6f6527a684c9a2...        0        1        0   \n",
       "00001bf2e77ff879fab36aa4fac689b9ba411dae63ae397...        1        0        0   \n",
       "0000210045da4f81e5f122c6bde5c2a617d03eef67f82c5...        0        1        0   \n",
       "00003b41e58ede33b8daf61ab56d9952f17c9ad1c3976cf...        0        0        0   \n",
       "00004b22eaeeeb0ec976890c1d9bfc14fd9427e98c4ee9a...        1        0        0   \n",
       "\n",
       "                                                    D_63_XM  D_63_XZ  D_64_O  \\\n",
       "customer_ID                                                                    \n",
       "00000469ba478561f23a92a868bd366de6f6527a684c9a2...        0        0       0   \n",
       "00001bf2e77ff879fab36aa4fac689b9ba411dae63ae397...        0        0       1   \n",
       "0000210045da4f81e5f122c6bde5c2a617d03eef67f82c5...        0        0       0   \n",
       "00003b41e58ede33b8daf61ab56d9952f17c9ad1c3976cf...        0        0       0   \n",
       "00004b22eaeeeb0ec976890c1d9bfc14fd9427e98c4ee9a...        0        0       0   \n",
       "\n",
       "                                                    D_64_R  D_64_U  \n",
       "customer_ID                                                         \n",
       "00000469ba478561f23a92a868bd366de6f6527a684c9a2...       0       1  \n",
       "00001bf2e77ff879fab36aa4fac689b9ba411dae63ae397...       0       0  \n",
       "0000210045da4f81e5f122c6bde5c2a617d03eef67f82c5...       0       1  \n",
       "00003b41e58ede33b8daf61ab56d9952f17c9ad1c3976cf...       1       0  \n",
       "00004b22eaeeeb0ec976890c1d9bfc14fd9427e98c4ee9a...       1       0  \n",
       "\n",
       "[5 rows x 58 columns]"
      ]
     },
     "execution_count": 27,
     "metadata": {},
     "output_type": "execute_result"
    }
   ],
   "source": [
    "df2.head()"
   ]
  },
  {
   "cell_type": "code",
   "execution_count": 28,
   "id": "d05ae28c",
   "metadata": {
    "execution": {
     "iopub.execute_input": "2022-08-24T23:25:34.876464Z",
     "iopub.status.busy": "2022-08-24T23:25:34.876032Z",
     "iopub.status.idle": "2022-08-24T23:25:34.969086Z",
     "shell.execute_reply": "2022-08-24T23:25:34.967801Z"
    },
    "papermill": {
     "duration": 0.108573,
     "end_time": "2022-08-24T23:25:34.971652",
     "exception": false,
     "start_time": "2022-08-24T23:25:34.863079",
     "status": "completed"
    },
    "tags": []
   },
   "outputs": [],
   "source": [
    "X = df2.iloc[:, :].values.reshape(-1, len(df2.columns))"
   ]
  },
  {
   "cell_type": "code",
   "execution_count": 29,
   "id": "5affcb4b",
   "metadata": {
    "execution": {
     "iopub.execute_input": "2022-08-24T23:25:34.996369Z",
     "iopub.status.busy": "2022-08-24T23:25:34.995956Z",
     "iopub.status.idle": "2022-08-24T23:25:35.003056Z",
     "shell.execute_reply": "2022-08-24T23:25:35.001852Z"
    },
    "papermill": {
     "duration": 0.022203,
     "end_time": "2022-08-24T23:25:35.005271",
     "exception": false,
     "start_time": "2022-08-24T23:25:34.983068",
     "status": "completed"
    },
    "tags": []
   },
   "outputs": [
    {
     "data": {
      "text/plain": [
       "'X = df2.iloc[:, :].values.reshape(-1, len(df2.columns))\\n\\nY_pred2 = log.predict(X)\\nprint(Y_pred2)\\n\\ndf2 = df2.reset_index()\\n\\nfinal = pd.DataFrame({\"customer_ID\":df2.customer_ID,\"prediction\":Y_pred2})\\n\\nfinal.to_csv(\\'submission.csv\\', index=False)\\nprint(Y_pred2, np.sum(Y_pred2))\\n\\n#score ended as ~50'"
      ]
     },
     "execution_count": 29,
     "metadata": {},
     "output_type": "execute_result"
    }
   ],
   "source": [
    "\"\"\"X = df2.iloc[:, :].values.reshape(-1, len(df2.columns))\n",
    "\n",
    "Y_pred2 = log.predict(X)\n",
    "print(Y_pred2)\n",
    "\n",
    "df2 = df2.reset_index()\n",
    "\n",
    "final = pd.DataFrame({\"customer_ID\":df2.customer_ID,\"prediction\":Y_pred2})\n",
    "\n",
    "final.to_csv('submission.csv', index=False)\n",
    "print(Y_pred2, np.sum(Y_pred2))\n",
    "\n",
    "#score ended as ~50\"\"\""
   ]
  },
  {
   "cell_type": "code",
   "execution_count": 30,
   "id": "03fc3b22",
   "metadata": {
    "execution": {
     "iopub.execute_input": "2022-08-24T23:25:35.030160Z",
     "iopub.status.busy": "2022-08-24T23:25:35.029718Z",
     "iopub.status.idle": "2022-08-24T23:26:23.978100Z",
     "shell.execute_reply": "2022-08-24T23:26:23.976938Z"
    },
    "papermill": {
     "duration": 48.972409,
     "end_time": "2022-08-24T23:26:23.989244",
     "exception": false,
     "start_time": "2022-08-24T23:25:35.016835",
     "status": "completed"
    },
    "tags": []
   },
   "outputs": [
    {
     "name": "stderr",
     "output_type": "stream",
     "text": [
      "/opt/conda/lib/python3.7/site-packages/sklearn/base.py:444: UserWarning: X has feature names, but RandomForestClassifier was fitted without feature names\n",
      "  f\"X has feature names, but {self.__class__.__name__} was fitted without\"\n"
     ]
    },
    {
     "name": "stdout",
     "output_type": "stream",
     "text": [
      "[0.26720454 0.00179405 0.16102354 ... 0.57374802 0.45089981 0.30554851] 238546.5242541048\n",
      "                                              customer_ID  prediction\n",
      "0       00000469ba478561f23a92a868bd366de6f6527a684c9a...    0.267205\n",
      "1       00001bf2e77ff879fab36aa4fac689b9ba411dae63ae39...    0.001794\n",
      "2       0000210045da4f81e5f122c6bde5c2a617d03eef67f82c...    0.161024\n",
      "3       00003b41e58ede33b8daf61ab56d9952f17c9ad1c3976c...    0.205852\n",
      "4       00004b22eaeeeb0ec976890c1d9bfc14fd9427e98c4ee9...    0.764739\n",
      "...                                                   ...         ...\n",
      "924616  ffff952c631f2c911b8a2a8ca56ea6e656309a83d2f64c...    0.075897\n",
      "924617  ffffcf5df59e5e0bba2a5ac4578a34e2b5aa64a1546cd3...    0.552888\n",
      "924618  ffffd61f098cc056dbd7d2a21380c4804bbfe60856f475...    0.573748\n",
      "924619  ffffddef1fc3643ea179c93245b68dca0f36941cd83977...    0.450900\n",
      "924620  fffffa7cf7e453e1acc6a1426475d5cb9400859f82ff61...    0.305549\n",
      "\n",
      "[924621 rows x 2 columns]\n"
     ]
    }
   ],
   "source": [
    "Y_pred2 = model.predict_proba(df2)\n",
    "Y_pred2 = Y_pred2[:,1]\n",
    "df2 = df2.reset_index()\n",
    "print(Y_pred2, np.sum(Y_pred2))\n",
    "final = pd.DataFrame({\"customer_ID\":df2.customer_ID,\"prediction\":Y_pred2})\n",
    "print(final)"
   ]
  },
  {
   "cell_type": "code",
   "execution_count": 31,
   "id": "e6d8f57a",
   "metadata": {
    "execution": {
     "iopub.execute_input": "2022-08-24T23:26:24.015305Z",
     "iopub.status.busy": "2022-08-24T23:26:24.014558Z",
     "iopub.status.idle": "2022-08-24T23:26:27.715236Z",
     "shell.execute_reply": "2022-08-24T23:26:27.714439Z"
    },
    "papermill": {
     "duration": 3.717191,
     "end_time": "2022-08-24T23:26:27.717994",
     "exception": false,
     "start_time": "2022-08-24T23:26:24.000803",
     "status": "completed"
    },
    "tags": []
   },
   "outputs": [
    {
     "name": "stdout",
     "output_type": "stream",
     "text": [
      "                                              customer_ID  prediction\n",
      "0       00000469ba478561f23a92a868bd366de6f6527a684c9a...    0.267205\n",
      "1       00001bf2e77ff879fab36aa4fac689b9ba411dae63ae39...    0.001794\n",
      "2       0000210045da4f81e5f122c6bde5c2a617d03eef67f82c...    0.161024\n",
      "3       00003b41e58ede33b8daf61ab56d9952f17c9ad1c3976c...    0.205852\n",
      "4       00004b22eaeeeb0ec976890c1d9bfc14fd9427e98c4ee9...    0.764739\n",
      "...                                                   ...         ...\n",
      "924616  ffff952c631f2c911b8a2a8ca56ea6e656309a83d2f64c...    0.075897\n",
      "924617  ffffcf5df59e5e0bba2a5ac4578a34e2b5aa64a1546cd3...    0.552888\n",
      "924618  ffffd61f098cc056dbd7d2a21380c4804bbfe60856f475...    0.573748\n",
      "924619  ffffddef1fc3643ea179c93245b68dca0f36941cd83977...    0.450900\n",
      "924620  fffffa7cf7e453e1acc6a1426475d5cb9400859f82ff61...    0.305549\n",
      "\n",
      "[924621 rows x 2 columns]\n"
     ]
    }
   ],
   "source": [
    "final.to_csv('submission.csv', index=False)\n",
    "print(final)"
   ]
  }
 ],
 "metadata": {
  "kernelspec": {
   "display_name": "Python 3",
   "language": "python",
   "name": "python3"
  },
  "language_info": {
   "codemirror_mode": {
    "name": "ipython",
    "version": 3
   },
   "file_extension": ".py",
   "mimetype": "text/x-python",
   "name": "python",
   "nbconvert_exporter": "python",
   "pygments_lexer": "ipython3",
   "version": "3.7.12"
  },
  "papermill": {
   "default_parameters": {},
   "duration": 1248.547753,
   "end_time": "2022-08-24T23:26:29.560545",
   "environment_variables": {},
   "exception": null,
   "input_path": "__notebook__.ipynb",
   "output_path": "__notebook__.ipynb",
   "parameters": {},
   "start_time": "2022-08-24T23:05:41.012792",
   "version": "2.3.4"
  }
 },
 "nbformat": 4,
 "nbformat_minor": 5
}
